{
  "nbformat": 4,
  "nbformat_minor": 0,
  "metadata": {
    "colab": {
      "provenance": [],
      "authorship_tag": "ABX9TyPjqs1OU0kGCV31LhC1Qse0",
      "include_colab_link": true
    },
    "kernelspec": {
      "name": "python3",
      "display_name": "Python 3"
    },
    "language_info": {
      "name": "python"
    }
  },
  "cells": [
    {
      "cell_type": "markdown",
      "metadata": {
        "id": "view-in-github",
        "colab_type": "text"
      },
      "source": [
        "<a href=\"https://colab.research.google.com/github/musiclip/practice_python/blob/main/practice_file_explorer.ipynb\" target=\"_parent\"><img src=\"https://colab.research.google.com/assets/colab-badge.svg\" alt=\"Open In Colab\"/></a>"
      ]
    },
    {
      "cell_type": "code",
      "execution_count": null,
      "metadata": {
        "colab": {
          "base_uri": "https://localhost:8080/"
        },
        "id": "NiidGgQQLwRd",
        "outputId": "0a7b224d-1052-47a6-fb77-75d8ec5e32aa"
      },
      "outputs": [
        {
          "output_type": "execute_result",
          "data": {
            "text/plain": [
              "<module 'pandas' from '/usr/local/lib/python3.10/dist-packages/pandas/__init__.py'>"
            ]
          },
          "metadata": {},
          "execution_count": 1
        }
      ],
      "source": [
        "__import__('pandas')"
      ]
    },
    {
      "cell_type": "markdown",
      "source": [
        "DAS : 데이터 수집 시스템\n",
        "\n",
        "DSS : 데이터 저장 시스템\n",
        "\n",
        "JPS : 데이터 분석, 처리\n",
        "\n",
        "WSS : 웹표출 시스템"
      ],
      "metadata": {
        "id": "GxShiBXRPrhX"
      }
    },
    {
      "cell_type": "markdown",
      "source": [
        "#파일 탐색기\n",
        "\n",
        "    - 이름 검색이 아닌, 파일 내용 검색\n",
        "\n",
        "    - 어떤 1200개의 파일이 있는데, 이 파일에서 index라는 문구가 담겨있는 파일은 모두 검색해 내라\n",
        "\n",
        "    - 검색 폴더 대상 : /usr/local/lib/python3.10/dist-packages/pandas/\n",
        "\n",
        "출력형태 : {'/usr/local/lib/python3.10/dist-packages/pandas/testing.py':['index()',def index(a,bd,)', 'data = index()']}"
      ],
      "metadata": {
        "id": "SUKeNWgwQbPf"
      }
    },
    {
      "cell_type": "markdown",
      "source": [
        "1. 파일 이름 가져오기 -> 파일 리스트\n",
        "\n",
        "2. 파일 리스트를 읽어내서 'index'가 있는지 검사하기"
      ],
      "metadata": {
        "id": "CXKLN313KVPq"
      }
    },
    {
      "cell_type": "code",
      "source": [
        "ls"
      ],
      "metadata": {
        "colab": {
          "base_uri": "https://localhost:8080/"
        },
        "id": "D79JdZGPNaAS",
        "outputId": "a2f653b9-5340-4707-e4db-457c36593314"
      },
      "execution_count": null,
      "outputs": [
        {
          "output_type": "stream",
          "name": "stdout",
          "text": [
            "\u001b[0m\u001b[01;34msample_data\u001b[0m/\n"
          ]
        }
      ]
    },
    {
      "cell_type": "code",
      "source": [
        "__import__('pandas')"
      ],
      "metadata": {
        "colab": {
          "base_uri": "https://localhost:8080/"
        },
        "id": "N8HOxVIsh8F-",
        "outputId": "489ec7a5-52c5-4cfe-ee27-e9b77d4ed20d"
      },
      "execution_count": null,
      "outputs": [
        {
          "output_type": "execute_result",
          "data": {
            "text/plain": [
              "<module 'pandas' from '/usr/local/lib/python3.10/dist-packages/pandas/__init__.py'>"
            ]
          },
          "metadata": {},
          "execution_count": 3
        }
      ]
    },
    {
      "cell_type": "code",
      "source": [
        "ls"
      ],
      "metadata": {
        "colab": {
          "base_uri": "https://localhost:8080/"
        },
        "id": "I2fS0KfWiBsy",
        "outputId": "9ed890d4-25c4-4f58-abb2-3045de6088dc"
      },
      "execution_count": null,
      "outputs": [
        {
          "output_type": "stream",
          "name": "stdout",
          "text": [
            "\u001b[0m\u001b[01;34msample_data\u001b[0m/\n"
          ]
        }
      ]
    },
    {
      "cell_type": "code",
      "source": [
        "__import__('pandas')"
      ],
      "metadata": {
        "colab": {
          "base_uri": "https://localhost:8080/"
        },
        "id": "7FGdneblGesO",
        "outputId": "5369d894-36b1-49de-ba5e-02a36c879803"
      },
      "execution_count": null,
      "outputs": [
        {
          "output_type": "execute_result",
          "data": {
            "text/plain": [
              "<module 'pandas' from '/usr/local/lib/python3.10/dist-packages/pandas/__init__.py'>"
            ]
          },
          "metadata": {},
          "execution_count": 11
        }
      ]
    },
    {
      "cell_type": "code",
      "source": [
        "file_path = '/usr/local/lib/python3.10/dist-packages/pandas/'\n",
        "search_text = 'index'"
      ],
      "metadata": {
        "id": "StZ2PuoDGikq"
      },
      "execution_count": null,
      "outputs": []
    },
    {
      "cell_type": "code",
      "source": [
        "ls '/usr/local/lib/python3.10/dist-packages/pandas/'"
      ],
      "metadata": {
        "colab": {
          "base_uri": "https://localhost:8080/"
        },
        "id": "pmkanxXrGo_U",
        "outputId": "59a40a86-819a-4fed-a004-9896dc2b9d57"
      },
      "execution_count": null,
      "outputs": [
        {
          "output_type": "stream",
          "name": "stdout",
          "text": [
            "\u001b[0m\u001b[01;34mapi\u001b[0m/      conftest.py  \u001b[01;34mio\u001b[0m/           \u001b[01;34m_testing\u001b[0m/   _typing.py\n",
            "\u001b[01;34marrays\u001b[0m/   \u001b[01;34mcore\u001b[0m/        \u001b[01;34m_libs\u001b[0m/        testing.py  \u001b[01;34mutil\u001b[0m/\n",
            "\u001b[01;34mcompat\u001b[0m/   \u001b[01;34merrors\u001b[0m/      \u001b[01;34mplotting\u001b[0m/     \u001b[01;34mtests\u001b[0m/      _version.py\n",
            "\u001b[01;34m_config\u001b[0m/  __init__.py  \u001b[01;34m__pycache__\u001b[0m/  \u001b[01;34mtseries\u001b[0m/\n"
          ]
        }
      ]
    },
    {
      "cell_type": "code",
      "source": [
        "import os\n",
        "import glob\n",
        "\n",
        "all_files = glob.glob(os.path.join(file_path,'*'))\n",
        "\n",
        "file_with_index = [file for file in all_files if os.path.isfile(file) and search_text in open(file).read()]\n",
        "\n",
        "if len(file_with_index) > 0:\n",
        "    print(\"다음 파일들이 'index' 문자열을 포함하고 있습니다.:\")\n",
        "    for file in file_with_index:\n",
        "        print(file)"
      ],
      "metadata": {
        "colab": {
          "base_uri": "https://localhost:8080/"
        },
        "id": "d9dBSZtWzH7x",
        "outputId": "51431f7d-6652-4fc3-df8b-29bd77af4a01"
      },
      "execution_count": null,
      "outputs": [
        {
          "output_type": "stream",
          "name": "stdout",
          "text": [
            "다음 파일들이 'index' 문자열을 포함하고 있습니다.:\n",
            "/usr/local/lib/python3.10/dist-packages/pandas/testing.py\n",
            "/usr/local/lib/python3.10/dist-packages/pandas/conftest.py\n",
            "/usr/local/lib/python3.10/dist-packages/pandas/_typing.py\n",
            "/usr/local/lib/python3.10/dist-packages/pandas/__init__.py\n"
          ]
        }
      ]
    },
    {
      "cell_type": "code",
      "source": [
        "all_files"
      ],
      "metadata": {
        "id": "DnGhhVZRFzDJ"
      },
      "execution_count": null,
      "outputs": []
    },
    {
      "cell_type": "code",
      "source": [
        "file_with_index"
      ],
      "metadata": {
        "id": "r3VBIeBRH60Y"
      },
      "execution_count": null,
      "outputs": []
    },
    {
      "cell_type": "code",
      "source": [
        "import os\n",
        "import glob\n",
        "\n",
        "all_files = glob.glob(os.path.join(file_path,'*'))\n",
        "\n",
        "file_with_index = [file for file in all_files if os.path.isfile(file) and search_text in open(file).read()]\n",
        "\n",
        "if len(file_with_index) > 0:\n",
        "    print(\"다음 파일들이 'index' 문자열을 포함하고 있습니다.:\")\n",
        "    for file in file_with_index:\n",
        "        print(file)"
      ],
      "metadata": {
        "id": "HNTZoRxFMEa_"
      },
      "execution_count": null,
      "outputs": []
    },
    {
      "cell_type": "code",
      "source": [
        "import os\n",
        "import glob\n",
        "\n",
        "search_txt = 'index'\n",
        "file_path = glob.glob('/usr/local/lib/python3.10/dist-packages/pandas/**/*.py',recursive = True)\n",
        "\n",
        "def file_explorer(file_path, search_txt):\n",
        "    file_with_txt = [file for file in file_path if op.path.isfile(file) and search_txt in open(file).read()]\n",
        "\n",
        "    if len(file_with_txt) >0:\n",
        "        print(\"다음 파일들이 'index' 문자열을 포함하고 있습니다.:\")\n"
      ],
      "metadata": {
        "id": "RCpkMM2WIXR5"
      },
      "execution_count": null,
      "outputs": []
    },
    {
      "cell_type": "code",
      "source": [
        "import os\n",
        "import glob\n",
        "\n",
        "search_txt = 'index'\n",
        "file_path = glob.glob('/usr/local/lib/python3.10/dist-packages/pandas/**/*.py',recursive = True)\n",
        "\n",
        "file_with_txt = []\n",
        "for file in file_path:\n",
        "    with open(file,'r') as f:\n",
        "        content = f.read()\n",
        "        if search_txt in content:\n",
        "            file_with_txt.append(file)\n",
        "\n",
        "if len(file_with_txt) > 0:\n",
        "    print(\"파일이름\")\n",
        "    print('__'*40)\n",
        "    for file in file_with_txt:\n",
        "        print(file)"
      ],
      "metadata": {
        "id": "1t2MrY69L36c"
      },
      "execution_count": null,
      "outputs": []
    },
    {
      "cell_type": "code",
      "source": [
        "import os\n",
        "import glob\n",
        "\n",
        "def file_explorer(file_path, search_txt):\n",
        "    file_with_txt = []\n",
        "    for file in file_path:\n",
        "        with open(file,'r') as f:\n",
        "            content = f.read()\n",
        "            if search_txt in content:\n",
        "                file_with_txt.append(file)\n",
        "\n",
        "    for file in file_path:\n",
        "        with open(file, 'r') as f:\n",
        "            for line in f:\n",
        "                if search_txt in line:\n",
        "                    print(file.format('**/*.py'))\n",
        "                    print(\"--\"*40)\n",
        "                    print(' -',line.strip())\n",
        "                    print('')\n",
        "\n",
        "\n",
        "search_txt = 'index'\n",
        "file_path = glob.glob('/usr/local/lib/python3.10/dist-packages/pandas/**/*.py',recursive = True)\n",
        "\n",
        "file_explorer(file_path, search_txt)"
      ],
      "metadata": {
        "id": "36Of6LWMOmCv"
      },
      "execution_count": null,
      "outputs": []
    },
    {
      "cell_type": "code",
      "source": [
        "__import__('pandas')\n",
        "\n",
        "import glob\n",
        "import os\n",
        "\n",
        "def file_explorer(file_path, search_txt):\n",
        "    file_with_txt = []\n",
        "    for file in file_path:\n",
        "        with open(file,'r') as f:\n",
        "            content = f.read()\n",
        "            if search_txt in content:\n",
        "                file_with_txt.append(file)\n",
        "\n",
        "    for file in file_path:\n",
        "        with open(file, 'r') as f:\n",
        "            for line in file:\n",
        "                if search_txt in line:\n",
        "                    print(file)\n",
        "                    print(\"--\"*40)\n",
        "                    print(' -',line.strip())\n",
        "                    break\n",
        "\n",
        "\n",
        "\n",
        "search_txt = 'index'\n",
        "file_path = glob.glob('/usr/local/lib/python3.10/dist-packages/pandas/**/*.py',recursive = True)\n",
        "\n",
        "\n",
        "print(file_explorer(file_path, search_txt))"
      ],
      "metadata": {
        "colab": {
          "base_uri": "https://localhost:8080/"
        },
        "id": "DRfxSg3pT07c",
        "outputId": "26224b51-b27f-4e65-8f50-b315b7e52290"
      },
      "execution_count": null,
      "outputs": [
        {
          "output_type": "stream",
          "name": "stdout",
          "text": [
            "None\n"
          ]
        }
      ]
    },
    {
      "cell_type": "code",
      "source": [
        "import os\n",
        "import glob\n",
        "\n",
        "def file_explorer(file_path, search_txt):\n",
        "    file_with_txt = []\n",
        "    for file in file_path:\n",
        "        with open(file,'r') as f:\n",
        "            content = f.read()\n",
        "            if search_txt in content:\n",
        "                file_with_txt.append(file)\n",
        "\n",
        "    for file in file_path:\n",
        "        with open(file, 'r') as f:\n",
        "            for line in f:\n",
        "                if search_txt in line:\n",
        "                    print(file)\n",
        "                    print(\"--\"*40)\n",
        "                    print(' -',line.strip())\n",
        "                    print('')\n",
        "                    break\n",
        "\n",
        "\n",
        "\n",
        "search_txt = 'index'\n",
        "file_path = glob.glob('/usr/local/lib/python3.10/dist-packages/pandas/**/*.py',recursive = True)\n",
        "\n",
        "file_explorer(file_path, search_txt)"
      ],
      "metadata": {
        "id": "O9WOxC1GYlkW"
      },
      "execution_count": null,
      "outputs": []
    },
    {
      "cell_type": "code",
      "source": [
        "import os\n",
        "import glob\n",
        "\n",
        "def file_explorer(file_path, search_txt):\n",
        "    file_with_txt = []\n",
        "    for file in file_path:\n",
        "        with open(file,'r') as f:\n",
        "            content = f.read()\n",
        "            if search_txt in content:\n",
        "                file_with_txt.append(file)\n",
        "\n",
        "    for file in file_path:\n",
        "        with open(file, 'r') as f:\n",
        "            for line in f:\n",
        "                if search_txt in line:\n",
        "                    print(file)\n",
        "                    print(\"--\"*40)\n",
        "                    for line in f:\n",
        "                        if search_txt in line:\n",
        "                            print(' -', line.strip())\n",
        "                    print('')\n",
        "\n",
        "\n",
        "\n",
        "search_txt = 'index'\n",
        "file_path = glob.glob('/usr/local/lib/python3.10/dist-packages/pandas/**/*.py',recursive = True)\n",
        "\n",
        "file_explorer(file_path, search_txt)"
      ],
      "metadata": {
        "id": "95MKyCzEZJzl"
      },
      "execution_count": null,
      "outputs": []
    },
    {
      "cell_type": "code",
      "source": [
        "import glob\n",
        "\n",
        "def file_explorer(file_path, search_txt):\n",
        "    file_with_txt = []\n",
        "    for file in file_path:\n",
        "        with open(file, 'r', encoding='utf-8') as f:\n",
        "            content = f.read()\n",
        "            if search_txt in content:\n",
        "                file_with_txt.append(file)\n",
        "\n",
        "    path = '/usr/local/lib/python3.10/dist-packages/pandas/'\n",
        "    print(f'파일 경로: {path}')\n",
        "    print('')\n",
        "    for file in file_with_txt:\n",
        "        with open(file, 'r', encoding='utf-8') as f:\n",
        "            file_name = file.replace(path, '')\n",
        "            print(f\"파일이름: {file_name}\")\n",
        "            print(\"--\" * 40)\n",
        "            for line in f:\n",
        "                if search_txt in line:\n",
        "                    print(' -', line.strip())\n",
        "            print('')\n",
        "\n",
        "search_txt = 'index'\n",
        "file_path = glob.glob('/usr/local/lib/python3.10/dist-packages/pandas/**/*.py', recursive=True)\n",
        "\n",
        "print(file_explorer(file_path, search_txt))"
      ],
      "metadata": {
        "id": "ERPQK2x9c5lF"
      },
      "execution_count": null,
      "outputs": []
    },
    {
      "cell_type": "code",
      "source": [
        "__import__('pandas')"
      ],
      "metadata": {
        "colab": {
          "base_uri": "https://localhost:8080/"
        },
        "id": "7sqlwb5rc6BJ",
        "outputId": "9419fc83-02a6-4f7f-9d5c-dd54e49a4595"
      },
      "execution_count": null,
      "outputs": [
        {
          "output_type": "execute_result",
          "data": {
            "text/plain": [
              "<module 'pandas' from '/usr/local/lib/python3.10/dist-packages/pandas/__init__.py'>"
            ]
          },
          "metadata": {},
          "execution_count": 22
        }
      ]
    },
    {
      "cell_type": "code",
      "source": [
        "sen = __import__('pandas')"
      ],
      "metadata": {
        "id": "2h6-x_fU80os"
      },
      "execution_count": null,
      "outputs": []
    },
    {
      "cell_type": "code",
      "source": [
        "type(sen)"
      ],
      "metadata": {
        "colab": {
          "base_uri": "https://localhost:8080/"
        },
        "id": "8pG8dOnL8_Qz",
        "outputId": "eea1b5eb-b435-434f-94b0-371cf89a85b0"
      },
      "execution_count": null,
      "outputs": [
        {
          "output_type": "execute_result",
          "data": {
            "text/plain": [
              "module"
            ]
          },
          "metadata": {},
          "execution_count": 27
        }
      ]
    },
    {
      "cell_type": "code",
      "source": [
        "sen = str(sen)"
      ],
      "metadata": {
        "id": "ilTMcBIE9AC2"
      },
      "execution_count": null,
      "outputs": []
    },
    {
      "cell_type": "code",
      "source": [
        "type(sen)"
      ],
      "metadata": {
        "colab": {
          "base_uri": "https://localhost:8080/"
        },
        "id": "1aZZtbOr9Haq",
        "outputId": "35f63714-e9b4-4531-ad73-c4a1b7975782"
      },
      "execution_count": null,
      "outputs": [
        {
          "output_type": "execute_result",
          "data": {
            "text/plain": [
              "str"
            ]
          },
          "metadata": {},
          "execution_count": 29
        }
      ]
    },
    {
      "cell_type": "code",
      "source": [
        "sen = __import__('pandas')\n",
        "sen = str(sen)\n",
        "'/'.join(sen.split()[-1].strip(\"'\").split('/')[:-1]) +'/'"
      ],
      "metadata": {
        "colab": {
          "base_uri": "https://localhost:8080/",
          "height": 35
        },
        "id": "sU3VO_5c9JST",
        "outputId": "7c5cd1d9-f909-417c-d1ec-73515f4324dc"
      },
      "execution_count": null,
      "outputs": [
        {
          "output_type": "execute_result",
          "data": {
            "text/plain": [
              "'/usr/local/lib/python3.10/dist-packages/pandas/'"
            ],
            "application/vnd.google.colaboratory.intrinsic+json": {
              "type": "string"
            }
          },
          "metadata": {},
          "execution_count": 37
        }
      ]
    },
    {
      "cell_type": "code",
      "source": [
        "s_paths = '/'.join(sen.split()[-1].strip(\"'\").split('/')[:-1]) +'/'"
      ],
      "metadata": {
        "id": "bsQpS9QY9SJi"
      },
      "execution_count": null,
      "outputs": []
    },
    {
      "cell_type": "code",
      "source": [
        "s_paths"
      ],
      "metadata": {
        "colab": {
          "base_uri": "https://localhost:8080/",
          "height": 35
        },
        "id": "5OOgzkPF-qDS",
        "outputId": "6335d8a1-78df-4988-c4c4-8c8868b7305a"
      },
      "execution_count": null,
      "outputs": [
        {
          "output_type": "execute_result",
          "data": {
            "text/plain": [
              "'/usr/local/lib/python3.10/dist-packages/pandas/'"
            ],
            "application/vnd.google.colaboratory.intrinsic+json": {
              "type": "string"
            }
          },
          "metadata": {},
          "execution_count": 45
        }
      ]
    },
    {
      "cell_type": "code",
      "source": [
        "import glob\n",
        "\n",
        "def FileCollection(s_paths, file_types):\n",
        "    dummy_arg = s_paths + '**/*.' + file_types\n",
        "    print(dummy_arg)\n",
        "    file_lists = glob.glob(dummy_arg, recursive = True)\n",
        "    return file_lists"
      ],
      "metadata": {
        "id": "fo1-YLqe-rRK"
      },
      "execution_count": null,
      "outputs": []
    },
    {
      "cell_type": "code",
      "source": [
        "file_list = FileCollection(s_paths, 'py')"
      ],
      "metadata": {
        "colab": {
          "base_uri": "https://localhost:8080/"
        },
        "id": "F8kQYcqI_XqY",
        "outputId": "c001ffdf-ecbc-4bb8-e89a-1977744b339f"
      },
      "execution_count": null,
      "outputs": [
        {
          "output_type": "stream",
          "name": "stdout",
          "text": [
            "/usr/local/lib/python3.10/dist-packages/pandas/**/*.py\n"
          ]
        }
      ]
    },
    {
      "cell_type": "code",
      "source": [
        "search_sentence = 'index'\n",
        "file_dict = {}\n",
        "for filename in file_list:\n",
        "    sentence_list = []\n",
        "    with open(filename) as f:\n",
        "        lines = f.readlines()\n",
        "    for item in lines:\n",
        "        if search_sentence in item:\n",
        "            sentence_list.append(item)\n",
        "    if sentence_list :\n",
        "        file_dict[filename] = sentence_list"
      ],
      "metadata": {
        "id": "NYuAYMuw_bGn"
      },
      "execution_count": null,
      "outputs": []
    },
    {
      "cell_type": "code",
      "source": [
        "len(s_paths)"
      ],
      "metadata": {
        "colab": {
          "base_uri": "https://localhost:8080/"
        },
        "id": "QdofhkXnBzu4",
        "outputId": "58ec3eea-aa07-4a12-bcc9-7eb1e511b3d2"
      },
      "execution_count": null,
      "outputs": [
        {
          "output_type": "execute_result",
          "data": {
            "text/plain": [
              "47"
            ]
          },
          "metadata": {},
          "execution_count": 55
        }
      ]
    },
    {
      "cell_type": "code",
      "source": [
        "filename[47:]"
      ],
      "metadata": {
        "colab": {
          "base_uri": "https://localhost:8080/",
          "height": 35
        },
        "id": "qiQCVNo1CKLH",
        "outputId": "f1466d8e-1e8b-4c27-9d11-6583f5423328"
      },
      "execution_count": null,
      "outputs": [
        {
          "output_type": "execute_result",
          "data": {
            "text/plain": [
              "'_testing/_random.py'"
            ],
            "application/vnd.google.colaboratory.intrinsic+json": {
              "type": "string"
            }
          },
          "metadata": {},
          "execution_count": 56
        }
      ]
    },
    {
      "cell_type": "code",
      "source": [
        "s_paths"
      ],
      "metadata": {
        "colab": {
          "base_uri": "https://localhost:8080/",
          "height": 35
        },
        "id": "Q8E8zyOxCN6O",
        "outputId": "7f340980-ee0d-4bab-c78e-8d8849ae62bc"
      },
      "execution_count": null,
      "outputs": [
        {
          "output_type": "execute_result",
          "data": {
            "text/plain": [
              "'/usr/local/lib/python3.10/dist-packages/pandas/'"
            ],
            "application/vnd.google.colaboratory.intrinsic+json": {
              "type": "string"
            }
          },
          "metadata": {},
          "execution_count": 58
        }
      ]
    },
    {
      "cell_type": "code",
      "source": [
        "file_dict"
      ],
      "metadata": {
        "id": "Y5jobza_CO7G"
      },
      "execution_count": null,
      "outputs": []
    },
    {
      "cell_type": "code",
      "source": [
        "def GetFileSentence(file_list, search_sentences):\n",
        "    file_dict = {}\n",
        "    for filename in file_list:\n",
        "        sentence_list = []\n",
        "        with open(filename) as f:\n",
        "            lines = f.readlines()\n",
        "        for item in lines:\n",
        "            if search_sentence in item:\n",
        "                sentence_list.append(item)\n",
        "        if sentence_list:\n",
        "            file_dict[filename[47:]] = sentence_list\n",
        "        return(file_dict)"
      ],
      "metadata": {
        "id": "e0uFjWEsCQ7F"
      },
      "execution_count": null,
      "outputs": []
    },
    {
      "cell_type": "code",
      "source": [
        "f_dict_result = GetFileSentence(file_list, 'index')"
      ],
      "metadata": {
        "id": "1sJEGJDGC3N1"
      },
      "execution_count": null,
      "outputs": []
    },
    {
      "cell_type": "code",
      "source": [
        "f_dict_result"
      ],
      "metadata": {
        "colab": {
          "base_uri": "https://localhost:8080/"
        },
        "id": "JV-6rGL3C8P2",
        "outputId": "8227d8ab-9f26-4e77-c374-df74b5c40873"
      },
      "execution_count": null,
      "outputs": [
        {
          "output_type": "execute_result",
          "data": {
            "text/plain": [
              "{'testing.py': ['    assert_index_equal,\\n', '    \"assert_index_equal\",\\n']}"
            ]
          },
          "metadata": {},
          "execution_count": 66
        }
      ]
    },
    {
      "cell_type": "code",
      "source": [
        "def print_result(fdr):\n",
        "    for i in fdr:\n",
        "        print(i)\n",
        "        print('==='*10)\n",
        "        print(fdr[i])"
      ],
      "metadata": {
        "id": "TsQaAiuDC9TV"
      },
      "execution_count": null,
      "outputs": []
    },
    {
      "cell_type": "code",
      "source": [],
      "metadata": {
        "id": "WH2riT1QDIxV"
      },
      "execution_count": null,
      "outputs": []
    }
  ]
}