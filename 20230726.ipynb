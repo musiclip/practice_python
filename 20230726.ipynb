{
  "nbformat": 4,
  "nbformat_minor": 0,
  "metadata": {
    "colab": {
      "provenance": [],
      "authorship_tag": "ABX9TyPgjIqQjt4V5rfElsB7RP8C",
      "include_colab_link": true
    },
    "kernelspec": {
      "name": "python3",
      "display_name": "Python 3"
    },
    "language_info": {
      "name": "python"
    }
  },
  "cells": [
    {
      "cell_type": "markdown",
      "metadata": {
        "id": "view-in-github",
        "colab_type": "text"
      },
      "source": [
        "<a href=\"https://colab.research.google.com/github/musiclip/practice_python/blob/main/20230726.ipynb\" target=\"_parent\"><img src=\"https://colab.research.google.com/assets/colab-badge.svg\" alt=\"Open In Colab\"/></a>"
      ]
    },
    {
      "cell_type": "code",
      "execution_count": 1,
      "metadata": {
        "id": "osymvp6gktGE"
      },
      "outputs": [],
      "source": [
        "content = 'ATGCGCTGCGTCTGTACTAG'\n",
        "result = [content[i:i+3] for i in range(0, len(content),3)]"
      ]
    },
    {
      "cell_type": "code",
      "source": [
        "result"
      ],
      "metadata": {
        "colab": {
          "base_uri": "https://localhost:8080/"
        },
        "id": "0A8yHdqKkzYB",
        "outputId": "d81477e5-dda9-4986-ea97-4962714c4837"
      },
      "execution_count": 2,
      "outputs": [
        {
          "output_type": "execute_result",
          "data": {
            "text/plain": [
              "['ATG', 'CGC', 'TGC', 'GTC', 'TGT', 'ACT', 'AG']"
            ]
          },
          "metadata": {},
          "execution_count": 2
        }
      ]
    },
    {
      "cell_type": "code",
      "source": [
        "def isPotentialGene(dna):\n",
        "    if (len(dna)%3) != 0:\n",
        "        return False\n",
        "    if not dna.starswith('ATG'):\n",
        "        return False\n",
        "    for i in range(len(dna)-3):\n",
        "        if i%3 == 0:\n",
        "            if dna[i:i+3] == 'TAA':\n",
        "                return False\n",
        "            if dna[i:i+3] == 'TAG':\n",
        "                return False\n",
        "            if dna[i:i+3] == 'TGA':\n",
        "                return False\n",
        "    if dna.endswith('TAA'):\n",
        "        return True\n",
        "    if dna.endswith('TAG'):\n",
        "        return True\n",
        "    if dna.endswith('TGA'):\n",
        "        return True\n",
        "    return False"
      ],
      "metadata": {
        "id": "HMHw-7ASk38p"
      },
      "execution_count": 3,
      "outputs": []
    },
    {
      "cell_type": "code",
      "source": [
        "isPotentialGene(content)"
      ],
      "metadata": {
        "colab": {
          "base_uri": "https://localhost:8080/"
        },
        "id": "WWsIPcdDnISv",
        "outputId": "458813a8-0d8d-493f-b76f-6137720fa9dc"
      },
      "execution_count": 4,
      "outputs": [
        {
          "output_type": "execute_result",
          "data": {
            "text/plain": [
              "False"
            ]
          },
          "metadata": {},
          "execution_count": 4
        }
      ]
    },
    {
      "cell_type": "markdown",
      "source": [
        "#lambda 함수\n",
        "\n",
        "    - 일반적인 함수를 한 줄의 문(statement)으로 정의할 수 있는 새로운 함수 정의\n",
        "        - 함수 몸체에는 식(expression)만이 올 수 있다.\n",
        "    - 대부분의 경우 함수 이름을 정의하지 않으면서 일회성으로 활용할 함수를 정의할 때 활용\n",
        "    - 구문(syntax)\n",
        "        - lambda 콤마로 구분된 인수들 : 식(expression)\n",
        "<파이썬3 바이블, 이강성, 프리렉)"
      ],
      "metadata": {
        "id": "8Gkj-bh6nuwA"
      }
    },
    {
      "cell_type": "code",
      "source": [
        "f = lambda x, y : x+y"
      ],
      "metadata": {
        "id": "STMO5eBYnLj1"
      },
      "execution_count": 7,
      "outputs": []
    },
    {
      "cell_type": "code",
      "source": [
        "def f1(x,y):\n",
        "    return x+y"
      ],
      "metadata": {
        "id": "ZKoA68S7oXFO"
      },
      "execution_count": 8,
      "outputs": []
    },
    {
      "cell_type": "code",
      "source": [
        "f(1,2)"
      ],
      "metadata": {
        "colab": {
          "base_uri": "https://localhost:8080/"
        },
        "id": "RbX9NgNSoaBy",
        "outputId": "c92e9477-043f-46f6-b384-7c5dd5892c5f"
      },
      "execution_count": 9,
      "outputs": [
        {
          "output_type": "execute_result",
          "data": {
            "text/plain": [
              "3"
            ]
          },
          "metadata": {},
          "execution_count": 9
        }
      ]
    },
    {
      "cell_type": "code",
      "source": [
        "f('test','python')"
      ],
      "metadata": {
        "colab": {
          "base_uri": "https://localhost:8080/",
          "height": 35
        },
        "id": "xKuuS31wojtr",
        "outputId": "28f3a9ce-e2f4-4db2-a36d-9685093db9c9"
      },
      "execution_count": 10,
      "outputs": [
        {
          "output_type": "execute_result",
          "data": {
            "text/plain": [
              "'testpython'"
            ],
            "application/vnd.google.colaboratory.intrinsic+json": {
              "type": "string"
            }
          },
          "metadata": {},
          "execution_count": 10
        }
      ]
    },
    {
      "cell_type": "code",
      "source": [
        "f1(1,2)"
      ],
      "metadata": {
        "colab": {
          "base_uri": "https://localhost:8080/"
        },
        "id": "Cff3QNZQoma7",
        "outputId": "d92fff0d-4954-4dd4-d35f-211368a2ccf3"
      },
      "execution_count": 11,
      "outputs": [
        {
          "output_type": "execute_result",
          "data": {
            "text/plain": [
              "3"
            ]
          },
          "metadata": {},
          "execution_count": 11
        }
      ]
    },
    {
      "cell_type": "code",
      "source": [
        "f1('test','python')"
      ],
      "metadata": {
        "colab": {
          "base_uri": "https://localhost:8080/",
          "height": 35
        },
        "id": "8WuziUqDoobE",
        "outputId": "8079a5c6-3570-4b14-8563-de22f4ee6d72"
      },
      "execution_count": 12,
      "outputs": [
        {
          "output_type": "execute_result",
          "data": {
            "text/plain": [
              "'testpython'"
            ],
            "application/vnd.google.colaboratory.intrinsic+json": {
              "type": "string"
            }
          },
          "metadata": {},
          "execution_count": 12
        }
      ]
    },
    {
      "cell_type": "code",
      "source": [
        "f([1,2],[3,4])"
      ],
      "metadata": {
        "colab": {
          "base_uri": "https://localhost:8080/"
        },
        "id": "Nb5rmyNlorPb",
        "outputId": "4d54c354-6841-4833-9c36-9399d483cd87"
      },
      "execution_count": 13,
      "outputs": [
        {
          "output_type": "execute_result",
          "data": {
            "text/plain": [
              "[1, 2, 3, 4]"
            ]
          },
          "metadata": {},
          "execution_count": 13
        }
      ]
    },
    {
      "cell_type": "code",
      "source": [
        "f1([1,2],[3,4])"
      ],
      "metadata": {
        "colab": {
          "base_uri": "https://localhost:8080/"
        },
        "id": "CqZpjKY8o4Za",
        "outputId": "1f161f45-e376-4578-ee71-257b5dca6bfd"
      },
      "execution_count": 14,
      "outputs": [
        {
          "output_type": "execute_result",
          "data": {
            "text/plain": [
              "[1, 2, 3, 4]"
            ]
          },
          "metadata": {},
          "execution_count": 14
        }
      ]
    },
    {
      "cell_type": "code",
      "source": [
        "g = lambda : 1"
      ],
      "metadata": {
        "id": "5LHYvHLeo7B8"
      },
      "execution_count": 15,
      "outputs": []
    },
    {
      "cell_type": "code",
      "source": [
        "g()"
      ],
      "metadata": {
        "colab": {
          "base_uri": "https://localhost:8080/"
        },
        "id": "LFDHdvueo_c7",
        "outputId": "9a7a7001-1c67-4b88-ac2f-58b5bdc8b81b"
      },
      "execution_count": 16,
      "outputs": [
        {
          "output_type": "execute_result",
          "data": {
            "text/plain": [
              "1"
            ]
          },
          "metadata": {},
          "execution_count": 16
        }
      ]
    },
    {
      "cell_type": "code",
      "source": [
        "f = lambda x : x + 1"
      ],
      "metadata": {
        "id": "jnd7HzqipOMI"
      },
      "execution_count": 20,
      "outputs": []
    },
    {
      "cell_type": "code",
      "source": [
        "f(2)"
      ],
      "metadata": {
        "colab": {
          "base_uri": "https://localhost:8080/"
        },
        "id": "ZlnCNHJYpX7a",
        "outputId": "c9890ba5-03bf-4d3b-f8df-8ed765d3de8e"
      },
      "execution_count": 23,
      "outputs": [
        {
          "output_type": "execute_result",
          "data": {
            "text/plain": [
              "3"
            ]
          },
          "metadata": {},
          "execution_count": 23
        }
      ]
    },
    {
      "cell_type": "code",
      "source": [
        "incre = lambda x, i = 1 : x + i"
      ],
      "metadata": {
        "id": "FlJet3QDpA0a"
      },
      "execution_count": 22,
      "outputs": []
    },
    {
      "cell_type": "code",
      "source": [
        "incre(2)"
      ],
      "metadata": {
        "colab": {
          "base_uri": "https://localhost:8080/"
        },
        "id": "qJk4Y6V2pDWk",
        "outputId": "b8838165-910e-4479-887c-b04ba15be204"
      },
      "execution_count": 24,
      "outputs": [
        {
          "output_type": "execute_result",
          "data": {
            "text/plain": [
              "3"
            ]
          },
          "metadata": {},
          "execution_count": 24
        }
      ]
    },
    {
      "cell_type": "code",
      "source": [
        "incre(2,10)       #함수 호출한 쪽이 우선"
      ],
      "metadata": {
        "colab": {
          "base_uri": "https://localhost:8080/"
        },
        "id": "XamjyokupbHZ",
        "outputId": "6d30ea72-1e7b-4019-faeb-60924ad3e34a"
      },
      "execution_count": 26,
      "outputs": [
        {
          "output_type": "execute_result",
          "data": {
            "text/plain": [
              "12"
            ]
          },
          "metadata": {},
          "execution_count": 26
        }
      ]
    },
    {
      "cell_type": "code",
      "source": [
        "vargs = lambda x, *args : args"
      ],
      "metadata": {
        "id": "7mNfkbr3pkxx"
      },
      "execution_count": 27,
      "outputs": []
    },
    {
      "cell_type": "code",
      "source": [
        "vargs(1,2,3,4,5)"
      ],
      "metadata": {
        "colab": {
          "base_uri": "https://localhost:8080/"
        },
        "id": "J4DYC4A-qLmJ",
        "outputId": "0169f135-279c-44d2-d106-2fefe369e9b4"
      },
      "execution_count": 28,
      "outputs": [
        {
          "output_type": "execute_result",
          "data": {
            "text/plain": [
              "(2, 3, 4, 5)"
            ]
          },
          "metadata": {},
          "execution_count": 28
        }
      ]
    },
    {
      "cell_type": "code",
      "source": [
        "vargs = lambda x, *args : (x , args)"
      ],
      "metadata": {
        "id": "yDrjpdefqNCx"
      },
      "execution_count": 29,
      "outputs": []
    },
    {
      "cell_type": "code",
      "source": [
        "vargs(1,2,3,4,5)"
      ],
      "metadata": {
        "colab": {
          "base_uri": "https://localhost:8080/"
        },
        "id": "qGP25V2NqQZg",
        "outputId": "25ca4a65-e6f5-49f3-99de-f9f91b3a6cf6"
      },
      "execution_count": 30,
      "outputs": [
        {
          "output_type": "execute_result",
          "data": {
            "text/plain": [
              "(1, (2, 3, 4, 5))"
            ]
          },
          "metadata": {},
          "execution_count": 30
        }
      ]
    },
    {
      "cell_type": "code",
      "source": [
        "def f1(x):\n",
        "    return x*x + 3*x -10"
      ],
      "metadata": {
        "id": "8U23XCzPqR3A"
      },
      "execution_count": 31,
      "outputs": []
    },
    {
      "cell_type": "code",
      "source": [
        "def f2(x):\n",
        "    return x*x*x"
      ],
      "metadata": {
        "id": "uAasraWNqkMx"
      },
      "execution_count": 32,
      "outputs": []
    },
    {
      "cell_type": "code",
      "source": [
        "def g(func):\n",
        "    return[func(x) for x in range(-2, 3)]"
      ],
      "metadata": {
        "id": "dxcVj7UTqm7Q"
      },
      "execution_count": 37,
      "outputs": []
    },
    {
      "cell_type": "code",
      "source": [
        "g(f1)"
      ],
      "metadata": {
        "colab": {
          "base_uri": "https://localhost:8080/"
        },
        "id": "SnnNy8YPqsPw",
        "outputId": "22cd7b39-7333-440a-b76a-33f1dbc0f169"
      },
      "execution_count": 38,
      "outputs": [
        {
          "output_type": "execute_result",
          "data": {
            "text/plain": [
              "[-12, -12, -10, -6, 0]"
            ]
          },
          "metadata": {},
          "execution_count": 38
        }
      ]
    },
    {
      "cell_type": "code",
      "source": [
        "g(f2)"
      ],
      "metadata": {
        "colab": {
          "base_uri": "https://localhost:8080/"
        },
        "id": "vgDLiOLFq1vA",
        "outputId": "e04cdd35-3cf8-4020-bec1-0afbc510d391"
      },
      "execution_count": 39,
      "outputs": [
        {
          "output_type": "execute_result",
          "data": {
            "text/plain": [
              "[-8, -1, 0, 1, 8]"
            ]
          },
          "metadata": {},
          "execution_count": 39
        }
      ]
    },
    {
      "cell_type": "code",
      "source": [
        "g(lambda x: x*x + 3*x -10)"
      ],
      "metadata": {
        "colab": {
          "base_uri": "https://localhost:8080/"
        },
        "id": "RUOx9igKrVFA",
        "outputId": "c7061604-8173-4125-e534-0208032f4aae"
      },
      "execution_count": 40,
      "outputs": [
        {
          "output_type": "execute_result",
          "data": {
            "text/plain": [
              "[-12, -12, -10, -6, 0]"
            ]
          },
          "metadata": {},
          "execution_count": 40
        }
      ]
    },
    {
      "cell_type": "code",
      "source": [
        "g(lambda x : x*x*x)"
      ],
      "metadata": {
        "colab": {
          "base_uri": "https://localhost:8080/"
        },
        "id": "eIthSU8RuLSj",
        "outputId": "dc419205-0412-4518-feff-5fd21a682d9f"
      },
      "execution_count": 41,
      "outputs": [
        {
          "output_type": "execute_result",
          "data": {
            "text/plain": [
              "[-8, -1, 0, 1, 8]"
            ]
          },
          "metadata": {},
          "execution_count": 41
        }
      ]
    },
    {
      "cell_type": "markdown",
      "source": [
        "람다함수 :  더하기 , 빼기 , 곱하기 , 나누기\n",
        "\n",
        "위에서 만든 함수들을 리스트에 담아주세요,"
      ],
      "metadata": {
        "id": "UN4c-EvXucNQ"
      }
    },
    {
      "cell_type": "code",
      "source": [
        "func_list = [\n",
        "    lambda x,y : x+y,\n",
        "    lambda x,y : x-y,\n",
        "    lambda x,y : x*y,\n",
        "    lambda x,y : x/y,\n",
        "]"
      ],
      "metadata": {
        "id": "qO1FJf2_uV30"
      },
      "execution_count": 44,
      "outputs": []
    },
    {
      "cell_type": "code",
      "source": [
        "for i in func_list:\n",
        "    print(i(2,1))"
      ],
      "metadata": {
        "colab": {
          "base_uri": "https://localhost:8080/"
        },
        "id": "qg7Rcu4qux7x",
        "outputId": "72f3b3f4-cfd8-4701-9a49-199f321f1bb2"
      },
      "execution_count": 45,
      "outputs": [
        {
          "output_type": "stream",
          "name": "stdout",
          "text": [
            "3\n",
            "1\n",
            "2\n",
            "2.0\n"
          ]
        }
      ]
    },
    {
      "cell_type": "code",
      "source": [
        "plus = lambda x,y : x+y\n",
        "minus = lambda x,y : x-y\n",
        "multiply = lambda x,y : x*y\n",
        "divide = lambda x,y : x/y\n",
        "\n",
        "list_operation = [plus, minus, multiply, divide]"
      ],
      "metadata": {
        "id": "lBbLlNTWvU_Z"
      },
      "execution_count": 46,
      "outputs": []
    },
    {
      "cell_type": "code",
      "source": [
        "for i in list_operation:\n",
        "    print(i(2,1))"
      ],
      "metadata": {
        "colab": {
          "base_uri": "https://localhost:8080/"
        },
        "id": "vPXNcUgCvxb4",
        "outputId": "1d9a66e5-fa4b-4f83-acc8-e34c32999fa6"
      },
      "execution_count": 47,
      "outputs": [
        {
          "output_type": "stream",
          "name": "stdout",
          "text": [
            "3\n",
            "1\n",
            "2\n",
            "2.0\n"
          ]
        }
      ]
    },
    {
      "cell_type": "code",
      "source": [
        "def increment(n):\n",
        "    return n+1\n",
        "def square(n):\n",
        "    return n**2"
      ],
      "metadata": {
        "id": "vbfKMES4v1JQ"
      },
      "execution_count": 48,
      "outputs": []
    },
    {
      "cell_type": "code",
      "source": [
        "for data, action in [(2, increment), (4, square)]:\n",
        "    print(action(data))"
      ],
      "metadata": {
        "colab": {
          "base_uri": "https://localhost:8080/"
        },
        "id": "CUPRUPROwNGg",
        "outputId": "1c9a22ef-0d40-4453-bdac-48d4bcf9c694"
      },
      "execution_count": 49,
      "outputs": [
        {
          "output_type": "stream",
          "name": "stdout",
          "text": [
            "3\n",
            "16\n"
          ]
        }
      ]
    },
    {
      "cell_type": "markdown",
      "source": [
        "# map\n",
        "\n",
        "    - seq 시퀀스 자료형이 지닌 각 원소값들에 대해 function에 적용한 원소를 지닌 map 객체를 반환한다.\n",
        "        - 이후 동일한 자료형으로 다시 변환 필요"
      ],
      "metadata": {
        "id": "IzYauG1Xwxmw"
      }
    },
    {
      "cell_type": "code",
      "source": [
        "def f(x):\n",
        "    return x*x"
      ],
      "metadata": {
        "id": "tSqNPuxPwb73"
      },
      "execution_count": 50,
      "outputs": []
    },
    {
      "cell_type": "code",
      "source": [
        "data = [1,2,3,4]"
      ],
      "metadata": {
        "id": "V5BsS1KUxCyu"
      },
      "execution_count": 51,
      "outputs": []
    },
    {
      "cell_type": "code",
      "source": [
        "for i in data:\n",
        "    print(f(i))"
      ],
      "metadata": {
        "colab": {
          "base_uri": "https://localhost:8080/"
        },
        "id": "waHVttjSxEdH",
        "outputId": "5e111bcc-c98f-4a8c-ab98-63734fdd952a"
      },
      "execution_count": 53,
      "outputs": [
        {
          "output_type": "stream",
          "name": "stdout",
          "text": [
            "1\n",
            "4\n",
            "9\n",
            "16\n"
          ]
        }
      ]
    },
    {
      "cell_type": "code",
      "source": [
        "list_result = []\n",
        "for i in data:\n",
        "    list_result.append(f(i))"
      ],
      "metadata": {
        "id": "fcOZCUvrxPyf"
      },
      "execution_count": 54,
      "outputs": []
    },
    {
      "cell_type": "code",
      "source": [
        "list_result"
      ],
      "metadata": {
        "colab": {
          "base_uri": "https://localhost:8080/"
        },
        "id": "ig_C-rYOxeGV",
        "outputId": "a69650f3-fd41-4434-8dff-e1c1f3206d3c"
      },
      "execution_count": 55,
      "outputs": [
        {
          "output_type": "execute_result",
          "data": {
            "text/plain": [
              "[1, 4, 9, 16]"
            ]
          },
          "metadata": {},
          "execution_count": 55
        }
      ]
    },
    {
      "cell_type": "code",
      "source": [
        "result_map = map(f,data)"
      ],
      "metadata": {
        "id": "Nu3S_W4YxfiB"
      },
      "execution_count": 56,
      "outputs": []
    },
    {
      "cell_type": "code",
      "source": [
        "type(result_map)"
      ],
      "metadata": {
        "colab": {
          "base_uri": "https://localhost:8080/"
        },
        "id": "9mnPkkNGxitO",
        "outputId": "7cb070d2-2805-4e60-87ba-bb50a20e6ef2"
      },
      "execution_count": 57,
      "outputs": [
        {
          "output_type": "execute_result",
          "data": {
            "text/plain": [
              "map"
            ]
          },
          "metadata": {},
          "execution_count": 57
        }
      ]
    },
    {
      "cell_type": "code",
      "source": [
        "result_map"
      ],
      "metadata": {
        "colab": {
          "base_uri": "https://localhost:8080/"
        },
        "id": "h-1Aow4uxsNV",
        "outputId": "e52fa496-407e-43e7-9249-5b48f5cd69af"
      },
      "execution_count": 58,
      "outputs": [
        {
          "output_type": "execute_result",
          "data": {
            "text/plain": [
              "<map at 0x7f2828219ae0>"
            ]
          },
          "metadata": {},
          "execution_count": 58
        }
      ]
    },
    {
      "cell_type": "code",
      "source": [
        "list(result_map)"
      ],
      "metadata": {
        "colab": {
          "base_uri": "https://localhost:8080/"
        },
        "id": "6bT3Tpphxt1v",
        "outputId": "59ad700d-629d-4d1d-90a5-fbabfd9cc2db"
      },
      "execution_count": 59,
      "outputs": [
        {
          "output_type": "execute_result",
          "data": {
            "text/plain": [
              "[1, 4, 9, 16]"
            ]
          },
          "metadata": {},
          "execution_count": 59
        }
      ]
    },
    {
      "cell_type": "code",
      "source": [
        "list(map(f,data))"
      ],
      "metadata": {
        "colab": {
          "base_uri": "https://localhost:8080/"
        },
        "id": "lkEqp5jox1NF",
        "outputId": "951f3e5c-9726-4657-bfc2-0ad774aebea6"
      },
      "execution_count": 60,
      "outputs": [
        {
          "output_type": "execute_result",
          "data": {
            "text/plain": [
              "[1, 4, 9, 16]"
            ]
          },
          "metadata": {},
          "execution_count": 60
        }
      ]
    },
    {
      "cell_type": "code",
      "source": [
        "list(map(lambda x: x*x, data))"
      ],
      "metadata": {
        "colab": {
          "base_uri": "https://localhost:8080/"
        },
        "id": "P0I2UivYx-WX",
        "outputId": "3408ec21-40a6-40d2-df6c-1e4484d5c91b"
      },
      "execution_count": 61,
      "outputs": [
        {
          "output_type": "execute_result",
          "data": {
            "text/plain": [
              "[1, 4, 9, 16]"
            ]
          },
          "metadata": {},
          "execution_count": 61
        }
      ]
    },
    {
      "cell_type": "code",
      "source": [
        "list(map(lambda x: x*x +3*x +5, range(10)))"
      ],
      "metadata": {
        "colab": {
          "base_uri": "https://localhost:8080/"
        },
        "id": "wWAuCFIDyKmU",
        "outputId": "2e8d9ffd-403b-4c2e-dbe2-8a29e94445cc"
      },
      "execution_count": 62,
      "outputs": [
        {
          "output_type": "execute_result",
          "data": {
            "text/plain": [
              "[5, 9, 15, 23, 33, 45, 59, 75, 93, 113]"
            ]
          },
          "metadata": {},
          "execution_count": 62
        }
      ]
    },
    {
      "cell_type": "code",
      "source": [
        "len_list = ['Hello','python','Programming']"
      ],
      "metadata": {
        "id": "DkxiCbJ6ympL"
      },
      "execution_count": 64,
      "outputs": []
    },
    {
      "cell_type": "code",
      "source": [
        "lengths = list(map(lambda x : len(x),len_list))"
      ],
      "metadata": {
        "id": "c6enlP1hy-Hl"
      },
      "execution_count": 78,
      "outputs": []
    },
    {
      "cell_type": "code",
      "source": [
        "lengths"
      ],
      "metadata": {
        "colab": {
          "base_uri": "https://localhost:8080/"
        },
        "id": "_e47V-Hl0wBq",
        "outputId": "044a0e91-3e5c-4464-f3d4-276314284bcc"
      },
      "execution_count": 80,
      "outputs": [
        {
          "output_type": "execute_result",
          "data": {
            "text/plain": [
              "[5, 6, 11]"
            ]
          },
          "metadata": {},
          "execution_count": 80
        }
      ]
    },
    {
      "cell_type": "code",
      "source": [
        "lst = ['Hello', 'python', 'Programming']\n",
        "\n",
        "lengths = list(map(lambda x: len(x), lst))\n",
        "\n",
        "print(lengths)"
      ],
      "metadata": {
        "colab": {
          "base_uri": "https://localhost:8080/"
        },
        "id": "K7D7Kxq_0Bm6",
        "outputId": "6875197f-e4a6-4d8a-ca1a-46959e769ade"
      },
      "execution_count": 75,
      "outputs": [
        {
          "output_type": "stream",
          "name": "stdout",
          "text": [
            "[5, 6, 11]\n"
          ]
        }
      ]
    },
    {
      "cell_type": "markdown",
      "source": [
        "#filter 내장 함수\n",
        "    - 시퀀스 자료형이 지닌 각 원소값들에 대해 function에 적용한 결과가 참인 원소값들만을 지닌 filter 객체를 반환한다."
      ],
      "metadata": {
        "id": "xFRjS9FW1kEw"
      }
    },
    {
      "cell_type": "code",
      "source": [
        "list(filter(lambda x: x>3, [2,3,4,5,6]))"
      ],
      "metadata": {
        "colab": {
          "base_uri": "https://localhost:8080/"
        },
        "id": "dnXVlzhn0f9R",
        "outputId": "de79c392-cff9-433e-eb94-a04e1deebc59"
      },
      "execution_count": 81,
      "outputs": [
        {
          "output_type": "execute_result",
          "data": {
            "text/plain": [
              "[4, 5, 6]"
            ]
          },
          "metadata": {},
          "execution_count": 81
        }
      ]
    },
    {
      "cell_type": "code",
      "source": [
        "list_3 = []\n",
        "for i in [2,3,4,5,6]:\n",
        "    if i > 3:\n",
        "        list_3.append(i)\n",
        "print(list_3)"
      ],
      "metadata": {
        "colab": {
          "base_uri": "https://localhost:8080/"
        },
        "id": "dIF69cH52A22",
        "outputId": "0b7a3886-89e8-40ad-aa1f-a77f0ec23f10"
      },
      "execution_count": 82,
      "outputs": [
        {
          "output_type": "stream",
          "name": "stdout",
          "text": [
            "[4, 5, 6]\n"
          ]
        }
      ]
    },
    {
      "cell_type": "markdown",
      "source": [
        "0~10 중에서\n",
        "\n",
        "1. 홀수만 필터링 하는 코드\n",
        "\n",
        "2. 짝수만 필터링 하는 코드"
      ],
      "metadata": {
        "id": "LSTFe9K22eaX"
      }
    },
    {
      "cell_type": "code",
      "source": [
        "filter1 = list(filter(lambda x : x%2 == 0,range(11)))\n",
        "filter2 = list(filter(lambda x : x%2 == 1, range(11)))"
      ],
      "metadata": {
        "id": "bqxGBNjO2UEX"
      },
      "execution_count": 83,
      "outputs": []
    },
    {
      "cell_type": "code",
      "source": [
        "filter1"
      ],
      "metadata": {
        "colab": {
          "base_uri": "https://localhost:8080/"
        },
        "id": "koYBwpH724f3",
        "outputId": "212179af-4edd-4688-ada6-5ad67db248b0"
      },
      "execution_count": 87,
      "outputs": [
        {
          "output_type": "execute_result",
          "data": {
            "text/plain": [
              "[0, 2, 4, 6, 8, 10]"
            ]
          },
          "metadata": {},
          "execution_count": 87
        }
      ]
    },
    {
      "cell_type": "code",
      "source": [
        "filter2"
      ],
      "metadata": {
        "colab": {
          "base_uri": "https://localhost:8080/"
        },
        "id": "o31UI2yn2572",
        "outputId": "1a9c5d4d-426f-409f-dcae-9214034697ca"
      },
      "execution_count": 88,
      "outputs": [
        {
          "output_type": "execute_result",
          "data": {
            "text/plain": [
              "[1, 3, 5, 7, 9]"
            ]
          },
          "metadata": {},
          "execution_count": 88
        }
      ]
    },
    {
      "cell_type": "code",
      "source": [
        "list(filter(lambda x : x % 2, range(11)))"
      ],
      "metadata": {
        "colab": {
          "base_uri": "https://localhost:8080/"
        },
        "id": "Owc8scVz27m-",
        "outputId": "2381957b-ea72-4fe0-86f5-97e23a746a84"
      },
      "execution_count": 89,
      "outputs": [
        {
          "output_type": "execute_result",
          "data": {
            "text/plain": [
              "[1, 3, 5, 7, 9]"
            ]
          },
          "metadata": {},
          "execution_count": 89
        }
      ]
    },
    {
      "cell_type": "code",
      "source": [
        "list(filter(lambda x: x%2 -1 ,range(11)))"
      ],
      "metadata": {
        "colab": {
          "base_uri": "https://localhost:8080/"
        },
        "id": "ZSOSjNP93zlP",
        "outputId": "37a1b04c-2ac6-442a-baca-e550b103426b"
      },
      "execution_count": 90,
      "outputs": [
        {
          "output_type": "execute_result",
          "data": {
            "text/plain": [
              "[0, 2, 4, 6, 8, 10]"
            ]
          },
          "metadata": {},
          "execution_count": 90
        }
      ]
    },
    {
      "cell_type": "code",
      "source": [
        "list_ = ['high','level','',None,'builitint','func']"
      ],
      "metadata": {
        "id": "TUaV8oAf35TU"
      },
      "execution_count": 91,
      "outputs": []
    },
    {
      "cell_type": "code",
      "source": [
        "list(filter(None, list_)) # None = 아무런 조건식이 없어, 입력값 자체를 진릿값으로 사용한다는 의미로 해석"
      ],
      "metadata": {
        "colab": {
          "base_uri": "https://localhost:8080/"
        },
        "id": "dLaA_GLT4Dhn",
        "outputId": "9c235496-631c-4009-c797-82d11d597af5"
      },
      "execution_count": 93,
      "outputs": [
        {
          "output_type": "execute_result",
          "data": {
            "text/plain": [
              "['high', 'level', 'builitint', 'func']"
            ]
          },
          "metadata": {},
          "execution_count": 93
        }
      ]
    },
    {
      "cell_type": "code",
      "source": [
        "fnames = ['a_thumb.jpg', 'b01_thumb.jpg','S100_thumb.jpg' , 'S100.jpg','b01.jpg']"
      ],
      "metadata": {
        "id": "_JJbnCRo4I4U"
      },
      "execution_count": 94,
      "outputs": []
    },
    {
      "cell_type": "code",
      "source": [
        "list(filter(lambda x : 'thumb' in x,fnames))"
      ],
      "metadata": {
        "colab": {
          "base_uri": "https://localhost:8080/"
        },
        "id": "swluBWqw4tzE",
        "outputId": "f881ad27-2194-4f77-f1bc-b4f29d0d0bb9"
      },
      "execution_count": 98,
      "outputs": [
        {
          "output_type": "execute_result",
          "data": {
            "text/plain": [
              "['a_thumb.jpg', 'b01_thumb.jpg', 'S100_thumb.jpg']"
            ]
          },
          "metadata": {},
          "execution_count": 98
        }
      ]
    },
    {
      "cell_type": "code",
      "source": [
        "list(filter(None, fnames))"
      ],
      "metadata": {
        "colab": {
          "base_uri": "https://localhost:8080/"
        },
        "id": "jGehN-aZ46aU",
        "outputId": "602b204a-73f4-43e5-c782-b05560e5560b"
      },
      "execution_count": 96,
      "outputs": [
        {
          "output_type": "execute_result",
          "data": {
            "text/plain": [
              "['a_thumb.jpg', 'b01_thumb.jpg', 'S100_thumb.jpg', 'S100.jpg', 'b01.jpg']"
            ]
          },
          "metadata": {},
          "execution_count": 96
        }
      ]
    },
    {
      "cell_type": "code",
      "source": [
        "list(filter(lambda x : 'thumb' not in x,fnames))"
      ],
      "metadata": {
        "colab": {
          "base_uri": "https://localhost:8080/"
        },
        "id": "UDnMhgd47Z7b",
        "outputId": "e37b3a5c-5924-4f66-ed5e-e9ba39c3a9d7"
      },
      "execution_count": 99,
      "outputs": [
        {
          "output_type": "execute_result",
          "data": {
            "text/plain": [
              "['S100.jpg', 'b01.jpg']"
            ]
          },
          "metadata": {},
          "execution_count": 99
        }
      ]
    },
    {
      "cell_type": "code",
      "source": [
        "L = [3,2,[3,[[3],4]]]"
      ],
      "metadata": {
        "id": "YsNHrllf8DEo"
      },
      "execution_count": 100,
      "outputs": []
    },
    {
      "cell_type": "markdown",
      "source": [
        "Change_values(L,3,5)\n",
        "\n",
        "[5,10,[5,[[5],20]]]"
      ],
      "metadata": {
        "id": "GNxsX4OK88X2"
      }
    },
    {
      "cell_type": "code",
      "source": [
        "def change_values(L,n,m):\n",
        "    L[L.index(n)] = m\n",
        "    L[2][L[2].index(n)] = m\n",
        "    L[2][1][L[2][1][0].index(n)] = [m]\n",
        "    return L"
      ],
      "metadata": {
        "id": "8tb0jfUJ87GA"
      },
      "execution_count": 134,
      "outputs": []
    },
    {
      "cell_type": "code",
      "source": [
        "L = [3,2,[3,[[3],4]]]\n",
        "change_values(L,3,5)"
      ],
      "metadata": {
        "colab": {
          "base_uri": "https://localhost:8080/"
        },
        "id": "BiwJxsqA9P3V",
        "outputId": "f7eb0467-2bf9-4ef0-b4f2-ef1ba2f14f8f"
      },
      "execution_count": 135,
      "outputs": [
        {
          "output_type": "execute_result",
          "data": {
            "text/plain": [
              "[5, 2, [5, [[5], 4]]]"
            ]
          },
          "metadata": {},
          "execution_count": 135
        }
      ]
    },
    {
      "cell_type": "code",
      "source": [
        "L = [3,2,[[[3],4],3]]\n",
        "index = L[2].index(3)\n",
        "print(index)"
      ],
      "metadata": {
        "colab": {
          "base_uri": "https://localhost:8080/"
        },
        "id": "uhO7Mil4_UB8",
        "outputId": "8ecd6bdd-18bb-4b34-a4b7-9798affbcb58"
      },
      "execution_count": 131,
      "outputs": [
        {
          "output_type": "stream",
          "name": "stdout",
          "text": [
            "1\n"
          ]
        }
      ]
    },
    {
      "cell_type": "code",
      "source": [
        "sen = 'Hi Hello'"
      ],
      "metadata": {
        "id": "J2Y5lBjQ9-Vd"
      },
      "execution_count": 107,
      "outputs": []
    },
    {
      "cell_type": "code",
      "source": [
        "sen.replace('H','J')"
      ],
      "metadata": {
        "colab": {
          "base_uri": "https://localhost:8080/",
          "height": 35
        },
        "id": "VqxeUyDZ-HYI",
        "outputId": "094ba231-bf28-4a61-8fae-e998d894c638"
      },
      "execution_count": 108,
      "outputs": [
        {
          "output_type": "execute_result",
          "data": {
            "text/plain": [
              "'Ji Jello'"
            ],
            "application/vnd.google.colaboratory.intrinsic+json": {
              "type": "string"
            }
          },
          "metadata": {},
          "execution_count": 108
        }
      ]
    },
    {
      "cell_type": "code",
      "source": [
        "for i,item in enumerate([3,2,[[[3],4],3]]):\n",
        "    print(i,item)"
      ],
      "metadata": {
        "colab": {
          "base_uri": "https://localhost:8080/"
        },
        "id": "f7-Ev0Mm-Ko6",
        "outputId": "27e59cae-042f-4378-8984-0df39ffbef9f"
      },
      "execution_count": 143,
      "outputs": [
        {
          "output_type": "stream",
          "name": "stdout",
          "text": [
            "0 3\n",
            "1 2\n",
            "2 [[[3], 4], 3]\n"
          ]
        }
      ]
    },
    {
      "cell_type": "code",
      "source": [
        "def change_values2(L,n,m):\n",
        "    for i, j in enumerate(L):\n",
        "        if j == n:\n",
        "            L[i] = m\n",
        "        elif type(j) == list:        #isinstance(j,list)랑 같은 뜻\n",
        "            change_values2(j, n, m)\n",
        "    return L"
      ],
      "metadata": {
        "id": "kktqa1JtBbTP"
      },
      "execution_count": 161,
      "outputs": []
    },
    {
      "cell_type": "code",
      "source": [
        "L = [3,2,[3,[[3],4]]]\n",
        "change_values2(L,3,5)"
      ],
      "metadata": {
        "colab": {
          "base_uri": "https://localhost:8080/"
        },
        "id": "8DtKhBmmCy8A",
        "outputId": "57adec5d-f1d8-4f34-8f04-4f18d0de3d78"
      },
      "execution_count": 162,
      "outputs": [
        {
          "output_type": "execute_result",
          "data": {
            "text/plain": [
              "[5, 2, [5, [[5], 4]]]"
            ]
          },
          "metadata": {},
          "execution_count": 162
        }
      ]
    },
    {
      "cell_type": "code",
      "source": [
        "L = [3,2,[3,[[3],4]]]\n",
        "type(L) == list"
      ],
      "metadata": {
        "colab": {
          "base_uri": "https://localhost:8080/"
        },
        "id": "wFbPvrxDC430",
        "outputId": "31d8181b-3e9f-43e6-b085-a04890dbb615"
      },
      "execution_count": 156,
      "outputs": [
        {
          "output_type": "execute_result",
          "data": {
            "text/plain": [
              "True"
            ]
          },
          "metadata": {},
          "execution_count": 156
        }
      ]
    },
    {
      "cell_type": "markdown",
      "source": [
        "#if 여러번 사용하는 것과 elif 사용 차이점 이해하기\n",
        "\n",
        "i = 0\n",
        "\n",
        "if i == 0:\n",
        "    print(i,'첫번째 입니다')\n",
        "\n",
        "elif i == 0:\n",
        "    print(i,'두번째 입니다')\n",
        "\n",
        "0 첫번째 입니다\n",
        "if ~ elif는 위의 if문 조건에 해당되면 밑에는 실행이 되지 않습니다. 즉, if ~ elif 가 하나의 묶음이고\n",
        "\n",
        "i = 0\n",
        "\n",
        "if i == 0:\n",
        "    print(i,'첫번째 입니다')\n",
        "\n",
        "if i == 0:\n",
        "    print(i,'두번째 입니다')\n",
        "\n",
        "0 첫번째 입니다\n",
        "0 두번째 입니다\n",
        "반면 if ~ if문은 2개가 별개의 if문이기 때문에 각각 결과가 나옵니다. 즉, if ~ if는 두개가 별개의 if문이라 만나면 둘다 실행됩니다."
      ],
      "metadata": {
        "id": "YJ6bXTDUGwtX"
      }
    },
    {
      "cell_type": "code",
      "source": [
        "xx = list(range(1,6))\n",
        "yy = list(range(6,11))\n",
        "z = list(map(lambda x , y : x + y, xx, yy))\n",
        "print(z)\n",
        "z = map(lambda x,y : x+y, xx, yy)"
      ],
      "metadata": {
        "colab": {
          "base_uri": "https://localhost:8080/"
        },
        "id": "a9ybUCz4G2C7",
        "outputId": "d9973dba-33ec-4d6d-f7de-27c96ce68894"
      },
      "execution_count": 165,
      "outputs": [
        {
          "output_type": "stream",
          "name": "stdout",
          "text": [
            "[7, 9, 11, 13, 15]\n"
          ]
        }
      ]
    },
    {
      "cell_type": "code",
      "source": [
        "frange(1,3,0.2)\n",
        "frange(3,1-0.2)"
      ],
      "metadata": {
        "id": "f7QiHWDFX3zL"
      },
      "execution_count": null,
      "outputs": []
    },
    {
      "cell_type": "code",
      "source": [
        "def frange(*args):\n",
        "    result = []\n",
        "    if arg1 < args:\n",
        "        result = list(range(arg1, args))\n",
        "    if args < arg1:\n",
        "        result = list(range(args,arg1+1))[::-1]\n",
        "    float_result = [float(n) for n in result]\n",
        "    frange_list = list(map(lambda x: x+f,float_result))\n",
        "    return frange_list"
      ],
      "metadata": {
        "id": "Ztv0qfsDlH2z"
      },
      "execution_count": 214,
      "outputs": []
    },
    {
      "cell_type": "code",
      "source": [
        "def frange(arg1, *args, f = 0.0):\n",
        "    result = []\n",
        "    if arg1 < args:\n",
        "        result = list(range(arg1, args))\n",
        "    if args < arg1:\n",
        "        result = list(range(args,arg1+1))[::-1]\n",
        "    float_result = [float(n) for n in result]\n",
        "    frange_list = list(map(lambda x: x+f,float_result))\n",
        "    return frange_list\n",
        "\n"
      ],
      "metadata": {
        "id": "j91AmOYau9VT"
      },
      "execution_count": 218,
      "outputs": []
    },
    {
      "cell_type": "code",
      "source": [
        "def frange(arg1, *args, f=0.0):\n",
        "    result = []\n",
        "    if arg1 < args[0]:\n",
        "        result = list(range(arg1, args[0]))\n",
        "    if args[0] < arg1:\n",
        "        result = list(range(args[0], arg1+1))[::-1]\n",
        "\n",
        "    float_result = [float(n) for n in result]\n",
        "    frange_list = list(map(lambda x: x + f, float_result))\n",
        "    return frange_list"
      ],
      "metadata": {
        "id": "b83li4r9wedT"
      },
      "execution_count": 220,
      "outputs": []
    },
    {
      "cell_type": "code",
      "source": [
        "frange(1,3,0.2)"
      ],
      "metadata": {
        "colab": {
          "base_uri": "https://localhost:8080/"
        },
        "id": "OJZTBl1SmN-W",
        "outputId": "6129354a-3975-44b0-be97-90b61a51f314"
      },
      "execution_count": 221,
      "outputs": [
        {
          "output_type": "execute_result",
          "data": {
            "text/plain": [
              "[1.0, 2.0]"
            ]
          },
          "metadata": {},
          "execution_count": 221
        }
      ]
    },
    {
      "cell_type": "code",
      "source": [
        "list(range(10, 1))"
      ],
      "metadata": {
        "colab": {
          "base_uri": "https://localhost:8080/"
        },
        "id": "CSmfZmmflp6F",
        "outputId": "8acb08a1-f0fe-4dec-c2f6-83b29817958c"
      },
      "execution_count": 176,
      "outputs": [
        {
          "output_type": "execute_result",
          "data": {
            "text/plain": [
              "[]"
            ]
          },
          "metadata": {},
          "execution_count": 176
        }
      ]
    },
    {
      "cell_type": "code",
      "source": [
        "result = list(range(1, 10))[::-1]"
      ],
      "metadata": {
        "id": "IYbZxFWvlsNK"
      },
      "execution_count": 188,
      "outputs": []
    },
    {
      "cell_type": "code",
      "source": [
        "result"
      ],
      "metadata": {
        "colab": {
          "base_uri": "https://localhost:8080/"
        },
        "id": "DdC8MgvHo4Rv",
        "outputId": "5e1134f9-2b1e-4cac-defb-6a013294e4c4"
      },
      "execution_count": 189,
      "outputs": [
        {
          "output_type": "execute_result",
          "data": {
            "text/plain": [
              "[9, 8, 7, 6, 5, 4, 3, 2, 1]"
            ]
          },
          "metadata": {},
          "execution_count": 189
        }
      ]
    },
    {
      "cell_type": "code",
      "source": [
        "def frange(start, end, step = 0.0):\n",
        "    result = []\n",
        "    current = start\n",
        "    if step > 0:\n",
        "        while current < end:\n",
        "            result.append(current)\n",
        "            current += step\n",
        "    elif step < 0:\n",
        "        while current > end:\n",
        "            result.append(current)\n",
        "            current += step\n",
        "    return result\n",
        "\n",
        "result = frange(1,10,0.2)\n",
        "print(result)"
      ],
      "metadata": {
        "colab": {
          "base_uri": "https://localhost:8080/"
        },
        "id": "jLhXBvnBtzmm",
        "outputId": "cf443181-bfb4-4acf-b559-8401bf6c5f09"
      },
      "execution_count": 231,
      "outputs": [
        {
          "output_type": "stream",
          "name": "stdout",
          "text": [
            "[1, 1.2, 1.4, 1.5999999999999999, 1.7999999999999998, 1.9999999999999998, 2.1999999999999997, 2.4, 2.6, 2.8000000000000003, 3.0000000000000004, 3.2000000000000006, 3.400000000000001, 3.600000000000001, 3.800000000000001, 4.000000000000001, 4.200000000000001, 4.400000000000001, 4.600000000000001, 4.800000000000002, 5.000000000000002, 5.200000000000002, 5.400000000000002, 5.600000000000002, 5.8000000000000025, 6.000000000000003, 6.200000000000003, 6.400000000000003, 6.600000000000003, 6.800000000000003, 7.0000000000000036, 7.200000000000004, 7.400000000000004, 7.600000000000004, 7.800000000000004, 8.000000000000004, 8.200000000000003, 8.400000000000002, 8.600000000000001, 8.8, 9.0, 9.2, 9.399999999999999, 9.599999999999998, 9.799999999999997, 9.999999999999996]\n"
          ]
        }
      ]
    },
    {
      "cell_type": "code",
      "source": [
        "for i in range(15, 5, -0.2):\n",
        "    print(i, end =\" \")"
      ],
      "metadata": {
        "colab": {
          "base_uri": "https://localhost:8080/",
          "height": 193
        },
        "id": "shMX0VeHy2t4",
        "outputId": "398dbd3e-4785-4d7e-9edc-530a42e8a8ec"
      },
      "execution_count": 277,
      "outputs": [
        {
          "output_type": "error",
          "ename": "TypeError",
          "evalue": "ignored",
          "traceback": [
            "\u001b[0;31m---------------------------------------------------------------------------\u001b[0m",
            "\u001b[0;31mTypeError\u001b[0m                                 Traceback (most recent call last)",
            "\u001b[0;32m<ipython-input-277-8a6fbf570a09>\u001b[0m in \u001b[0;36m<cell line: 1>\u001b[0;34m()\u001b[0m\n\u001b[0;32m----> 1\u001b[0;31m \u001b[0;32mfor\u001b[0m \u001b[0mi\u001b[0m \u001b[0;32min\u001b[0m \u001b[0mrange\u001b[0m\u001b[0;34m(\u001b[0m\u001b[0;36m15\u001b[0m\u001b[0;34m,\u001b[0m \u001b[0;36m5\u001b[0m\u001b[0;34m,\u001b[0m \u001b[0;34m-\u001b[0m\u001b[0;36m0.2\u001b[0m\u001b[0;34m)\u001b[0m\u001b[0;34m:\u001b[0m\u001b[0;34m\u001b[0m\u001b[0;34m\u001b[0m\u001b[0m\n\u001b[0m\u001b[1;32m      2\u001b[0m     \u001b[0mprint\u001b[0m\u001b[0;34m(\u001b[0m\u001b[0mi\u001b[0m\u001b[0;34m,\u001b[0m \u001b[0mend\u001b[0m \u001b[0;34m=\u001b[0m\u001b[0;34m\" \"\u001b[0m\u001b[0;34m)\u001b[0m\u001b[0;34m\u001b[0m\u001b[0;34m\u001b[0m\u001b[0m\n",
            "\u001b[0;31mTypeError\u001b[0m: 'float' object cannot be interpreted as an integer"
          ]
        }
      ]
    },
    {
      "cell_type": "code",
      "source": [
        "def frange(start, end = None, step = -1):\n",
        "    result = []\n",
        "    if end is None:\n",
        "        result = list(range(start))\n",
        "    if end is not None:\n",
        "        for i in range(start,end,step):\n",
        "            result.append(i)\n",
        "    print(result)"
      ],
      "metadata": {
        "id": "GxMmuWeA00qq"
      },
      "execution_count": 275,
      "outputs": []
    },
    {
      "cell_type": "code",
      "source": [
        "frange(10,1)"
      ],
      "metadata": {
        "colab": {
          "base_uri": "https://localhost:8080/"
        },
        "id": "D1JzfujC1WHL",
        "outputId": "9f5349bc-c02b-42e9-8c41-6bc5ac955161"
      },
      "execution_count": 276,
      "outputs": [
        {
          "output_type": "stream",
          "name": "stdout",
          "text": [
            "[10, 9, 8, 7, 6, 5, 4, 3, 2]\n"
          ]
        }
      ]
    },
    {
      "cell_type": "code",
      "source": [
        "def frange(*args):\n",
        "    result = []\n",
        "    if len(args) == 1:\n",
        "        start, stop, step = 0.0, float(args[0]), 1.0\n",
        "    if len(args) == 2:\n",
        "        start, stop, step = float(args[0]), float[args[1]], 1.0\n",
        "    if len(args) == 3:\n",
        "        start, stop, step = float(args[0]), float(args[1]), float(args[2])\n",
        "\n",
        "    for i in range(int(start), int(stop), int(step)):\n",
        "        result.append(i)\n",
        "    print(result)\n"
      ],
      "metadata": {
        "id": "_vOZQDAr1bfq"
      },
      "execution_count": 280,
      "outputs": []
    },
    {
      "cell_type": "code",
      "source": [
        "frange(1,19)"
      ],
      "metadata": {
        "colab": {
          "base_uri": "https://localhost:8080/",
          "height": 303
        },
        "id": "vax9sipC7OB1",
        "outputId": "a593aa3d-5337-4258-a0df-8b87bfbf6a18"
      },
      "execution_count": 281,
      "outputs": [
        {
          "output_type": "error",
          "ename": "TypeError",
          "evalue": "ignored",
          "traceback": [
            "\u001b[0;31m---------------------------------------------------------------------------\u001b[0m",
            "\u001b[0;31mTypeError\u001b[0m                                 Traceback (most recent call last)",
            "\u001b[0;32m<ipython-input-281-d07e8eefab42>\u001b[0m in \u001b[0;36m<cell line: 1>\u001b[0;34m()\u001b[0m\n\u001b[0;32m----> 1\u001b[0;31m \u001b[0mfrange\u001b[0m\u001b[0;34m(\u001b[0m\u001b[0;36m1\u001b[0m\u001b[0;34m,\u001b[0m\u001b[0;36m19\u001b[0m\u001b[0;34m)\u001b[0m\u001b[0;34m\u001b[0m\u001b[0;34m\u001b[0m\u001b[0m\n\u001b[0m",
            "\u001b[0;32m<ipython-input-280-c40fd5ffd52c>\u001b[0m in \u001b[0;36mfrange\u001b[0;34m(*args)\u001b[0m\n\u001b[1;32m      4\u001b[0m         \u001b[0mstart\u001b[0m\u001b[0;34m,\u001b[0m \u001b[0mstop\u001b[0m\u001b[0;34m,\u001b[0m \u001b[0mstep\u001b[0m \u001b[0;34m=\u001b[0m \u001b[0;36m0.0\u001b[0m\u001b[0;34m,\u001b[0m \u001b[0mfloat\u001b[0m\u001b[0;34m(\u001b[0m\u001b[0margs\u001b[0m\u001b[0;34m[\u001b[0m\u001b[0;36m0\u001b[0m\u001b[0;34m]\u001b[0m\u001b[0;34m)\u001b[0m\u001b[0;34m,\u001b[0m \u001b[0;36m1.0\u001b[0m\u001b[0;34m\u001b[0m\u001b[0;34m\u001b[0m\u001b[0m\n\u001b[1;32m      5\u001b[0m     \u001b[0;32mif\u001b[0m \u001b[0mlen\u001b[0m\u001b[0;34m(\u001b[0m\u001b[0margs\u001b[0m\u001b[0;34m)\u001b[0m \u001b[0;34m==\u001b[0m \u001b[0;36m2\u001b[0m\u001b[0;34m:\u001b[0m\u001b[0;34m\u001b[0m\u001b[0;34m\u001b[0m\u001b[0m\n\u001b[0;32m----> 6\u001b[0;31m         \u001b[0mstart\u001b[0m\u001b[0;34m,\u001b[0m \u001b[0mstop\u001b[0m\u001b[0;34m,\u001b[0m \u001b[0mstep\u001b[0m \u001b[0;34m=\u001b[0m \u001b[0mfloat\u001b[0m\u001b[0;34m(\u001b[0m\u001b[0margs\u001b[0m\u001b[0;34m[\u001b[0m\u001b[0;36m0\u001b[0m\u001b[0;34m]\u001b[0m\u001b[0;34m)\u001b[0m\u001b[0;34m,\u001b[0m \u001b[0mfloat\u001b[0m\u001b[0;34m[\u001b[0m\u001b[0margs\u001b[0m\u001b[0;34m[\u001b[0m\u001b[0;36m1\u001b[0m\u001b[0;34m]\u001b[0m\u001b[0;34m]\u001b[0m\u001b[0;34m,\u001b[0m \u001b[0;36m1.0\u001b[0m\u001b[0;34m\u001b[0m\u001b[0;34m\u001b[0m\u001b[0m\n\u001b[0m\u001b[1;32m      7\u001b[0m     \u001b[0;32mif\u001b[0m \u001b[0mlen\u001b[0m\u001b[0;34m(\u001b[0m\u001b[0margs\u001b[0m\u001b[0;34m)\u001b[0m \u001b[0;34m==\u001b[0m \u001b[0;36m3\u001b[0m\u001b[0;34m:\u001b[0m\u001b[0;34m\u001b[0m\u001b[0;34m\u001b[0m\u001b[0m\n\u001b[1;32m      8\u001b[0m         \u001b[0mstart\u001b[0m\u001b[0;34m,\u001b[0m \u001b[0mstop\u001b[0m\u001b[0;34m,\u001b[0m \u001b[0mstep\u001b[0m \u001b[0;34m=\u001b[0m \u001b[0mfloat\u001b[0m\u001b[0;34m(\u001b[0m\u001b[0margs\u001b[0m\u001b[0;34m[\u001b[0m\u001b[0;36m0\u001b[0m\u001b[0;34m]\u001b[0m\u001b[0;34m)\u001b[0m\u001b[0;34m,\u001b[0m \u001b[0mfloat\u001b[0m\u001b[0;34m(\u001b[0m\u001b[0margs\u001b[0m\u001b[0;34m[\u001b[0m\u001b[0;36m1\u001b[0m\u001b[0;34m]\u001b[0m\u001b[0;34m)\u001b[0m\u001b[0;34m,\u001b[0m \u001b[0mfloat\u001b[0m\u001b[0;34m(\u001b[0m\u001b[0margs\u001b[0m\u001b[0;34m[\u001b[0m\u001b[0;36m2\u001b[0m\u001b[0;34m]\u001b[0m\u001b[0;34m)\u001b[0m\u001b[0;34m\u001b[0m\u001b[0;34m\u001b[0m\u001b[0m\n",
            "\u001b[0;31mTypeError\u001b[0m: 'type' object is not subscriptable"
          ]
        }
      ]
    },
    {
      "cell_type": "code",
      "source": [
        "#내가 만들다 만 코드\n",
        "def frange(*args):\n",
        "    result = []\n",
        "    if len(args) == 1:\n",
        "        start, stop, step = 0.0, float(args[0]), 1.0\n",
        "    if len(args) == 2:\n",
        "        start, stop, step = float(args[0]), float(args[1]), 1.0\n",
        "    if len(args) == 3:\n",
        "        start, stop, step = float(args[0]), float(args[1]), float(args[2])\n",
        "\n",
        "    if int(start) > int(stop):\n",
        "        for i in range(int(start),int(stop)-1,-1):\n",
        "            result.append(i)\n",
        "            for j in range(len(result)):\n",
        "                result.append(result[j]-int(step))\n",
        "    else:\n",
        "        for i in range(int(start),int(stop)):\n",
        "            result.append(i)\n",
        "\n",
        "    print(result)"
      ],
      "metadata": {
        "id": "XgN4qakC7Py6"
      },
      "execution_count": 309,
      "outputs": []
    },
    {
      "cell_type": "markdown",
      "source": [
        "for i in range(15, 5, -1):\n",
        "    print(i, end =\" \")"
      ],
      "metadata": {
        "id": "3lYwFhKE9dtg"
      }
    },
    {
      "cell_type": "code",
      "source": [
        "frange(4)"
      ],
      "metadata": {
        "colab": {
          "base_uri": "https://localhost:8080/"
        },
        "id": "H5741dn67z_y",
        "outputId": "b0582c2a-d01d-482c-915e-a0efe7dcc621"
      },
      "execution_count": 307,
      "outputs": [
        {
          "output_type": "stream",
          "name": "stdout",
          "text": [
            "[0, 1, 2, 3]\n"
          ]
        }
      ]
    },
    {
      "cell_type": "code",
      "source": [
        "frange(10,1)"
      ],
      "metadata": {
        "colab": {
          "base_uri": "https://localhost:8080/"
        },
        "id": "lAYNPGSv717B",
        "outputId": "14ad25f6-1c7b-4b3c-d75e-f3628e89165e"
      },
      "execution_count": 308,
      "outputs": [
        {
          "output_type": "stream",
          "name": "stdout",
          "text": [
            "[10, 9, 8, 7, 6, 5, 4, 3, 2, 1]\n"
          ]
        }
      ]
    },
    {
      "cell_type": "code",
      "source": [
        "frange(10,1,1)"
      ],
      "metadata": {
        "colab": {
          "base_uri": "https://localhost:8080/"
        },
        "id": "aVbrtfeD73MA",
        "outputId": "f96733be-b07a-4895-9777-17d04e2d10c6"
      },
      "execution_count": 310,
      "outputs": [
        {
          "output_type": "stream",
          "name": "stdout",
          "text": [
            "[10, 9, 9, 9, 8, 8, 8, 9, 8, 8, 8, 7, 7, 7, 7, 9, 8, 8, 8, 7, 7, 7, 8, 7, 7, 7, 6, 6, 6, 6, 6, 9, 8, 8, 8, 7, 7, 7, 8, 7, 7, 7, 6, 6, 6, 6, 8, 7, 7, 7, 6, 6, 6, 7, 6, 6, 6, 5, 5, 5, 5, 5, 5, 9, 8, 8, 8, 7, 7, 7, 8, 7, 7, 7, 6, 6, 6, 6, 8, 7, 7, 7, 6, 6, 6, 7, 6, 6, 6, 5, 5, 5, 5, 5, 8, 7, 7, 7, 6, 6, 6, 7, 6, 6, 6, 5, 5, 5, 5, 7, 6, 6, 6, 5, 5, 5, 6, 5, 5, 5, 4, 4, 4, 4, 4, 4, 4, 9, 8, 8, 8, 7, 7, 7, 8, 7, 7, 7, 6, 6, 6, 6, 8, 7, 7, 7, 6, 6, 6, 7, 6, 6, 6, 5, 5, 5, 5, 5, 8, 7, 7, 7, 6, 6, 6, 7, 6, 6, 6, 5, 5, 5, 5, 7, 6, 6, 6, 5, 5, 5, 6, 5, 5, 5, 4, 4, 4, 4, 4, 4, 8, 7, 7, 7, 6, 6, 6, 7, 6, 6, 6, 5, 5, 5, 5, 7, 6, 6, 6, 5, 5, 5, 6, 5, 5, 5, 4, 4, 4, 4, 4, 7, 6, 6, 6, 5, 5, 5, 6, 5, 5, 5, 4, 4, 4, 4, 6, 5, 5, 5, 4, 4, 4, 5, 4, 4, 4, 3, 3, 3, 3, 3, 3, 3, 3, 9, 8, 8, 8, 7, 7, 7, 8, 7, 7, 7, 6, 6, 6, 6, 8, 7, 7, 7, 6, 6, 6, 7, 6, 6, 6, 5, 5, 5, 5, 5, 8, 7, 7, 7, 6, 6, 6, 7, 6, 6, 6, 5, 5, 5, 5, 7, 6, 6, 6, 5, 5, 5, 6, 5, 5, 5, 4, 4, 4, 4, 4, 4, 8, 7, 7, 7, 6, 6, 6, 7, 6, 6, 6, 5, 5, 5, 5, 7, 6, 6, 6, 5, 5, 5, 6, 5, 5, 5, 4, 4, 4, 4, 4, 7, 6, 6, 6, 5, 5, 5, 6, 5, 5, 5, 4, 4, 4, 4, 6, 5, 5, 5, 4, 4, 4, 5, 4, 4, 4, 3, 3, 3, 3, 3, 3, 3, 8, 7, 7, 7, 6, 6, 6, 7, 6, 6, 6, 5, 5, 5, 5, 7, 6, 6, 6, 5, 5, 5, 6, 5, 5, 5, 4, 4, 4, 4, 4, 7, 6, 6, 6, 5, 5, 5, 6, 5, 5, 5, 4, 4, 4, 4, 6, 5, 5, 5, 4, 4, 4, 5, 4, 4, 4, 3, 3, 3, 3, 3, 3, 7, 6, 6, 6, 5, 5, 5, 6, 5, 5, 5, 4, 4, 4, 4, 6, 5, 5, 5, 4, 4, 4, 5, 4, 4, 4, 3, 3, 3, 3, 3, 6, 5, 5, 5, 4, 4, 4, 5, 4, 4, 4, 3, 3, 3, 3, 5, 4, 4, 4, 3, 3, 3, 4, 3, 3, 3, 2, 2, 2, 2, 2, 2, 2, 2, 2, 9, 8, 8, 8, 7, 7, 7, 8, 7, 7, 7, 6, 6, 6, 6, 8, 7, 7, 7, 6, 6, 6, 7, 6, 6, 6, 5, 5, 5, 5, 5, 8, 7, 7, 7, 6, 6, 6, 7, 6, 6, 6, 5, 5, 5, 5, 7, 6, 6, 6, 5, 5, 5, 6, 5, 5, 5, 4, 4, 4, 4, 4, 4, 8, 7, 7, 7, 6, 6, 6, 7, 6, 6, 6, 5, 5, 5, 5, 7, 6, 6, 6, 5, 5, 5, 6, 5, 5, 5, 4, 4, 4, 4, 4, 7, 6, 6, 6, 5, 5, 5, 6, 5, 5, 5, 4, 4, 4, 4, 6, 5, 5, 5, 4, 4, 4, 5, 4, 4, 4, 3, 3, 3, 3, 3, 3, 3, 8, 7, 7, 7, 6, 6, 6, 7, 6, 6, 6, 5, 5, 5, 5, 7, 6, 6, 6, 5, 5, 5, 6, 5, 5, 5, 4, 4, 4, 4, 4, 7, 6, 6, 6, 5, 5, 5, 6, 5, 5, 5, 4, 4, 4, 4, 6, 5, 5, 5, 4, 4, 4, 5, 4, 4, 4, 3, 3, 3, 3, 3, 3, 7, 6, 6, 6, 5, 5, 5, 6, 5, 5, 5, 4, 4, 4, 4, 6, 5, 5, 5, 4, 4, 4, 5, 4, 4, 4, 3, 3, 3, 3, 3, 6, 5, 5, 5, 4, 4, 4, 5, 4, 4, 4, 3, 3, 3, 3, 5, 4, 4, 4, 3, 3, 3, 4, 3, 3, 3, 2, 2, 2, 2, 2, 2, 2, 2, 8, 7, 7, 7, 6, 6, 6, 7, 6, 6, 6, 5, 5, 5, 5, 7, 6, 6, 6, 5, 5, 5, 6, 5, 5, 5, 4, 4, 4, 4, 4, 7, 6, 6, 6, 5, 5, 5, 6, 5, 5, 5, 4, 4, 4, 4, 6, 5, 5, 5, 4, 4, 4, 5, 4, 4, 4, 3, 3, 3, 3, 3, 3, 7, 6, 6, 6, 5, 5, 5, 6, 5, 5, 5, 4, 4, 4, 4, 6, 5, 5, 5, 4, 4, 4, 5, 4, 4, 4, 3, 3, 3, 3, 3, 6, 5, 5, 5, 4, 4, 4, 5, 4, 4, 4, 3, 3, 3, 3, 5, 4, 4, 4, 3, 3, 3, 4, 3, 3, 3, 2, 2, 2, 2, 2, 2, 2, 7, 6, 6, 6, 5, 5, 5, 6, 5, 5, 5, 4, 4, 4, 4, 6, 5, 5, 5, 4, 4, 4, 5, 4, 4, 4, 3, 3, 3, 3, 3, 6, 5, 5, 5, 4, 4, 4, 5, 4, 4, 4, 3, 3, 3, 3, 5, 4, 4, 4, 3, 3, 3, 4, 3, 3, 3, 2, 2, 2, 2, 2, 2, 6, 5, 5, 5, 4, 4, 4, 5, 4, 4, 4, 3, 3, 3, 3, 5, 4, 4, 4, 3, 3, 3, 4, 3, 3, 3, 2, 2, 2, 2, 2, 5, 4, 4, 4, 3, 3, 3, 4, 3, 3, 3, 2, 2, 2, 2, 4, 3, 3, 3, 2, 2, 2, 3, 2, 2, 2, 1, 1, 1, 1, 1, 1, 1, 1, 1, 1, 9, 8, 8, 8, 7, 7, 7, 8, 7, 7, 7, 6, 6, 6, 6, 8, 7, 7, 7, 6, 6, 6, 7, 6, 6, 6, 5, 5, 5, 5, 5, 8, 7, 7, 7, 6, 6, 6, 7, 6, 6, 6, 5, 5, 5, 5, 7, 6, 6, 6, 5, 5, 5, 6, 5, 5, 5, 4, 4, 4, 4, 4, 4, 8, 7, 7, 7, 6, 6, 6, 7, 6, 6, 6, 5, 5, 5, 5, 7, 6, 6, 6, 5, 5, 5, 6, 5, 5, 5, 4, 4, 4, 4, 4, 7, 6, 6, 6, 5, 5, 5, 6, 5, 5, 5, 4, 4, 4, 4, 6, 5, 5, 5, 4, 4, 4, 5, 4, 4, 4, 3, 3, 3, 3, 3, 3, 3, 8, 7, 7, 7, 6, 6, 6, 7, 6, 6, 6, 5, 5, 5, 5, 7, 6, 6, 6, 5, 5, 5, 6, 5, 5, 5, 4, 4, 4, 4, 4, 7, 6, 6, 6, 5, 5, 5, 6, 5, 5, 5, 4, 4, 4, 4, 6, 5, 5, 5, 4, 4, 4, 5, 4, 4, 4, 3, 3, 3, 3, 3, 3, 7, 6, 6, 6, 5, 5, 5, 6, 5, 5, 5, 4, 4, 4, 4, 6, 5, 5, 5, 4, 4, 4, 5, 4, 4, 4, 3, 3, 3, 3, 3, 6, 5, 5, 5, 4, 4, 4, 5, 4, 4, 4, 3, 3, 3, 3, 5, 4, 4, 4, 3, 3, 3, 4, 3, 3, 3, 2, 2, 2, 2, 2, 2, 2, 2, 8, 7, 7, 7, 6, 6, 6, 7, 6, 6, 6, 5, 5, 5, 5, 7, 6, 6, 6, 5, 5, 5, 6, 5, 5, 5, 4, 4, 4, 4, 4, 7, 6, 6, 6, 5, 5, 5, 6, 5, 5, 5, 4, 4, 4, 4, 6, 5, 5, 5, 4, 4, 4, 5, 4, 4, 4, 3, 3, 3, 3, 3, 3, 7, 6, 6, 6, 5, 5, 5, 6, 5, 5, 5, 4, 4, 4, 4, 6, 5, 5, 5, 4, 4, 4, 5, 4, 4, 4, 3, 3, 3, 3, 3, 6, 5, 5, 5, 4, 4, 4, 5, 4, 4, 4, 3, 3, 3, 3, 5, 4, 4, 4, 3, 3, 3, 4, 3, 3, 3, 2, 2, 2, 2, 2, 2, 2, 7, 6, 6, 6, 5, 5, 5, 6, 5, 5, 5, 4, 4, 4, 4, 6, 5, 5, 5, 4, 4, 4, 5, 4, 4, 4, 3, 3, 3, 3, 3, 6, 5, 5, 5, 4, 4, 4, 5, 4, 4, 4, 3, 3, 3, 3, 5, 4, 4, 4, 3, 3, 3, 4, 3, 3, 3, 2, 2, 2, 2, 2, 2, 6, 5, 5, 5, 4, 4, 4, 5, 4, 4, 4, 3, 3, 3, 3, 5, 4, 4, 4, 3, 3, 3, 4, 3, 3, 3, 2, 2, 2, 2, 2, 5, 4, 4, 4, 3, 3, 3, 4, 3, 3, 3, 2, 2, 2, 2, 4, 3, 3, 3, 2, 2, 2, 3, 2, 2, 2, 1, 1, 1, 1, 1, 1, 1, 1, 1, 8, 7, 7, 7, 6, 6, 6, 7, 6, 6, 6, 5, 5, 5, 5, 7, 6, 6, 6, 5, 5, 5, 6, 5, 5, 5, 4, 4, 4, 4, 4, 7, 6, 6, 6, 5, 5, 5, 6, 5, 5, 5, 4, 4, 4, 4, 6, 5, 5, 5, 4, 4, 4, 5, 4, 4, 4, 3, 3, 3, 3, 3, 3, 7, 6, 6, 6, 5, 5, 5, 6, 5, 5, 5, 4, 4, 4, 4, 6, 5, 5, 5, 4, 4, 4, 5, 4, 4, 4, 3, 3, 3, 3, 3, 6, 5, 5, 5, 4, 4, 4, 5, 4, 4, 4, 3, 3, 3, 3, 5, 4, 4, 4, 3, 3, 3, 4, 3, 3, 3, 2, 2, 2, 2, 2, 2, 2, 7, 6, 6, 6, 5, 5, 5, 6, 5, 5, 5, 4, 4, 4, 4, 6, 5, 5, 5, 4, 4, 4, 5, 4, 4, 4, 3, 3, 3, 3, 3, 6, 5, 5, 5, 4, 4, 4, 5, 4, 4, 4, 3, 3, 3, 3, 5, 4, 4, 4, 3, 3, 3, 4, 3, 3, 3, 2, 2, 2, 2, 2, 2, 6, 5, 5, 5, 4, 4, 4, 5, 4, 4, 4, 3, 3, 3, 3, 5, 4, 4, 4, 3, 3, 3, 4, 3, 3, 3, 2, 2, 2, 2, 2, 5, 4, 4, 4, 3, 3, 3, 4, 3, 3, 3, 2, 2, 2, 2, 4, 3, 3, 3, 2, 2, 2, 3, 2, 2, 2, 1, 1, 1, 1, 1, 1, 1, 1, 7, 6, 6, 6, 5, 5, 5, 6, 5, 5, 5, 4, 4, 4, 4, 6, 5, 5, 5, 4, 4, 4, 5, 4, 4, 4, 3, 3, 3, 3, 3, 6, 5, 5, 5, 4, 4, 4, 5, 4, 4, 4, 3, 3, 3, 3, 5, 4, 4, 4, 3, 3, 3, 4, 3, 3, 3, 2, 2, 2, 2, 2, 2, 6, 5, 5, 5, 4, 4, 4, 5, 4, 4, 4, 3, 3, 3, 3, 5, 4, 4, 4, 3, 3, 3, 4, 3, 3, 3, 2, 2, 2, 2, 2, 5, 4, 4, 4, 3, 3, 3, 4, 3, 3, 3, 2, 2, 2, 2, 4, 3, 3, 3, 2, 2, 2, 3, 2, 2, 2, 1, 1, 1, 1, 1, 1, 1, 6, 5, 5, 5, 4, 4, 4, 5, 4, 4, 4, 3, 3, 3, 3, 5, 4, 4, 4, 3, 3, 3, 4, 3, 3, 3, 2, 2, 2, 2, 2, 5, 4, 4, 4, 3, 3, 3, 4, 3, 3, 3, 2, 2, 2, 2, 4, 3, 3, 3, 2, 2, 2, 3, 2, 2, 2, 1, 1, 1, 1, 1, 1, 5, 4, 4, 4, 3, 3, 3, 4, 3, 3, 3, 2, 2, 2, 2, 4, 3, 3, 3, 2, 2, 2, 3, 2, 2, 2, 1, 1, 1, 1, 1, 4, 3, 3, 3, 2, 2, 2, 3, 2, 2, 2, 1, 1, 1, 1, 3, 2, 2, 2, 1, 1, 1, 2, 1, 1, 1, 0, 0, 0, 0, 0, 0, 0, 0, 0, 0]\n"
          ]
        }
      ]
    },
    {
      "cell_type": "code",
      "source": [
        "#강사님 코드\n",
        "\n",
        "def frange(arg1, *args):\n",
        "    if len(args) == 0 :\n",
        "        start, stop ,step = 0.0, float(arg1), 1.0\n",
        "    if len(args) == 1 :\n",
        "        start, stop, step = float(arg1), float(args[0]), 1.0\n",
        "    if len(args) == 2 :\n",
        "        start, stop, step = float(arg1), float(args[0]), float(args[1])\n",
        "\n",
        "    result = []\n",
        "    v = start\n",
        "    if step > 0:\n",
        "        while v < stop:\n",
        "            result.append(v)\n",
        "            v += step\n",
        "    elif step < 0:\n",
        "        while v > stop:\n",
        "            result.append(v)\n",
        "            v += step\n",
        "\n",
        "    return result"
      ],
      "metadata": {
        "id": "GfyBclsa75gF"
      },
      "execution_count": 337,
      "outputs": []
    },
    {
      "cell_type": "code",
      "source": [
        "3-0.2-0.2"
      ],
      "metadata": {
        "colab": {
          "base_uri": "https://localhost:8080/"
        },
        "id": "hbs7LhMLENUn",
        "outputId": "df25b6a6-2973-42bf-ddcb-16dcd281b69d"
      },
      "execution_count": 341,
      "outputs": [
        {
          "output_type": "execute_result",
          "data": {
            "text/plain": [
              "2.5999999999999996"
            ]
          },
          "metadata": {},
          "execution_count": 341
        }
      ]
    },
    {
      "cell_type": "code",
      "source": [
        "frange(4)"
      ],
      "metadata": {
        "colab": {
          "base_uri": "https://localhost:8080/"
        },
        "id": "Zmzu18ySCl5m",
        "outputId": "a6ee5b8e-d906-4f7f-f7dc-153c9e5af202"
      },
      "execution_count": 333,
      "outputs": [
        {
          "output_type": "execute_result",
          "data": {
            "text/plain": [
              "[0.0, 1.0, 2.0, 3.0]"
            ]
          },
          "metadata": {},
          "execution_count": 333
        }
      ]
    },
    {
      "cell_type": "code",
      "source": [
        "round(3.14567,1)"
      ],
      "metadata": {
        "colab": {
          "base_uri": "https://localhost:8080/"
        },
        "id": "ClpjvjHQDfBn",
        "outputId": "c6226387-7930-43c2-be3d-55381e92598f"
      },
      "execution_count": 334,
      "outputs": [
        {
          "output_type": "execute_result",
          "data": {
            "text/plain": [
              "3.1"
            ]
          },
          "metadata": {},
          "execution_count": 334
        }
      ]
    },
    {
      "cell_type": "code",
      "source": [
        "frange(1,3)"
      ],
      "metadata": {
        "colab": {
          "base_uri": "https://localhost:8080/"
        },
        "id": "zpBXDGxBCoVJ",
        "outputId": "3413228b-46eb-4276-f7a7-fc782ae8d97f"
      },
      "execution_count": 335,
      "outputs": [
        {
          "output_type": "execute_result",
          "data": {
            "text/plain": [
              "[1.0, 2.0]"
            ]
          },
          "metadata": {},
          "execution_count": 335
        }
      ]
    },
    {
      "cell_type": "code",
      "source": [
        "frange(3,1,-0.2)"
      ],
      "metadata": {
        "colab": {
          "base_uri": "https://localhost:8080/"
        },
        "id": "iDxKn8WNCpzW",
        "outputId": "b2b6f293-869d-4b30-f683-a31b7ce0656e"
      },
      "execution_count": 336,
      "outputs": [
        {
          "output_type": "execute_result",
          "data": {
            "text/plain": [
              "[3.0,\n",
              " 2.8,\n",
              " 2.5999999999999996,\n",
              " 2.3999999999999995,\n",
              " 2.1999999999999993,\n",
              " 1.9999999999999993,\n",
              " 1.7999999999999994,\n",
              " 1.5999999999999994,\n",
              " 1.3999999999999995,\n",
              " 1.1999999999999995]"
            ]
          },
          "metadata": {},
          "execution_count": 336
        }
      ]
    },
    {
      "cell_type": "markdown",
      "source": [
        "1 모듈의 다양한 import 방법\n",
        "\n",
        "1-1 모듈 import 하기\n",
        "\n",
        "1) import 모듈명\n",
        "    - 가장 기본적인 형태\n",
        "        \n",
        "        -현재의 이름 공간에 mymath 이름이 유지되므로 mymath.area() 형태로 자격 이름 사용"
      ],
      "metadata": {
        "id": "LEcybr7xEwqP"
      }
    },
    {
      "cell_type": "code",
      "source": [
        "%%writefile mymath.py\n",
        "mypi = 3.14\n",
        "\n",
        "def add(a,b):\n",
        "    return a+b\n",
        "\n",
        "def area(r):\n",
        "    return mypi*r*r\n"
      ],
      "metadata": {
        "colab": {
          "base_uri": "https://localhost:8080/"
        },
        "id": "HLEQxB6lDA5u",
        "outputId": "0aaec427-5cbf-461e-f558-cc5bb3be01aa"
      },
      "execution_count": 342,
      "outputs": [
        {
          "output_type": "stream",
          "name": "stdout",
          "text": [
            "Writing mymath.py\n"
          ]
        }
      ]
    },
    {
      "cell_type": "code",
      "source": [
        "ls"
      ],
      "metadata": {
        "colab": {
          "base_uri": "https://localhost:8080/"
        },
        "id": "g5qye80LFSRT",
        "outputId": "ae647338-f064-4d0e-de1c-5fe323612c58"
      },
      "execution_count": 343,
      "outputs": [
        {
          "output_type": "stream",
          "name": "stdout",
          "text": [
            "mymath.py  \u001b[0m\u001b[01;34msample_data\u001b[0m/\n"
          ]
        }
      ]
    },
    {
      "cell_type": "code",
      "source": [
        "import mymath"
      ],
      "metadata": {
        "id": "LvdIk4myFS_N"
      },
      "execution_count": 344,
      "outputs": []
    },
    {
      "cell_type": "code",
      "source": [
        "dir()"
      ],
      "metadata": {
        "id": "frarUd8YFVJb"
      },
      "execution_count": null,
      "outputs": []
    },
    {
      "cell_type": "code",
      "source": [
        "mymath.area(5)"
      ],
      "metadata": {
        "colab": {
          "base_uri": "https://localhost:8080/"
        },
        "id": "9778floeFVwb",
        "outputId": "6c1de83d-d048-4438-f254-6228b0117ee7"
      },
      "execution_count": 346,
      "outputs": [
        {
          "output_type": "execute_result",
          "data": {
            "text/plain": [
              "78.5"
            ]
          },
          "metadata": {},
          "execution_count": 346
        }
      ]
    },
    {
      "cell_type": "markdown",
      "source": [
        "2) from 모듈명 import 이름들\n",
        "\n",
        " - 해당 모듈에 존재하는 지정 이름들을 현재 이름 공간으로 불러들인다.\n",
        "\n",
        " - 불러들인 각 이름들은 모듈 이름 없이 직접 사용 가능하다.\n",
        "\n",
        " - import 하는 이름들이 기존에 미리 존재하고 있었다면 그 이름들에 의해 참조되던 기존 객체들은 상실된다.\n",
        "  "
      ],
      "metadata": {
        "id": "rssO4Y9EF6FO"
      }
    },
    {
      "cell_type": "code",
      "source": [
        "from mymath import area, mypi\n",
        "print(area(5))"
      ],
      "metadata": {
        "colab": {
          "base_uri": "https://localhost:8080/"
        },
        "id": "0MtFV2NvF2LK",
        "outputId": "3a6df4ec-e3db-47d6-c6eb-b7d2087ad02e"
      },
      "execution_count": 348,
      "outputs": [
        {
          "output_type": "stream",
          "name": "stdout",
          "text": [
            "78.5\n"
          ]
        }
      ]
    },
    {
      "cell_type": "code",
      "source": [
        "mypi"
      ],
      "metadata": {
        "colab": {
          "base_uri": "https://localhost:8080/"
        },
        "id": "N2xARZDmGEkD",
        "outputId": "06a4b6cb-97c8-4953-8e4f-a5599407da8c"
      },
      "execution_count": 349,
      "outputs": [
        {
          "output_type": "execute_result",
          "data": {
            "text/plain": [
              "3.14"
            ]
          },
          "metadata": {},
          "execution_count": 349
        }
      ]
    },
    {
      "cell_type": "code",
      "source": [
        "cat mymath.py"
      ],
      "metadata": {
        "colab": {
          "base_uri": "https://localhost:8080/"
        },
        "id": "99t7hIKbGGM6",
        "outputId": "90d31f8b-36a2-400b-97e6-f8cdc792b250"
      },
      "execution_count": 350,
      "outputs": [
        {
          "output_type": "stream",
          "name": "stdout",
          "text": [
            "mypi = 3.14\n",
            "\n",
            "def add(a,b):\n",
            "    return a+b\n",
            "\n",
            "def area(r):\n",
            "    return mypi*r*r\n"
          ]
        }
      ]
    },
    {
      "cell_type": "code",
      "source": [
        "from mymath import *"
      ],
      "metadata": {
        "id": "OanKLTJ5GIMA"
      },
      "execution_count": 351,
      "outputs": []
    },
    {
      "cell_type": "code",
      "source": [
        "mypi"
      ],
      "metadata": {
        "colab": {
          "base_uri": "https://localhost:8080/"
        },
        "id": "wq2Zi5ygGNni",
        "outputId": "7675ebea-89a0-43f7-be80-9705137cb31d"
      },
      "execution_count": 352,
      "outputs": [
        {
          "output_type": "execute_result",
          "data": {
            "text/plain": [
              "3.14"
            ]
          },
          "metadata": {},
          "execution_count": 352
        }
      ]
    },
    {
      "cell_type": "markdown",
      "source": [
        "3)"
      ],
      "metadata": {
        "id": "CiUNHBg8Gjey"
      }
    },
    {
      "cell_type": "markdown",
      "source": [
        "4) import 모듈명 as 새로운 모듈 이름\n",
        "\n",
        " - 해당 모듈을 새로운 다른 이름으로 사용하고자 할때 사용\n",
        "\n",
        " - 기존 모듈 이름이 너무 길거나 현재 사용중인 다른 이름들과 충돌이 일어날때 유용"
      ],
      "metadata": {
        "id": "BI5jRZnPGlEt"
      }
    },
    {
      "cell_type": "code",
      "source": [
        "import string as chstr"
      ],
      "metadata": {
        "id": "zaFPlaG3GOWB"
      },
      "execution_count": 354,
      "outputs": []
    },
    {
      "cell_type": "code",
      "source": [
        "chstr"
      ],
      "metadata": {
        "colab": {
          "base_uri": "https://localhost:8080/"
        },
        "id": "OSsFmaKHG0D_",
        "outputId": "9567e4ed-ade8-4cfb-d896-c6e9c4252874"
      },
      "execution_count": 355,
      "outputs": [
        {
          "output_type": "execute_result",
          "data": {
            "text/plain": [
              "<module 'string' from '/usr/lib/python3.10/string.py'>"
            ]
          },
          "metadata": {},
          "execution_count": 355
        }
      ]
    },
    {
      "cell_type": "markdown",
      "source": [
        "모듈 이름 == py 파일의 파일 이름"
      ],
      "metadata": {
        "id": "JLI971McG65X"
      }
    },
    {
      "cell_type": "code",
      "source": [
        "chstr.punctuation"
      ],
      "metadata": {
        "colab": {
          "base_uri": "https://localhost:8080/",
          "height": 35
        },
        "id": "VypSmncTG3Fy",
        "outputId": "487c6921-c97c-4bee-ff65-942f22e5df0e"
      },
      "execution_count": 356,
      "outputs": [
        {
          "output_type": "execute_result",
          "data": {
            "text/plain": [
              "'!\"#$%&\\'()*+,-./:;<=>?@[\\\\]^_`{|}~'"
            ],
            "application/vnd.google.colaboratory.intrinsic+json": {
              "type": "string"
            }
          },
          "metadata": {},
          "execution_count": 356
        }
      ]
    },
    {
      "cell_type": "markdown",
      "source": [
        "5) from 모듈명 import 이름 as 새로운 이름[, 이름 as 새로운 이름]\n",
        "\n",
        " - 해당 모듈 내에 정의된 이름을 다른 새로운 이름으로 사용하고자 할 때 사용"
      ],
      "metadata": {
        "id": "VnO9K6XOHHgs"
      }
    },
    {
      "cell_type": "code",
      "source": [
        "from string import punctuation as punc\n",
        "print(punc)"
      ],
      "metadata": {
        "colab": {
          "base_uri": "https://localhost:8080/"
        },
        "id": "CYhIS-BFHDDh",
        "outputId": "ba433b39-eb04-4957-ef02-397b15ecf19e"
      },
      "execution_count": 357,
      "outputs": [
        {
          "output_type": "stream",
          "name": "stdout",
          "text": [
            "!\"#$%&'()*+,-./:;<=>?@[\\]^_`{|}~\n"
          ]
        }
      ]
    },
    {
      "cell_type": "code",
      "source": [
        "from math import floor as flr, ceil as cil"
      ],
      "metadata": {
        "id": "bgvUqwABHWTQ"
      },
      "execution_count": 359,
      "outputs": []
    },
    {
      "cell_type": "code",
      "source": [
        "flr(4.5)"
      ],
      "metadata": {
        "colab": {
          "base_uri": "https://localhost:8080/"
        },
        "id": "HgPKjucLHmAY",
        "outputId": "c10990b0-5692-42e5-e52b-c10b0c0c6409"
      },
      "execution_count": 360,
      "outputs": [
        {
          "output_type": "execute_result",
          "data": {
            "text/plain": [
              "4"
            ]
          },
          "metadata": {},
          "execution_count": 360
        }
      ]
    },
    {
      "cell_type": "code",
      "source": [
        "cil(4.5)"
      ],
      "metadata": {
        "colab": {
          "base_uri": "https://localhost:8080/"
        },
        "id": "NzHRhBrfHo9o",
        "outputId": "77f53842-7661-43b4-b6f1-2482cd6d69f3"
      },
      "execution_count": 361,
      "outputs": [
        {
          "output_type": "execute_result",
          "data": {
            "text/plain": [
              "5"
            ]
          },
          "metadata": {},
          "execution_count": 361
        }
      ]
    },
    {
      "cell_type": "code",
      "source": [
        "from math import floor, ceil"
      ],
      "metadata": {
        "id": "iQk9edzcHqpw"
      },
      "execution_count": 362,
      "outputs": []
    },
    {
      "cell_type": "code",
      "source": [
        "def str_test():\n",
        "    import string\n",
        "    print(string.punctuation)"
      ],
      "metadata": {
        "id": "IujnIVrGHywX"
      },
      "execution_count": 371,
      "outputs": []
    },
    {
      "cell_type": "code",
      "source": [
        "str_test()"
      ],
      "metadata": {
        "colab": {
          "base_uri": "https://localhost:8080/"
        },
        "id": "vvk7xm8qIStX",
        "outputId": "31850a4c-9fb7-4ade-c422-6a7c6b28473b"
      },
      "execution_count": 372,
      "outputs": [
        {
          "output_type": "stream",
          "name": "stdout",
          "text": [
            "!\"#$%&'()*+,-./:;<=>?@[\\]^_`{|}~\n"
          ]
        }
      ]
    },
    {
      "cell_type": "markdown",
      "source": [
        "### import에 의한 모듈 코드 수행"
      ],
      "metadata": {
        "id": "qJanaUhXI655"
      }
    },
    {
      "cell_type": "code",
      "source": [
        "%%writefile mymath.py\n",
        "mypi = 3.14\n",
        "\n",
        "def add(a,b):\n",
        "    return a+b\n",
        "\n",
        "def area(r):\n",
        "    return mypi*r*r\n",
        "\n",
        "if __name__ == \"__main__\":\n",
        "    print(area(4.0))"
      ],
      "metadata": {
        "colab": {
          "base_uri": "https://localhost:8080/"
        },
        "id": "tl1_z_c7IZyX",
        "outputId": "f9b9f711-ea88-4a3b-aaa8-17ae32e796c2"
      },
      "execution_count": 6,
      "outputs": [
        {
          "output_type": "stream",
          "name": "stdout",
          "text": [
            "Overwriting mymath.py\n"
          ]
        }
      ]
    },
    {
      "cell_type": "code",
      "source": [
        "cat mypath.py"
      ],
      "metadata": {
        "colab": {
          "base_uri": "https://localhost:8080/"
        },
        "id": "OOBwiZMZJN5e",
        "outputId": "26bc3814-0ee1-4289-a0f1-80f0771fbbe5"
      },
      "execution_count": 3,
      "outputs": [
        {
          "output_type": "stream",
          "name": "stdout",
          "text": [
            "cat: mypath.py: No such file or directory\n"
          ]
        }
      ]
    },
    {
      "cell_type": "code",
      "source": [
        "import mymath"
      ],
      "metadata": {
        "id": "xaRt3CziJPll"
      },
      "execution_count": 4,
      "outputs": []
    },
    {
      "cell_type": "code",
      "source": [
        "ls"
      ],
      "metadata": {
        "colab": {
          "base_uri": "https://localhost:8080/"
        },
        "id": "XAeqkBSTJQ0O",
        "outputId": "871e99e6-7756-4843-d428-4037c09dbc37"
      },
      "execution_count": 1,
      "outputs": [
        {
          "output_type": "stream",
          "name": "stdout",
          "text": [
            "\u001b[0m\u001b[01;34msample_data\u001b[0m/\n"
          ]
        }
      ]
    },
    {
      "cell_type": "code",
      "source": [
        "%run mymath.py"
      ],
      "metadata": {
        "id": "3GOYQlGcJiS-"
      },
      "execution_count": 4,
      "outputs": []
    },
    {
      "cell_type": "code",
      "source": [
        "%%shell\n",
        "python mymath.py"
      ],
      "metadata": {
        "colab": {
          "base_uri": "https://localhost:8080/"
        },
        "id": "_qzmYfDGKO5s",
        "outputId": "c924c492-0a9e-45cf-82be-c7f6252a8f9b"
      },
      "execution_count": 5,
      "outputs": [
        {
          "output_type": "execute_result",
          "data": {
            "text/plain": []
          },
          "metadata": {},
          "execution_count": 5
        }
      ]
    },
    {
      "cell_type": "code",
      "source": [
        "%%writefile modu.py\n",
        "def add(a,b):\n",
        "    return a + b\n",
        "\n",
        "def f():\n",
        "    print(\"Python is becoming popular.\")\n",
        "\n",
        "if \"__main__\" == __name__:\n",
        "    print(add(1, 10))\n",
        "    f()"
      ],
      "metadata": {
        "colab": {
          "base_uri": "https://localhost:8080/"
        },
        "id": "rH311ktEKTZ8",
        "outputId": "b517405b-ccf4-40e9-904c-43136e538f15"
      },
      "execution_count": 12,
      "outputs": [
        {
          "output_type": "stream",
          "name": "stdout",
          "text": [
            "Overwriting modu.py\n"
          ]
        }
      ]
    },
    {
      "cell_type": "code",
      "source": [
        "%run modu.py"
      ],
      "metadata": {
        "colab": {
          "base_uri": "https://localhost:8080/"
        },
        "id": "Df3gGcoALtgt",
        "outputId": "7c0a2f96-34d7-4a64-fbe2-b0dfbd6d91ca"
      },
      "execution_count": 13,
      "outputs": [
        {
          "output_type": "stream",
          "name": "stdout",
          "text": [
            "11\n",
            "Python is becoming popular.\n"
          ]
        }
      ]
    },
    {
      "cell_type": "code",
      "source": [
        "import modu"
      ],
      "metadata": {
        "id": "KyAXjwVYLvcz"
      },
      "execution_count": 14,
      "outputs": []
    },
    {
      "cell_type": "code",
      "source": [
        "__name__ == __main__"
      ],
      "metadata": {
        "id": "Vu0KVIZIL0pq"
      },
      "execution_count": null,
      "outputs": []
    },
    {
      "cell_type": "code",
      "source": [
        "modu.__name__"
      ],
      "metadata": {
        "colab": {
          "base_uri": "https://localhost:8080/",
          "height": 35
        },
        "id": "UPxLJr8RMKXL",
        "outputId": "ea0759d3-1fa6-4276-8d4a-97614a8158f9"
      },
      "execution_count": 11,
      "outputs": [
        {
          "output_type": "execute_result",
          "data": {
            "text/plain": [
              "'modu'"
            ],
            "application/vnd.google.colaboratory.intrinsic+json": {
              "type": "string"
            }
          },
          "metadata": {},
          "execution_count": 11
        }
      ]
    },
    {
      "cell_type": "markdown",
      "source": [
        "1-3 컴파일과 적재시간\n",
        "\n",
        "    - import mymath를 수행할때 발생하는 일\n",
        "        - 1) 우선 mymath.pyc를 찾는다.\n",
        "        - 2) mymath.pyc가 없다면 mymath.py를 찾아서 mymath.pyc를 생성한다.\n",
        "        - 3) 생성된 mymath.pyc를 메모리로 읽어들여 수행한다.\n",
        "\n",
        "    - .pyc 파일\n",
        "        - 바이트 코드 파일\n",
        "            - 기계나 플랫폼(os)에 의존하지 않도록 만들어진 일종의 목적 코드(Object Code)\n",
        "            - 파이썬은 컴파일 언어이면서 동시에 인터프리터 언어의 수행 방식을 취하고있다.\n",
        "\n",
        "    - 새로운 .pyc 생성에 대한 판단\n",
        "        - .py 수정시간이 .pyc 수정시간보다 더 최근일 때\n",
        "    - .py가 없어도 .pyc 파일만 있어도 import 가능\n",
        "        -코드를 숨기는 간단한 기법으로 활용 가능"
      ],
      "metadata": {
        "id": "iUhY659tRIC9"
      }
    },
    {
      "cell_type": "code",
      "source": [],
      "metadata": {
        "id": "fODkreS2ML_8"
      },
      "execution_count": null,
      "outputs": []
    }
  ]
}