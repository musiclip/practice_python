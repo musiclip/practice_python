{
  "nbformat": 4,
  "nbformat_minor": 0,
  "metadata": {
    "colab": {
      "provenance": [],
      "authorship_tag": "ABX9TyMWglCDuyrYMUDfyxkspWC6",
      "include_colab_link": true
    },
    "kernelspec": {
      "name": "python3",
      "display_name": "Python 3"
    },
    "language_info": {
      "name": "python"
    }
  },
  "cells": [
    {
      "cell_type": "markdown",
      "metadata": {
        "id": "view-in-github",
        "colab_type": "text"
      },
      "source": [
        "<a href=\"https://colab.research.google.com/github/musiclip/practice_python/blob/main/20230804.ipynb\" target=\"_parent\"><img src=\"https://colab.research.google.com/assets/colab-badge.svg\" alt=\"Open In Colab\"/></a>"
      ]
    },
    {
      "cell_type": "code",
      "execution_count": null,
      "metadata": {
        "colab": {
          "base_uri": "https://localhost:8080/"
        },
        "id": "kAh8uwm41SBW",
        "outputId": "79b237ae-ddae-4a8e-b9f1-5d87c15f4846"
      },
      "outputs": [
        {
          "output_type": "stream",
          "name": "stdout",
          "text": [
            "something,a,b,c,d,message\n",
            "one,1,2,3,4,NA\n",
            "two,5,6,,8,world\n",
            "three,9,10,11,12,foo"
          ]
        }
      ],
      "source": [
        "cat ex5.csv"
      ]
    },
    {
      "cell_type": "code",
      "source": [
        "import pandas as pd\n",
        "import numpy as np\n",
        "import matplotlib.pyplot as plt\n",
        "%matplotlib inline"
      ],
      "metadata": {
        "id": "JIyGkOpW22uT"
      },
      "execution_count": null,
      "outputs": []
    },
    {
      "cell_type": "code",
      "source": [
        "df = pd.read_csv('ex5.csv', index_col = [0])"
      ],
      "metadata": {
        "id": "e2LpM6m02z5O"
      },
      "execution_count": null,
      "outputs": []
    },
    {
      "cell_type": "code",
      "source": [
        "df"
      ],
      "metadata": {
        "colab": {
          "base_uri": "https://localhost:8080/",
          "height": 175
        },
        "id": "reeEuYph3Lnm",
        "outputId": "99313324-35b9-4e0e-b99e-a72c888893e6"
      },
      "execution_count": null,
      "outputs": [
        {
          "output_type": "execute_result",
          "data": {
            "text/plain": [
              "           a   b     c   d message\n",
              "something                         \n",
              "one        1   2   3.0   4     NaN\n",
              "two        5   6   NaN   8   world\n",
              "three      9  10  11.0  12     foo"
            ],
            "text/html": [
              "\n",
              "\n",
              "  <div id=\"df-8745a0b8-ec78-4015-a819-47db04526dd6\">\n",
              "    <div class=\"colab-df-container\">\n",
              "      <div>\n",
              "<style scoped>\n",
              "    .dataframe tbody tr th:only-of-type {\n",
              "        vertical-align: middle;\n",
              "    }\n",
              "\n",
              "    .dataframe tbody tr th {\n",
              "        vertical-align: top;\n",
              "    }\n",
              "\n",
              "    .dataframe thead th {\n",
              "        text-align: right;\n",
              "    }\n",
              "</style>\n",
              "<table border=\"1\" class=\"dataframe\">\n",
              "  <thead>\n",
              "    <tr style=\"text-align: right;\">\n",
              "      <th></th>\n",
              "      <th>a</th>\n",
              "      <th>b</th>\n",
              "      <th>c</th>\n",
              "      <th>d</th>\n",
              "      <th>message</th>\n",
              "    </tr>\n",
              "    <tr>\n",
              "      <th>something</th>\n",
              "      <th></th>\n",
              "      <th></th>\n",
              "      <th></th>\n",
              "      <th></th>\n",
              "      <th></th>\n",
              "    </tr>\n",
              "  </thead>\n",
              "  <tbody>\n",
              "    <tr>\n",
              "      <th>one</th>\n",
              "      <td>1</td>\n",
              "      <td>2</td>\n",
              "      <td>3.0</td>\n",
              "      <td>4</td>\n",
              "      <td>NaN</td>\n",
              "    </tr>\n",
              "    <tr>\n",
              "      <th>two</th>\n",
              "      <td>5</td>\n",
              "      <td>6</td>\n",
              "      <td>NaN</td>\n",
              "      <td>8</td>\n",
              "      <td>world</td>\n",
              "    </tr>\n",
              "    <tr>\n",
              "      <th>three</th>\n",
              "      <td>9</td>\n",
              "      <td>10</td>\n",
              "      <td>11.0</td>\n",
              "      <td>12</td>\n",
              "      <td>foo</td>\n",
              "    </tr>\n",
              "  </tbody>\n",
              "</table>\n",
              "</div>\n",
              "      <button class=\"colab-df-convert\" onclick=\"convertToInteractive('df-8745a0b8-ec78-4015-a819-47db04526dd6')\"\n",
              "              title=\"Convert this dataframe to an interactive table.\"\n",
              "              style=\"display:none;\">\n",
              "\n",
              "  <svg xmlns=\"http://www.w3.org/2000/svg\" height=\"24px\"viewBox=\"0 0 24 24\"\n",
              "       width=\"24px\">\n",
              "    <path d=\"M0 0h24v24H0V0z\" fill=\"none\"/>\n",
              "    <path d=\"M18.56 5.44l.94 2.06.94-2.06 2.06-.94-2.06-.94-.94-2.06-.94 2.06-2.06.94zm-11 1L8.5 8.5l.94-2.06 2.06-.94-2.06-.94L8.5 2.5l-.94 2.06-2.06.94zm10 10l.94 2.06.94-2.06 2.06-.94-2.06-.94-.94-2.06-.94 2.06-2.06.94z\"/><path d=\"M17.41 7.96l-1.37-1.37c-.4-.4-.92-.59-1.43-.59-.52 0-1.04.2-1.43.59L10.3 9.45l-7.72 7.72c-.78.78-.78 2.05 0 2.83L4 21.41c.39.39.9.59 1.41.59.51 0 1.02-.2 1.41-.59l7.78-7.78 2.81-2.81c.8-.78.8-2.07 0-2.86zM5.41 20L4 18.59l7.72-7.72 1.47 1.35L5.41 20z\"/>\n",
              "  </svg>\n",
              "      </button>\n",
              "\n",
              "\n",
              "\n",
              "    <div id=\"df-2fbf5cc8-ec7c-423b-a16a-1a58bc178d30\">\n",
              "      <button class=\"colab-df-quickchart\" onclick=\"quickchart('df-2fbf5cc8-ec7c-423b-a16a-1a58bc178d30')\"\n",
              "              title=\"Suggest charts.\"\n",
              "              style=\"display:none;\">\n",
              "\n",
              "<svg xmlns=\"http://www.w3.org/2000/svg\" height=\"24px\"viewBox=\"0 0 24 24\"\n",
              "     width=\"24px\">\n",
              "    <g>\n",
              "        <path d=\"M19 3H5c-1.1 0-2 .9-2 2v14c0 1.1.9 2 2 2h14c1.1 0 2-.9 2-2V5c0-1.1-.9-2-2-2zM9 17H7v-7h2v7zm4 0h-2V7h2v10zm4 0h-2v-4h2v4z\"/>\n",
              "    </g>\n",
              "</svg>\n",
              "      </button>\n",
              "    </div>\n",
              "\n",
              "<style>\n",
              "  .colab-df-quickchart {\n",
              "    background-color: #E8F0FE;\n",
              "    border: none;\n",
              "    border-radius: 50%;\n",
              "    cursor: pointer;\n",
              "    display: none;\n",
              "    fill: #1967D2;\n",
              "    height: 32px;\n",
              "    padding: 0 0 0 0;\n",
              "    width: 32px;\n",
              "  }\n",
              "\n",
              "  .colab-df-quickchart:hover {\n",
              "    background-color: #E2EBFA;\n",
              "    box-shadow: 0px 1px 2px rgba(60, 64, 67, 0.3), 0px 1px 3px 1px rgba(60, 64, 67, 0.15);\n",
              "    fill: #174EA6;\n",
              "  }\n",
              "\n",
              "  [theme=dark] .colab-df-quickchart {\n",
              "    background-color: #3B4455;\n",
              "    fill: #D2E3FC;\n",
              "  }\n",
              "\n",
              "  [theme=dark] .colab-df-quickchart:hover {\n",
              "    background-color: #434B5C;\n",
              "    box-shadow: 0px 1px 3px 1px rgba(0, 0, 0, 0.15);\n",
              "    filter: drop-shadow(0px 1px 2px rgba(0, 0, 0, 0.3));\n",
              "    fill: #FFFFFF;\n",
              "  }\n",
              "</style>\n",
              "\n",
              "    <script>\n",
              "      async function quickchart(key) {\n",
              "        const containerElement = document.querySelector('#' + key);\n",
              "        const charts = await google.colab.kernel.invokeFunction(\n",
              "            'suggestCharts', [key], {});\n",
              "      }\n",
              "    </script>\n",
              "\n",
              "      <script>\n",
              "\n",
              "function displayQuickchartButton(domScope) {\n",
              "  let quickchartButtonEl =\n",
              "    domScope.querySelector('#df-2fbf5cc8-ec7c-423b-a16a-1a58bc178d30 button.colab-df-quickchart');\n",
              "  quickchartButtonEl.style.display =\n",
              "    google.colab.kernel.accessAllowed ? 'block' : 'none';\n",
              "}\n",
              "\n",
              "        displayQuickchartButton(document);\n",
              "      </script>\n",
              "      <style>\n",
              "    .colab-df-container {\n",
              "      display:flex;\n",
              "      flex-wrap:wrap;\n",
              "      gap: 12px;\n",
              "    }\n",
              "\n",
              "    .colab-df-convert {\n",
              "      background-color: #E8F0FE;\n",
              "      border: none;\n",
              "      border-radius: 50%;\n",
              "      cursor: pointer;\n",
              "      display: none;\n",
              "      fill: #1967D2;\n",
              "      height: 32px;\n",
              "      padding: 0 0 0 0;\n",
              "      width: 32px;\n",
              "    }\n",
              "\n",
              "    .colab-df-convert:hover {\n",
              "      background-color: #E2EBFA;\n",
              "      box-shadow: 0px 1px 2px rgba(60, 64, 67, 0.3), 0px 1px 3px 1px rgba(60, 64, 67, 0.15);\n",
              "      fill: #174EA6;\n",
              "    }\n",
              "\n",
              "    [theme=dark] .colab-df-convert {\n",
              "      background-color: #3B4455;\n",
              "      fill: #D2E3FC;\n",
              "    }\n",
              "\n",
              "    [theme=dark] .colab-df-convert:hover {\n",
              "      background-color: #434B5C;\n",
              "      box-shadow: 0px 1px 3px 1px rgba(0, 0, 0, 0.15);\n",
              "      filter: drop-shadow(0px 1px 2px rgba(0, 0, 0, 0.3));\n",
              "      fill: #FFFFFF;\n",
              "    }\n",
              "  </style>\n",
              "\n",
              "      <script>\n",
              "        const buttonEl =\n",
              "          document.querySelector('#df-8745a0b8-ec78-4015-a819-47db04526dd6 button.colab-df-convert');\n",
              "        buttonEl.style.display =\n",
              "          google.colab.kernel.accessAllowed ? 'block' : 'none';\n",
              "\n",
              "        async function convertToInteractive(key) {\n",
              "          const element = document.querySelector('#df-8745a0b8-ec78-4015-a819-47db04526dd6');\n",
              "          const dataTable =\n",
              "            await google.colab.kernel.invokeFunction('convertToInteractive',\n",
              "                                                     [key], {});\n",
              "          if (!dataTable) return;\n",
              "\n",
              "          const docLinkHtml = 'Like what you see? Visit the ' +\n",
              "            '<a target=\"_blank\" href=https://colab.research.google.com/notebooks/data_table.ipynb>data table notebook</a>'\n",
              "            + ' to learn more about interactive tables.';\n",
              "          element.innerHTML = '';\n",
              "          dataTable['output_type'] = 'display_data';\n",
              "          await google.colab.output.renderOutput(dataTable, element);\n",
              "          const docLink = document.createElement('div');\n",
              "          docLink.innerHTML = docLinkHtml;\n",
              "          element.appendChild(docLink);\n",
              "        }\n",
              "      </script>\n",
              "    </div>\n",
              "  </div>\n"
            ]
          },
          "metadata": {},
          "execution_count": 6
        }
      ]
    },
    {
      "cell_type": "code",
      "source": [
        "df = pd.read_csv('ex5.csv', index_col = [0,1])"
      ],
      "metadata": {
        "id": "u52Dz8Cp3L7e"
      },
      "execution_count": null,
      "outputs": []
    },
    {
      "cell_type": "code",
      "source": [
        "df"
      ],
      "metadata": {
        "colab": {
          "base_uri": "https://localhost:8080/",
          "height": 175
        },
        "id": "wiu0WcBl3g10",
        "outputId": "73afdb06-db31-483d-cebe-040659fb6586"
      },
      "execution_count": null,
      "outputs": [
        {
          "output_type": "execute_result",
          "data": {
            "text/plain": [
              "              b     c   d message\n",
              "something a                      \n",
              "one       1   2   3.0   4     NaN\n",
              "two       5   6   NaN   8   world\n",
              "three     9  10  11.0  12     foo"
            ],
            "text/html": [
              "\n",
              "\n",
              "  <div id=\"df-d21fb875-9ca8-4956-8c3d-45100edac880\">\n",
              "    <div class=\"colab-df-container\">\n",
              "      <div>\n",
              "<style scoped>\n",
              "    .dataframe tbody tr th:only-of-type {\n",
              "        vertical-align: middle;\n",
              "    }\n",
              "\n",
              "    .dataframe tbody tr th {\n",
              "        vertical-align: top;\n",
              "    }\n",
              "\n",
              "    .dataframe thead th {\n",
              "        text-align: right;\n",
              "    }\n",
              "</style>\n",
              "<table border=\"1\" class=\"dataframe\">\n",
              "  <thead>\n",
              "    <tr style=\"text-align: right;\">\n",
              "      <th></th>\n",
              "      <th></th>\n",
              "      <th>b</th>\n",
              "      <th>c</th>\n",
              "      <th>d</th>\n",
              "      <th>message</th>\n",
              "    </tr>\n",
              "    <tr>\n",
              "      <th>something</th>\n",
              "      <th>a</th>\n",
              "      <th></th>\n",
              "      <th></th>\n",
              "      <th></th>\n",
              "      <th></th>\n",
              "    </tr>\n",
              "  </thead>\n",
              "  <tbody>\n",
              "    <tr>\n",
              "      <th>one</th>\n",
              "      <th>1</th>\n",
              "      <td>2</td>\n",
              "      <td>3.0</td>\n",
              "      <td>4</td>\n",
              "      <td>NaN</td>\n",
              "    </tr>\n",
              "    <tr>\n",
              "      <th>two</th>\n",
              "      <th>5</th>\n",
              "      <td>6</td>\n",
              "      <td>NaN</td>\n",
              "      <td>8</td>\n",
              "      <td>world</td>\n",
              "    </tr>\n",
              "    <tr>\n",
              "      <th>three</th>\n",
              "      <th>9</th>\n",
              "      <td>10</td>\n",
              "      <td>11.0</td>\n",
              "      <td>12</td>\n",
              "      <td>foo</td>\n",
              "    </tr>\n",
              "  </tbody>\n",
              "</table>\n",
              "</div>\n",
              "      <button class=\"colab-df-convert\" onclick=\"convertToInteractive('df-d21fb875-9ca8-4956-8c3d-45100edac880')\"\n",
              "              title=\"Convert this dataframe to an interactive table.\"\n",
              "              style=\"display:none;\">\n",
              "\n",
              "  <svg xmlns=\"http://www.w3.org/2000/svg\" height=\"24px\"viewBox=\"0 0 24 24\"\n",
              "       width=\"24px\">\n",
              "    <path d=\"M0 0h24v24H0V0z\" fill=\"none\"/>\n",
              "    <path d=\"M18.56 5.44l.94 2.06.94-2.06 2.06-.94-2.06-.94-.94-2.06-.94 2.06-2.06.94zm-11 1L8.5 8.5l.94-2.06 2.06-.94-2.06-.94L8.5 2.5l-.94 2.06-2.06.94zm10 10l.94 2.06.94-2.06 2.06-.94-2.06-.94-.94-2.06-.94 2.06-2.06.94z\"/><path d=\"M17.41 7.96l-1.37-1.37c-.4-.4-.92-.59-1.43-.59-.52 0-1.04.2-1.43.59L10.3 9.45l-7.72 7.72c-.78.78-.78 2.05 0 2.83L4 21.41c.39.39.9.59 1.41.59.51 0 1.02-.2 1.41-.59l7.78-7.78 2.81-2.81c.8-.78.8-2.07 0-2.86zM5.41 20L4 18.59l7.72-7.72 1.47 1.35L5.41 20z\"/>\n",
              "  </svg>\n",
              "      </button>\n",
              "\n",
              "\n",
              "\n",
              "    <div id=\"df-570f374b-53c5-400c-bc44-cee4f8a89de2\">\n",
              "      <button class=\"colab-df-quickchart\" onclick=\"quickchart('df-570f374b-53c5-400c-bc44-cee4f8a89de2')\"\n",
              "              title=\"Suggest charts.\"\n",
              "              style=\"display:none;\">\n",
              "\n",
              "<svg xmlns=\"http://www.w3.org/2000/svg\" height=\"24px\"viewBox=\"0 0 24 24\"\n",
              "     width=\"24px\">\n",
              "    <g>\n",
              "        <path d=\"M19 3H5c-1.1 0-2 .9-2 2v14c0 1.1.9 2 2 2h14c1.1 0 2-.9 2-2V5c0-1.1-.9-2-2-2zM9 17H7v-7h2v7zm4 0h-2V7h2v10zm4 0h-2v-4h2v4z\"/>\n",
              "    </g>\n",
              "</svg>\n",
              "      </button>\n",
              "    </div>\n",
              "\n",
              "<style>\n",
              "  .colab-df-quickchart {\n",
              "    background-color: #E8F0FE;\n",
              "    border: none;\n",
              "    border-radius: 50%;\n",
              "    cursor: pointer;\n",
              "    display: none;\n",
              "    fill: #1967D2;\n",
              "    height: 32px;\n",
              "    padding: 0 0 0 0;\n",
              "    width: 32px;\n",
              "  }\n",
              "\n",
              "  .colab-df-quickchart:hover {\n",
              "    background-color: #E2EBFA;\n",
              "    box-shadow: 0px 1px 2px rgba(60, 64, 67, 0.3), 0px 1px 3px 1px rgba(60, 64, 67, 0.15);\n",
              "    fill: #174EA6;\n",
              "  }\n",
              "\n",
              "  [theme=dark] .colab-df-quickchart {\n",
              "    background-color: #3B4455;\n",
              "    fill: #D2E3FC;\n",
              "  }\n",
              "\n",
              "  [theme=dark] .colab-df-quickchart:hover {\n",
              "    background-color: #434B5C;\n",
              "    box-shadow: 0px 1px 3px 1px rgba(0, 0, 0, 0.15);\n",
              "    filter: drop-shadow(0px 1px 2px rgba(0, 0, 0, 0.3));\n",
              "    fill: #FFFFFF;\n",
              "  }\n",
              "</style>\n",
              "\n",
              "    <script>\n",
              "      async function quickchart(key) {\n",
              "        const containerElement = document.querySelector('#' + key);\n",
              "        const charts = await google.colab.kernel.invokeFunction(\n",
              "            'suggestCharts', [key], {});\n",
              "      }\n",
              "    </script>\n",
              "\n",
              "      <script>\n",
              "\n",
              "function displayQuickchartButton(domScope) {\n",
              "  let quickchartButtonEl =\n",
              "    domScope.querySelector('#df-570f374b-53c5-400c-bc44-cee4f8a89de2 button.colab-df-quickchart');\n",
              "  quickchartButtonEl.style.display =\n",
              "    google.colab.kernel.accessAllowed ? 'block' : 'none';\n",
              "}\n",
              "\n",
              "        displayQuickchartButton(document);\n",
              "      </script>\n",
              "      <style>\n",
              "    .colab-df-container {\n",
              "      display:flex;\n",
              "      flex-wrap:wrap;\n",
              "      gap: 12px;\n",
              "    }\n",
              "\n",
              "    .colab-df-convert {\n",
              "      background-color: #E8F0FE;\n",
              "      border: none;\n",
              "      border-radius: 50%;\n",
              "      cursor: pointer;\n",
              "      display: none;\n",
              "      fill: #1967D2;\n",
              "      height: 32px;\n",
              "      padding: 0 0 0 0;\n",
              "      width: 32px;\n",
              "    }\n",
              "\n",
              "    .colab-df-convert:hover {\n",
              "      background-color: #E2EBFA;\n",
              "      box-shadow: 0px 1px 2px rgba(60, 64, 67, 0.3), 0px 1px 3px 1px rgba(60, 64, 67, 0.15);\n",
              "      fill: #174EA6;\n",
              "    }\n",
              "\n",
              "    [theme=dark] .colab-df-convert {\n",
              "      background-color: #3B4455;\n",
              "      fill: #D2E3FC;\n",
              "    }\n",
              "\n",
              "    [theme=dark] .colab-df-convert:hover {\n",
              "      background-color: #434B5C;\n",
              "      box-shadow: 0px 1px 3px 1px rgba(0, 0, 0, 0.15);\n",
              "      filter: drop-shadow(0px 1px 2px rgba(0, 0, 0, 0.3));\n",
              "      fill: #FFFFFF;\n",
              "    }\n",
              "  </style>\n",
              "\n",
              "      <script>\n",
              "        const buttonEl =\n",
              "          document.querySelector('#df-d21fb875-9ca8-4956-8c3d-45100edac880 button.colab-df-convert');\n",
              "        buttonEl.style.display =\n",
              "          google.colab.kernel.accessAllowed ? 'block' : 'none';\n",
              "\n",
              "        async function convertToInteractive(key) {\n",
              "          const element = document.querySelector('#df-d21fb875-9ca8-4956-8c3d-45100edac880');\n",
              "          const dataTable =\n",
              "            await google.colab.kernel.invokeFunction('convertToInteractive',\n",
              "                                                     [key], {});\n",
              "          if (!dataTable) return;\n",
              "\n",
              "          const docLinkHtml = 'Like what you see? Visit the ' +\n",
              "            '<a target=\"_blank\" href=https://colab.research.google.com/notebooks/data_table.ipynb>data table notebook</a>'\n",
              "            + ' to learn more about interactive tables.';\n",
              "          element.innerHTML = '';\n",
              "          dataTable['output_type'] = 'display_data';\n",
              "          await google.colab.output.renderOutput(dataTable, element);\n",
              "          const docLink = document.createElement('div');\n",
              "          docLink.innerHTML = docLinkHtml;\n",
              "          element.appendChild(docLink);\n",
              "        }\n",
              "      </script>\n",
              "    </div>\n",
              "  </div>\n"
            ]
          },
          "metadata": {},
          "execution_count": 8
        }
      ]
    },
    {
      "cell_type": "code",
      "source": [
        "df = pd.read_csv('ex5.csv')"
      ],
      "metadata": {
        "id": "LWtx2Lky3hST"
      },
      "execution_count": null,
      "outputs": []
    },
    {
      "cell_type": "code",
      "source": [
        "df"
      ],
      "metadata": {
        "colab": {
          "base_uri": "https://localhost:8080/",
          "height": 143
        },
        "id": "fp8pV0Ld3jwd",
        "outputId": "a97d8e56-f959-490b-a997-c002ca4ccc4f"
      },
      "execution_count": null,
      "outputs": [
        {
          "output_type": "execute_result",
          "data": {
            "text/plain": [
              "  something  a   b     c   d message\n",
              "0       one  1   2   3.0   4     NaN\n",
              "1       two  5   6   NaN   8   world\n",
              "2     three  9  10  11.0  12     foo"
            ],
            "text/html": [
              "\n",
              "\n",
              "  <div id=\"df-fe8e93cc-1cd7-4419-b84b-00b8c6698522\">\n",
              "    <div class=\"colab-df-container\">\n",
              "      <div>\n",
              "<style scoped>\n",
              "    .dataframe tbody tr th:only-of-type {\n",
              "        vertical-align: middle;\n",
              "    }\n",
              "\n",
              "    .dataframe tbody tr th {\n",
              "        vertical-align: top;\n",
              "    }\n",
              "\n",
              "    .dataframe thead th {\n",
              "        text-align: right;\n",
              "    }\n",
              "</style>\n",
              "<table border=\"1\" class=\"dataframe\">\n",
              "  <thead>\n",
              "    <tr style=\"text-align: right;\">\n",
              "      <th></th>\n",
              "      <th>something</th>\n",
              "      <th>a</th>\n",
              "      <th>b</th>\n",
              "      <th>c</th>\n",
              "      <th>d</th>\n",
              "      <th>message</th>\n",
              "    </tr>\n",
              "  </thead>\n",
              "  <tbody>\n",
              "    <tr>\n",
              "      <th>0</th>\n",
              "      <td>one</td>\n",
              "      <td>1</td>\n",
              "      <td>2</td>\n",
              "      <td>3.0</td>\n",
              "      <td>4</td>\n",
              "      <td>NaN</td>\n",
              "    </tr>\n",
              "    <tr>\n",
              "      <th>1</th>\n",
              "      <td>two</td>\n",
              "      <td>5</td>\n",
              "      <td>6</td>\n",
              "      <td>NaN</td>\n",
              "      <td>8</td>\n",
              "      <td>world</td>\n",
              "    </tr>\n",
              "    <tr>\n",
              "      <th>2</th>\n",
              "      <td>three</td>\n",
              "      <td>9</td>\n",
              "      <td>10</td>\n",
              "      <td>11.0</td>\n",
              "      <td>12</td>\n",
              "      <td>foo</td>\n",
              "    </tr>\n",
              "  </tbody>\n",
              "</table>\n",
              "</div>\n",
              "      <button class=\"colab-df-convert\" onclick=\"convertToInteractive('df-fe8e93cc-1cd7-4419-b84b-00b8c6698522')\"\n",
              "              title=\"Convert this dataframe to an interactive table.\"\n",
              "              style=\"display:none;\">\n",
              "\n",
              "  <svg xmlns=\"http://www.w3.org/2000/svg\" height=\"24px\"viewBox=\"0 0 24 24\"\n",
              "       width=\"24px\">\n",
              "    <path d=\"M0 0h24v24H0V0z\" fill=\"none\"/>\n",
              "    <path d=\"M18.56 5.44l.94 2.06.94-2.06 2.06-.94-2.06-.94-.94-2.06-.94 2.06-2.06.94zm-11 1L8.5 8.5l.94-2.06 2.06-.94-2.06-.94L8.5 2.5l-.94 2.06-2.06.94zm10 10l.94 2.06.94-2.06 2.06-.94-2.06-.94-.94-2.06-.94 2.06-2.06.94z\"/><path d=\"M17.41 7.96l-1.37-1.37c-.4-.4-.92-.59-1.43-.59-.52 0-1.04.2-1.43.59L10.3 9.45l-7.72 7.72c-.78.78-.78 2.05 0 2.83L4 21.41c.39.39.9.59 1.41.59.51 0 1.02-.2 1.41-.59l7.78-7.78 2.81-2.81c.8-.78.8-2.07 0-2.86zM5.41 20L4 18.59l7.72-7.72 1.47 1.35L5.41 20z\"/>\n",
              "  </svg>\n",
              "      </button>\n",
              "\n",
              "\n",
              "\n",
              "    <div id=\"df-51fde68d-e413-4cdc-ae4e-759bb4c9ec9c\">\n",
              "      <button class=\"colab-df-quickchart\" onclick=\"quickchart('df-51fde68d-e413-4cdc-ae4e-759bb4c9ec9c')\"\n",
              "              title=\"Suggest charts.\"\n",
              "              style=\"display:none;\">\n",
              "\n",
              "<svg xmlns=\"http://www.w3.org/2000/svg\" height=\"24px\"viewBox=\"0 0 24 24\"\n",
              "     width=\"24px\">\n",
              "    <g>\n",
              "        <path d=\"M19 3H5c-1.1 0-2 .9-2 2v14c0 1.1.9 2 2 2h14c1.1 0 2-.9 2-2V5c0-1.1-.9-2-2-2zM9 17H7v-7h2v7zm4 0h-2V7h2v10zm4 0h-2v-4h2v4z\"/>\n",
              "    </g>\n",
              "</svg>\n",
              "      </button>\n",
              "    </div>\n",
              "\n",
              "<style>\n",
              "  .colab-df-quickchart {\n",
              "    background-color: #E8F0FE;\n",
              "    border: none;\n",
              "    border-radius: 50%;\n",
              "    cursor: pointer;\n",
              "    display: none;\n",
              "    fill: #1967D2;\n",
              "    height: 32px;\n",
              "    padding: 0 0 0 0;\n",
              "    width: 32px;\n",
              "  }\n",
              "\n",
              "  .colab-df-quickchart:hover {\n",
              "    background-color: #E2EBFA;\n",
              "    box-shadow: 0px 1px 2px rgba(60, 64, 67, 0.3), 0px 1px 3px 1px rgba(60, 64, 67, 0.15);\n",
              "    fill: #174EA6;\n",
              "  }\n",
              "\n",
              "  [theme=dark] .colab-df-quickchart {\n",
              "    background-color: #3B4455;\n",
              "    fill: #D2E3FC;\n",
              "  }\n",
              "\n",
              "  [theme=dark] .colab-df-quickchart:hover {\n",
              "    background-color: #434B5C;\n",
              "    box-shadow: 0px 1px 3px 1px rgba(0, 0, 0, 0.15);\n",
              "    filter: drop-shadow(0px 1px 2px rgba(0, 0, 0, 0.3));\n",
              "    fill: #FFFFFF;\n",
              "  }\n",
              "</style>\n",
              "\n",
              "    <script>\n",
              "      async function quickchart(key) {\n",
              "        const containerElement = document.querySelector('#' + key);\n",
              "        const charts = await google.colab.kernel.invokeFunction(\n",
              "            'suggestCharts', [key], {});\n",
              "      }\n",
              "    </script>\n",
              "\n",
              "      <script>\n",
              "\n",
              "function displayQuickchartButton(domScope) {\n",
              "  let quickchartButtonEl =\n",
              "    domScope.querySelector('#df-51fde68d-e413-4cdc-ae4e-759bb4c9ec9c button.colab-df-quickchart');\n",
              "  quickchartButtonEl.style.display =\n",
              "    google.colab.kernel.accessAllowed ? 'block' : 'none';\n",
              "}\n",
              "\n",
              "        displayQuickchartButton(document);\n",
              "      </script>\n",
              "      <style>\n",
              "    .colab-df-container {\n",
              "      display:flex;\n",
              "      flex-wrap:wrap;\n",
              "      gap: 12px;\n",
              "    }\n",
              "\n",
              "    .colab-df-convert {\n",
              "      background-color: #E8F0FE;\n",
              "      border: none;\n",
              "      border-radius: 50%;\n",
              "      cursor: pointer;\n",
              "      display: none;\n",
              "      fill: #1967D2;\n",
              "      height: 32px;\n",
              "      padding: 0 0 0 0;\n",
              "      width: 32px;\n",
              "    }\n",
              "\n",
              "    .colab-df-convert:hover {\n",
              "      background-color: #E2EBFA;\n",
              "      box-shadow: 0px 1px 2px rgba(60, 64, 67, 0.3), 0px 1px 3px 1px rgba(60, 64, 67, 0.15);\n",
              "      fill: #174EA6;\n",
              "    }\n",
              "\n",
              "    [theme=dark] .colab-df-convert {\n",
              "      background-color: #3B4455;\n",
              "      fill: #D2E3FC;\n",
              "    }\n",
              "\n",
              "    [theme=dark] .colab-df-convert:hover {\n",
              "      background-color: #434B5C;\n",
              "      box-shadow: 0px 1px 3px 1px rgba(0, 0, 0, 0.15);\n",
              "      filter: drop-shadow(0px 1px 2px rgba(0, 0, 0, 0.3));\n",
              "      fill: #FFFFFF;\n",
              "    }\n",
              "  </style>\n",
              "\n",
              "      <script>\n",
              "        const buttonEl =\n",
              "          document.querySelector('#df-fe8e93cc-1cd7-4419-b84b-00b8c6698522 button.colab-df-convert');\n",
              "        buttonEl.style.display =\n",
              "          google.colab.kernel.accessAllowed ? 'block' : 'none';\n",
              "\n",
              "        async function convertToInteractive(key) {\n",
              "          const element = document.querySelector('#df-fe8e93cc-1cd7-4419-b84b-00b8c6698522');\n",
              "          const dataTable =\n",
              "            await google.colab.kernel.invokeFunction('convertToInteractive',\n",
              "                                                     [key], {});\n",
              "          if (!dataTable) return;\n",
              "\n",
              "          const docLinkHtml = 'Like what you see? Visit the ' +\n",
              "            '<a target=\"_blank\" href=https://colab.research.google.com/notebooks/data_table.ipynb>data table notebook</a>'\n",
              "            + ' to learn more about interactive tables.';\n",
              "          element.innerHTML = '';\n",
              "          dataTable['output_type'] = 'display_data';\n",
              "          await google.colab.output.renderOutput(dataTable, element);\n",
              "          const docLink = document.createElement('div');\n",
              "          docLink.innerHTML = docLinkHtml;\n",
              "          element.appendChild(docLink);\n",
              "        }\n",
              "      </script>\n",
              "    </div>\n",
              "  </div>\n"
            ]
          },
          "metadata": {},
          "execution_count": 10
        }
      ]
    },
    {
      "cell_type": "code",
      "source": [
        "pd.isnull(df)"
      ],
      "metadata": {
        "colab": {
          "base_uri": "https://localhost:8080/",
          "height": 143
        },
        "id": "Xd6jwwCR3kAM",
        "outputId": "419e9536-6e1a-452a-9a8f-c5878e3ae1aa"
      },
      "execution_count": null,
      "outputs": [
        {
          "output_type": "execute_result",
          "data": {
            "text/plain": [
              "   something      a      b      c      d  message\n",
              "0      False  False  False  False  False     True\n",
              "1      False  False  False   True  False    False\n",
              "2      False  False  False  False  False    False"
            ],
            "text/html": [
              "\n",
              "\n",
              "  <div id=\"df-e1c24cc5-dcfa-401c-8bc3-b8ffb34f288c\">\n",
              "    <div class=\"colab-df-container\">\n",
              "      <div>\n",
              "<style scoped>\n",
              "    .dataframe tbody tr th:only-of-type {\n",
              "        vertical-align: middle;\n",
              "    }\n",
              "\n",
              "    .dataframe tbody tr th {\n",
              "        vertical-align: top;\n",
              "    }\n",
              "\n",
              "    .dataframe thead th {\n",
              "        text-align: right;\n",
              "    }\n",
              "</style>\n",
              "<table border=\"1\" class=\"dataframe\">\n",
              "  <thead>\n",
              "    <tr style=\"text-align: right;\">\n",
              "      <th></th>\n",
              "      <th>something</th>\n",
              "      <th>a</th>\n",
              "      <th>b</th>\n",
              "      <th>c</th>\n",
              "      <th>d</th>\n",
              "      <th>message</th>\n",
              "    </tr>\n",
              "  </thead>\n",
              "  <tbody>\n",
              "    <tr>\n",
              "      <th>0</th>\n",
              "      <td>False</td>\n",
              "      <td>False</td>\n",
              "      <td>False</td>\n",
              "      <td>False</td>\n",
              "      <td>False</td>\n",
              "      <td>True</td>\n",
              "    </tr>\n",
              "    <tr>\n",
              "      <th>1</th>\n",
              "      <td>False</td>\n",
              "      <td>False</td>\n",
              "      <td>False</td>\n",
              "      <td>True</td>\n",
              "      <td>False</td>\n",
              "      <td>False</td>\n",
              "    </tr>\n",
              "    <tr>\n",
              "      <th>2</th>\n",
              "      <td>False</td>\n",
              "      <td>False</td>\n",
              "      <td>False</td>\n",
              "      <td>False</td>\n",
              "      <td>False</td>\n",
              "      <td>False</td>\n",
              "    </tr>\n",
              "  </tbody>\n",
              "</table>\n",
              "</div>\n",
              "      <button class=\"colab-df-convert\" onclick=\"convertToInteractive('df-e1c24cc5-dcfa-401c-8bc3-b8ffb34f288c')\"\n",
              "              title=\"Convert this dataframe to an interactive table.\"\n",
              "              style=\"display:none;\">\n",
              "\n",
              "  <svg xmlns=\"http://www.w3.org/2000/svg\" height=\"24px\"viewBox=\"0 0 24 24\"\n",
              "       width=\"24px\">\n",
              "    <path d=\"M0 0h24v24H0V0z\" fill=\"none\"/>\n",
              "    <path d=\"M18.56 5.44l.94 2.06.94-2.06 2.06-.94-2.06-.94-.94-2.06-.94 2.06-2.06.94zm-11 1L8.5 8.5l.94-2.06 2.06-.94-2.06-.94L8.5 2.5l-.94 2.06-2.06.94zm10 10l.94 2.06.94-2.06 2.06-.94-2.06-.94-.94-2.06-.94 2.06-2.06.94z\"/><path d=\"M17.41 7.96l-1.37-1.37c-.4-.4-.92-.59-1.43-.59-.52 0-1.04.2-1.43.59L10.3 9.45l-7.72 7.72c-.78.78-.78 2.05 0 2.83L4 21.41c.39.39.9.59 1.41.59.51 0 1.02-.2 1.41-.59l7.78-7.78 2.81-2.81c.8-.78.8-2.07 0-2.86zM5.41 20L4 18.59l7.72-7.72 1.47 1.35L5.41 20z\"/>\n",
              "  </svg>\n",
              "      </button>\n",
              "\n",
              "\n",
              "\n",
              "    <div id=\"df-51a10a8a-02cc-4446-8cf4-5d772879ebe5\">\n",
              "      <button class=\"colab-df-quickchart\" onclick=\"quickchart('df-51a10a8a-02cc-4446-8cf4-5d772879ebe5')\"\n",
              "              title=\"Suggest charts.\"\n",
              "              style=\"display:none;\">\n",
              "\n",
              "<svg xmlns=\"http://www.w3.org/2000/svg\" height=\"24px\"viewBox=\"0 0 24 24\"\n",
              "     width=\"24px\">\n",
              "    <g>\n",
              "        <path d=\"M19 3H5c-1.1 0-2 .9-2 2v14c0 1.1.9 2 2 2h14c1.1 0 2-.9 2-2V5c0-1.1-.9-2-2-2zM9 17H7v-7h2v7zm4 0h-2V7h2v10zm4 0h-2v-4h2v4z\"/>\n",
              "    </g>\n",
              "</svg>\n",
              "      </button>\n",
              "    </div>\n",
              "\n",
              "<style>\n",
              "  .colab-df-quickchart {\n",
              "    background-color: #E8F0FE;\n",
              "    border: none;\n",
              "    border-radius: 50%;\n",
              "    cursor: pointer;\n",
              "    display: none;\n",
              "    fill: #1967D2;\n",
              "    height: 32px;\n",
              "    padding: 0 0 0 0;\n",
              "    width: 32px;\n",
              "  }\n",
              "\n",
              "  .colab-df-quickchart:hover {\n",
              "    background-color: #E2EBFA;\n",
              "    box-shadow: 0px 1px 2px rgba(60, 64, 67, 0.3), 0px 1px 3px 1px rgba(60, 64, 67, 0.15);\n",
              "    fill: #174EA6;\n",
              "  }\n",
              "\n",
              "  [theme=dark] .colab-df-quickchart {\n",
              "    background-color: #3B4455;\n",
              "    fill: #D2E3FC;\n",
              "  }\n",
              "\n",
              "  [theme=dark] .colab-df-quickchart:hover {\n",
              "    background-color: #434B5C;\n",
              "    box-shadow: 0px 1px 3px 1px rgba(0, 0, 0, 0.15);\n",
              "    filter: drop-shadow(0px 1px 2px rgba(0, 0, 0, 0.3));\n",
              "    fill: #FFFFFF;\n",
              "  }\n",
              "</style>\n",
              "\n",
              "    <script>\n",
              "      async function quickchart(key) {\n",
              "        const containerElement = document.querySelector('#' + key);\n",
              "        const charts = await google.colab.kernel.invokeFunction(\n",
              "            'suggestCharts', [key], {});\n",
              "      }\n",
              "    </script>\n",
              "\n",
              "      <script>\n",
              "\n",
              "function displayQuickchartButton(domScope) {\n",
              "  let quickchartButtonEl =\n",
              "    domScope.querySelector('#df-51a10a8a-02cc-4446-8cf4-5d772879ebe5 button.colab-df-quickchart');\n",
              "  quickchartButtonEl.style.display =\n",
              "    google.colab.kernel.accessAllowed ? 'block' : 'none';\n",
              "}\n",
              "\n",
              "        displayQuickchartButton(document);\n",
              "      </script>\n",
              "      <style>\n",
              "    .colab-df-container {\n",
              "      display:flex;\n",
              "      flex-wrap:wrap;\n",
              "      gap: 12px;\n",
              "    }\n",
              "\n",
              "    .colab-df-convert {\n",
              "      background-color: #E8F0FE;\n",
              "      border: none;\n",
              "      border-radius: 50%;\n",
              "      cursor: pointer;\n",
              "      display: none;\n",
              "      fill: #1967D2;\n",
              "      height: 32px;\n",
              "      padding: 0 0 0 0;\n",
              "      width: 32px;\n",
              "    }\n",
              "\n",
              "    .colab-df-convert:hover {\n",
              "      background-color: #E2EBFA;\n",
              "      box-shadow: 0px 1px 2px rgba(60, 64, 67, 0.3), 0px 1px 3px 1px rgba(60, 64, 67, 0.15);\n",
              "      fill: #174EA6;\n",
              "    }\n",
              "\n",
              "    [theme=dark] .colab-df-convert {\n",
              "      background-color: #3B4455;\n",
              "      fill: #D2E3FC;\n",
              "    }\n",
              "\n",
              "    [theme=dark] .colab-df-convert:hover {\n",
              "      background-color: #434B5C;\n",
              "      box-shadow: 0px 1px 3px 1px rgba(0, 0, 0, 0.15);\n",
              "      filter: drop-shadow(0px 1px 2px rgba(0, 0, 0, 0.3));\n",
              "      fill: #FFFFFF;\n",
              "    }\n",
              "  </style>\n",
              "\n",
              "      <script>\n",
              "        const buttonEl =\n",
              "          document.querySelector('#df-e1c24cc5-dcfa-401c-8bc3-b8ffb34f288c button.colab-df-convert');\n",
              "        buttonEl.style.display =\n",
              "          google.colab.kernel.accessAllowed ? 'block' : 'none';\n",
              "\n",
              "        async function convertToInteractive(key) {\n",
              "          const element = document.querySelector('#df-e1c24cc5-dcfa-401c-8bc3-b8ffb34f288c');\n",
              "          const dataTable =\n",
              "            await google.colab.kernel.invokeFunction('convertToInteractive',\n",
              "                                                     [key], {});\n",
              "          if (!dataTable) return;\n",
              "\n",
              "          const docLinkHtml = 'Like what you see? Visit the ' +\n",
              "            '<a target=\"_blank\" href=https://colab.research.google.com/notebooks/data_table.ipynb>data table notebook</a>'\n",
              "            + ' to learn more about interactive tables.';\n",
              "          element.innerHTML = '';\n",
              "          dataTable['output_type'] = 'display_data';\n",
              "          await google.colab.output.renderOutput(dataTable, element);\n",
              "          const docLink = document.createElement('div');\n",
              "          docLink.innerHTML = docLinkHtml;\n",
              "          element.appendChild(docLink);\n",
              "        }\n",
              "      </script>\n",
              "    </div>\n",
              "  </div>\n"
            ]
          },
          "metadata": {},
          "execution_count": 11
        }
      ]
    },
    {
      "cell_type": "code",
      "source": [
        "ls ex6.csv"
      ],
      "metadata": {
        "colab": {
          "base_uri": "https://localhost:8080/"
        },
        "id": "c-9FU9AE3mG8",
        "outputId": "f38f8304-19a8-437c-8a5e-269e52e70a51"
      },
      "execution_count": null,
      "outputs": [
        {
          "output_type": "stream",
          "name": "stdout",
          "text": [
            "ex6.csv\n"
          ]
        }
      ]
    },
    {
      "cell_type": "code",
      "source": [
        "ls -al"
      ],
      "metadata": {
        "colab": {
          "base_uri": "https://localhost:8080/"
        },
        "id": "2-4FD6bZ3ygc",
        "outputId": "c346e42d-6668-4d74-d951-4d3d72c9e61f"
      },
      "execution_count": null,
      "outputs": [
        {
          "output_type": "stream",
          "name": "stdout",
          "text": [
            "total 660\n",
            "drwxr-xr-x 1 root root   4096 Aug  4 00:02 \u001b[0m\u001b[01;34m.\u001b[0m/\n",
            "drwxr-xr-x 1 root root   4096 Aug  4 00:01 \u001b[01;34m..\u001b[0m/\n",
            "drwxr-xr-x 4 root root   4096 Aug  2 13:34 \u001b[01;34m.config\u001b[0m/\n",
            "-rw-r--r-- 1 root root     58 Aug  4 00:02 ex1.csv\n",
            "-rw-r--r-- 1 root root     42 Aug  4 00:02 ex2.csv\n",
            "-rw-r--r-- 1 root root    169 Aug  4 00:02 ex3.csv\n",
            "-rw-r--r-- 1 root root    170 Aug  4 00:02 ex3.txt\n",
            "-rw-r--r-- 1 root root    163 Aug  4 00:02 ex4.csv\n",
            "-rw-r--r-- 1 root root     78 Aug  4 00:02 ex5.csv\n",
            "-rw-r--r-- 1 root root 626863 Aug  4 00:02 ex6.csv\n",
            "-rw-r--r-- 1 root root     36 Aug  4 00:02 ex7.csv\n",
            "drwxr-xr-x 1 root root   4096 Aug  2 13:34 \u001b[01;34msample_data\u001b[0m/\n"
          ]
        }
      ]
    },
    {
      "cell_type": "markdown",
      "source": [
        "head : 파일의 앞 부분 표시\n",
        "\n",
        "tail :  vkdlfdml akwlakr qnqns vytl"
      ],
      "metadata": {
        "id": "NH8ComO-4EiT"
      }
    },
    {
      "cell_type": "code",
      "source": [
        "!head ex6.csv"
      ],
      "metadata": {
        "colab": {
          "base_uri": "https://localhost:8080/"
        },
        "id": "7RXuVFu431V0",
        "outputId": "5ba456b8-e066-4852-8f9d-5bf59f5202e2"
      },
      "execution_count": null,
      "outputs": [
        {
          "output_type": "stream",
          "name": "stdout",
          "text": [
            "one,two,three,four,key\n",
            "0.467976300189,-0.0386485396255,-0.295344251987,-1.82472622729,L\n",
            "-0.358893469543,1.40445260007,0.704964644926,-0.200638304015,B\n",
            "-0.50184039929,0.659253707223,-0.421690619312,-0.0576883018364,G\n",
            "0.204886212202,1.07413396504,1.38836131252,-0.982404023494,R\n",
            "0.354627914484,-0.133115852296,0.283762637978,-0.837062961653,Q\n",
            "1.81748001608,0.742272722638,0.419394843928,-2.25103520513,Q\n",
            "-0.776764319165,0.935517747061,-0.332871759623,-1.87564085416,U\n",
            "-0.913134961617,1.53062351168,-0.572656719239,0.477252252981,K\n",
            "0.358479538224,-0.49757199147,-0.367016188009,0.507701778685,S\n"
          ]
        }
      ]
    },
    {
      "cell_type": "code",
      "source": [
        "!tail ex6.csv"
      ],
      "metadata": {
        "colab": {
          "base_uri": "https://localhost:8080/"
        },
        "id": "aXtTlQFp4CY6",
        "outputId": "5d091a6e-aaa0-4fd3-e751-2dc4402b1d59"
      },
      "execution_count": null,
      "outputs": [
        {
          "output_type": "stream",
          "name": "stdout",
          "text": [
            "-0.370768721563,0.404356340287,-1.05162846226,-1.05089891162,8\n",
            "-0.409980111625,0.155627076006,-0.81898965427,1.27735013287,W\n",
            "0.301213589188,-1.11120335047,0.668257684091,0.671921855703,A\n",
            "1.82111702878,0.416444799351,0.173874079053,0.505118430246,X\n",
            "0.0688036448846,1.32275858021,0.802346253327,0.223617809159,H\n",
            "2.31189587899,-0.41707032545,-1.40959852635,-0.515820726027,L\n",
            "-0.479892969973,-0.650418530998,0.745152119818,-0.646037876591,E\n",
            "0.523330748868,0.787112113221,0.486066142508,1.09315580825,K\n",
            "-0.362559431988,0.598893993038,-1.84320146381,0.887291508481,G\n",
            "-0.0963755510259,-1.01299883547,-0.657431480807,-0.573315211841,0\n"
          ]
        }
      ]
    },
    {
      "cell_type": "code",
      "source": [
        "df = pd.read_csv('ex6.csv')"
      ],
      "metadata": {
        "id": "BKhHvffu4T7C"
      },
      "execution_count": null,
      "outputs": []
    },
    {
      "cell_type": "code",
      "source": [
        "df"
      ],
      "metadata": {
        "colab": {
          "base_uri": "https://localhost:8080/",
          "height": 423
        },
        "id": "D3uZDIqr4ewb",
        "outputId": "af8262ff-1b49-48cc-ef70-4301e2d56b79"
      },
      "execution_count": null,
      "outputs": [
        {
          "output_type": "execute_result",
          "data": {
            "text/plain": [
              "           one       two     three      four key\n",
              "0     0.467976 -0.038649 -0.295344 -1.824726   L\n",
              "1    -0.358893  1.404453  0.704965 -0.200638   B\n",
              "2    -0.501840  0.659254 -0.421691 -0.057688   G\n",
              "3     0.204886  1.074134  1.388361 -0.982404   R\n",
              "4     0.354628 -0.133116  0.283763 -0.837063   Q\n",
              "...        ...       ...       ...       ...  ..\n",
              "9995  2.311896 -0.417070 -1.409599 -0.515821   L\n",
              "9996 -0.479893 -0.650419  0.745152 -0.646038   E\n",
              "9997  0.523331  0.787112  0.486066  1.093156   K\n",
              "9998 -0.362559  0.598894 -1.843201  0.887292   G\n",
              "9999 -0.096376 -1.012999 -0.657431 -0.573315   0\n",
              "\n",
              "[10000 rows x 5 columns]"
            ],
            "text/html": [
              "\n",
              "\n",
              "  <div id=\"df-776fb18d-4217-436b-a018-d67875d498bb\">\n",
              "    <div class=\"colab-df-container\">\n",
              "      <div>\n",
              "<style scoped>\n",
              "    .dataframe tbody tr th:only-of-type {\n",
              "        vertical-align: middle;\n",
              "    }\n",
              "\n",
              "    .dataframe tbody tr th {\n",
              "        vertical-align: top;\n",
              "    }\n",
              "\n",
              "    .dataframe thead th {\n",
              "        text-align: right;\n",
              "    }\n",
              "</style>\n",
              "<table border=\"1\" class=\"dataframe\">\n",
              "  <thead>\n",
              "    <tr style=\"text-align: right;\">\n",
              "      <th></th>\n",
              "      <th>one</th>\n",
              "      <th>two</th>\n",
              "      <th>three</th>\n",
              "      <th>four</th>\n",
              "      <th>key</th>\n",
              "    </tr>\n",
              "  </thead>\n",
              "  <tbody>\n",
              "    <tr>\n",
              "      <th>0</th>\n",
              "      <td>0.467976</td>\n",
              "      <td>-0.038649</td>\n",
              "      <td>-0.295344</td>\n",
              "      <td>-1.824726</td>\n",
              "      <td>L</td>\n",
              "    </tr>\n",
              "    <tr>\n",
              "      <th>1</th>\n",
              "      <td>-0.358893</td>\n",
              "      <td>1.404453</td>\n",
              "      <td>0.704965</td>\n",
              "      <td>-0.200638</td>\n",
              "      <td>B</td>\n",
              "    </tr>\n",
              "    <tr>\n",
              "      <th>2</th>\n",
              "      <td>-0.501840</td>\n",
              "      <td>0.659254</td>\n",
              "      <td>-0.421691</td>\n",
              "      <td>-0.057688</td>\n",
              "      <td>G</td>\n",
              "    </tr>\n",
              "    <tr>\n",
              "      <th>3</th>\n",
              "      <td>0.204886</td>\n",
              "      <td>1.074134</td>\n",
              "      <td>1.388361</td>\n",
              "      <td>-0.982404</td>\n",
              "      <td>R</td>\n",
              "    </tr>\n",
              "    <tr>\n",
              "      <th>4</th>\n",
              "      <td>0.354628</td>\n",
              "      <td>-0.133116</td>\n",
              "      <td>0.283763</td>\n",
              "      <td>-0.837063</td>\n",
              "      <td>Q</td>\n",
              "    </tr>\n",
              "    <tr>\n",
              "      <th>...</th>\n",
              "      <td>...</td>\n",
              "      <td>...</td>\n",
              "      <td>...</td>\n",
              "      <td>...</td>\n",
              "      <td>...</td>\n",
              "    </tr>\n",
              "    <tr>\n",
              "      <th>9995</th>\n",
              "      <td>2.311896</td>\n",
              "      <td>-0.417070</td>\n",
              "      <td>-1.409599</td>\n",
              "      <td>-0.515821</td>\n",
              "      <td>L</td>\n",
              "    </tr>\n",
              "    <tr>\n",
              "      <th>9996</th>\n",
              "      <td>-0.479893</td>\n",
              "      <td>-0.650419</td>\n",
              "      <td>0.745152</td>\n",
              "      <td>-0.646038</td>\n",
              "      <td>E</td>\n",
              "    </tr>\n",
              "    <tr>\n",
              "      <th>9997</th>\n",
              "      <td>0.523331</td>\n",
              "      <td>0.787112</td>\n",
              "      <td>0.486066</td>\n",
              "      <td>1.093156</td>\n",
              "      <td>K</td>\n",
              "    </tr>\n",
              "    <tr>\n",
              "      <th>9998</th>\n",
              "      <td>-0.362559</td>\n",
              "      <td>0.598894</td>\n",
              "      <td>-1.843201</td>\n",
              "      <td>0.887292</td>\n",
              "      <td>G</td>\n",
              "    </tr>\n",
              "    <tr>\n",
              "      <th>9999</th>\n",
              "      <td>-0.096376</td>\n",
              "      <td>-1.012999</td>\n",
              "      <td>-0.657431</td>\n",
              "      <td>-0.573315</td>\n",
              "      <td>0</td>\n",
              "    </tr>\n",
              "  </tbody>\n",
              "</table>\n",
              "<p>10000 rows × 5 columns</p>\n",
              "</div>\n",
              "      <button class=\"colab-df-convert\" onclick=\"convertToInteractive('df-776fb18d-4217-436b-a018-d67875d498bb')\"\n",
              "              title=\"Convert this dataframe to an interactive table.\"\n",
              "              style=\"display:none;\">\n",
              "\n",
              "  <svg xmlns=\"http://www.w3.org/2000/svg\" height=\"24px\"viewBox=\"0 0 24 24\"\n",
              "       width=\"24px\">\n",
              "    <path d=\"M0 0h24v24H0V0z\" fill=\"none\"/>\n",
              "    <path d=\"M18.56 5.44l.94 2.06.94-2.06 2.06-.94-2.06-.94-.94-2.06-.94 2.06-2.06.94zm-11 1L8.5 8.5l.94-2.06 2.06-.94-2.06-.94L8.5 2.5l-.94 2.06-2.06.94zm10 10l.94 2.06.94-2.06 2.06-.94-2.06-.94-.94-2.06-.94 2.06-2.06.94z\"/><path d=\"M17.41 7.96l-1.37-1.37c-.4-.4-.92-.59-1.43-.59-.52 0-1.04.2-1.43.59L10.3 9.45l-7.72 7.72c-.78.78-.78 2.05 0 2.83L4 21.41c.39.39.9.59 1.41.59.51 0 1.02-.2 1.41-.59l7.78-7.78 2.81-2.81c.8-.78.8-2.07 0-2.86zM5.41 20L4 18.59l7.72-7.72 1.47 1.35L5.41 20z\"/>\n",
              "  </svg>\n",
              "      </button>\n",
              "\n",
              "\n",
              "\n",
              "    <div id=\"df-4ead08f9-171f-4652-8837-bb580002d54b\">\n",
              "      <button class=\"colab-df-quickchart\" onclick=\"quickchart('df-4ead08f9-171f-4652-8837-bb580002d54b')\"\n",
              "              title=\"Suggest charts.\"\n",
              "              style=\"display:none;\">\n",
              "\n",
              "<svg xmlns=\"http://www.w3.org/2000/svg\" height=\"24px\"viewBox=\"0 0 24 24\"\n",
              "     width=\"24px\">\n",
              "    <g>\n",
              "        <path d=\"M19 3H5c-1.1 0-2 .9-2 2v14c0 1.1.9 2 2 2h14c1.1 0 2-.9 2-2V5c0-1.1-.9-2-2-2zM9 17H7v-7h2v7zm4 0h-2V7h2v10zm4 0h-2v-4h2v4z\"/>\n",
              "    </g>\n",
              "</svg>\n",
              "      </button>\n",
              "    </div>\n",
              "\n",
              "<style>\n",
              "  .colab-df-quickchart {\n",
              "    background-color: #E8F0FE;\n",
              "    border: none;\n",
              "    border-radius: 50%;\n",
              "    cursor: pointer;\n",
              "    display: none;\n",
              "    fill: #1967D2;\n",
              "    height: 32px;\n",
              "    padding: 0 0 0 0;\n",
              "    width: 32px;\n",
              "  }\n",
              "\n",
              "  .colab-df-quickchart:hover {\n",
              "    background-color: #E2EBFA;\n",
              "    box-shadow: 0px 1px 2px rgba(60, 64, 67, 0.3), 0px 1px 3px 1px rgba(60, 64, 67, 0.15);\n",
              "    fill: #174EA6;\n",
              "  }\n",
              "\n",
              "  [theme=dark] .colab-df-quickchart {\n",
              "    background-color: #3B4455;\n",
              "    fill: #D2E3FC;\n",
              "  }\n",
              "\n",
              "  [theme=dark] .colab-df-quickchart:hover {\n",
              "    background-color: #434B5C;\n",
              "    box-shadow: 0px 1px 3px 1px rgba(0, 0, 0, 0.15);\n",
              "    filter: drop-shadow(0px 1px 2px rgba(0, 0, 0, 0.3));\n",
              "    fill: #FFFFFF;\n",
              "  }\n",
              "</style>\n",
              "\n",
              "    <script>\n",
              "      async function quickchart(key) {\n",
              "        const containerElement = document.querySelector('#' + key);\n",
              "        const charts = await google.colab.kernel.invokeFunction(\n",
              "            'suggestCharts', [key], {});\n",
              "      }\n",
              "    </script>\n",
              "\n",
              "      <script>\n",
              "\n",
              "function displayQuickchartButton(domScope) {\n",
              "  let quickchartButtonEl =\n",
              "    domScope.querySelector('#df-4ead08f9-171f-4652-8837-bb580002d54b button.colab-df-quickchart');\n",
              "  quickchartButtonEl.style.display =\n",
              "    google.colab.kernel.accessAllowed ? 'block' : 'none';\n",
              "}\n",
              "\n",
              "        displayQuickchartButton(document);\n",
              "      </script>\n",
              "      <style>\n",
              "    .colab-df-container {\n",
              "      display:flex;\n",
              "      flex-wrap:wrap;\n",
              "      gap: 12px;\n",
              "    }\n",
              "\n",
              "    .colab-df-convert {\n",
              "      background-color: #E8F0FE;\n",
              "      border: none;\n",
              "      border-radius: 50%;\n",
              "      cursor: pointer;\n",
              "      display: none;\n",
              "      fill: #1967D2;\n",
              "      height: 32px;\n",
              "      padding: 0 0 0 0;\n",
              "      width: 32px;\n",
              "    }\n",
              "\n",
              "    .colab-df-convert:hover {\n",
              "      background-color: #E2EBFA;\n",
              "      box-shadow: 0px 1px 2px rgba(60, 64, 67, 0.3), 0px 1px 3px 1px rgba(60, 64, 67, 0.15);\n",
              "      fill: #174EA6;\n",
              "    }\n",
              "\n",
              "    [theme=dark] .colab-df-convert {\n",
              "      background-color: #3B4455;\n",
              "      fill: #D2E3FC;\n",
              "    }\n",
              "\n",
              "    [theme=dark] .colab-df-convert:hover {\n",
              "      background-color: #434B5C;\n",
              "      box-shadow: 0px 1px 3px 1px rgba(0, 0, 0, 0.15);\n",
              "      filter: drop-shadow(0px 1px 2px rgba(0, 0, 0, 0.3));\n",
              "      fill: #FFFFFF;\n",
              "    }\n",
              "  </style>\n",
              "\n",
              "      <script>\n",
              "        const buttonEl =\n",
              "          document.querySelector('#df-776fb18d-4217-436b-a018-d67875d498bb button.colab-df-convert');\n",
              "        buttonEl.style.display =\n",
              "          google.colab.kernel.accessAllowed ? 'block' : 'none';\n",
              "\n",
              "        async function convertToInteractive(key) {\n",
              "          const element = document.querySelector('#df-776fb18d-4217-436b-a018-d67875d498bb');\n",
              "          const dataTable =\n",
              "            await google.colab.kernel.invokeFunction('convertToInteractive',\n",
              "                                                     [key], {});\n",
              "          if (!dataTable) return;\n",
              "\n",
              "          const docLinkHtml = 'Like what you see? Visit the ' +\n",
              "            '<a target=\"_blank\" href=https://colab.research.google.com/notebooks/data_table.ipynb>data table notebook</a>'\n",
              "            + ' to learn more about interactive tables.';\n",
              "          element.innerHTML = '';\n",
              "          dataTable['output_type'] = 'display_data';\n",
              "          await google.colab.output.renderOutput(dataTable, element);\n",
              "          const docLink = document.createElement('div');\n",
              "          docLink.innerHTML = docLinkHtml;\n",
              "          element.appendChild(docLink);\n",
              "        }\n",
              "      </script>\n",
              "    </div>\n",
              "  </div>\n"
            ]
          },
          "metadata": {},
          "execution_count": 19
        }
      ]
    },
    {
      "cell_type": "code",
      "source": [
        "df.head()"
      ],
      "metadata": {
        "colab": {
          "base_uri": "https://localhost:8080/",
          "height": 206
        },
        "id": "lFZH-fOQ4t4y",
        "outputId": "2383fcb9-9338-45c1-c089-dc08cc95c275"
      },
      "execution_count": null,
      "outputs": [
        {
          "output_type": "execute_result",
          "data": {
            "text/plain": [
              "        one       two     three      four key\n",
              "0  0.467976 -0.038649 -0.295344 -1.824726   L\n",
              "1 -0.358893  1.404453  0.704965 -0.200638   B\n",
              "2 -0.501840  0.659254 -0.421691 -0.057688   G\n",
              "3  0.204886  1.074134  1.388361 -0.982404   R\n",
              "4  0.354628 -0.133116  0.283763 -0.837063   Q"
            ],
            "text/html": [
              "\n",
              "\n",
              "  <div id=\"df-df38f6fe-5a77-4cad-9b96-6baccb6364de\">\n",
              "    <div class=\"colab-df-container\">\n",
              "      <div>\n",
              "<style scoped>\n",
              "    .dataframe tbody tr th:only-of-type {\n",
              "        vertical-align: middle;\n",
              "    }\n",
              "\n",
              "    .dataframe tbody tr th {\n",
              "        vertical-align: top;\n",
              "    }\n",
              "\n",
              "    .dataframe thead th {\n",
              "        text-align: right;\n",
              "    }\n",
              "</style>\n",
              "<table border=\"1\" class=\"dataframe\">\n",
              "  <thead>\n",
              "    <tr style=\"text-align: right;\">\n",
              "      <th></th>\n",
              "      <th>one</th>\n",
              "      <th>two</th>\n",
              "      <th>three</th>\n",
              "      <th>four</th>\n",
              "      <th>key</th>\n",
              "    </tr>\n",
              "  </thead>\n",
              "  <tbody>\n",
              "    <tr>\n",
              "      <th>0</th>\n",
              "      <td>0.467976</td>\n",
              "      <td>-0.038649</td>\n",
              "      <td>-0.295344</td>\n",
              "      <td>-1.824726</td>\n",
              "      <td>L</td>\n",
              "    </tr>\n",
              "    <tr>\n",
              "      <th>1</th>\n",
              "      <td>-0.358893</td>\n",
              "      <td>1.404453</td>\n",
              "      <td>0.704965</td>\n",
              "      <td>-0.200638</td>\n",
              "      <td>B</td>\n",
              "    </tr>\n",
              "    <tr>\n",
              "      <th>2</th>\n",
              "      <td>-0.501840</td>\n",
              "      <td>0.659254</td>\n",
              "      <td>-0.421691</td>\n",
              "      <td>-0.057688</td>\n",
              "      <td>G</td>\n",
              "    </tr>\n",
              "    <tr>\n",
              "      <th>3</th>\n",
              "      <td>0.204886</td>\n",
              "      <td>1.074134</td>\n",
              "      <td>1.388361</td>\n",
              "      <td>-0.982404</td>\n",
              "      <td>R</td>\n",
              "    </tr>\n",
              "    <tr>\n",
              "      <th>4</th>\n",
              "      <td>0.354628</td>\n",
              "      <td>-0.133116</td>\n",
              "      <td>0.283763</td>\n",
              "      <td>-0.837063</td>\n",
              "      <td>Q</td>\n",
              "    </tr>\n",
              "  </tbody>\n",
              "</table>\n",
              "</div>\n",
              "      <button class=\"colab-df-convert\" onclick=\"convertToInteractive('df-df38f6fe-5a77-4cad-9b96-6baccb6364de')\"\n",
              "              title=\"Convert this dataframe to an interactive table.\"\n",
              "              style=\"display:none;\">\n",
              "\n",
              "  <svg xmlns=\"http://www.w3.org/2000/svg\" height=\"24px\"viewBox=\"0 0 24 24\"\n",
              "       width=\"24px\">\n",
              "    <path d=\"M0 0h24v24H0V0z\" fill=\"none\"/>\n",
              "    <path d=\"M18.56 5.44l.94 2.06.94-2.06 2.06-.94-2.06-.94-.94-2.06-.94 2.06-2.06.94zm-11 1L8.5 8.5l.94-2.06 2.06-.94-2.06-.94L8.5 2.5l-.94 2.06-2.06.94zm10 10l.94 2.06.94-2.06 2.06-.94-2.06-.94-.94-2.06-.94 2.06-2.06.94z\"/><path d=\"M17.41 7.96l-1.37-1.37c-.4-.4-.92-.59-1.43-.59-.52 0-1.04.2-1.43.59L10.3 9.45l-7.72 7.72c-.78.78-.78 2.05 0 2.83L4 21.41c.39.39.9.59 1.41.59.51 0 1.02-.2 1.41-.59l7.78-7.78 2.81-2.81c.8-.78.8-2.07 0-2.86zM5.41 20L4 18.59l7.72-7.72 1.47 1.35L5.41 20z\"/>\n",
              "  </svg>\n",
              "      </button>\n",
              "\n",
              "\n",
              "\n",
              "    <div id=\"df-0a9bf1ad-573c-49c2-a6c4-0f90d4860b6b\">\n",
              "      <button class=\"colab-df-quickchart\" onclick=\"quickchart('df-0a9bf1ad-573c-49c2-a6c4-0f90d4860b6b')\"\n",
              "              title=\"Suggest charts.\"\n",
              "              style=\"display:none;\">\n",
              "\n",
              "<svg xmlns=\"http://www.w3.org/2000/svg\" height=\"24px\"viewBox=\"0 0 24 24\"\n",
              "     width=\"24px\">\n",
              "    <g>\n",
              "        <path d=\"M19 3H5c-1.1 0-2 .9-2 2v14c0 1.1.9 2 2 2h14c1.1 0 2-.9 2-2V5c0-1.1-.9-2-2-2zM9 17H7v-7h2v7zm4 0h-2V7h2v10zm4 0h-2v-4h2v4z\"/>\n",
              "    </g>\n",
              "</svg>\n",
              "      </button>\n",
              "    </div>\n",
              "\n",
              "<style>\n",
              "  .colab-df-quickchart {\n",
              "    background-color: #E8F0FE;\n",
              "    border: none;\n",
              "    border-radius: 50%;\n",
              "    cursor: pointer;\n",
              "    display: none;\n",
              "    fill: #1967D2;\n",
              "    height: 32px;\n",
              "    padding: 0 0 0 0;\n",
              "    width: 32px;\n",
              "  }\n",
              "\n",
              "  .colab-df-quickchart:hover {\n",
              "    background-color: #E2EBFA;\n",
              "    box-shadow: 0px 1px 2px rgba(60, 64, 67, 0.3), 0px 1px 3px 1px rgba(60, 64, 67, 0.15);\n",
              "    fill: #174EA6;\n",
              "  }\n",
              "\n",
              "  [theme=dark] .colab-df-quickchart {\n",
              "    background-color: #3B4455;\n",
              "    fill: #D2E3FC;\n",
              "  }\n",
              "\n",
              "  [theme=dark] .colab-df-quickchart:hover {\n",
              "    background-color: #434B5C;\n",
              "    box-shadow: 0px 1px 3px 1px rgba(0, 0, 0, 0.15);\n",
              "    filter: drop-shadow(0px 1px 2px rgba(0, 0, 0, 0.3));\n",
              "    fill: #FFFFFF;\n",
              "  }\n",
              "</style>\n",
              "\n",
              "    <script>\n",
              "      async function quickchart(key) {\n",
              "        const containerElement = document.querySelector('#' + key);\n",
              "        const charts = await google.colab.kernel.invokeFunction(\n",
              "            'suggestCharts', [key], {});\n",
              "      }\n",
              "    </script>\n",
              "\n",
              "      <script>\n",
              "\n",
              "function displayQuickchartButton(domScope) {\n",
              "  let quickchartButtonEl =\n",
              "    domScope.querySelector('#df-0a9bf1ad-573c-49c2-a6c4-0f90d4860b6b button.colab-df-quickchart');\n",
              "  quickchartButtonEl.style.display =\n",
              "    google.colab.kernel.accessAllowed ? 'block' : 'none';\n",
              "}\n",
              "\n",
              "        displayQuickchartButton(document);\n",
              "      </script>\n",
              "      <style>\n",
              "    .colab-df-container {\n",
              "      display:flex;\n",
              "      flex-wrap:wrap;\n",
              "      gap: 12px;\n",
              "    }\n",
              "\n",
              "    .colab-df-convert {\n",
              "      background-color: #E8F0FE;\n",
              "      border: none;\n",
              "      border-radius: 50%;\n",
              "      cursor: pointer;\n",
              "      display: none;\n",
              "      fill: #1967D2;\n",
              "      height: 32px;\n",
              "      padding: 0 0 0 0;\n",
              "      width: 32px;\n",
              "    }\n",
              "\n",
              "    .colab-df-convert:hover {\n",
              "      background-color: #E2EBFA;\n",
              "      box-shadow: 0px 1px 2px rgba(60, 64, 67, 0.3), 0px 1px 3px 1px rgba(60, 64, 67, 0.15);\n",
              "      fill: #174EA6;\n",
              "    }\n",
              "\n",
              "    [theme=dark] .colab-df-convert {\n",
              "      background-color: #3B4455;\n",
              "      fill: #D2E3FC;\n",
              "    }\n",
              "\n",
              "    [theme=dark] .colab-df-convert:hover {\n",
              "      background-color: #434B5C;\n",
              "      box-shadow: 0px 1px 3px 1px rgba(0, 0, 0, 0.15);\n",
              "      filter: drop-shadow(0px 1px 2px rgba(0, 0, 0, 0.3));\n",
              "      fill: #FFFFFF;\n",
              "    }\n",
              "  </style>\n",
              "\n",
              "      <script>\n",
              "        const buttonEl =\n",
              "          document.querySelector('#df-df38f6fe-5a77-4cad-9b96-6baccb6364de button.colab-df-convert');\n",
              "        buttonEl.style.display =\n",
              "          google.colab.kernel.accessAllowed ? 'block' : 'none';\n",
              "\n",
              "        async function convertToInteractive(key) {\n",
              "          const element = document.querySelector('#df-df38f6fe-5a77-4cad-9b96-6baccb6364de');\n",
              "          const dataTable =\n",
              "            await google.colab.kernel.invokeFunction('convertToInteractive',\n",
              "                                                     [key], {});\n",
              "          if (!dataTable) return;\n",
              "\n",
              "          const docLinkHtml = 'Like what you see? Visit the ' +\n",
              "            '<a target=\"_blank\" href=https://colab.research.google.com/notebooks/data_table.ipynb>data table notebook</a>'\n",
              "            + ' to learn more about interactive tables.';\n",
              "          element.innerHTML = '';\n",
              "          dataTable['output_type'] = 'display_data';\n",
              "          await google.colab.output.renderOutput(dataTable, element);\n",
              "          const docLink = document.createElement('div');\n",
              "          docLink.innerHTML = docLinkHtml;\n",
              "          element.appendChild(docLink);\n",
              "        }\n",
              "      </script>\n",
              "    </div>\n",
              "  </div>\n"
            ]
          },
          "metadata": {},
          "execution_count": 20
        }
      ]
    },
    {
      "cell_type": "code",
      "source": [
        "df.tail()"
      ],
      "metadata": {
        "colab": {
          "base_uri": "https://localhost:8080/",
          "height": 206
        },
        "id": "k-vabFWf4zwC",
        "outputId": "4797440d-02a2-4ae8-f702-3070bfc9938f"
      },
      "execution_count": null,
      "outputs": [
        {
          "output_type": "execute_result",
          "data": {
            "text/plain": [
              "           one       two     three      four key\n",
              "9995  2.311896 -0.417070 -1.409599 -0.515821   L\n",
              "9996 -0.479893 -0.650419  0.745152 -0.646038   E\n",
              "9997  0.523331  0.787112  0.486066  1.093156   K\n",
              "9998 -0.362559  0.598894 -1.843201  0.887292   G\n",
              "9999 -0.096376 -1.012999 -0.657431 -0.573315   0"
            ],
            "text/html": [
              "\n",
              "\n",
              "  <div id=\"df-4b30c3ba-9167-47ff-82cc-d35d12025682\">\n",
              "    <div class=\"colab-df-container\">\n",
              "      <div>\n",
              "<style scoped>\n",
              "    .dataframe tbody tr th:only-of-type {\n",
              "        vertical-align: middle;\n",
              "    }\n",
              "\n",
              "    .dataframe tbody tr th {\n",
              "        vertical-align: top;\n",
              "    }\n",
              "\n",
              "    .dataframe thead th {\n",
              "        text-align: right;\n",
              "    }\n",
              "</style>\n",
              "<table border=\"1\" class=\"dataframe\">\n",
              "  <thead>\n",
              "    <tr style=\"text-align: right;\">\n",
              "      <th></th>\n",
              "      <th>one</th>\n",
              "      <th>two</th>\n",
              "      <th>three</th>\n",
              "      <th>four</th>\n",
              "      <th>key</th>\n",
              "    </tr>\n",
              "  </thead>\n",
              "  <tbody>\n",
              "    <tr>\n",
              "      <th>9995</th>\n",
              "      <td>2.311896</td>\n",
              "      <td>-0.417070</td>\n",
              "      <td>-1.409599</td>\n",
              "      <td>-0.515821</td>\n",
              "      <td>L</td>\n",
              "    </tr>\n",
              "    <tr>\n",
              "      <th>9996</th>\n",
              "      <td>-0.479893</td>\n",
              "      <td>-0.650419</td>\n",
              "      <td>0.745152</td>\n",
              "      <td>-0.646038</td>\n",
              "      <td>E</td>\n",
              "    </tr>\n",
              "    <tr>\n",
              "      <th>9997</th>\n",
              "      <td>0.523331</td>\n",
              "      <td>0.787112</td>\n",
              "      <td>0.486066</td>\n",
              "      <td>1.093156</td>\n",
              "      <td>K</td>\n",
              "    </tr>\n",
              "    <tr>\n",
              "      <th>9998</th>\n",
              "      <td>-0.362559</td>\n",
              "      <td>0.598894</td>\n",
              "      <td>-1.843201</td>\n",
              "      <td>0.887292</td>\n",
              "      <td>G</td>\n",
              "    </tr>\n",
              "    <tr>\n",
              "      <th>9999</th>\n",
              "      <td>-0.096376</td>\n",
              "      <td>-1.012999</td>\n",
              "      <td>-0.657431</td>\n",
              "      <td>-0.573315</td>\n",
              "      <td>0</td>\n",
              "    </tr>\n",
              "  </tbody>\n",
              "</table>\n",
              "</div>\n",
              "      <button class=\"colab-df-convert\" onclick=\"convertToInteractive('df-4b30c3ba-9167-47ff-82cc-d35d12025682')\"\n",
              "              title=\"Convert this dataframe to an interactive table.\"\n",
              "              style=\"display:none;\">\n",
              "\n",
              "  <svg xmlns=\"http://www.w3.org/2000/svg\" height=\"24px\"viewBox=\"0 0 24 24\"\n",
              "       width=\"24px\">\n",
              "    <path d=\"M0 0h24v24H0V0z\" fill=\"none\"/>\n",
              "    <path d=\"M18.56 5.44l.94 2.06.94-2.06 2.06-.94-2.06-.94-.94-2.06-.94 2.06-2.06.94zm-11 1L8.5 8.5l.94-2.06 2.06-.94-2.06-.94L8.5 2.5l-.94 2.06-2.06.94zm10 10l.94 2.06.94-2.06 2.06-.94-2.06-.94-.94-2.06-.94 2.06-2.06.94z\"/><path d=\"M17.41 7.96l-1.37-1.37c-.4-.4-.92-.59-1.43-.59-.52 0-1.04.2-1.43.59L10.3 9.45l-7.72 7.72c-.78.78-.78 2.05 0 2.83L4 21.41c.39.39.9.59 1.41.59.51 0 1.02-.2 1.41-.59l7.78-7.78 2.81-2.81c.8-.78.8-2.07 0-2.86zM5.41 20L4 18.59l7.72-7.72 1.47 1.35L5.41 20z\"/>\n",
              "  </svg>\n",
              "      </button>\n",
              "\n",
              "\n",
              "\n",
              "    <div id=\"df-2efb4ba8-0185-4d75-b465-53c4bd599c8d\">\n",
              "      <button class=\"colab-df-quickchart\" onclick=\"quickchart('df-2efb4ba8-0185-4d75-b465-53c4bd599c8d')\"\n",
              "              title=\"Suggest charts.\"\n",
              "              style=\"display:none;\">\n",
              "\n",
              "<svg xmlns=\"http://www.w3.org/2000/svg\" height=\"24px\"viewBox=\"0 0 24 24\"\n",
              "     width=\"24px\">\n",
              "    <g>\n",
              "        <path d=\"M19 3H5c-1.1 0-2 .9-2 2v14c0 1.1.9 2 2 2h14c1.1 0 2-.9 2-2V5c0-1.1-.9-2-2-2zM9 17H7v-7h2v7zm4 0h-2V7h2v10zm4 0h-2v-4h2v4z\"/>\n",
              "    </g>\n",
              "</svg>\n",
              "      </button>\n",
              "    </div>\n",
              "\n",
              "<style>\n",
              "  .colab-df-quickchart {\n",
              "    background-color: #E8F0FE;\n",
              "    border: none;\n",
              "    border-radius: 50%;\n",
              "    cursor: pointer;\n",
              "    display: none;\n",
              "    fill: #1967D2;\n",
              "    height: 32px;\n",
              "    padding: 0 0 0 0;\n",
              "    width: 32px;\n",
              "  }\n",
              "\n",
              "  .colab-df-quickchart:hover {\n",
              "    background-color: #E2EBFA;\n",
              "    box-shadow: 0px 1px 2px rgba(60, 64, 67, 0.3), 0px 1px 3px 1px rgba(60, 64, 67, 0.15);\n",
              "    fill: #174EA6;\n",
              "  }\n",
              "\n",
              "  [theme=dark] .colab-df-quickchart {\n",
              "    background-color: #3B4455;\n",
              "    fill: #D2E3FC;\n",
              "  }\n",
              "\n",
              "  [theme=dark] .colab-df-quickchart:hover {\n",
              "    background-color: #434B5C;\n",
              "    box-shadow: 0px 1px 3px 1px rgba(0, 0, 0, 0.15);\n",
              "    filter: drop-shadow(0px 1px 2px rgba(0, 0, 0, 0.3));\n",
              "    fill: #FFFFFF;\n",
              "  }\n",
              "</style>\n",
              "\n",
              "    <script>\n",
              "      async function quickchart(key) {\n",
              "        const containerElement = document.querySelector('#' + key);\n",
              "        const charts = await google.colab.kernel.invokeFunction(\n",
              "            'suggestCharts', [key], {});\n",
              "      }\n",
              "    </script>\n",
              "\n",
              "      <script>\n",
              "\n",
              "function displayQuickchartButton(domScope) {\n",
              "  let quickchartButtonEl =\n",
              "    domScope.querySelector('#df-2efb4ba8-0185-4d75-b465-53c4bd599c8d button.colab-df-quickchart');\n",
              "  quickchartButtonEl.style.display =\n",
              "    google.colab.kernel.accessAllowed ? 'block' : 'none';\n",
              "}\n",
              "\n",
              "        displayQuickchartButton(document);\n",
              "      </script>\n",
              "      <style>\n",
              "    .colab-df-container {\n",
              "      display:flex;\n",
              "      flex-wrap:wrap;\n",
              "      gap: 12px;\n",
              "    }\n",
              "\n",
              "    .colab-df-convert {\n",
              "      background-color: #E8F0FE;\n",
              "      border: none;\n",
              "      border-radius: 50%;\n",
              "      cursor: pointer;\n",
              "      display: none;\n",
              "      fill: #1967D2;\n",
              "      height: 32px;\n",
              "      padding: 0 0 0 0;\n",
              "      width: 32px;\n",
              "    }\n",
              "\n",
              "    .colab-df-convert:hover {\n",
              "      background-color: #E2EBFA;\n",
              "      box-shadow: 0px 1px 2px rgba(60, 64, 67, 0.3), 0px 1px 3px 1px rgba(60, 64, 67, 0.15);\n",
              "      fill: #174EA6;\n",
              "    }\n",
              "\n",
              "    [theme=dark] .colab-df-convert {\n",
              "      background-color: #3B4455;\n",
              "      fill: #D2E3FC;\n",
              "    }\n",
              "\n",
              "    [theme=dark] .colab-df-convert:hover {\n",
              "      background-color: #434B5C;\n",
              "      box-shadow: 0px 1px 3px 1px rgba(0, 0, 0, 0.15);\n",
              "      filter: drop-shadow(0px 1px 2px rgba(0, 0, 0, 0.3));\n",
              "      fill: #FFFFFF;\n",
              "    }\n",
              "  </style>\n",
              "\n",
              "      <script>\n",
              "        const buttonEl =\n",
              "          document.querySelector('#df-4b30c3ba-9167-47ff-82cc-d35d12025682 button.colab-df-convert');\n",
              "        buttonEl.style.display =\n",
              "          google.colab.kernel.accessAllowed ? 'block' : 'none';\n",
              "\n",
              "        async function convertToInteractive(key) {\n",
              "          const element = document.querySelector('#df-4b30c3ba-9167-47ff-82cc-d35d12025682');\n",
              "          const dataTable =\n",
              "            await google.colab.kernel.invokeFunction('convertToInteractive',\n",
              "                                                     [key], {});\n",
              "          if (!dataTable) return;\n",
              "\n",
              "          const docLinkHtml = 'Like what you see? Visit the ' +\n",
              "            '<a target=\"_blank\" href=https://colab.research.google.com/notebooks/data_table.ipynb>data table notebook</a>'\n",
              "            + ' to learn more about interactive tables.';\n",
              "          element.innerHTML = '';\n",
              "          dataTable['output_type'] = 'display_data';\n",
              "          await google.colab.output.renderOutput(dataTable, element);\n",
              "          const docLink = document.createElement('div');\n",
              "          docLink.innerHTML = docLinkHtml;\n",
              "          element.appendChild(docLink);\n",
              "        }\n",
              "      </script>\n",
              "    </div>\n",
              "  </div>\n"
            ]
          },
          "metadata": {},
          "execution_count": 21
        }
      ]
    },
    {
      "cell_type": "code",
      "source": [
        "df.info()"
      ],
      "metadata": {
        "colab": {
          "base_uri": "https://localhost:8080/"
        },
        "id": "A90MIa4Y41KS",
        "outputId": "d897522f-b212-4c7c-d858-0df1328a1b08"
      },
      "execution_count": null,
      "outputs": [
        {
          "output_type": "stream",
          "name": "stdout",
          "text": [
            "<class 'pandas.core.frame.DataFrame'>\n",
            "RangeIndex: 10000 entries, 0 to 9999\n",
            "Data columns (total 5 columns):\n",
            " #   Column  Non-Null Count  Dtype  \n",
            "---  ------  --------------  -----  \n",
            " 0   one     10000 non-null  float64\n",
            " 1   two     10000 non-null  float64\n",
            " 2   three   10000 non-null  float64\n",
            " 3   four    10000 non-null  float64\n",
            " 4   key     10000 non-null  object \n",
            "dtypes: float64(4), object(1)\n",
            "memory usage: 390.8+ KB\n"
          ]
        }
      ]
    },
    {
      "cell_type": "code",
      "source": [
        "df.describe()"
      ],
      "metadata": {
        "colab": {
          "base_uri": "https://localhost:8080/",
          "height": 300
        },
        "id": "F0SRVNcM49uB",
        "outputId": "abc849c3-715e-4dd5-c1c7-e11ab61532e7"
      },
      "execution_count": null,
      "outputs": [
        {
          "output_type": "execute_result",
          "data": {
            "text/plain": [
              "                one           two         three          four\n",
              "count  10000.000000  10000.000000  10000.000000  10000.000000\n",
              "mean       0.045750      0.000871     -0.026463      0.015985\n",
              "std        0.948825      1.003829      1.037273      0.982409\n",
              "min       -3.726864     -3.465356     -3.234391     -3.173509\n",
              "25%       -0.618617     -0.706643     -0.727791     -0.676291\n",
              "50%        0.041638      0.018972     -0.032340     -0.005338\n",
              "75%        0.701536      0.708405      0.626904      0.659369\n",
              "max        2.833891      2.946737      3.053345      3.412734"
            ],
            "text/html": [
              "\n",
              "\n",
              "  <div id=\"df-48111e94-3803-4de6-87c6-5055a7bd7dc1\">\n",
              "    <div class=\"colab-df-container\">\n",
              "      <div>\n",
              "<style scoped>\n",
              "    .dataframe tbody tr th:only-of-type {\n",
              "        vertical-align: middle;\n",
              "    }\n",
              "\n",
              "    .dataframe tbody tr th {\n",
              "        vertical-align: top;\n",
              "    }\n",
              "\n",
              "    .dataframe thead th {\n",
              "        text-align: right;\n",
              "    }\n",
              "</style>\n",
              "<table border=\"1\" class=\"dataframe\">\n",
              "  <thead>\n",
              "    <tr style=\"text-align: right;\">\n",
              "      <th></th>\n",
              "      <th>one</th>\n",
              "      <th>two</th>\n",
              "      <th>three</th>\n",
              "      <th>four</th>\n",
              "    </tr>\n",
              "  </thead>\n",
              "  <tbody>\n",
              "    <tr>\n",
              "      <th>count</th>\n",
              "      <td>10000.000000</td>\n",
              "      <td>10000.000000</td>\n",
              "      <td>10000.000000</td>\n",
              "      <td>10000.000000</td>\n",
              "    </tr>\n",
              "    <tr>\n",
              "      <th>mean</th>\n",
              "      <td>0.045750</td>\n",
              "      <td>0.000871</td>\n",
              "      <td>-0.026463</td>\n",
              "      <td>0.015985</td>\n",
              "    </tr>\n",
              "    <tr>\n",
              "      <th>std</th>\n",
              "      <td>0.948825</td>\n",
              "      <td>1.003829</td>\n",
              "      <td>1.037273</td>\n",
              "      <td>0.982409</td>\n",
              "    </tr>\n",
              "    <tr>\n",
              "      <th>min</th>\n",
              "      <td>-3.726864</td>\n",
              "      <td>-3.465356</td>\n",
              "      <td>-3.234391</td>\n",
              "      <td>-3.173509</td>\n",
              "    </tr>\n",
              "    <tr>\n",
              "      <th>25%</th>\n",
              "      <td>-0.618617</td>\n",
              "      <td>-0.706643</td>\n",
              "      <td>-0.727791</td>\n",
              "      <td>-0.676291</td>\n",
              "    </tr>\n",
              "    <tr>\n",
              "      <th>50%</th>\n",
              "      <td>0.041638</td>\n",
              "      <td>0.018972</td>\n",
              "      <td>-0.032340</td>\n",
              "      <td>-0.005338</td>\n",
              "    </tr>\n",
              "    <tr>\n",
              "      <th>75%</th>\n",
              "      <td>0.701536</td>\n",
              "      <td>0.708405</td>\n",
              "      <td>0.626904</td>\n",
              "      <td>0.659369</td>\n",
              "    </tr>\n",
              "    <tr>\n",
              "      <th>max</th>\n",
              "      <td>2.833891</td>\n",
              "      <td>2.946737</td>\n",
              "      <td>3.053345</td>\n",
              "      <td>3.412734</td>\n",
              "    </tr>\n",
              "  </tbody>\n",
              "</table>\n",
              "</div>\n",
              "      <button class=\"colab-df-convert\" onclick=\"convertToInteractive('df-48111e94-3803-4de6-87c6-5055a7bd7dc1')\"\n",
              "              title=\"Convert this dataframe to an interactive table.\"\n",
              "              style=\"display:none;\">\n",
              "\n",
              "  <svg xmlns=\"http://www.w3.org/2000/svg\" height=\"24px\"viewBox=\"0 0 24 24\"\n",
              "       width=\"24px\">\n",
              "    <path d=\"M0 0h24v24H0V0z\" fill=\"none\"/>\n",
              "    <path d=\"M18.56 5.44l.94 2.06.94-2.06 2.06-.94-2.06-.94-.94-2.06-.94 2.06-2.06.94zm-11 1L8.5 8.5l.94-2.06 2.06-.94-2.06-.94L8.5 2.5l-.94 2.06-2.06.94zm10 10l.94 2.06.94-2.06 2.06-.94-2.06-.94-.94-2.06-.94 2.06-2.06.94z\"/><path d=\"M17.41 7.96l-1.37-1.37c-.4-.4-.92-.59-1.43-.59-.52 0-1.04.2-1.43.59L10.3 9.45l-7.72 7.72c-.78.78-.78 2.05 0 2.83L4 21.41c.39.39.9.59 1.41.59.51 0 1.02-.2 1.41-.59l7.78-7.78 2.81-2.81c.8-.78.8-2.07 0-2.86zM5.41 20L4 18.59l7.72-7.72 1.47 1.35L5.41 20z\"/>\n",
              "  </svg>\n",
              "      </button>\n",
              "\n",
              "\n",
              "\n",
              "    <div id=\"df-8892e4a0-7ff3-48f8-b62f-47d664447069\">\n",
              "      <button class=\"colab-df-quickchart\" onclick=\"quickchart('df-8892e4a0-7ff3-48f8-b62f-47d664447069')\"\n",
              "              title=\"Suggest charts.\"\n",
              "              style=\"display:none;\">\n",
              "\n",
              "<svg xmlns=\"http://www.w3.org/2000/svg\" height=\"24px\"viewBox=\"0 0 24 24\"\n",
              "     width=\"24px\">\n",
              "    <g>\n",
              "        <path d=\"M19 3H5c-1.1 0-2 .9-2 2v14c0 1.1.9 2 2 2h14c1.1 0 2-.9 2-2V5c0-1.1-.9-2-2-2zM9 17H7v-7h2v7zm4 0h-2V7h2v10zm4 0h-2v-4h2v4z\"/>\n",
              "    </g>\n",
              "</svg>\n",
              "      </button>\n",
              "    </div>\n",
              "\n",
              "<style>\n",
              "  .colab-df-quickchart {\n",
              "    background-color: #E8F0FE;\n",
              "    border: none;\n",
              "    border-radius: 50%;\n",
              "    cursor: pointer;\n",
              "    display: none;\n",
              "    fill: #1967D2;\n",
              "    height: 32px;\n",
              "    padding: 0 0 0 0;\n",
              "    width: 32px;\n",
              "  }\n",
              "\n",
              "  .colab-df-quickchart:hover {\n",
              "    background-color: #E2EBFA;\n",
              "    box-shadow: 0px 1px 2px rgba(60, 64, 67, 0.3), 0px 1px 3px 1px rgba(60, 64, 67, 0.15);\n",
              "    fill: #174EA6;\n",
              "  }\n",
              "\n",
              "  [theme=dark] .colab-df-quickchart {\n",
              "    background-color: #3B4455;\n",
              "    fill: #D2E3FC;\n",
              "  }\n",
              "\n",
              "  [theme=dark] .colab-df-quickchart:hover {\n",
              "    background-color: #434B5C;\n",
              "    box-shadow: 0px 1px 3px 1px rgba(0, 0, 0, 0.15);\n",
              "    filter: drop-shadow(0px 1px 2px rgba(0, 0, 0, 0.3));\n",
              "    fill: #FFFFFF;\n",
              "  }\n",
              "</style>\n",
              "\n",
              "    <script>\n",
              "      async function quickchart(key) {\n",
              "        const containerElement = document.querySelector('#' + key);\n",
              "        const charts = await google.colab.kernel.invokeFunction(\n",
              "            'suggestCharts', [key], {});\n",
              "      }\n",
              "    </script>\n",
              "\n",
              "      <script>\n",
              "\n",
              "function displayQuickchartButton(domScope) {\n",
              "  let quickchartButtonEl =\n",
              "    domScope.querySelector('#df-8892e4a0-7ff3-48f8-b62f-47d664447069 button.colab-df-quickchart');\n",
              "  quickchartButtonEl.style.display =\n",
              "    google.colab.kernel.accessAllowed ? 'block' : 'none';\n",
              "}\n",
              "\n",
              "        displayQuickchartButton(document);\n",
              "      </script>\n",
              "      <style>\n",
              "    .colab-df-container {\n",
              "      display:flex;\n",
              "      flex-wrap:wrap;\n",
              "      gap: 12px;\n",
              "    }\n",
              "\n",
              "    .colab-df-convert {\n",
              "      background-color: #E8F0FE;\n",
              "      border: none;\n",
              "      border-radius: 50%;\n",
              "      cursor: pointer;\n",
              "      display: none;\n",
              "      fill: #1967D2;\n",
              "      height: 32px;\n",
              "      padding: 0 0 0 0;\n",
              "      width: 32px;\n",
              "    }\n",
              "\n",
              "    .colab-df-convert:hover {\n",
              "      background-color: #E2EBFA;\n",
              "      box-shadow: 0px 1px 2px rgba(60, 64, 67, 0.3), 0px 1px 3px 1px rgba(60, 64, 67, 0.15);\n",
              "      fill: #174EA6;\n",
              "    }\n",
              "\n",
              "    [theme=dark] .colab-df-convert {\n",
              "      background-color: #3B4455;\n",
              "      fill: #D2E3FC;\n",
              "    }\n",
              "\n",
              "    [theme=dark] .colab-df-convert:hover {\n",
              "      background-color: #434B5C;\n",
              "      box-shadow: 0px 1px 3px 1px rgba(0, 0, 0, 0.15);\n",
              "      filter: drop-shadow(0px 1px 2px rgba(0, 0, 0, 0.3));\n",
              "      fill: #FFFFFF;\n",
              "    }\n",
              "  </style>\n",
              "\n",
              "      <script>\n",
              "        const buttonEl =\n",
              "          document.querySelector('#df-48111e94-3803-4de6-87c6-5055a7bd7dc1 button.colab-df-convert');\n",
              "        buttonEl.style.display =\n",
              "          google.colab.kernel.accessAllowed ? 'block' : 'none';\n",
              "\n",
              "        async function convertToInteractive(key) {\n",
              "          const element = document.querySelector('#df-48111e94-3803-4de6-87c6-5055a7bd7dc1');\n",
              "          const dataTable =\n",
              "            await google.colab.kernel.invokeFunction('convertToInteractive',\n",
              "                                                     [key], {});\n",
              "          if (!dataTable) return;\n",
              "\n",
              "          const docLinkHtml = 'Like what you see? Visit the ' +\n",
              "            '<a target=\"_blank\" href=https://colab.research.google.com/notebooks/data_table.ipynb>data table notebook</a>'\n",
              "            + ' to learn more about interactive tables.';\n",
              "          element.innerHTML = '';\n",
              "          dataTable['output_type'] = 'display_data';\n",
              "          await google.colab.output.renderOutput(dataTable, element);\n",
              "          const docLink = document.createElement('div');\n",
              "          docLink.innerHTML = docLinkHtml;\n",
              "          element.appendChild(docLink);\n",
              "        }\n",
              "      </script>\n",
              "    </div>\n",
              "  </div>\n"
            ]
          },
          "metadata": {},
          "execution_count": 23
        }
      ]
    },
    {
      "cell_type": "code",
      "source": [
        "df = pd.read_csv('./ex5.csv')"
      ],
      "metadata": {
        "id": "k9wsRVUu5OCy"
      },
      "execution_count": null,
      "outputs": []
    },
    {
      "cell_type": "code",
      "source": [
        "df"
      ],
      "metadata": {
        "colab": {
          "base_uri": "https://localhost:8080/",
          "height": 143
        },
        "id": "CFWORej55abK",
        "outputId": "f4aeeb1f-da01-4c35-ffb6-ab6181877cc2"
      },
      "execution_count": null,
      "outputs": [
        {
          "output_type": "execute_result",
          "data": {
            "text/plain": [
              "  something  a   b     c   d message\n",
              "0       one  1   2   3.0   4     NaN\n",
              "1       two  5   6   NaN   8   world\n",
              "2     three  9  10  11.0  12     foo"
            ],
            "text/html": [
              "\n",
              "\n",
              "  <div id=\"df-3be66adb-3e9a-494a-848e-cd3d4a0d8044\">\n",
              "    <div class=\"colab-df-container\">\n",
              "      <div>\n",
              "<style scoped>\n",
              "    .dataframe tbody tr th:only-of-type {\n",
              "        vertical-align: middle;\n",
              "    }\n",
              "\n",
              "    .dataframe tbody tr th {\n",
              "        vertical-align: top;\n",
              "    }\n",
              "\n",
              "    .dataframe thead th {\n",
              "        text-align: right;\n",
              "    }\n",
              "</style>\n",
              "<table border=\"1\" class=\"dataframe\">\n",
              "  <thead>\n",
              "    <tr style=\"text-align: right;\">\n",
              "      <th></th>\n",
              "      <th>something</th>\n",
              "      <th>a</th>\n",
              "      <th>b</th>\n",
              "      <th>c</th>\n",
              "      <th>d</th>\n",
              "      <th>message</th>\n",
              "    </tr>\n",
              "  </thead>\n",
              "  <tbody>\n",
              "    <tr>\n",
              "      <th>0</th>\n",
              "      <td>one</td>\n",
              "      <td>1</td>\n",
              "      <td>2</td>\n",
              "      <td>3.0</td>\n",
              "      <td>4</td>\n",
              "      <td>NaN</td>\n",
              "    </tr>\n",
              "    <tr>\n",
              "      <th>1</th>\n",
              "      <td>two</td>\n",
              "      <td>5</td>\n",
              "      <td>6</td>\n",
              "      <td>NaN</td>\n",
              "      <td>8</td>\n",
              "      <td>world</td>\n",
              "    </tr>\n",
              "    <tr>\n",
              "      <th>2</th>\n",
              "      <td>three</td>\n",
              "      <td>9</td>\n",
              "      <td>10</td>\n",
              "      <td>11.0</td>\n",
              "      <td>12</td>\n",
              "      <td>foo</td>\n",
              "    </tr>\n",
              "  </tbody>\n",
              "</table>\n",
              "</div>\n",
              "      <button class=\"colab-df-convert\" onclick=\"convertToInteractive('df-3be66adb-3e9a-494a-848e-cd3d4a0d8044')\"\n",
              "              title=\"Convert this dataframe to an interactive table.\"\n",
              "              style=\"display:none;\">\n",
              "\n",
              "  <svg xmlns=\"http://www.w3.org/2000/svg\" height=\"24px\"viewBox=\"0 0 24 24\"\n",
              "       width=\"24px\">\n",
              "    <path d=\"M0 0h24v24H0V0z\" fill=\"none\"/>\n",
              "    <path d=\"M18.56 5.44l.94 2.06.94-2.06 2.06-.94-2.06-.94-.94-2.06-.94 2.06-2.06.94zm-11 1L8.5 8.5l.94-2.06 2.06-.94-2.06-.94L8.5 2.5l-.94 2.06-2.06.94zm10 10l.94 2.06.94-2.06 2.06-.94-2.06-.94-.94-2.06-.94 2.06-2.06.94z\"/><path d=\"M17.41 7.96l-1.37-1.37c-.4-.4-.92-.59-1.43-.59-.52 0-1.04.2-1.43.59L10.3 9.45l-7.72 7.72c-.78.78-.78 2.05 0 2.83L4 21.41c.39.39.9.59 1.41.59.51 0 1.02-.2 1.41-.59l7.78-7.78 2.81-2.81c.8-.78.8-2.07 0-2.86zM5.41 20L4 18.59l7.72-7.72 1.47 1.35L5.41 20z\"/>\n",
              "  </svg>\n",
              "      </button>\n",
              "\n",
              "\n",
              "\n",
              "    <div id=\"df-5b3c4571-9539-4fbf-aa59-5a06008d8bd7\">\n",
              "      <button class=\"colab-df-quickchart\" onclick=\"quickchart('df-5b3c4571-9539-4fbf-aa59-5a06008d8bd7')\"\n",
              "              title=\"Suggest charts.\"\n",
              "              style=\"display:none;\">\n",
              "\n",
              "<svg xmlns=\"http://www.w3.org/2000/svg\" height=\"24px\"viewBox=\"0 0 24 24\"\n",
              "     width=\"24px\">\n",
              "    <g>\n",
              "        <path d=\"M19 3H5c-1.1 0-2 .9-2 2v14c0 1.1.9 2 2 2h14c1.1 0 2-.9 2-2V5c0-1.1-.9-2-2-2zM9 17H7v-7h2v7zm4 0h-2V7h2v10zm4 0h-2v-4h2v4z\"/>\n",
              "    </g>\n",
              "</svg>\n",
              "      </button>\n",
              "    </div>\n",
              "\n",
              "<style>\n",
              "  .colab-df-quickchart {\n",
              "    background-color: #E8F0FE;\n",
              "    border: none;\n",
              "    border-radius: 50%;\n",
              "    cursor: pointer;\n",
              "    display: none;\n",
              "    fill: #1967D2;\n",
              "    height: 32px;\n",
              "    padding: 0 0 0 0;\n",
              "    width: 32px;\n",
              "  }\n",
              "\n",
              "  .colab-df-quickchart:hover {\n",
              "    background-color: #E2EBFA;\n",
              "    box-shadow: 0px 1px 2px rgba(60, 64, 67, 0.3), 0px 1px 3px 1px rgba(60, 64, 67, 0.15);\n",
              "    fill: #174EA6;\n",
              "  }\n",
              "\n",
              "  [theme=dark] .colab-df-quickchart {\n",
              "    background-color: #3B4455;\n",
              "    fill: #D2E3FC;\n",
              "  }\n",
              "\n",
              "  [theme=dark] .colab-df-quickchart:hover {\n",
              "    background-color: #434B5C;\n",
              "    box-shadow: 0px 1px 3px 1px rgba(0, 0, 0, 0.15);\n",
              "    filter: drop-shadow(0px 1px 2px rgba(0, 0, 0, 0.3));\n",
              "    fill: #FFFFFF;\n",
              "  }\n",
              "</style>\n",
              "\n",
              "    <script>\n",
              "      async function quickchart(key) {\n",
              "        const containerElement = document.querySelector('#' + key);\n",
              "        const charts = await google.colab.kernel.invokeFunction(\n",
              "            'suggestCharts', [key], {});\n",
              "      }\n",
              "    </script>\n",
              "\n",
              "      <script>\n",
              "\n",
              "function displayQuickchartButton(domScope) {\n",
              "  let quickchartButtonEl =\n",
              "    domScope.querySelector('#df-5b3c4571-9539-4fbf-aa59-5a06008d8bd7 button.colab-df-quickchart');\n",
              "  quickchartButtonEl.style.display =\n",
              "    google.colab.kernel.accessAllowed ? 'block' : 'none';\n",
              "}\n",
              "\n",
              "        displayQuickchartButton(document);\n",
              "      </script>\n",
              "      <style>\n",
              "    .colab-df-container {\n",
              "      display:flex;\n",
              "      flex-wrap:wrap;\n",
              "      gap: 12px;\n",
              "    }\n",
              "\n",
              "    .colab-df-convert {\n",
              "      background-color: #E8F0FE;\n",
              "      border: none;\n",
              "      border-radius: 50%;\n",
              "      cursor: pointer;\n",
              "      display: none;\n",
              "      fill: #1967D2;\n",
              "      height: 32px;\n",
              "      padding: 0 0 0 0;\n",
              "      width: 32px;\n",
              "    }\n",
              "\n",
              "    .colab-df-convert:hover {\n",
              "      background-color: #E2EBFA;\n",
              "      box-shadow: 0px 1px 2px rgba(60, 64, 67, 0.3), 0px 1px 3px 1px rgba(60, 64, 67, 0.15);\n",
              "      fill: #174EA6;\n",
              "    }\n",
              "\n",
              "    [theme=dark] .colab-df-convert {\n",
              "      background-color: #3B4455;\n",
              "      fill: #D2E3FC;\n",
              "    }\n",
              "\n",
              "    [theme=dark] .colab-df-convert:hover {\n",
              "      background-color: #434B5C;\n",
              "      box-shadow: 0px 1px 3px 1px rgba(0, 0, 0, 0.15);\n",
              "      filter: drop-shadow(0px 1px 2px rgba(0, 0, 0, 0.3));\n",
              "      fill: #FFFFFF;\n",
              "    }\n",
              "  </style>\n",
              "\n",
              "      <script>\n",
              "        const buttonEl =\n",
              "          document.querySelector('#df-3be66adb-3e9a-494a-848e-cd3d4a0d8044 button.colab-df-convert');\n",
              "        buttonEl.style.display =\n",
              "          google.colab.kernel.accessAllowed ? 'block' : 'none';\n",
              "\n",
              "        async function convertToInteractive(key) {\n",
              "          const element = document.querySelector('#df-3be66adb-3e9a-494a-848e-cd3d4a0d8044');\n",
              "          const dataTable =\n",
              "            await google.colab.kernel.invokeFunction('convertToInteractive',\n",
              "                                                     [key], {});\n",
              "          if (!dataTable) return;\n",
              "\n",
              "          const docLinkHtml = 'Like what you see? Visit the ' +\n",
              "            '<a target=\"_blank\" href=https://colab.research.google.com/notebooks/data_table.ipynb>data table notebook</a>'\n",
              "            + ' to learn more about interactive tables.';\n",
              "          element.innerHTML = '';\n",
              "          dataTable['output_type'] = 'display_data';\n",
              "          await google.colab.output.renderOutput(dataTable, element);\n",
              "          const docLink = document.createElement('div');\n",
              "          docLink.innerHTML = docLinkHtml;\n",
              "          element.appendChild(docLink);\n",
              "        }\n",
              "      </script>\n",
              "    </div>\n",
              "  </div>\n"
            ]
          },
          "metadata": {},
          "execution_count": 25
        }
      ]
    },
    {
      "cell_type": "code",
      "source": [
        "df.to_csv('./out.csv')"
      ],
      "metadata": {
        "id": "iqWLE6SK5bIi"
      },
      "execution_count": null,
      "outputs": []
    },
    {
      "cell_type": "code",
      "source": [
        "ls"
      ],
      "metadata": {
        "colab": {
          "base_uri": "https://localhost:8080/"
        },
        "id": "IUOed_pW5elp",
        "outputId": "e5be9079-5717-47b2-8338-21aaf11629f9"
      },
      "execution_count": null,
      "outputs": [
        {
          "output_type": "stream",
          "name": "stdout",
          "text": [
            "ex1.csv  ex3.csv  ex4.csv  ex6.csv  out.csv\n",
            "ex2.csv  ex3.txt  ex5.csv  ex7.csv  \u001b[0m\u001b[01;34msample_data\u001b[0m/\n"
          ]
        }
      ]
    },
    {
      "cell_type": "code",
      "source": [
        "cat out.csv"
      ],
      "metadata": {
        "colab": {
          "base_uri": "https://localhost:8080/"
        },
        "id": "BDZgHNzV5kHM",
        "outputId": "e0159c56-0c28-4f36-c61c-8b31a9727822"
      },
      "execution_count": null,
      "outputs": [
        {
          "output_type": "stream",
          "name": "stdout",
          "text": [
            ",something,a,b,c,d,message\n",
            "0,one,1,2,3.0,4,\n",
            "1,two,5,6,,8,world\n",
            "2,three,9,10,11.0,12,foo\n"
          ]
        }
      ]
    },
    {
      "cell_type": "code",
      "source": [
        "cat ex5.csv"
      ],
      "metadata": {
        "colab": {
          "base_uri": "https://localhost:8080/"
        },
        "id": "vTN6TDda5l1o",
        "outputId": "8894d7bc-94aa-4180-ee4a-562dc3e3c85b"
      },
      "execution_count": null,
      "outputs": [
        {
          "output_type": "stream",
          "name": "stdout",
          "text": [
            "something,a,b,c,d,message\n",
            "one,1,2,3,4,NA\n",
            "two,5,6,,8,world\n",
            "three,9,10,11,12,foo"
          ]
        }
      ]
    },
    {
      "cell_type": "code",
      "source": [
        "df.to_csv('No_index.csv', index = False)"
      ],
      "metadata": {
        "id": "9wK73wKJ5qOA"
      },
      "execution_count": null,
      "outputs": []
    },
    {
      "cell_type": "code",
      "source": [
        "ls"
      ],
      "metadata": {
        "colab": {
          "base_uri": "https://localhost:8080/"
        },
        "id": "ldNORk0Q6D7y",
        "outputId": "91063fb1-48f4-4bd5-a035-421705ba77d3"
      },
      "execution_count": null,
      "outputs": [
        {
          "output_type": "stream",
          "name": "stdout",
          "text": [
            "ex1.csv  ex3.csv  ex4.csv  ex6.csv  No_index.csv  \u001b[0m\u001b[01;34msample_data\u001b[0m/\n",
            "ex2.csv  ex3.txt  ex5.csv  ex7.csv  out.csv\n"
          ]
        }
      ]
    },
    {
      "cell_type": "code",
      "source": [
        "cat No_index.csv"
      ],
      "metadata": {
        "colab": {
          "base_uri": "https://localhost:8080/"
        },
        "id": "XqUXRz8m6ElC",
        "outputId": "457450bd-fbfb-4652-d79b-aad7cfd1ad04"
      },
      "execution_count": null,
      "outputs": [
        {
          "output_type": "stream",
          "name": "stdout",
          "text": [
            "something,a,b,c,d,message\n",
            "one,1,2,3.0,4,\n",
            "two,5,6,,8,world\n",
            "three,9,10,11.0,12,foo\n"
          ]
        }
      ]
    },
    {
      "cell_type": "code",
      "source": [
        "df.to_csv('test.csv', index = False, header = False)"
      ],
      "metadata": {
        "id": "FfnRzuW46GeD"
      },
      "execution_count": null,
      "outputs": []
    },
    {
      "cell_type": "code",
      "source": [
        "ls"
      ],
      "metadata": {
        "colab": {
          "base_uri": "https://localhost:8080/"
        },
        "id": "bRofnnEH6WbR",
        "outputId": "3debc1d2-64fa-4bb5-b70e-95eaa01197fe"
      },
      "execution_count": null,
      "outputs": [
        {
          "output_type": "stream",
          "name": "stdout",
          "text": [
            "ex1.csv  ex3.csv  ex4.csv  ex6.csv  No_index.csv  \u001b[0m\u001b[01;34msample_data\u001b[0m/\n",
            "ex2.csv  ex3.txt  ex5.csv  ex7.csv  out.csv       test.csv\n"
          ]
        }
      ]
    },
    {
      "cell_type": "code",
      "source": [
        "cat test.csv"
      ],
      "metadata": {
        "colab": {
          "base_uri": "https://localhost:8080/"
        },
        "id": "fJt1phEv6XHw",
        "outputId": "8ab112dc-1c9b-4eee-fc0e-1b4fd0af1536"
      },
      "execution_count": null,
      "outputs": [
        {
          "output_type": "stream",
          "name": "stdout",
          "text": [
            "one,1,2,3.0,4,\n",
            "two,5,6,,8,world\n",
            "three,9,10,11.0,12,foo\n"
          ]
        }
      ]
    },
    {
      "cell_type": "code",
      "source": [
        "df.to_csv   #데이터 프레임을 불러온 후 저장"
      ],
      "metadata": {
        "colab": {
          "base_uri": "https://localhost:8080/"
        },
        "id": "3LI-C02f6ZDH",
        "outputId": "96535682-a69b-4ca8-e4c6-a3509b576ae4"
      },
      "execution_count": null,
      "outputs": [
        {
          "output_type": "execute_result",
          "data": {
            "text/plain": [
              "<bound method NDFrame.to_csv of   something  a   b     c   d message\n",
              "0       one  1   2   3.0   4     NaN\n",
              "1       two  5   6   NaN   8   world\n",
              "2     three  9  10  11.0  12     foo>"
            ]
          },
          "metadata": {},
          "execution_count": 37
        }
      ]
    },
    {
      "cell_type": "code",
      "source": [
        "df.to_csv('pipe.csv', sep = '|')"
      ],
      "metadata": {
        "id": "VP36OcBO6jvI"
      },
      "execution_count": null,
      "outputs": []
    },
    {
      "cell_type": "code",
      "source": [
        "df"
      ],
      "metadata": {
        "colab": {
          "base_uri": "https://localhost:8080/",
          "height": 143
        },
        "id": "M8j54ziV6ylx",
        "outputId": "7640248c-e8b0-42c5-e4ee-92fb5e7be03b"
      },
      "execution_count": null,
      "outputs": [
        {
          "output_type": "execute_result",
          "data": {
            "text/plain": [
              "  something  a   b     c   d message\n",
              "0       one  1   2   3.0   4     NaN\n",
              "1       two  5   6   NaN   8   world\n",
              "2     three  9  10  11.0  12     foo"
            ],
            "text/html": [
              "\n",
              "\n",
              "  <div id=\"df-d7818c0f-222e-4a67-b27c-935de80acf53\">\n",
              "    <div class=\"colab-df-container\">\n",
              "      <div>\n",
              "<style scoped>\n",
              "    .dataframe tbody tr th:only-of-type {\n",
              "        vertical-align: middle;\n",
              "    }\n",
              "\n",
              "    .dataframe tbody tr th {\n",
              "        vertical-align: top;\n",
              "    }\n",
              "\n",
              "    .dataframe thead th {\n",
              "        text-align: right;\n",
              "    }\n",
              "</style>\n",
              "<table border=\"1\" class=\"dataframe\">\n",
              "  <thead>\n",
              "    <tr style=\"text-align: right;\">\n",
              "      <th></th>\n",
              "      <th>something</th>\n",
              "      <th>a</th>\n",
              "      <th>b</th>\n",
              "      <th>c</th>\n",
              "      <th>d</th>\n",
              "      <th>message</th>\n",
              "    </tr>\n",
              "  </thead>\n",
              "  <tbody>\n",
              "    <tr>\n",
              "      <th>0</th>\n",
              "      <td>one</td>\n",
              "      <td>1</td>\n",
              "      <td>2</td>\n",
              "      <td>3.0</td>\n",
              "      <td>4</td>\n",
              "      <td>NaN</td>\n",
              "    </tr>\n",
              "    <tr>\n",
              "      <th>1</th>\n",
              "      <td>two</td>\n",
              "      <td>5</td>\n",
              "      <td>6</td>\n",
              "      <td>NaN</td>\n",
              "      <td>8</td>\n",
              "      <td>world</td>\n",
              "    </tr>\n",
              "    <tr>\n",
              "      <th>2</th>\n",
              "      <td>three</td>\n",
              "      <td>9</td>\n",
              "      <td>10</td>\n",
              "      <td>11.0</td>\n",
              "      <td>12</td>\n",
              "      <td>foo</td>\n",
              "    </tr>\n",
              "  </tbody>\n",
              "</table>\n",
              "</div>\n",
              "      <button class=\"colab-df-convert\" onclick=\"convertToInteractive('df-d7818c0f-222e-4a67-b27c-935de80acf53')\"\n",
              "              title=\"Convert this dataframe to an interactive table.\"\n",
              "              style=\"display:none;\">\n",
              "\n",
              "  <svg xmlns=\"http://www.w3.org/2000/svg\" height=\"24px\"viewBox=\"0 0 24 24\"\n",
              "       width=\"24px\">\n",
              "    <path d=\"M0 0h24v24H0V0z\" fill=\"none\"/>\n",
              "    <path d=\"M18.56 5.44l.94 2.06.94-2.06 2.06-.94-2.06-.94-.94-2.06-.94 2.06-2.06.94zm-11 1L8.5 8.5l.94-2.06 2.06-.94-2.06-.94L8.5 2.5l-.94 2.06-2.06.94zm10 10l.94 2.06.94-2.06 2.06-.94-2.06-.94-.94-2.06-.94 2.06-2.06.94z\"/><path d=\"M17.41 7.96l-1.37-1.37c-.4-.4-.92-.59-1.43-.59-.52 0-1.04.2-1.43.59L10.3 9.45l-7.72 7.72c-.78.78-.78 2.05 0 2.83L4 21.41c.39.39.9.59 1.41.59.51 0 1.02-.2 1.41-.59l7.78-7.78 2.81-2.81c.8-.78.8-2.07 0-2.86zM5.41 20L4 18.59l7.72-7.72 1.47 1.35L5.41 20z\"/>\n",
              "  </svg>\n",
              "      </button>\n",
              "\n",
              "\n",
              "\n",
              "    <div id=\"df-473e6507-f76e-452f-b081-97246d332d06\">\n",
              "      <button class=\"colab-df-quickchart\" onclick=\"quickchart('df-473e6507-f76e-452f-b081-97246d332d06')\"\n",
              "              title=\"Suggest charts.\"\n",
              "              style=\"display:none;\">\n",
              "\n",
              "<svg xmlns=\"http://www.w3.org/2000/svg\" height=\"24px\"viewBox=\"0 0 24 24\"\n",
              "     width=\"24px\">\n",
              "    <g>\n",
              "        <path d=\"M19 3H5c-1.1 0-2 .9-2 2v14c0 1.1.9 2 2 2h14c1.1 0 2-.9 2-2V5c0-1.1-.9-2-2-2zM9 17H7v-7h2v7zm4 0h-2V7h2v10zm4 0h-2v-4h2v4z\"/>\n",
              "    </g>\n",
              "</svg>\n",
              "      </button>\n",
              "    </div>\n",
              "\n",
              "<style>\n",
              "  .colab-df-quickchart {\n",
              "    background-color: #E8F0FE;\n",
              "    border: none;\n",
              "    border-radius: 50%;\n",
              "    cursor: pointer;\n",
              "    display: none;\n",
              "    fill: #1967D2;\n",
              "    height: 32px;\n",
              "    padding: 0 0 0 0;\n",
              "    width: 32px;\n",
              "  }\n",
              "\n",
              "  .colab-df-quickchart:hover {\n",
              "    background-color: #E2EBFA;\n",
              "    box-shadow: 0px 1px 2px rgba(60, 64, 67, 0.3), 0px 1px 3px 1px rgba(60, 64, 67, 0.15);\n",
              "    fill: #174EA6;\n",
              "  }\n",
              "\n",
              "  [theme=dark] .colab-df-quickchart {\n",
              "    background-color: #3B4455;\n",
              "    fill: #D2E3FC;\n",
              "  }\n",
              "\n",
              "  [theme=dark] .colab-df-quickchart:hover {\n",
              "    background-color: #434B5C;\n",
              "    box-shadow: 0px 1px 3px 1px rgba(0, 0, 0, 0.15);\n",
              "    filter: drop-shadow(0px 1px 2px rgba(0, 0, 0, 0.3));\n",
              "    fill: #FFFFFF;\n",
              "  }\n",
              "</style>\n",
              "\n",
              "    <script>\n",
              "      async function quickchart(key) {\n",
              "        const containerElement = document.querySelector('#' + key);\n",
              "        const charts = await google.colab.kernel.invokeFunction(\n",
              "            'suggestCharts', [key], {});\n",
              "      }\n",
              "    </script>\n",
              "\n",
              "      <script>\n",
              "\n",
              "function displayQuickchartButton(domScope) {\n",
              "  let quickchartButtonEl =\n",
              "    domScope.querySelector('#df-473e6507-f76e-452f-b081-97246d332d06 button.colab-df-quickchart');\n",
              "  quickchartButtonEl.style.display =\n",
              "    google.colab.kernel.accessAllowed ? 'block' : 'none';\n",
              "}\n",
              "\n",
              "        displayQuickchartButton(document);\n",
              "      </script>\n",
              "      <style>\n",
              "    .colab-df-container {\n",
              "      display:flex;\n",
              "      flex-wrap:wrap;\n",
              "      gap: 12px;\n",
              "    }\n",
              "\n",
              "    .colab-df-convert {\n",
              "      background-color: #E8F0FE;\n",
              "      border: none;\n",
              "      border-radius: 50%;\n",
              "      cursor: pointer;\n",
              "      display: none;\n",
              "      fill: #1967D2;\n",
              "      height: 32px;\n",
              "      padding: 0 0 0 0;\n",
              "      width: 32px;\n",
              "    }\n",
              "\n",
              "    .colab-df-convert:hover {\n",
              "      background-color: #E2EBFA;\n",
              "      box-shadow: 0px 1px 2px rgba(60, 64, 67, 0.3), 0px 1px 3px 1px rgba(60, 64, 67, 0.15);\n",
              "      fill: #174EA6;\n",
              "    }\n",
              "\n",
              "    [theme=dark] .colab-df-convert {\n",
              "      background-color: #3B4455;\n",
              "      fill: #D2E3FC;\n",
              "    }\n",
              "\n",
              "    [theme=dark] .colab-df-convert:hover {\n",
              "      background-color: #434B5C;\n",
              "      box-shadow: 0px 1px 3px 1px rgba(0, 0, 0, 0.15);\n",
              "      filter: drop-shadow(0px 1px 2px rgba(0, 0, 0, 0.3));\n",
              "      fill: #FFFFFF;\n",
              "    }\n",
              "  </style>\n",
              "\n",
              "      <script>\n",
              "        const buttonEl =\n",
              "          document.querySelector('#df-d7818c0f-222e-4a67-b27c-935de80acf53 button.colab-df-convert');\n",
              "        buttonEl.style.display =\n",
              "          google.colab.kernel.accessAllowed ? 'block' : 'none';\n",
              "\n",
              "        async function convertToInteractive(key) {\n",
              "          const element = document.querySelector('#df-d7818c0f-222e-4a67-b27c-935de80acf53');\n",
              "          const dataTable =\n",
              "            await google.colab.kernel.invokeFunction('convertToInteractive',\n",
              "                                                     [key], {});\n",
              "          if (!dataTable) return;\n",
              "\n",
              "          const docLinkHtml = 'Like what you see? Visit the ' +\n",
              "            '<a target=\"_blank\" href=https://colab.research.google.com/notebooks/data_table.ipynb>data table notebook</a>'\n",
              "            + ' to learn more about interactive tables.';\n",
              "          element.innerHTML = '';\n",
              "          dataTable['output_type'] = 'display_data';\n",
              "          await google.colab.output.renderOutput(dataTable, element);\n",
              "          const docLink = document.createElement('div');\n",
              "          docLink.innerHTML = docLinkHtml;\n",
              "          element.appendChild(docLink);\n",
              "        }\n",
              "      </script>\n",
              "    </div>\n",
              "  </div>\n"
            ]
          },
          "metadata": {},
          "execution_count": 40
        }
      ]
    },
    {
      "cell_type": "code",
      "source": [
        "ls"
      ],
      "metadata": {
        "colab": {
          "base_uri": "https://localhost:8080/"
        },
        "id": "WKsvsIbk7ExT",
        "outputId": "741b8979-18c5-4def-b2d4-1510c90449cb"
      },
      "execution_count": null,
      "outputs": [
        {
          "output_type": "stream",
          "name": "stdout",
          "text": [
            "ex1.csv  ex3.csv  ex4.csv  ex6.csv  No_index.csv  pipe.csv      test.csv\n",
            "ex2.csv  ex3.txt  ex5.csv  ex7.csv  out.csv       \u001b[0m\u001b[01;34msample_data\u001b[0m/\n"
          ]
        }
      ]
    },
    {
      "cell_type": "code",
      "source": [
        "cat pipe.csv"
      ],
      "metadata": {
        "colab": {
          "base_uri": "https://localhost:8080/"
        },
        "id": "t4qid63L6-AI",
        "outputId": "0a58390c-6fd8-4c90-de1b-78428abf227f"
      },
      "execution_count": null,
      "outputs": [
        {
          "output_type": "stream",
          "name": "stdout",
          "text": [
            "|something|a|b|c|d|message\n",
            "0|one|1|2|3.0|4|\n",
            "1|two|5|6||8|world\n",
            "2|three|9|10|11.0|12|foo\n"
          ]
        }
      ]
    },
    {
      "cell_type": "markdown",
      "source": [
        "파일 종류가 콤마 구분자 csv\n",
        "\n",
        "돈 : 128,000   -> 128000원의 의미가 아니게 됨  (128|000)"
      ],
      "metadata": {
        "id": "uYFt3Fri7gNN"
      }
    },
    {
      "cell_type": "code",
      "source": [
        "df.to_csv('null_csv', na_rep = 'NULL')"
      ],
      "metadata": {
        "id": "an8hM8H77AGW"
      },
      "execution_count": null,
      "outputs": []
    },
    {
      "cell_type": "code",
      "source": [
        "cat null_csv"
      ],
      "metadata": {
        "colab": {
          "base_uri": "https://localhost:8080/"
        },
        "id": "hW3hcPfk77Mn",
        "outputId": "4e12b5d0-b0e1-4095-ca8d-37dde33e32d1"
      },
      "execution_count": null,
      "outputs": [
        {
          "output_type": "stream",
          "name": "stdout",
          "text": [
            ",something,a,b,c,d,message\n",
            "0,one,1,2,3.0,4,NULL\n",
            "1,two,5,6,NULL,8,world\n",
            "2,three,9,10,11.0,12,foo\n"
          ]
        }
      ]
    },
    {
      "cell_type": "code",
      "source": [
        "import os"
      ],
      "metadata": {
        "id": "kEqKRptX8IZ0"
      },
      "execution_count": null,
      "outputs": []
    },
    {
      "cell_type": "code",
      "source": [
        "cur_path = os.getcwd()   #pwd와의 차이점은 임의의 값으로 받아낼 수 있음"
      ],
      "metadata": {
        "id": "zVbSuIlt90-i"
      },
      "execution_count": null,
      "outputs": []
    },
    {
      "cell_type": "code",
      "source": [
        "cur_path"
      ],
      "metadata": {
        "colab": {
          "base_uri": "https://localhost:8080/",
          "height": 36
        },
        "id": "h_a-U7U1-GsA",
        "outputId": "d7555489-913d-482b-c5b9-a13bc4f735e3"
      },
      "execution_count": null,
      "outputs": [
        {
          "output_type": "execute_result",
          "data": {
            "text/plain": [
              "'/content'"
            ],
            "application/vnd.google.colaboratory.intrinsic+json": {
              "type": "string"
            }
          },
          "metadata": {},
          "execution_count": 55
        }
      ]
    },
    {
      "cell_type": "code",
      "source": [
        "pwd"
      ],
      "metadata": {
        "colab": {
          "base_uri": "https://localhost:8080/",
          "height": 36
        },
        "id": "Yj40tdF093Oq",
        "outputId": "19195bcf-9350-406e-f900-c6959b2eef16"
      },
      "execution_count": null,
      "outputs": [
        {
          "output_type": "execute_result",
          "data": {
            "text/plain": [
              "'/content'"
            ],
            "application/vnd.google.colaboratory.intrinsic+json": {
              "type": "string"
            }
          },
          "metadata": {},
          "execution_count": 54
        }
      ]
    },
    {
      "cell_type": "code",
      "source": [
        "ls"
      ],
      "metadata": {
        "colab": {
          "base_uri": "https://localhost:8080/"
        },
        "id": "M6y7_DeH95ci",
        "outputId": "b1d79c17-479f-4f23-dc1d-f2ac39a178be"
      },
      "execution_count": null,
      "outputs": [
        {
          "output_type": "stream",
          "name": "stdout",
          "text": [
            "ex1.csv  ex3.csv  ex4.csv  ex6.csv  No_index.csv  out.csv   \u001b[0m\u001b[01;34msample_data\u001b[0m/\n",
            "ex2.csv  ex3.txt  ex5.csv  ex7.csv  null_csv      pipe.csv  test.csv\n"
          ]
        }
      ]
    },
    {
      "cell_type": "code",
      "source": [
        "!touch test        #test라는 파일을 하나 만들어줘라"
      ],
      "metadata": {
        "id": "b8Ku2np_-Nmi"
      },
      "execution_count": null,
      "outputs": []
    },
    {
      "cell_type": "code",
      "source": [
        "ls"
      ],
      "metadata": {
        "colab": {
          "base_uri": "https://localhost:8080/"
        },
        "id": "HEE5jMxH-PfV",
        "outputId": "141c3a0f-d1ae-40e8-aac7-5acc23ea43c6"
      },
      "execution_count": null,
      "outputs": [
        {
          "output_type": "stream",
          "name": "stdout",
          "text": [
            "ex1.csv  ex3.txt  ex6.csv       null_csv  \u001b[0m\u001b[01;34msample_data\u001b[0m/\n",
            "ex2.csv  ex4.csv  ex7.csv       out.csv   test\n",
            "ex3.csv  ex5.csv  No_index.csv  pipe.csv  test.csv\n"
          ]
        }
      ]
    },
    {
      "cell_type": "code",
      "source": [
        "cd sample_data"
      ],
      "metadata": {
        "colab": {
          "base_uri": "https://localhost:8080/"
        },
        "id": "l2q_Irrd-TZK",
        "outputId": "ffe65857-c042-455b-a0ac-47ace8c6dc2c"
      },
      "execution_count": null,
      "outputs": [
        {
          "output_type": "stream",
          "name": "stdout",
          "text": [
            "/content/sample_data\n"
          ]
        }
      ]
    },
    {
      "cell_type": "code",
      "source": [
        "!touch test"
      ],
      "metadata": {
        "id": "n7uyAGH4-XiS"
      },
      "execution_count": null,
      "outputs": []
    },
    {
      "cell_type": "code",
      "source": [
        "ls"
      ],
      "metadata": {
        "colab": {
          "base_uri": "https://localhost:8080/"
        },
        "id": "SuogAUC3-Z76",
        "outputId": "ffe67a82-ff10-4116-ae40-6a343b606882"
      },
      "execution_count": null,
      "outputs": [
        {
          "output_type": "stream",
          "name": "stdout",
          "text": [
            "\u001b[0m\u001b[01;32manscombe.json\u001b[0m*                mnist_test.csv         test\n",
            "california_housing_test.csv   mnist_train_small.csv\n",
            "california_housing_train.csv  \u001b[01;32mREADME.md\u001b[0m*\n"
          ]
        }
      ]
    },
    {
      "cell_type": "code",
      "source": [
        "os.getcwd()"
      ],
      "metadata": {
        "colab": {
          "base_uri": "https://localhost:8080/",
          "height": 36
        },
        "id": "JicYCJ-f-a2K",
        "outputId": "2f69128b-f949-4160-fac8-d76cbf9c6c0a"
      },
      "execution_count": null,
      "outputs": [
        {
          "output_type": "execute_result",
          "data": {
            "text/plain": [
              "'/content/sample_data'"
            ],
            "application/vnd.google.colaboratory.intrinsic+json": {
              "type": "string"
            }
          },
          "metadata": {},
          "execution_count": 65
        }
      ]
    },
    {
      "cell_type": "markdown",
      "source": [
        "정규표현식 :  복잡한 문자열 패턴을 검색하고, 추출하고, 대치하는 규칙을 정의하는 문자열이다."
      ],
      "metadata": {
        "id": "PBLfje2f_19i"
      }
    },
    {
      "cell_type": "code",
      "source": [
        "import re"
      ],
      "metadata": {
        "id": "OlCt8lRP-fJM"
      },
      "execution_count": null,
      "outputs": []
    },
    {
      "cell_type": "code",
      "source": [
        "pattern = r'life'\n",
        "script = 'life'"
      ],
      "metadata": {
        "id": "aFmFNym7ETVZ"
      },
      "execution_count": null,
      "outputs": []
    },
    {
      "cell_type": "code",
      "source": [
        "re.match(pattern, script)"
      ],
      "metadata": {
        "colab": {
          "base_uri": "https://localhost:8080/"
        },
        "id": "8zlDlu_CEvWQ",
        "outputId": "05639e19-5152-46d7-8eb7-edd4a679849c"
      },
      "execution_count": null,
      "outputs": [
        {
          "output_type": "execute_result",
          "data": {
            "text/plain": [
              "<re.Match object; span=(0, 4), match='life'>"
            ]
          },
          "metadata": {},
          "execution_count": 4
        }
      ]
    },
    {
      "cell_type": "code",
      "source": [
        "re.match(pattern, script).group()"
      ],
      "metadata": {
        "colab": {
          "base_uri": "https://localhost:8080/",
          "height": 36
        },
        "id": "nkuwdCpfEioK",
        "outputId": "8e8e1dc4-4033-479c-89f9-d63a2ec0704b"
      },
      "execution_count": null,
      "outputs": [
        {
          "output_type": "execute_result",
          "data": {
            "text/plain": [
              "'life'"
            ],
            "application/vnd.google.colaboratory.intrinsic+json": {
              "type": "string"
            }
          },
          "metadata": {},
          "execution_count": 5
        }
      ]
    },
    {
      "cell_type": "code",
      "source": [
        "def refinder(pattern, script):\n",
        "    if re.match(pattern, script):\n",
        "        print('Match!')\n",
        "    else:\n",
        "        print('Not a match')"
      ],
      "metadata": {
        "id": "_uo_JRfIEjTC"
      },
      "execution_count": null,
      "outputs": []
    },
    {
      "cell_type": "code",
      "source": [
        "pattern = r'Life'\n",
        "script = 'Life is so cool'        #대소문자 구분!\n",
        "refinder(pattern, script)"
      ],
      "metadata": {
        "colab": {
          "base_uri": "https://localhost:8080/"
        },
        "id": "O6bphNTFF6B_",
        "outputId": "9af316ca-0c13-426b-9170-edf81bd632e1"
      },
      "execution_count": null,
      "outputs": [
        {
          "output_type": "stream",
          "name": "stdout",
          "text": [
            "Match!\n"
          ]
        }
      ]
    },
    {
      "cell_type": "code",
      "source": [
        "result_no = re.match(r'life', 'python animal')"
      ],
      "metadata": {
        "id": "oup8du9EGE7f"
      },
      "execution_count": null,
      "outputs": []
    },
    {
      "cell_type": "code",
      "source": [
        "result_yes = re.match(r'life', 'life is football')"
      ],
      "metadata": {
        "id": "gy-fB_kLGNlQ"
      },
      "execution_count": null,
      "outputs": []
    },
    {
      "cell_type": "code",
      "source": [
        "result_no"
      ],
      "metadata": {
        "id": "BcOQ2DRFGSrW"
      },
      "execution_count": null,
      "outputs": []
    },
    {
      "cell_type": "code",
      "source": [
        "result_yes"
      ],
      "metadata": {
        "colab": {
          "base_uri": "https://localhost:8080/"
        },
        "id": "CWhUja0qGWKM",
        "outputId": "d85e90d0-c456-4bb0-f762-3af99a2ea3d7"
      },
      "execution_count": null,
      "outputs": [
        {
          "output_type": "execute_result",
          "data": {
            "text/plain": [
              "<re.Match object; span=(0, 4), match='life'>"
            ]
          },
          "metadata": {},
          "execution_count": 13
        }
      ]
    },
    {
      "cell_type": "code",
      "source": [
        "type(result_yes)"
      ],
      "metadata": {
        "colab": {
          "base_uri": "https://localhost:8080/"
        },
        "id": "YHfl29cBGXyv",
        "outputId": "d1828e28-a173-43fd-86ab-1e00cc6b6e95"
      },
      "execution_count": null,
      "outputs": [
        {
          "output_type": "execute_result",
          "data": {
            "text/plain": [
              "re.Match"
            ]
          },
          "metadata": {},
          "execution_count": 14
        }
      ]
    },
    {
      "cell_type": "code",
      "source": [
        "type(result_no)"
      ],
      "metadata": {
        "colab": {
          "base_uri": "https://localhost:8080/"
        },
        "id": "9PCNgA7dGese",
        "outputId": "1c6d0f3e-e8db-415c-edc2-ce691a65df96"
      },
      "execution_count": null,
      "outputs": [
        {
          "output_type": "execute_result",
          "data": {
            "text/plain": [
              "NoneType"
            ]
          },
          "metadata": {},
          "execution_count": 15
        }
      ]
    },
    {
      "cell_type": "code",
      "source": [
        "result_yes = re.match(r'is', 'life is football')"
      ],
      "metadata": {
        "id": "rf4wQSBHGkQl"
      },
      "execution_count": null,
      "outputs": []
    },
    {
      "cell_type": "code",
      "source": [
        "result_yes"
      ],
      "metadata": {
        "id": "jhiSLbqLHWL-"
      },
      "execution_count": null,
      "outputs": []
    },
    {
      "cell_type": "code",
      "source": [
        "result_yes = re.search(r'is', 'life is football')"
      ],
      "metadata": {
        "id": "GO6-X-m_G48w"
      },
      "execution_count": null,
      "outputs": []
    },
    {
      "cell_type": "code",
      "source": [
        "result_yes"
      ],
      "metadata": {
        "colab": {
          "base_uri": "https://localhost:8080/"
        },
        "id": "MA24x_pOHHfM",
        "outputId": "aeb8874e-4d98-445a-a76b-c72213030a88"
      },
      "execution_count": null,
      "outputs": [
        {
          "output_type": "execute_result",
          "data": {
            "text/plain": [
              "<re.Match object; span=(5, 7), match='is'>"
            ]
          },
          "metadata": {},
          "execution_count": 24
        }
      ]
    },
    {
      "cell_type": "code",
      "source": [
        "^[0-9] #문자열 앞에 숫자가 있느냐 없느냐"
      ],
      "metadata": {
        "id": "pP3kFTaQHUuk"
      },
      "execution_count": null,
      "outputs": []
    },
    {
      "cell_type": "code",
      "source": [
        "[^0-9] #문자열에 숫자 말고 다른것들"
      ],
      "metadata": {
        "id": "Dz6ykJnnI41f"
      },
      "execution_count": null,
      "outputs": []
    },
    {
      "cell_type": "code",
      "source": [
        "number = 'My number is 970523-1****** and yours is 960415-2******'"
      ],
      "metadata": {
        "id": "vmUzJQhXI-vl"
      },
      "execution_count": null,
      "outputs": []
    },
    {
      "cell_type": "code",
      "source": [
        "re.findall('\\d{6}',number)       #+는 길이의 상관없이 {n}은 n만큼의 길이를"
      ],
      "metadata": {
        "colab": {
          "base_uri": "https://localhost:8080/"
        },
        "id": "zP8_ARqgKHpx",
        "outputId": "72bc2142-f2cb-4ba9-e517-1f5d28ddcb34"
      },
      "execution_count": null,
      "outputs": [
        {
          "output_type": "execute_result",
          "data": {
            "text/plain": [
              "['970523', '960415']"
            ]
          },
          "metadata": {},
          "execution_count": 31
        }
      ]
    },
    {
      "cell_type": "markdown",
      "source": [
        "+? : 최소매칭"
      ],
      "metadata": {
        "id": "9REPSqJ-Lzm5"
      }
    },
    {
      "cell_type": "markdown",
      "source": [
        "? : 0회나 1회 반복\n",
        "\n",
        "'ca?' --> c, ca(caa(X), caaa(X))\n",
        "\n",
        "0회 반복 c\n",
        "\n",
        "1회 반복 a"
      ],
      "metadata": {
        "id": "McQ6IZ_tMWVD"
      }
    },
    {
      "cell_type": "code",
      "source": [
        "s = 'I have lovely dog, really. I am not telling a lie. What a pretty dog! I love this dog'"
      ],
      "metadata": {
        "id": "uww9u_LcKMUn"
      },
      "execution_count": null,
      "outputs": []
    },
    {
      "cell_type": "code",
      "source": [
        "re.sub(r'dog', 'cat',s)"
      ],
      "metadata": {
        "colab": {
          "base_uri": "https://localhost:8080/",
          "height": 36
        },
        "id": "1W8h8I4POdW7",
        "outputId": "d8ff75d6-21ae-4929-8f1b-4d1ee5447a39"
      },
      "execution_count": null,
      "outputs": [
        {
          "output_type": "execute_result",
          "data": {
            "text/plain": [
              "'I have lovely cat, really. I am not telling a lie. What a pretty cat! I love this cat'"
            ],
            "application/vnd.google.colaboratory.intrinsic+json": {
              "type": "string"
            }
          },
          "metadata": {},
          "execution_count": 33
        }
      ]
    },
    {
      "cell_type": "code",
      "source": [
        "word  =  'I am home now. \\n\\n\\nI am with my cat\\n\\n\\n'"
      ],
      "metadata": {
        "id": "iHh5VILUOhIM"
      },
      "execution_count": null,
      "outputs": []
    },
    {
      "cell_type": "code",
      "source": [
        "print(word)"
      ],
      "metadata": {
        "colab": {
          "base_uri": "https://localhost:8080/"
        },
        "id": "fIAEHeVeOvjq",
        "outputId": "45f5ebcd-d99f-45bb-eb6a-6bb8ac001363"
      },
      "execution_count": null,
      "outputs": [
        {
          "output_type": "stream",
          "name": "stdout",
          "text": [
            "I am home now. \n",
            "\n",
            "\n",
            "I am with my cat\n",
            "\n",
            "\n",
            "\n"
          ]
        }
      ]
    },
    {
      "cell_type": "code",
      "source": [
        "re.sub(r'\\n','', word)"
      ],
      "metadata": {
        "colab": {
          "base_uri": "https://localhost:8080/",
          "height": 36
        },
        "id": "YSaUoVzyOwjq",
        "outputId": "aa6f0e32-6bd4-4f43-f9ca-ae43247bac47"
      },
      "execution_count": null,
      "outputs": [
        {
          "output_type": "execute_result",
          "data": {
            "text/plain": [
              "'I am home now. I am with my cat'"
            ],
            "application/vnd.google.colaboratory.intrinsic+json": {
              "type": "string"
            }
          },
          "metadata": {},
          "execution_count": 40
        }
      ]
    },
    {
      "cell_type": "markdown",
      "source": [
        "    \\w : 문자와 숫자\n",
        "\n",
        "    r'\\(.+\\)'\n",
        "\n",
        "    \\( : \"(\"\n",
        "\n",
        "    .: 모든 문자 --> 괄호 안에 1ㅈ2ㄱㄴw()()()ㄷrㅈㅈwa\n",
        "\n",
        "    + : 계속해 연달아 있다.\n",
        "\n",
        "    \\) : ')'"
      ],
      "metadata": {
        "id": "dJMPIR-TSIhN"
      }
    },
    {
      "cell_type": "code",
      "source": [
        "%%writefile friends101.txt\n",
        "'The One Where Monica Gets a New Roommate (The Pilot-The Uncut Version)\n",
        "Written by: Marta Kauffman & David Crane\n",
        "Transcribed by: guineapig\n",
        "Additional transcribing by: Eric Aasen\n",
        "(Note: The previously unseen parts of this episode are shown in blue text.)\n",
        "\n",
        "[Scene: Central Perk, Chandler, Joey, Phoebe, and Monica are there.]\n",
        "\n",
        "Monica: There's nothing to tell! He's just some guy I work with!\n",
        "\n",
        "Joey: C'mon, you're going out with the guy! There's gotta be something wrong with him!\n",
        "\n",
        "Chandler: All right Joey, be nice.  So does he have a hump? A hump and a hairpiece?\n",
        "\n",
        "Phoebe: Wait, does he eat chalk?\n",
        "\n",
        "(They all stare, bemused.)\n",
        "\n",
        "Phoebe: Just, 'cause, I don't want her to go through what I went through with Carl- oh!\n",
        "\n",
        "Monica: Okay, everybody relax. This is not even a date. It's just two people going out to dinner and- not having sex.\n",
        "\n",
        "Chandler: Sounds like a date to me.\n",
        "\n",
        "[Time Lapse]\n",
        "\n",
        "Chandler: Alright, so I'm back in high school, I'm standing in the middle of the cafeteria, and I realize I am totally naked.\n",
        "\n",
        "All: Oh, yeah. Had that dream.\n",
        "\n",
        "Chandler: Then I look down, and I realize there's a phone... there.\n",
        "\n",
        "Joey: Instead of...?\n",
        "\n",
        "Chandler: That's right.\n",
        "\n",
        "Joey: Never had that dream.\n",
        "\n",
        "Phoebe: No.\n",
        "\n",
        "Chandler: All of a sudden, the phone starts to ring. Now I don't know what to do, everybody starts looking at me.\n",
        "\n",
        "Monica: And they weren't looking at you before?!\n",
        "\n",
        "Chandler: Finally, I figure I'd better answer it, and it turns out it's my mother, which is very-very weird, because- she never calls me!\n",
        "\n",
        "[Time Lapse, Ross has entered.]\n",
        "\n",
        "Ross: (mortified) Hi.\n",
        "\n",
        "Joey: This guy says hello, I wanna kill myself.\n",
        "\n",
        "Monica: Are you okay, sweetie?\n",
        "\n",
        "Ross: I just feel like someone reached down my throat, grabbed my small intestine, pulled it out of my mouth and tied it around my neck...\n",
        "\n",
        "Chandler: Cookie?\n",
        "\n",
        "Monica: (explaining to the others) Carol moved her stuff out today.\n",
        "\n",
        "Joey: Ohh.\n",
        "\n",
        "Monica: (to Ross) Let me get you some coffee.\n",
        "\n",
        "Ross: Thanks.\n",
        "\n",
        "Phoebe: Ooh! Oh! (She starts to pluck at the air just in front of Ross.)\n",
        "\n",
        "Ross: No, no don't! Stop cleansing my aura! No, just leave my aura alone, okay?\n",
        "\n",
        "Phoebe: Fine!  Be murky!\n",
        "\n",
        "Ross: I'll be fine, alright? Really, everyone. I hope she'll be very happy.\n",
        "\n",
        "Monica: No you don't.\n",
        "\n",
        "Ross: No I don't, to hell with her, she left me!\n",
        "\n",
        "Joey: And you never knew she was a lesbian...\n",
        "\n",
        "Ross: No!! Okay?! Why does everyone keep fixating on that? She didn't know, how should I know?\n",
        "\n",
        "Chandler: Sometimes I wish I was a lesbian... (They all stare at him.) Did I say that out loud?\n",
        "\n",
        "Ross: I told mom and dad last night, they seemed to take it pretty well.\n",
        "\n",
        "Monica: Oh really, so that hysterical phone call I got from a woman at sobbing 3:00 A.M., \"I'll never have grandchildren, I'll never have grandchildren.\" was what?  A wrong number?\n",
        "\n",
        "Ross: Sorry.\n",
        "\n",
        "Joey: Alright Ross, look. You're feeling a lot of pain right now. You're angry. You're hurting. Can I tell you what the answer is?\n",
        "\n",
        "(Ross gestures his consent.)\n",
        "\n",
        "Joey: Strip joint! C'mon, you're single! Have some hormones!\n",
        "\n",
        "Ross: I don't want to be single, okay? I just... I just- I just wanna be married again!\n",
        "\n",
        "(Rachel enters in a wet wedding dress and starts to search the room.)\n",
        "\n",
        "Chandler: And I just want a million dollars! (He extends his hand hopefully.)\n",
        "\n",
        "Monica: Rachel?!\n",
        "\n",
        "Rachel: Oh God Monica hi! Thank God! I just went to your building and you weren't there and then this guy with a big hammer said you might be here and you are, you are!\n",
        "\n",
        "Waitress: Can I get you some coffee?\n",
        "\n",
        "Monica: (pointing at Rachel) De-caff. (to All) Okay, everybody, this is Rachel, another Lincoln High survivor. (to Rachel) This is everybody, this is Chandler, and Phoebe, and Joey, and- you remember my brother Ross?\n",
        "\n",
        "Rachel: Hi, sure!\n",
        "\n",
        "Ross: Hi.\n",
        "\n",
        "(They go to hug but Ross's umbrella opens.  He sits back down defeated again.  A moment of silence follows as Rachel sits and the others expect her to explain.)\n",
        "\n",
        "Monica: So you wanna tell us now, or are we waiting for four wet bridesmaids?\n",
        "\n",
        "Rachel: Oh God... well, it started about a half hour before the wedding. I was in the room where we were keeping all the presents, and I was looking at this gravy boat. This really gorgeous Lamauge gravy boat. When all of a sudden- (to the waitress that brought her coffee)Sweet 'n' Lo?- I realized that I was more turned on by this gravy boat than by Barry! And then I got really freaked out, and that's when it hit me: how much Barry looks like Mr. Potato Head. Y'know, I mean, I always knew looked familiar, but... Anyway, I just had to get out of there, and I started wondering 'Why am I doing this, and who am I doing this for?'. (to Monica) So anyway I just didn't know where to go, and I know that you and I have kinda drifted apart, but you're the only person I knew who lived here in the city.\n",
        "\n",
        "Monica: Who wasn't invited to the wedding.\n",
        "\n",
        "Rachel: Ooh, I was kinda hoping that wouldn't be an issue... [Scene: Monica's Apartment, everyone is there and watching a Spanish Soap on TV and are trying to figure out what is going on.]\n",
        "\n",
        "Monica: Now I'm guessing that he bought her the big pipe organ, and she's really not happy about it.\n",
        "\n",
        "Chandler: (imitating the characters) Tuna or egg salad?  Decide!\n",
        "\n",
        "Ross: (in a deep voice) I'll have whatever Christine is having.\n",
        "\n",
        "Rachel: (on phone) Daddy, I just... I can't marry him! I'm sorry. I just don't love him. Well, it matters to me!\n",
        "\n",
        "(The scene on TV has changed to show two women, one is holding her hair.)\n",
        "\n",
        "Phoebe:  If I let go of my hair, my head will fall off.\n",
        "\n",
        "Chandler: (re TV) Ooh, she should not be wearing those pants.\n",
        "\n",
        "Joey: I say push her down the stairs.\n",
        "\n",
        "Phoebe, Ross, Chandler, and Joey:  Push her down the stairs! Push her down the stairs! Push her down the stairs!\n",
        "\n",
        "(She is pushed down the stairs and everyone cheers.)\n",
        "\n",
        "Rachel: C'mon Daddy, listen to me! It's like, it's like, all of my life, everyone has always told me, 'You're a shoe! You're a shoe, you're a shoe, you're a shoe!'. And today I just stopped and I said, 'What if I don't wanna be a shoe? What if I wanna be a- a purse, y'know? Or a- or a hat! No, I'm not saying I want you to buy me a hat, I'm saying I am a ha- It's a metaphor, Daddy!\n",
        "\n",
        "Ross: You can see where he'd have trouble.\n",
        "\n",
        "Rachel: Look Daddy, it's my life. Well maybe I'll just stay here with Monica.\n",
        "\n",
        "Monica: Well, I guess we've established who's staying here with Monica...\n",
        "\n",
        "Rachel: Well, maybe that's my decision. Well, maybe I don't need your money. Wait!! Wait, I said maybe!!\n",
        "\n",
        "[Time Lapse, Rachel is breating into a paper bag.]\n",
        "\n",
        "Monica: Just breathe, breathe.. that's it. Just try to think of nice calm things...\n",
        "\n",
        "Phoebe: (sings) Raindrops on roses and rabbits and kittens, (Rachel and Monica turn to look at her.) bluebells and sleighbells and- something with mittens... La la la la...something and noodles with string.  These are a few...\n",
        "\n",
        "Rachel: I'm all better now.\n",
        "\n",
        "Phoebe: (grins and walks to the kitchen and says to Chandler and Joey.) I helped!\n",
        "\n",
        "Monica: Okay, look, this is probably for the best, y'know? Independence. Taking control of your life.  The whole, 'hat' thing.\n",
        "\n",
        "Joey: (comforting her) And hey, you need anything, you can always come to Joey. Me and Chandler live across the hall. And he's away a lot.\n",
        "\n",
        "Monica: Joey, stop hitting on her! It's her wedding day!\n",
        "\n",
        "Joey: What, like there's a rule or something?\n",
        "\n",
        "(The door buzzer sounds and Chandler gets it.)\n",
        "\n",
        "Chandler: Please don't do that again, it's a horrible sound.\n",
        "\n",
        "Paul: (over the intercom) It's, uh, it's Paul.\n",
        "\n",
        "Monica: Oh God, is it 6:30?  Buzz him in!\n",
        "\n",
        "Joey: Who's Paul?\n",
        "\n",
        "Ross: Paul the Wine Guy, Paul?\n",
        "\n",
        "Monica: Maybe. Joey: Wait. Your 'not a real date' tonight is with Paul the Wine Guy?\n",
        "\n",
        "Ross: He finally asked you out?\n",
        "\n",
        "Monica: Yes!\n",
        "\n",
        "Chandler: Ooh, this is a Dear Diary moment.\n",
        "\n",
        "Monica: Rach, wait, I can cancel...\n",
        "\n",
        "Rachel: Please, no, go, that'd be fine!\n",
        "\n",
        "Monica: (to Ross) Are, are you okay? I mean, do you want me to stay?\n",
        "\n",
        "Ross: (choked voice) That'd be good...\n",
        "\n",
        "Monica: (horrified) Really?\n",
        "\n",
        "Ross: (normal voice) No, go on! It's Paul the Wine Guy!\n",
        "\n",
        "Phoebe: What does that mean?   Does he sell it, drink it, or just complain a lot? (Chandler doesn't know.)\n",
        "\n",
        "(There's a knock on the door and it's Paul.)\n",
        "\n",
        "Monica: Hi, come in! Paul, this is.. (They are all lined up next to the door.)... everybody, everybody, this is Paul.\n",
        "\n",
        "All: Hey! Paul! Hi! The Wine Guy! Hey!\n",
        "\n",
        "Chandler: I'm sorry, I didn't catch your name. Paul, was it?\n",
        "\n",
        "Monica: Okay, umm-umm, I'll just--I'll be right back, I just gotta go ah, go ah...\n",
        "\n",
        "Ross: A wandering?\n",
        "\n",
        "Monica: Change!  Okay, sit down. (Shows Paul in) Two seconds.\n",
        "\n",
        "Phoebe: Ooh, I just pulled out four eyelashes. That can't be good.\n",
        "\n",
        "(Monica goes to change.)\n",
        "\n",
        "Joey:  Hey, Paul!\n",
        "\n",
        "Paul: Yeah?\n",
        "\n",
        "Joey: Here's a little tip, she really likes it when you rub her neck in the same spot over and over and over again until it starts to get a little red.\n",
        "\n",
        "Monica: (yelling from the bedroom) Shut up, Joey!\n",
        "\n",
        "Ross: So Rachel, what're you, uh... what're you up to tonight?\n",
        "\n",
        "Rachel: Well, I was kinda supposed to be headed for Aruba on my honeymoon, so nothing!\n",
        "\n",
        "Ross: Right, you're not even getting your honeymoon, God.. No, no, although, Aruba, this time of year... talk about your- (thinks) -big lizards... Anyway, if you don't feel like being alone tonight, Joey and Chandler are coming over to help me put together my new furniture.\n",
        "\n",
        "Chandler: (deadpan) Yes, and we're very excited about it.\n",
        "\n",
        "Rachel: Well actually thanks, but I think I'm just gonna hang out here tonight.  It's been kinda a long day.\n",
        "\n",
        "Ross: Okay, sure.\n",
        "\n",
        "Joey: Hey Pheebs, you wanna help?\n",
        "\n",
        "Phoebe: Oh, I wish I could, but I don't want to.\n",
        "\n",
        "Commercial Break\n",
        "\n",
        "[Scene: The Subway, Phoebe is singing for change.]\n",
        "\n",
        "Phoebe: (singing) Love is sweet as summer showers, love is a wondrous work of art, but your love oh your love, your love...is like a giant pigeon...crapping on my heart.  La-la-la-la-la- (some guy gives her some change and to that guy) Thank you. (sings) La-la-la-la...ohhh!\n",
        "\n",
        "[Scene: Ross's Apartment, the guys are there assembling furniture.]\n",
        "\n",
        "Ross: (squatting and reading the instructions) I'm supposed to attach a brackety thing to the side things, using a bunch of these little worm guys. I have no brackety thing, I see no whim guys whatsoever and- I cannot feel my legs.\n",
        "\n",
        "(Joey and Chandler are finishing assembling the bookcase.)\n",
        "\n",
        "Joey: I'm thinking we've got a bookcase here.\n",
        "\n",
        "Chandler: It's a beautiful thing.\n",
        "\n",
        "Joey: (picking up a leftover part) What's this?\n",
        "\n",
        "Chandler: I would have to say that is an 'L'-shaped bracket.\n",
        "\n",
        "Joey: Which goes where?\n",
        "\n",
        "Chandler: I have no idea.\n",
        "\n",
        "(Joey checks that Ross is not looking and dumps it in a plant.)\n",
        "\n",
        "Joey: Done with the bookcase!\n",
        "\n",
        "Chandler: All finished!\n",
        "\n",
        "Ross: (clutching a beer can and sniffing) This was Carol's favorite beer. She always drank it out of the can, I should have known.\n",
        "\n",
        "Joey: Hey-hey-hey-hey, if you're gonna start with that stuff we're outta here.\n",
        "\n",
        "Chandler: Yes, please don't spoil all this fun.\n",
        "\n",
        "Joey: Ross, let me ask you a question. She got the furniture, the stereo, the good TV- what did you get?\n",
        "\n",
        "Ross: You guys.\n",
        "\n",
        "Chandler: Oh, God.\n",
        "\n",
        "Joey: You got screwed.\n",
        "\n",
        "Chandler: Oh my God!\n",
        "\n",
        "[Scene: A Restaurant, Monica and Paul are eating.]\n",
        "\n",
        "Monica: Oh my God!\n",
        "\n",
        "Paul: I know, I know, I'm such an idiot. I guess I should have caught on when she started going to the dentist four and five times a week. I mean, how clean can teeth get?\n",
        "\n",
        "Monica: My brother's going through that right now, he's such a mess. How did you get through it?\n",
        "\n",
        "Paul: Well, you might try accidentally breaking something valuable of hers, say her-\n",
        "\n",
        "Monica: -leg?\n",
        "\n",
        "Paul: (laughing) That's one way! Me, I- I went for the watch.\n",
        "\n",
        "Monica: You actually broke her watch?  Wow!  The worst thing I ever did was, I-I shredded by boyfriend's favorite bath towel.\n",
        "\n",
        "Paul: Ooh, steer clear of you.\n",
        "\n",
        "Monica: That's right. [Scene: Monica's Apartment, Rachel is talking on the phone and pacing.]\n",
        "\n",
        "Rachel: Barry, I'm sorry... I am so sorry... I know you probably think that this is all about what I said the other day about you making love with your socks on, but it isn't... it isn't, it's about me, and I ju- (She stops talking and dials the phone.) Hi, machine cut me off again... anyway...look, look, I know that some girl is going to be incredibly lucky to become Mrs. Barry Finkel, but it isn't me, it's not me.  And not that I have any idea who me is right now, but you just have to give me a chance too... (The maching cuts her off again and she redials.)\n",
        "\n",
        "[Scene: Ross's Apartment; Ross is pacing while Joey and Chandler are working on some more furniture.]\n",
        "\n",
        "Ross: I'm divorced!  I'm only 26 and I'm divorced!\n",
        "\n",
        "Joey: Shut up!\n",
        "\n",
        "Chandler: You must stop! (Chandler hits what he is working on with a hammer and it collapses.)\n",
        "\n",
        "Ross: That only took me an hour.\n",
        "\n",
        "Chandler: Look, Ross, you gotta understand, between us we haven't had a relationship that has lasted longer than a Mento.   You, however have had the love of a woman for four years.   Four years of closeness and sharing at the end of which she ripped your heart out, and that is why we don't do it!  I don't think that was my point!\n",
        "\n",
        "Ross: You know what the scariest part is? What if there's only one woman for everybody, y'know? I mean what if you get one woman- and that's it? Unfortunately in my case, there was only one woman- for her...\n",
        "\n",
        "Joey: What are you talking about? 'One woman'? That's like saying there's only one flavor of ice cream for you. Lemme tell you something, Ross. There's lots of flavors out there. There's Rocky Road, and Cookie Dough, and Bing! Cherry Vanilla. You could get 'em with Jimmies, or nuts, or whipped cream! This is the best thing that ever happened to you! You got married, you were, like, what, eight? Welcome back to the world! Grab a spoon!\n",
        "\n",
        "Ross: I honestly don't know if I'm hungry or horny.\n",
        "\n",
        "Chandler: Stay out of my freezer! [Scene: A Restaurant, Monica and Paul are still eating.]\n",
        "\n",
        "Paul: Ever since she walked out on me, I, uh...\n",
        "\n",
        "Monica: What?..... What, you wanna spell it out with noodles?\n",
        "\n",
        "Paul: No, it's, it's more of a fifth date kinda revelation.\n",
        "\n",
        "Monica: Oh, so there is gonna be a fifth date?\n",
        "\n",
        "Paul: Isn't there?\n",
        "\n",
        "Monica: Yeah... yeah, I think there is. -What were you gonna say?\n",
        "\n",
        "Paul: Well, ever-ev-... ever since she left me, um, I haven't been able to, uh, perform. (Monica takes a sip of her drink.) ...Sexually.\n",
        "\n",
        "Monica: (spitting out her drink in shock) Oh God, oh God, I am sorry... I am so sorry...\n",
        "\n",
        "Paul: It's okay...\n",
        "\n",
        "Monica: I know being spit on is probably not what you need right now. Um... how long?\n",
        "\n",
        "Paul: Two years.\n",
        "\n",
        "Monica: Wow! I'm-I'm-I'm glad you smashed her watch!\n",
        "\n",
        "Paul: So you still think you, um... might want that fifth date?\n",
        "\n",
        "Monica: (pause)...Yeah. Yeah, I do.\n",
        "\n",
        "[Scene: Monica's Apartment, Rachel is watching Joanne Loves Chaci.]\n",
        "\n",
        "Priest on TV: We are gathered here today to join Joanne Louise Cunningham and Charles, Chachi-Chachi-Chachi, Arcola in the bound of holy matrimony.\n",
        "\n",
        "Rachel: Oh...see... but Joanne loved Chachi! That's the difference!\n",
        "\n",
        "[Scene: Ross's Apartment, they're all sitting around and talking.]\n",
        "\n",
        "Ross: (scornful) Grab a spoon. Do you know how long it's been since I've grabbed a spoon? Do the words 'Billy, don't be a hero' mean anything to you?\n",
        "\n",
        "Joey: Great story!  But, I uh, I gotta go, I got a date with Andrea--Angela--Andrea...  Oh man, (looks to Chandler)\n",
        "\n",
        "Chandler: Angela's the screamer, Andrea has cats.\n",
        "\n",
        "Joey: Right.  Thanks.  It's June.  I'm outta here. (Exits.)\n",
        "\n",
        "Ross: Y'know, here's the thing. Even if I could get it together enough to- to ask a woman out,... who am I gonna ask? (He gazes out of the window.)\n",
        "\n",
        "[Cut to Rachel staring out of her window.]\n",
        "\n",
        "Commercial Break\n",
        "\n",
        "[Scene: Monica's Apartment, Rachel is making coffee for Joey and Chandler.]\n",
        "\n",
        "Rachel: Isn't this amazing? I mean, I have never made coffee before in my entire life.\n",
        "\n",
        "Chandler: That is amazing.\n",
        "\n",
        "Joey: Congratulations.\n",
        "\n",
        "Rachel: Y'know, I figure if I can make coffee, there isn't anything I can't do.\n",
        "\n",
        "Chandler: If can invade Poland, there isn't anything I can't do.\n",
        "\n",
        "Joey: Listen, while you're on a roll, if you feel like you gotta make like a Western omelet or something... (Joey and Chandler taste the coffee, grimace, and pour it into a plant pot.) Although actually I'm really not that hungry...\n",
        "\n",
        "Monica: (entering, to herself) Oh good, Lenny and Squigy are here.\n",
        "\n",
        "All: Morning. Good morning.\n",
        "\n",
        "Paul: (entering from Monica's room) Morning.\n",
        "\n",
        "Joey: Morning, Paul.\n",
        "\n",
        "Rachel: Hello, Paul.\n",
        "\n",
        "Chandler: Hi, Paul, is it?\n",
        "\n",
        "(Monica and Paul walk to the door and talk in a low voice so the others can't hear.  The others move Monica's table closer to the door so that they can.)\n",
        "\n",
        "Paul: Thank you!  Thank you so much!\n",
        "\n",
        "Monica: Stop!\n",
        "\n",
        "Paul: No, I'm telling you last night was like umm, all my birthdays, both graduations, plus the barn raising scene in Witness.\n",
        "\n",
        "Monica: We'll talk later.\n",
        "\n",
        "Paul: Yeah. (They kiss) Thank you. (Exits)\n",
        "\n",
        "Joey: That wasn't a real date?! What the hell do you do on a real date?\n",
        "\n",
        "Monica: Shut up, and put my table back.\n",
        "\n",
        "All: Okayyy! (They do so.)\n",
        "\n",
        "Chandler: All right, kids, I gotta get to work. If I don't input those numbers,... it doesn't make much of a difference...\n",
        "\n",
        "Rachel: So, like, you guys all have jobs?\n",
        "\n",
        "Monica: Yeah, we all have jobs. See, that's how we buy stuff.\n",
        "\n",
        "Joey: Yeah, I'm an actor.\n",
        "\n",
        "Rachel: Wow! Would I have seen you in anything?\n",
        "\n",
        "Joey: I doubt it. Mostly regional work.\n",
        "\n",
        "Monica: Oh wait, wait, unless you happened to catch the Reruns' production of Pinocchio, at the little theater in the park.\n",
        "\n",
        "Joey: Look, it was a job all right?\n",
        "\n",
        "Chandler: 'Look, Gippetto, I'm a real live boy.'\n",
        "\n",
        "Joey: I will not take this abuse. (Walks to the door and opens it to leave.)\n",
        "\n",
        "Chandler: You're right, I'm sorry. (Burst into song and dances out of the door.) \"Once I was a wooden boy, a little wooden boy...\"\n",
        "\n",
        "Joey: You should both know, that he's a dead man.  Oh, Chandler? (Starts after Chandler.)\n",
        "\n",
        "Monica: So how you doing today? Did you sleep okay? Talk to Barry? I can't stop smiling.\n",
        "\n",
        "Rachel: I can see that. You look like you slept with a hanger in your mouth.\n",
        "\n",
        "Monica: I know, he's just so, so... Do you remember you and Tony DeMarco?\n",
        "\n",
        "Rachel: Oh, yeah.\n",
        "\n",
        "Monica: Well, it's like that. With feelings.\n",
        "\n",
        "Rachel: Oh wow. Are you in trouble.\n",
        "\n",
        "Monica: Big time!\n",
        "\n",
        "Rachel: Want a wedding dress?   Hardly used.\n",
        "\n",
        "Monica: I think we are getting a little ahead of selves here. Okay. Okay. I am just going to get up, go to work and not think about him all day. Or else I'm just gonna get up and go to work.\n",
        "\n",
        "Rachel: Oh, look, wish me luck!\n",
        "\n",
        "Monica: What for?\n",
        "\n",
        "Rachel: I'm gonna go get one of those (Thinks) job things.\n",
        "\n",
        "(Monica exits.)\n",
        "\n",
        "[Scene: Iridium, Monica is working as Frannie enters.]\n",
        "\n",
        "Frannie: Hey, Monica!\n",
        "\n",
        "Monica: Hey Frannie, welcome back! How was Florida?\n",
        "\n",
        "Frannie: You had sex, didn't you?\n",
        "\n",
        "Monica: How do you do that?\n",
        "\n",
        "Frannie: Oh, I hate you, I'm pushing my Aunt Roz through Parrot Jungle and you're having sex!  So? Who?\n",
        "\n",
        "Monica: You know Paul?\n",
        "\n",
        "Frannie: Paul the Wine Guy? Oh yeah, I know Paul.\n",
        "\n",
        "Monica: You mean you know Paul like I know Paul?\n",
        "\n",
        "Frannie: Are you kidding? I take credit for Paul. Y'know before me, there was no snap in his turtle for two years.\n",
        "\n",
        "[Scene: Central Perk, everyone but Rachel is there.]\n",
        "\n",
        "Joey: (sitting on the arm of the couch)Of course it was a line!\n",
        "\n",
        "Monica: Why?! Why? Why, why would anybody do something like that?\n",
        "\n",
        "Ross: I assume we're looking for an answer more sophisticated than 'to get you into bed'.\n",
        "\n",
        "Monica: I hate men!  I hate men!\n",
        "\n",
        "Phoebe: Oh no, don't hate, you don't want to put that out into the universe.\n",
        "\n",
        "Monica: Is it me? Is it like I have some sort of beacon that only dogs and men with severe emotional problems can hear?\n",
        "\n",
        "Phoebe: All right, c'mere, gimme your feet. (She starts massaging them.)\n",
        "\n",
        "Monica: I just thought he was nice, y'know?\n",
        "\n",
        "Joey: (bursts out laughing again) I can't believe you didn't know it was a line!\n",
        "\n",
        "(Monica pushes him off of the sofa as Rachel enters with a shopping bag.)\n",
        "\n",
        "Rachel: Guess what?\n",
        "\n",
        "Ross: You got a job?\n",
        "\n",
        "Rachel: Are you kidding? I'm trained for nothing! I was laughed out of twelve interviews today.\n",
        "\n",
        "Chandler: And yet you're surprisingly upbeat.\n",
        "\n",
        "Rachel: You would be too if you found John and David boots on sale, fifty percent off!\n",
        "\n",
        "Chandler: Oh, how well you know me...\n",
        "\n",
        "Rachel: They're my new 'I don't need a job, I don't need my parents, I've got great boots' boots!\n",
        "\n",
        "Monica: How'd you pay for them?\n",
        "\n",
        "Rachel: Uh, credit card.\n",
        "\n",
        "Monica: And who pays for that?\n",
        "\n",
        "Rachel: Um... my... father.\n",
        "\n",
        "[Scene: Monica and Rachel's, everyone is sitting around the kitchen table.   Rachel's credit cards are spread out on the table along with a pair of scissors.]\n",
        "\n",
        "Rachel: Oh God, come on you guys, is this really necessary?  I mean, I can stop charging anytime I want.\n",
        "\n",
        "Monica: C'mon, you can't live off your parents your whole life.\n",
        "\n",
        "Rachel: I know that. That's why I was getting married.\n",
        "\n",
        "Phoebe: Give her a break, it's hard being on your own for the first time.\n",
        "\n",
        "Rachel: Thank you.\n",
        "\n",
        "Phoebe: You're welcome. I remember when I first came to this city. I was fourteen. My mom had just killed herself and my step-dad was back in prison, and I got here, and I didn't know anybody. And I ended up living with this albino guy who was, like, cleaning windshields outside port authority, and then he killed himself, and then I found aromatherapy. So believe me, I know exactly how you feel.\n",
        "\n",
        "(Pause)\n",
        "\n",
        "Ross: The word you're looking for is 'Anyway'...\n",
        "\n",
        "Monica: All right, you ready?\n",
        "\n",
        "Rachel: No.  No, no, I'm not ready!  How can I be ready?  \"Hey, Rach!  You ready to jump out the airplane without your parachute?\"  Come on, I can't do this!\n",
        "\n",
        "Monica: You can, I know you can!\n",
        "\n",
        "Rachel: I don't think so.\n",
        "\n",
        "Ross: Come on, you made coffee!   You can do anything! (Chandler slowly tries to hide the now dead plant from that morning when he and Joey poured their coffee into it.)\n",
        "\n",
        "Ross: C'mon, cut. Cut, cut, cut,...\n",
        "\n",
        "All: Cut, cut, cut, cut, cut, cut, cut... (She cuts one of them and they cheer.)\n",
        "\n",
        "Rachel: Y'know what?  I think we can just leave it at that.  It's kinda like a symbolic gesture...\n",
        "\n",
        "Monica:  Rachel!  That was a library card!\n",
        "\n",
        "All: Cut, cut, cut, cut, cut, cut, cut..\n",
        "\n",
        "Chandler: (as Rachel is cutting up her cards) Y'know, if you listen closely, you can hear a thousand retailers scream.\n",
        "\n",
        "(She finishes cutting them up and they all cheer.)\n",
        "\n",
        "Monica: Welcome to the real world! It sucks. You're gonna love it!\n",
        "\n",
        "[Time Lapse, Rachel and Ross are watching a TV channel finishes it's broadcast day by playing the national anthem.]\n",
        "\n",
        "Monica: Well, that's it (To Ross) You gonna crash on the couch?\n",
        "\n",
        "Ross: No. No, I gotta go home sometime.\n",
        "\n",
        "Monica: You be okay?\n",
        "\n",
        "Ross: Yeah.\n",
        "\n",
        "Rachel: Hey Mon, look what I just found on the floor. (Monica smiles.) What?\n",
        "\n",
        "Monica: That's Paul's watch. You just put it back where you found it. Oh boy. Alright. Goodnight, everybody.\n",
        "\n",
        "Ross and Rachel: Goodnight.\n",
        "\n",
        "(Monica stomps on Paul's watch and goes into her room.)\n",
        "\n",
        "Ross: Mmm. (They both reach for the last cookie) Oh, no-\n",
        "\n",
        "Rachel: Sorry-\n",
        "\n",
        "Ross: No no no, go-\n",
        "\n",
        "Rachel: No, you have it, really, I don't want it-\n",
        "\n",
        "Ross: Split it?\n",
        "\n",
        "Rachel: Okay.\n",
        "\n",
        "Ross: Okay. (They split it.) You know you probably didn't know this, but back in high school, I had a, um, major crush on you.\n",
        "\n",
        "Rachel: I knew.\n",
        "\n",
        "Ross: You did! Oh.... I always figured you just thought I was Monica's geeky older brother.\n",
        "\n",
        "Rachel: I did.\n",
        "\n",
        "Ross: Oh. Listen, do you think- and try not to let my intense vulnerability become any kind of a factor here- but do you think it would be okay if I asked you out? Sometime? Maybe?\n",
        "\n",
        "Rachel: Yeah, maybe...\n",
        "\n",
        "Ross: Okay... okay, maybe I will...\n",
        "\n",
        "Rachel: Goodnight.\n",
        "\n",
        "Ross: Goodnight.\n",
        "\n",
        "(Rachel goes into her room and Monica enters the living room as Ross is leaving.)\n",
        "\n",
        "Monica: See ya.... Waitwait, what's with you?\n",
        "\n",
        "Ross: I just grabbed a spoon. (Ross exits and Monica has no idea what that means.)\n",
        "\n",
        "Closing Credits\n",
        "\n",
        "[Scene: Central Perk, everyone is there.]\n",
        "\n",
        "Joey: I can't believe what I'm hearing here.\n",
        "\n",
        "Phoebe: (sings) I can't believe what I'm hearing here...\n",
        "\n",
        "Monica: What? I-I said you had a-\n",
        "\n",
        "Phoebe: (sings) What I said you had...\n",
        "\n",
        "Monica: (to Phoebe) Would you stop?\n",
        "\n",
        "Phoebe: Oh, was I doing it again?\n",
        "\n",
        "All: Yes!\n",
        "\n",
        "Monica: I said that you had a nice butt, it's just not a great butt.\n",
        "\n",
        "Joey: Oh, you wouldn't know a great butt if it came up and bit ya.\n",
        "\n",
        "Ross: There's an image.\n",
        "\n",
        "Rachel: (walks up with a pot of coffee) Would anybody like more coffee?\n",
        "\n",
        "Chandler: Did you make it, or are you just serving it?\n",
        "\n",
        "Rachel: I'm just serving it.\n",
        "\n",
        "All: Yeah. Yeah, I'll have a cup of coffee.\n",
        "\n",
        "Chandler: Kids, new dream... I'm in Las Vegas. (Rachel sits down to hear Chandler's dream.)\n",
        "\n",
        "Customer: (To Rachel) Ahh, miss?   More coffee?\n",
        "\n",
        "Rachel: Ugh. (To another customer that's leaving.) Excuse me, could you give this to that guy over there? (Hands him the coffee pot.) Go ahead. (He does so.) Thank you. (To the gang.) Sorry.  Okay, Las Vegas.\n",
        "\n",
        "Chandler: Okay, so, I'm in Las Vegas... I'm Liza Minelli-\n",
        "\n",
        "End"
      ],
      "metadata": {
        "colab": {
          "base_uri": "https://localhost:8080/"
        },
        "id": "zFsnHUybO3Gk",
        "outputId": "94ca477c-47dc-4b9f-94bf-ecfc56bef9a1"
      },
      "execution_count": null,
      "outputs": [
        {
          "output_type": "stream",
          "name": "stdout",
          "text": [
            "Writing friends101.txt\n"
          ]
        }
      ]
    },
    {
      "cell_type": "code",
      "source": [
        "ls"
      ],
      "metadata": {
        "colab": {
          "base_uri": "https://localhost:8080/"
        },
        "id": "sR2kEX9lVC8r",
        "outputId": "0a23118b-9cc7-465a-b0af-698874f6d1fd"
      },
      "execution_count": null,
      "outputs": [
        {
          "output_type": "stream",
          "name": "stdout",
          "text": [
            "ex1.csv  ex3.txt  ex6.csv         No_index.csv  pipe.csv      test.csv\n",
            "ex2.csv  ex4.csv  ex7.csv         null_csv      \u001b[0m\u001b[01;34msample_data\u001b[0m/\n",
            "ex3.csv  ex5.csv  friends101.txt  out.csv       test\n"
          ]
        }
      ]
    },
    {
      "cell_type": "code",
      "source": [
        "!head friends101.txt"
      ],
      "metadata": {
        "colab": {
          "base_uri": "https://localhost:8080/"
        },
        "id": "W43PKSemVLlw",
        "outputId": "89b422dd-6699-4a0b-cc52-d04bcb97cc3b"
      },
      "execution_count": null,
      "outputs": [
        {
          "output_type": "stream",
          "name": "stdout",
          "text": [
            "The One Where Monica Gets a New Roommate (The Pilot-The Uncut Version)\n",
            "Written by: Marta Kauffman & David Crane\n",
            "Transcribed by: guineapig\n",
            "Additional transcribing by: Eric Aasen\n",
            "(Note: The previously unseen parts of this episode are shown in blue text.)\n",
            "\n",
            "[Scene: Central Perk, Chandler, Joey, Phoebe, and Monica are there.]\n",
            "\n",
            "Monica: There's nothing to tell! He's just some guy I work with!\n",
            "\n"
          ]
        }
      ]
    },
    {
      "cell_type": "code",
      "source": [
        "!tail friends101.txt"
      ],
      "metadata": {
        "colab": {
          "base_uri": "https://localhost:8080/"
        },
        "id": "aFt3_wMqVw55",
        "outputId": "57a168d1-c9b1-4b55-d9be-cf445e8ca9cd"
      },
      "execution_count": null,
      "outputs": [
        {
          "output_type": "stream",
          "name": "stdout",
          "text": [
            "\n",
            "Chandler: Kids, new dream... I'm in Las Vegas. (Rachel sits down to hear Chandler's dream.)\n",
            "\n",
            "Customer: (To Rachel) Ahh, miss?   More coffee?\n",
            "\n",
            "Rachel: Ugh. (To another customer that's leaving.) Excuse me, could you give this to that guy over there? (Hands him the coffee pot.) Go ahead. (He does so.) Thank you. (To the gang.) Sorry.  Okay, Las Vegas.\n",
            "\n",
            "Chandler: Okay, so, I'm in Las Vegas... I'm Liza Minelli-\n",
            "\n",
            "End\n"
          ]
        }
      ]
    },
    {
      "cell_type": "code",
      "source": [
        "ls"
      ],
      "metadata": {
        "colab": {
          "base_uri": "https://localhost:8080/"
        },
        "id": "h3IkDRF1V2FY",
        "outputId": "acbb8e8b-a95c-4e89-e799-3bea8f2d8a9c"
      },
      "execution_count": null,
      "outputs": [
        {
          "output_type": "stream",
          "name": "stdout",
          "text": [
            "ex1.csv  ex3.txt  ex6.csv         No_index.csv  pipe.csv      test.csv\n",
            "ex2.csv  ex4.csv  ex7.csv         null_csv      \u001b[0m\u001b[01;34msample_data\u001b[0m/\n",
            "ex3.csv  ex5.csv  friends101.txt  out.csv       test\n"
          ]
        }
      ]
    },
    {
      "cell_type": "code",
      "source": [
        "rm *.csv"
      ],
      "metadata": {
        "id": "pHHc_fnpWBbQ"
      },
      "execution_count": null,
      "outputs": []
    },
    {
      "cell_type": "code",
      "source": [
        "ls"
      ],
      "metadata": {
        "colab": {
          "base_uri": "https://localhost:8080/"
        },
        "id": "cYJlpjuUWEpZ",
        "outputId": "bb656ea2-b26f-419d-c3c3-11aaf032fb36"
      },
      "execution_count": null,
      "outputs": [
        {
          "output_type": "stream",
          "name": "stdout",
          "text": [
            "ex3.txt  friends101.txt  null_csv  \u001b[0m\u001b[01;34msample_data\u001b[0m/  test\n"
          ]
        }
      ]
    },
    {
      "cell_type": "code",
      "source": [
        "rm test null_csv"
      ],
      "metadata": {
        "id": "rGM_Tl4vWGg6"
      },
      "execution_count": null,
      "outputs": []
    },
    {
      "cell_type": "code",
      "source": [
        "rm ex3.txt"
      ],
      "metadata": {
        "id": "f0EY1VqUWKH_"
      },
      "execution_count": null,
      "outputs": []
    },
    {
      "cell_type": "code",
      "source": [
        "ls"
      ],
      "metadata": {
        "colab": {
          "base_uri": "https://localhost:8080/"
        },
        "id": "FJ7xKBZsWMOQ",
        "outputId": "edab84b8-dd88-42ce-e6a0-03a1c6e888a1"
      },
      "execution_count": null,
      "outputs": [
        {
          "output_type": "stream",
          "name": "stdout",
          "text": [
            "friends101.txt  \u001b[0m\u001b[01;34msample_data\u001b[0m/\n"
          ]
        }
      ]
    },
    {
      "cell_type": "code",
      "source": [
        "import os, re"
      ],
      "metadata": {
        "id": "fZa1UbLeWM0o"
      },
      "execution_count": null,
      "outputs": []
    },
    {
      "cell_type": "code",
      "source": [
        "f = open('friends101.txt','r', encoding = 'utf-8')"
      ],
      "metadata": {
        "id": "nbSOSyJ-WnHf"
      },
      "execution_count": null,
      "outputs": []
    },
    {
      "cell_type": "code",
      "source": [
        "script101 = f.read()"
      ],
      "metadata": {
        "id": "-rVTKGB6WwCW"
      },
      "execution_count": null,
      "outputs": []
    },
    {
      "cell_type": "code",
      "source": [
        "print(script101[:100])"
      ],
      "metadata": {
        "colab": {
          "base_uri": "https://localhost:8080/"
        },
        "id": "pfAPgs7MW3sn",
        "outputId": "b5f15e25-bb1b-4b2e-ce67-9a9cb7699389"
      },
      "execution_count": null,
      "outputs": [
        {
          "output_type": "stream",
          "name": "stdout",
          "text": [
            "The One Where Monica Gets a New Roommate (The Pilot-The Uncut Version)\n",
            "Written by: Marta Kauffman & \n"
          ]
        }
      ]
    },
    {
      "cell_type": "code",
      "source": [
        "Line = re.findall(r'Monica:.+', script101)"
      ],
      "metadata": {
        "id": "eKE7UmSqW6t3"
      },
      "execution_count": null,
      "outputs": []
    },
    {
      "cell_type": "code",
      "source": [
        "Line[:3]"
      ],
      "metadata": {
        "colab": {
          "base_uri": "https://localhost:8080/"
        },
        "id": "5Nj8Y8LnYEVb",
        "outputId": "58a0111c-c338-4e2d-c44f-a81867bb51d1"
      },
      "execution_count": null,
      "outputs": [
        {
          "output_type": "execute_result",
          "data": {
            "text/plain": [
              "[\"Monica: There's nothing to tell! He's just some guy I work with!\",\n",
              " \"Monica: Okay, everybody relax. This is not even a date. It's just two people going out to dinner and- not having sex.\",\n",
              " \"Monica: And they weren't looking at you before?!\"]"
            ]
          },
          "metadata": {},
          "execution_count": 70
        }
      ]
    },
    {
      "cell_type": "code",
      "source": [
        "f.close"
      ],
      "metadata": {
        "colab": {
          "base_uri": "https://localhost:8080/"
        },
        "id": "l04gIVntYkmc",
        "outputId": "0a9d09ce-218b-42e6-afff-b2294f8f4e8a"
      },
      "execution_count": null,
      "outputs": [
        {
          "output_type": "execute_result",
          "data": {
            "text/plain": [
              "<function TextIOWrapper.close()>"
            ]
          },
          "metadata": {},
          "execution_count": 71
        }
      ]
    },
    {
      "cell_type": "code",
      "source": [
        "f = open('monica.txt','w', encoding = 'utf-8')\n",
        "monica = ''\n",
        "for i in Line:\n",
        "    monica += i\n",
        "f.write(monica)\n",
        "f.close()"
      ],
      "metadata": {
        "id": "hG5oE-FWYwIk"
      },
      "execution_count": null,
      "outputs": []
    },
    {
      "cell_type": "code",
      "source": [
        "with open('monica.txt','w', encoding = 'utf-8') as f:\n",
        "    f.writelines(Line)"
      ],
      "metadata": {
        "id": "x5umxbElZIV8"
      },
      "execution_count": null,
      "outputs": []
    },
    {
      "cell_type": "code",
      "source": [
        "ls"
      ],
      "metadata": {
        "colab": {
          "base_uri": "https://localhost:8080/"
        },
        "id": "2LdUKCLCaWdJ",
        "outputId": "3c5a400a-3028-4f84-d6f5-40bc0866db30"
      },
      "execution_count": null,
      "outputs": [
        {
          "output_type": "stream",
          "name": "stdout",
          "text": [
            "friends101.txt  monica.txt  \u001b[0m\u001b[01;34msample_data\u001b[0m/\n"
          ]
        }
      ]
    },
    {
      "cell_type": "code",
      "source": [
        "!head monica.txt"
      ],
      "metadata": {
        "colab": {
          "base_uri": "https://localhost:8080/"
        },
        "id": "RqUn_SWgaT_I",
        "outputId": "c9eb455c-96a0-472b-ac44-a696157489a1"
      },
      "execution_count": null,
      "outputs": [
        {
          "output_type": "stream",
          "name": "stdout",
          "text": [
            "Monica: There's nothing to tell! He's just some guy I work with!Monica: Okay, everybody relax. This is not even a date. It's just two people going out to dinner and- not having sex.Monica: And they weren't looking at you before?!Monica: Are you okay, sweetie?Monica: (explaining to the others) Carol moved her stuff out today.Monica: (to Ross) Let me get you some coffee.Monica: No you don't.Monica: Oh really, so that hysterical phone call I got from a woman at sobbing 3:00 A.M., \"I'll never have grandchildren, I'll never have grandchildren.\" was what?  A wrong number?Monica: Rachel?!Monica: (pointing at Rachel) De-caff. (to All) Okay, everybody, this is Rachel, another Lincoln High survivor. (to Rachel) This is everybody, this is Chandler, and Phoebe, and Joey, and- you remember my brother Ross?Monica: So you wanna tell us now, or are we waiting for four wet bridesmaids?Monica: Who wasn't invited to the wedding.Monica: Now I'm guessing that he bought her the big pipe organ, and she's really not happy about it.Monica: Well, I guess we've established who's staying here with Monica...Monica: Just breathe, breathe.. that's it. Just try to think of nice calm things...Monica: Okay, look, this is probably for the best, y'know? Independence. Taking control of your life.  The whole, 'hat' thing.Monica: Joey, stop hitting on her! It's her wedding day!Monica: Oh God, is it 6:30?  Buzz him in!Monica: Maybe. Joey: Wait. Your 'not a real date' tonight is with Paul the Wine Guy?Monica: Yes!Monica: Rach, wait, I can cancel...Monica: (to Ross) Are, are you okay? I mean, do you want me to stay?Monica: (horrified) Really?Monica: Hi, come in! Paul, this is.. (They are all lined up next to the door.)... everybody, everybody, this is Paul.Monica: Okay, umm-umm, I'll just--I'll be right back, I just gotta go ah, go ah...Monica: Change!  Okay, sit down. (Shows Paul in) Two seconds.Monica: (yelling from the bedroom) Shut up, Joey!Monica: Oh my God!Monica: My brother's going through that right now, he's such a mess. How did you get through it?Monica: -leg?Monica: You actually broke her watch?  Wow!  The worst thing I ever did was, I-I shredded by boyfriend's favorite bath towel.Monica: That's right. [Scene: Monica's Apartment, Rachel is talking on the phone and pacing.]Monica: What?..... What, you wanna spell it out with noodles?Monica: Oh, so there is gonna be a fifth date?Monica: Yeah... yeah, I think there is. -What were you gonna say?Monica: (spitting out her drink in shock) Oh God, oh God, I am sorry... I am so sorry...Monica: I know being spit on is probably not what you need right now. Um... how long?Monica: Wow! I'm-I'm-I'm glad you smashed her watch!Monica: (pause)...Yeah. Yeah, I do.Monica: (entering, to herself) Oh good, Lenny and Squigy are here.Monica: Stop!Monica: We'll talk later.Monica: Shut up, and put my table back.Monica: Yeah, we all have jobs. See, that's how we buy stuff.Monica: Oh wait, wait, unless you happened to catch the Reruns' production of Pinocchio, at the little theater in the park.Monica: So how you doing today? Did you sleep okay? Talk to Barry? I can't stop smiling.Monica: I know, he's just so, so... Do you remember you and Tony DeMarco?Monica: Well, it's like that. With feelings.Monica: Big time!Monica: I think we are getting a little ahead of selves here. Okay. Okay. I am just going to get up, go to work and not think about him all day. Or else I'm just gonna get up and go to work.Monica: What for?Monica: Hey Frannie, welcome back! How was Florida?Monica: How do you do that?Monica: You know Paul?Monica: You mean you know Paul like I know Paul?Monica: Why?! Why? Why, why would anybody do something like that?Monica: I hate men!  I hate men!Monica: Is it me? Is it like I have some sort of beacon that only dogs and men with severe emotional problems can hear?Monica: I just thought he was nice, y'know?Monica: How'd you pay for them?Monica: And who pays for that?Monica: C'mon, you can't live off your parents your whole life.Monica: All right, you ready?Monica: You can, I know you can!Monica:  Rachel!  That was a library card!Monica: Welcome to the real world! It sucks. You're gonna love it!Monica: Well, that's it (To Ross) You gonna crash on the couch?Monica: You be okay?Monica: That's Paul's watch. You just put it back where you found it. Oh boy. Alright. Goodnight, everybody.Monica: See ya.... Waitwait, what's with you?Monica: What? I-I said you had a-Monica: (to Phoebe) Would you stop?Monica: I said that you had a nice butt, it's just not a great butt."
          ]
        }
      ]
    },
    {
      "cell_type": "code",
      "source": [
        "with open('monica.txt','w', encoding = 'utf-8') as f:\n",
        "    f.write('\\n'.join(Line))"
      ],
      "metadata": {
        "id": "50cnx-SQaZIR"
      },
      "execution_count": null,
      "outputs": []
    },
    {
      "cell_type": "code",
      "source": [
        "!head monica.txt"
      ],
      "metadata": {
        "colab": {
          "base_uri": "https://localhost:8080/"
        },
        "id": "PkAkt0YQazdI",
        "outputId": "55b4642d-0280-4eb3-b531-91b900f01b1c"
      },
      "execution_count": null,
      "outputs": [
        {
          "output_type": "stream",
          "name": "stdout",
          "text": [
            "Monica: There's nothing to tell! He's just some guy I work with!\n",
            "Monica: Okay, everybody relax. This is not even a date. It's just two people going out to dinner and- not having sex.\n",
            "Monica: And they weren't looking at you before?!\n",
            "Monica: Are you okay, sweetie?\n",
            "Monica: (explaining to the others) Carol moved her stuff out today.\n",
            "Monica: (to Ross) Let me get you some coffee.\n",
            "Monica: No you don't.\n",
            "Monica: Oh really, so that hysterical phone call I got from a woman at sobbing 3:00 A.M., \"I'll never have grandchildren, I'll never have grandchildren.\" was what?  A wrong number?\n",
            "Monica: Rachel?!\n",
            "Monica: (pointing at Rachel) De-caff. (to All) Okay, everybody, this is Rachel, another Lincoln High survivor. (to Rachel) This is everybody, this is Chandler, and Phoebe, and Joey, and- you remember my brother Ross?\n"
          ]
        }
      ]
    },
    {
      "cell_type": "code",
      "source": [
        "sample_list = ['test', 'python', 'program']"
      ],
      "metadata": {
        "id": "5JK3sDIGa0-Y"
      },
      "execution_count": null,
      "outputs": []
    },
    {
      "cell_type": "code",
      "source": [
        "'\\n'.join(sample_list)"
      ],
      "metadata": {
        "colab": {
          "base_uri": "https://localhost:8080/",
          "height": 36
        },
        "id": "F0qDcYfHbCdp",
        "outputId": "bcc59b15-9368-435f-95ae-29c0a56c837d"
      },
      "execution_count": null,
      "outputs": [
        {
          "output_type": "execute_result",
          "data": {
            "text/plain": [
              "'test\\npython\\nprogram'"
            ],
            "application/vnd.google.colaboratory.intrinsic+json": {
              "type": "string"
            }
          },
          "metadata": {},
          "execution_count": 78
        }
      ]
    },
    {
      "cell_type": "code",
      "source": [
        "char = re.compile(r'[A-Z][a-z]+:')"
      ],
      "metadata": {
        "id": "tKM4ZxnKbEtZ"
      },
      "execution_count": null,
      "outputs": []
    },
    {
      "cell_type": "code",
      "source": [
        "char"
      ],
      "metadata": {
        "colab": {
          "base_uri": "https://localhost:8080/"
        },
        "id": "qKlwTmBnb4Dg",
        "outputId": "336a1527-0c7d-4a2c-9e07-eb054e4ca4d0"
      },
      "execution_count": null,
      "outputs": [
        {
          "output_type": "execute_result",
          "data": {
            "text/plain": [
              "re.compile(r'[A-Z][a-z]+:', re.UNICODE)"
            ]
          },
          "metadata": {},
          "execution_count": 80
        }
      ]
    },
    {
      "cell_type": "code",
      "source": [
        "re.findall(char, script101)"
      ],
      "metadata": {
        "id": "FFJsR529b4lo"
      },
      "execution_count": null,
      "outputs": []
    },
    {
      "cell_type": "code",
      "source": [
        "set(re.findall(char, script101))"
      ],
      "metadata": {
        "id": "AfLwJgGDcV91"
      },
      "execution_count": null,
      "outputs": []
    },
    {
      "cell_type": "code",
      "source": [
        "{1,2,3,1,2,3}"
      ],
      "metadata": {
        "colab": {
          "base_uri": "https://localhost:8080/"
        },
        "id": "IyS5rq78co2V",
        "outputId": "db33421d-721c-42c6-ab13-c25ab2d7ea36"
      },
      "execution_count": null,
      "outputs": [
        {
          "output_type": "execute_result",
          "data": {
            "text/plain": [
              "{1, 2, 3}"
            ]
          },
          "metadata": {},
          "execution_count": 84
        }
      ]
    },
    {
      "cell_type": "code",
      "source": [
        "list_sample = {1,2,1,2,2,1}"
      ],
      "metadata": {
        "id": "RMvtNzSCc4Vd"
      },
      "execution_count": null,
      "outputs": []
    },
    {
      "cell_type": "code",
      "source": [
        "set(list_sample)"
      ],
      "metadata": {
        "colab": {
          "base_uri": "https://localhost:8080/"
        },
        "id": "Eyt0xYcZc7rf",
        "outputId": "48f5f18d-3c5a-40d5-cee6-aa244b6a5d0a"
      },
      "execution_count": null,
      "outputs": [
        {
          "output_type": "execute_result",
          "data": {
            "text/plain": [
              "{1, 2}"
            ]
          },
          "metadata": {},
          "execution_count": 86
        }
      ]
    },
    {
      "cell_type": "code",
      "source": [
        "list(set(re.findall(char, script101)))"
      ],
      "metadata": {
        "colab": {
          "base_uri": "https://localhost:8080/"
        },
        "id": "f5gwdneIc83k",
        "outputId": "d2f405b6-3f83-4bf9-a637-2fd9a8a9fdeb"
      },
      "execution_count": null,
      "outputs": [
        {
          "output_type": "execute_result",
          "data": {
            "text/plain": [
              "['Paul:',\n",
              " 'Monica:',\n",
              " 'Frannie:',\n",
              " 'Ross:',\n",
              " 'Customer:',\n",
              " 'Joey:',\n",
              " 'Phoebe:',\n",
              " 'Waitress:',\n",
              " 'Rachel:',\n",
              " 'Chandler:',\n",
              " 'Scene:',\n",
              " 'All:',\n",
              " 'Note:']"
            ]
          },
          "metadata": {},
          "execution_count": 87
        }
      ]
    },
    {
      "cell_type": "code",
      "source": [
        "re.findall(char,script101)"
      ],
      "metadata": {
        "id": "-9IMxGuv8tGp"
      },
      "execution_count": null,
      "outputs": []
    },
    {
      "cell_type": "code",
      "source": [
        "char.findall(script101)   #위와 같은 표현"
      ],
      "metadata": {
        "id": "BHGhBDhSdNKT"
      },
      "execution_count": null,
      "outputs": []
    },
    {
      "cell_type": "code",
      "source": [
        "z = list(set(re.findall(char, script101)))"
      ],
      "metadata": {
        "id": "IAHPWpNs9TyT"
      },
      "execution_count": null,
      "outputs": []
    },
    {
      "cell_type": "code",
      "source": [
        "name_list = []\n",
        "for i in z:\n",
        "    name_list.append(i[:-1])"
      ],
      "metadata": {
        "id": "rzO7kAMn8HZA"
      },
      "execution_count": null,
      "outputs": []
    },
    {
      "cell_type": "code",
      "source": [
        "name_list"
      ],
      "metadata": {
        "colab": {
          "base_uri": "https://localhost:8080/"
        },
        "id": "fRHvY0iA9SI1",
        "outputId": "379df136-9b53-4e26-e3c3-d1c1cba23e67"
      },
      "execution_count": null,
      "outputs": [
        {
          "output_type": "execute_result",
          "data": {
            "text/plain": [
              "['Paul',\n",
              " 'Monica',\n",
              " 'Frannie',\n",
              " 'Ross',\n",
              " 'Customer',\n",
              " 'Joey',\n",
              " 'Phoebe',\n",
              " 'Waitress',\n",
              " 'Rachel',\n",
              " 'Chandler',\n",
              " 'Scene',\n",
              " 'All',\n",
              " 'Note']"
            ]
          },
          "metadata": {},
          "execution_count": 93
        }
      ]
    },
    {
      "cell_type": "code",
      "source": [
        "character = [x[:-1] for x in list(set(re.findall(r'[A-Z][a-z]+:',script101)))]"
      ],
      "metadata": {
        "id": "IqWOpzxJ9fWv"
      },
      "execution_count": null,
      "outputs": []
    },
    {
      "cell_type": "code",
      "source": [
        "character"
      ],
      "metadata": {
        "colab": {
          "base_uri": "https://localhost:8080/"
        },
        "id": "Cgr65Iof95Ml",
        "outputId": "455cdcf3-7f03-4ff2-80c5-ea8d9306c0b0"
      },
      "execution_count": null,
      "outputs": [
        {
          "output_type": "execute_result",
          "data": {
            "text/plain": [
              "['Paul',\n",
              " 'Monica',\n",
              " 'Frannie',\n",
              " 'Ross',\n",
              " 'Customer',\n",
              " 'Joey',\n",
              " 'Phoebe',\n",
              " 'Waitress',\n",
              " 'Rachel',\n",
              " 'Chandler',\n",
              " 'Scene',\n",
              " 'All',\n",
              " 'Note']"
            ]
          },
          "metadata": {},
          "execution_count": 96
        }
      ]
    },
    {
      "cell_type": "markdown",
      "source": [
        "#정규표현식\n",
        "\n",
        "'a = 123'\n",
        "\n",
        "a, 123\n",
        "\n",
        "([_a-zA-Z]\\w\\*)\\s\\*  =\n",
        "\n",
        "[_a-zA-Z] - 변수명에 _들어갈수도 있고, 소문자 a-z 대문자 A-Z 들어갈수 있어서 보겠다.\n",
        "*- 한개 이상\n",
        "    \n",
        "    ls*.csv\n",
        "\n",
        "^ : 부정, 맨 앞글자\n",
        "\n",
        "$ : 맨 뒷글자"
      ],
      "metadata": {
        "id": "zvXJ8yNY_Fwh"
      }
    },
    {
      "cell_type": "code",
      "source": [
        "\\() #괄호를 문자로\n",
        "() #그룹핑"
      ],
      "metadata": {
        "id": "Z-T6K2au-D21"
      },
      "execution_count": null,
      "outputs": []
    },
    {
      "cell_type": "code",
      "source": [
        "re.findall(r'\\([A-Za-z].+?[a-z|\\.)]\\)', script101)[:6]"
      ],
      "metadata": {
        "colab": {
          "base_uri": "https://localhost:8080/"
        },
        "id": "upyXiB7CBq6z",
        "outputId": "7518e9a2-dfce-4b80-fc2e-4bbe956d60d3"
      },
      "execution_count": null,
      "outputs": [
        {
          "output_type": "execute_result",
          "data": {
            "text/plain": [
              "['(The Pilot-The Uncut Version)',\n",
              " '(Note: The previously unseen parts of this episode are shown in blue text.)',\n",
              " '(They all stare, bemused.)',\n",
              " '(mortified)',\n",
              " '(explaining to the others)',\n",
              " '(to Ross)']"
            ]
          },
          "metadata": {},
          "execution_count": 98
        }
      ]
    },
    {
      "cell_type": "code",
      "source": [
        "with open('friends101.txt','r') as f:\n",
        "    sentences = f.readlines()"
      ],
      "metadata": {
        "id": "azUByv6sB_ZY"
      },
      "execution_count": null,
      "outputs": []
    },
    {
      "cell_type": "code",
      "source": [
        "sentences"
      ],
      "metadata": {
        "colab": {
          "base_uri": "https://localhost:8080/"
        },
        "id": "TvT8ubVFC22F",
        "outputId": "4cc574c5-2a0a-464d-ba49-1ae577835350"
      },
      "execution_count": null,
      "outputs": [
        {
          "output_type": "execute_result",
          "data": {
            "text/plain": [
              "['The One Where Monica Gets a New Roommate (The Pilot-The Uncut Version)\\n',\n",
              " 'Written by: Marta Kauffman & David Crane\\n',\n",
              " 'Transcribed by: guineapig\\n',\n",
              " 'Additional transcribing by: Eric Aasen\\n',\n",
              " '(Note: The previously unseen parts of this episode are shown in blue text.)\\n',\n",
              " '\\n',\n",
              " '[Scene: Central Perk, Chandler, Joey, Phoebe, and Monica are there.]\\n',\n",
              " '\\n',\n",
              " \"Monica: There's nothing to tell! He's just some guy I work with!\\n\",\n",
              " '\\n',\n",
              " \"Joey: C'mon, you're going out with the guy! There's gotta be something wrong with him!\\n\",\n",
              " '\\n',\n",
              " 'Chandler: All right Joey, be nice.  So does he have a hump? A hump and a hairpiece?\\n',\n",
              " '\\n',\n",
              " 'Phoebe: Wait, does he eat chalk?\\n',\n",
              " '\\n',\n",
              " '(They all stare, bemused.)\\n',\n",
              " '\\n',\n",
              " \"Phoebe: Just, 'cause, I don't want her to go through what I went through with Carl- oh!\\n\",\n",
              " '\\n',\n",
              " \"Monica: Okay, everybody relax. This is not even a date. It's just two people going out to dinner and- not having sex.\\n\",\n",
              " '\\n',\n",
              " 'Chandler: Sounds like a date to me.\\n',\n",
              " '\\n',\n",
              " '[Time Lapse]\\n',\n",
              " '\\n',\n",
              " \"Chandler: Alright, so I'm back in high school, I'm standing in the middle of the cafeteria, and I realize I am totally naked.\\n\",\n",
              " '\\n',\n",
              " 'All: Oh, yeah. Had that dream.\\n',\n",
              " '\\n',\n",
              " \"Chandler: Then I look down, and I realize there's a phone... there.\\n\",\n",
              " '\\n',\n",
              " 'Joey: Instead of...?\\n',\n",
              " '\\n',\n",
              " \"Chandler: That's right.\\n\",\n",
              " '\\n',\n",
              " 'Joey: Never had that dream.\\n',\n",
              " '\\n',\n",
              " 'Phoebe: No.\\n',\n",
              " '\\n',\n",
              " \"Chandler: All of a sudden, the phone starts to ring. Now I don't know what to do, everybody starts looking at me.\\n\",\n",
              " '\\n',\n",
              " \"Monica: And they weren't looking at you before?!\\n\",\n",
              " '\\n',\n",
              " \"Chandler: Finally, I figure I'd better answer it, and it turns out it's my mother, which is very-very weird, because- she never calls me!\\n\",\n",
              " '\\n',\n",
              " '[Time Lapse, Ross has entered.]\\n',\n",
              " '\\n',\n",
              " 'Ross: (mortified) Hi.\\n',\n",
              " '\\n',\n",
              " 'Joey: This guy says hello, I wanna kill myself.\\n',\n",
              " '\\n',\n",
              " 'Monica: Are you okay, sweetie?\\n',\n",
              " '\\n',\n",
              " 'Ross: I just feel like someone reached down my throat, grabbed my small intestine, pulled it out of my mouth and tied it around my neck...\\n',\n",
              " '\\n',\n",
              " 'Chandler: Cookie?\\n',\n",
              " '\\n',\n",
              " 'Monica: (explaining to the others) Carol moved her stuff out today.\\n',\n",
              " '\\n',\n",
              " 'Joey: Ohh.\\n',\n",
              " '\\n',\n",
              " 'Monica: (to Ross) Let me get you some coffee.\\n',\n",
              " '\\n',\n",
              " 'Ross: Thanks.\\n',\n",
              " '\\n',\n",
              " 'Phoebe: Ooh! Oh! (She starts to pluck at the air just in front of Ross.)\\n',\n",
              " '\\n',\n",
              " \"Ross: No, no don't! Stop cleansing my aura! No, just leave my aura alone, okay?\\n\",\n",
              " '\\n',\n",
              " 'Phoebe: Fine!  Be murky!\\n',\n",
              " '\\n',\n",
              " \"Ross: I'll be fine, alright? Really, everyone. I hope she'll be very happy.\\n\",\n",
              " '\\n',\n",
              " \"Monica: No you don't.\\n\",\n",
              " '\\n',\n",
              " \"Ross: No I don't, to hell with her, she left me!\\n\",\n",
              " '\\n',\n",
              " 'Joey: And you never knew she was a lesbian...\\n',\n",
              " '\\n',\n",
              " \"Ross: No!! Okay?! Why does everyone keep fixating on that? She didn't know, how should I know?\\n\",\n",
              " '\\n',\n",
              " 'Chandler: Sometimes I wish I was a lesbian... (They all stare at him.) Did I say that out loud?\\n',\n",
              " '\\n',\n",
              " 'Ross: I told mom and dad last night, they seemed to take it pretty well.\\n',\n",
              " '\\n',\n",
              " 'Monica: Oh really, so that hysterical phone call I got from a woman at sobbing 3:00 A.M., \"I\\'ll never have grandchildren, I\\'ll never have grandchildren.\" was what?  A wrong number?\\n',\n",
              " '\\n',\n",
              " 'Ross: Sorry.\\n',\n",
              " '\\n',\n",
              " \"Joey: Alright Ross, look. You're feeling a lot of pain right now. You're angry. You're hurting. Can I tell you what the answer is?\\n\",\n",
              " '\\n',\n",
              " '(Ross gestures his consent.)\\n',\n",
              " '\\n',\n",
              " \"Joey: Strip joint! C'mon, you're single! Have some hormones!\\n\",\n",
              " '\\n',\n",
              " \"Ross: I don't want to be single, okay? I just... I just- I just wanna be married again!\\n\",\n",
              " '\\n',\n",
              " '(Rachel enters in a wet wedding dress and starts to search the room.)\\n',\n",
              " '\\n',\n",
              " 'Chandler: And I just want a million dollars! (He extends his hand hopefully.)\\n',\n",
              " '\\n',\n",
              " 'Monica: Rachel?!\\n',\n",
              " '\\n',\n",
              " \"Rachel: Oh God Monica hi! Thank God! I just went to your building and you weren't there and then this guy with a big hammer said you might be here and you are, you are!\\n\",\n",
              " '\\n',\n",
              " 'Waitress: Can I get you some coffee?\\n',\n",
              " '\\n',\n",
              " 'Monica: (pointing at Rachel) De-caff. (to All) Okay, everybody, this is Rachel, another Lincoln High survivor. (to Rachel) This is everybody, this is Chandler, and Phoebe, and Joey, and- you remember my brother Ross?\\n',\n",
              " '\\n',\n",
              " 'Rachel: Hi, sure!\\n',\n",
              " '\\n',\n",
              " 'Ross: Hi.\\n',\n",
              " '\\n',\n",
              " \"(They go to hug but Ross's umbrella opens.  He sits back down defeated again.  A moment of silence follows as Rachel sits and the others expect her to explain.)\\n\",\n",
              " '\\n',\n",
              " 'Monica: So you wanna tell us now, or are we waiting for four wet bridesmaids?\\n',\n",
              " '\\n',\n",
              " \"Rachel: Oh God... well, it started about a half hour before the wedding. I was in the room where we were keeping all the presents, and I was looking at this gravy boat. This really gorgeous Lamauge gravy boat. When all of a sudden- (to the waitress that brought her coffee)Sweet 'n' Lo?- I realized that I was more turned on by this gravy boat than by Barry! And then I got really freaked out, and that's when it hit me: how much Barry looks like Mr. Potato Head. Y'know, I mean, I always knew looked familiar, but... Anyway, I just had to get out of there, and I started wondering 'Why am I doing this, and who am I doing this for?'. (to Monica) So anyway I just didn't know where to go, and I know that you and I have kinda drifted apart, but you're the only person I knew who lived here in the city.\\n\",\n",
              " '\\n',\n",
              " \"Monica: Who wasn't invited to the wedding.\\n\",\n",
              " '\\n',\n",
              " \"Rachel: Ooh, I was kinda hoping that wouldn't be an issue... [Scene: Monica's Apartment, everyone is there and watching a Spanish Soap on TV and are trying to figure out what is going on.]\\n\",\n",
              " '\\n',\n",
              " \"Monica: Now I'm guessing that he bought her the big pipe organ, and she's really not happy about it.\\n\",\n",
              " '\\n',\n",
              " 'Chandler: (imitating the characters) Tuna or egg salad?  Decide!\\n',\n",
              " '\\n',\n",
              " \"Ross: (in a deep voice) I'll have whatever Christine is having.\\n\",\n",
              " '\\n',\n",
              " \"Rachel: (on phone) Daddy, I just... I can't marry him! I'm sorry. I just don't love him. Well, it matters to me!\\n\",\n",
              " '\\n',\n",
              " '(The scene on TV has changed to show two women, one is holding her hair.)\\n',\n",
              " '\\n',\n",
              " 'Phoebe:  If I let go of my hair, my head will fall off.\\n',\n",
              " '\\n',\n",
              " 'Chandler: (re TV) Ooh, she should not be wearing those pants.\\n',\n",
              " '\\n',\n",
              " 'Joey: I say push her down the stairs.\\n',\n",
              " '\\n',\n",
              " 'Phoebe, Ross, Chandler, and Joey:  Push her down the stairs! Push her down the stairs! Push her down the stairs!\\n',\n",
              " '\\n',\n",
              " '(She is pushed down the stairs and everyone cheers.)\\n',\n",
              " '\\n',\n",
              " \"Rachel: C'mon Daddy, listen to me! It's like, it's like, all of my life, everyone has always told me, 'You're a shoe! You're a shoe, you're a shoe, you're a shoe!'. And today I just stopped and I said, 'What if I don't wanna be a shoe? What if I wanna be a- a purse, y'know? Or a- or a hat! No, I'm not saying I want you to buy me a hat, I'm saying I am a ha- It's a metaphor, Daddy!\\n\",\n",
              " '\\n',\n",
              " \"Ross: You can see where he'd have trouble.\\n\",\n",
              " '\\n',\n",
              " \"Rachel: Look Daddy, it's my life. Well maybe I'll just stay here with Monica.\\n\",\n",
              " '\\n',\n",
              " \"Monica: Well, I guess we've established who's staying here with Monica...\\n\",\n",
              " '\\n',\n",
              " \"Rachel: Well, maybe that's my decision. Well, maybe I don't need your money. Wait!! Wait, I said maybe!!\\n\",\n",
              " '\\n',\n",
              " '[Time Lapse, Rachel is breating into a paper bag.]\\n',\n",
              " '\\n',\n",
              " \"Monica: Just breathe, breathe.. that's it. Just try to think of nice calm things...\\n\",\n",
              " '\\n',\n",
              " 'Phoebe: (sings) Raindrops on roses and rabbits and kittens, (Rachel and Monica turn to look at her.) bluebells and sleighbells and- something with mittens... La la la la...something and noodles with string.  These are a few...\\n',\n",
              " '\\n',\n",
              " \"Rachel: I'm all better now.\\n\",\n",
              " '\\n',\n",
              " 'Phoebe: (grins and walks to the kitchen and says to Chandler and Joey.) I helped!\\n',\n",
              " '\\n',\n",
              " \"Monica: Okay, look, this is probably for the best, y'know? Independence. Taking control of your life.  The whole, 'hat' thing.\\n\",\n",
              " '\\n',\n",
              " \"Joey: (comforting her) And hey, you need anything, you can always come to Joey. Me and Chandler live across the hall. And he's away a lot.\\n\",\n",
              " '\\n',\n",
              " \"Monica: Joey, stop hitting on her! It's her wedding day!\\n\",\n",
              " '\\n',\n",
              " \"Joey: What, like there's a rule or something?\\n\",\n",
              " '\\n',\n",
              " '(The door buzzer sounds and Chandler gets it.)\\n',\n",
              " '\\n',\n",
              " \"Chandler: Please don't do that again, it's a horrible sound.\\n\",\n",
              " '\\n',\n",
              " \"Paul: (over the intercom) It's, uh, it's Paul.\\n\",\n",
              " '\\n',\n",
              " 'Monica: Oh God, is it 6:30?  Buzz him in!\\n',\n",
              " '\\n',\n",
              " \"Joey: Who's Paul?\\n\",\n",
              " '\\n',\n",
              " 'Ross: Paul the Wine Guy, Paul?\\n',\n",
              " '\\n',\n",
              " \"Monica: Maybe. Joey: Wait. Your 'not a real date' tonight is with Paul the Wine Guy?\\n\",\n",
              " '\\n',\n",
              " 'Ross: He finally asked you out?\\n',\n",
              " '\\n',\n",
              " 'Monica: Yes!\\n',\n",
              " '\\n',\n",
              " 'Chandler: Ooh, this is a Dear Diary moment.\\n',\n",
              " '\\n',\n",
              " 'Monica: Rach, wait, I can cancel...\\n',\n",
              " '\\n',\n",
              " \"Rachel: Please, no, go, that'd be fine!\\n\",\n",
              " '\\n',\n",
              " 'Monica: (to Ross) Are, are you okay? I mean, do you want me to stay?\\n',\n",
              " '\\n',\n",
              " \"Ross: (choked voice) That'd be good...\\n\",\n",
              " '\\n',\n",
              " 'Monica: (horrified) Really?\\n',\n",
              " '\\n',\n",
              " \"Ross: (normal voice) No, go on! It's Paul the Wine Guy!\\n\",\n",
              " '\\n',\n",
              " \"Phoebe: What does that mean?   Does he sell it, drink it, or just complain a lot? (Chandler doesn't know.)\\n\",\n",
              " '\\n',\n",
              " \"(There's a knock on the door and it's Paul.)\\n\",\n",
              " '\\n',\n",
              " 'Monica: Hi, come in! Paul, this is.. (They are all lined up next to the door.)... everybody, everybody, this is Paul.\\n',\n",
              " '\\n',\n",
              " 'All: Hey! Paul! Hi! The Wine Guy! Hey!\\n',\n",
              " '\\n',\n",
              " \"Chandler: I'm sorry, I didn't catch your name. Paul, was it?\\n\",\n",
              " '\\n',\n",
              " \"Monica: Okay, umm-umm, I'll just--I'll be right back, I just gotta go ah, go ah...\\n\",\n",
              " '\\n',\n",
              " 'Ross: A wandering?\\n',\n",
              " '\\n',\n",
              " 'Monica: Change!  Okay, sit down. (Shows Paul in) Two seconds.\\n',\n",
              " '\\n',\n",
              " \"Phoebe: Ooh, I just pulled out four eyelashes. That can't be good.\\n\",\n",
              " '\\n',\n",
              " '(Monica goes to change.)\\n',\n",
              " '\\n',\n",
              " 'Joey:  Hey, Paul!\\n',\n",
              " '\\n',\n",
              " 'Paul: Yeah?\\n',\n",
              " '\\n',\n",
              " \"Joey: Here's a little tip, she really likes it when you rub her neck in the same spot over and over and over again until it starts to get a little red.\\n\",\n",
              " '\\n',\n",
              " 'Monica: (yelling from the bedroom) Shut up, Joey!\\n',\n",
              " '\\n',\n",
              " \"Ross: So Rachel, what're you, uh... what're you up to tonight?\\n\",\n",
              " '\\n',\n",
              " 'Rachel: Well, I was kinda supposed to be headed for Aruba on my honeymoon, so nothing!\\n',\n",
              " '\\n',\n",
              " \"Ross: Right, you're not even getting your honeymoon, God.. No, no, although, Aruba, this time of year... talk about your- (thinks) -big lizards... Anyway, if you don't feel like being alone tonight, Joey and Chandler are coming over to help me put together my new furniture.\\n\",\n",
              " '\\n',\n",
              " \"Chandler: (deadpan) Yes, and we're very excited about it.\\n\",\n",
              " '\\n',\n",
              " \"Rachel: Well actually thanks, but I think I'm just gonna hang out here tonight.  It's been kinda a long day.\\n\",\n",
              " '\\n',\n",
              " 'Ross: Okay, sure.\\n',\n",
              " '\\n',\n",
              " 'Joey: Hey Pheebs, you wanna help?\\n',\n",
              " '\\n',\n",
              " \"Phoebe: Oh, I wish I could, but I don't want to.\\n\",\n",
              " '\\n',\n",
              " 'Commercial Break\\n',\n",
              " '\\n',\n",
              " '[Scene: The Subway, Phoebe is singing for change.]\\n',\n",
              " '\\n',\n",
              " 'Phoebe: (singing) Love is sweet as summer showers, love is a wondrous work of art, but your love oh your love, your love...is like a giant pigeon...crapping on my heart.  La-la-la-la-la- (some guy gives her some change and to that guy) Thank you. (sings) La-la-la-la...ohhh!\\n',\n",
              " '\\n',\n",
              " \"[Scene: Ross's Apartment, the guys are there assembling furniture.]\\n\",\n",
              " '\\n',\n",
              " \"Ross: (squatting and reading the instructions) I'm supposed to attach a brackety thing to the side things, using a bunch of these little worm guys. I have no brackety thing, I see no whim guys whatsoever and- I cannot feel my legs.\\n\",\n",
              " '\\n',\n",
              " '(Joey and Chandler are finishing assembling the bookcase.)\\n',\n",
              " '\\n',\n",
              " \"Joey: I'm thinking we've got a bookcase here.\\n\",\n",
              " '\\n',\n",
              " \"Chandler: It's a beautiful thing.\\n\",\n",
              " '\\n',\n",
              " \"Joey: (picking up a leftover part) What's this?\\n\",\n",
              " '\\n',\n",
              " \"Chandler: I would have to say that is an 'L'-shaped bracket.\\n\",\n",
              " '\\n',\n",
              " 'Joey: Which goes where?\\n',\n",
              " '\\n',\n",
              " 'Chandler: I have no idea.\\n',\n",
              " '\\n',\n",
              " '(Joey checks that Ross is not looking and dumps it in a plant.)\\n',\n",
              " '\\n',\n",
              " 'Joey: Done with the bookcase!\\n',\n",
              " '\\n',\n",
              " 'Chandler: All finished!\\n',\n",
              " '\\n',\n",
              " \"Ross: (clutching a beer can and sniffing) This was Carol's favorite beer. She always drank it out of the can, I should have known.\\n\",\n",
              " '\\n',\n",
              " \"Joey: Hey-hey-hey-hey, if you're gonna start with that stuff we're outta here.\\n\",\n",
              " '\\n',\n",
              " \"Chandler: Yes, please don't spoil all this fun.\\n\",\n",
              " '\\n',\n",
              " 'Joey: Ross, let me ask you a question. She got the furniture, the stereo, the good TV- what did you get?\\n',\n",
              " '\\n',\n",
              " 'Ross: You guys.\\n',\n",
              " '\\n',\n",
              " 'Chandler: Oh, God.\\n',\n",
              " '\\n',\n",
              " 'Joey: You got screwed.\\n',\n",
              " '\\n',\n",
              " 'Chandler: Oh my God!\\n',\n",
              " '\\n',\n",
              " '[Scene: A Restaurant, Monica and Paul are eating.]\\n',\n",
              " '\\n',\n",
              " 'Monica: Oh my God!\\n',\n",
              " '\\n',\n",
              " \"Paul: I know, I know, I'm such an idiot. I guess I should have caught on when she started going to the dentist four and five times a week. I mean, how clean can teeth get?\\n\",\n",
              " '\\n',\n",
              " \"Monica: My brother's going through that right now, he's such a mess. How did you get through it?\\n\",\n",
              " '\\n',\n",
              " 'Paul: Well, you might try accidentally breaking something valuable of hers, say her-\\n',\n",
              " '\\n',\n",
              " 'Monica: -leg?\\n',\n",
              " '\\n',\n",
              " \"Paul: (laughing) That's one way! Me, I- I went for the watch.\\n\",\n",
              " '\\n',\n",
              " \"Monica: You actually broke her watch?  Wow!  The worst thing I ever did was, I-I shredded by boyfriend's favorite bath towel.\\n\",\n",
              " '\\n',\n",
              " 'Paul: Ooh, steer clear of you.\\n',\n",
              " '\\n',\n",
              " \"Monica: That's right. [Scene: Monica's Apartment, Rachel is talking on the phone and pacing.]\\n\",\n",
              " '\\n',\n",
              " \"Rachel: Barry, I'm sorry... I am so sorry... I know you probably think that this is all about what I said the other day about you making love with your socks on, but it isn't... it isn't, it's about me, and I ju- (She stops talking and dials the phone.) Hi, machine cut me off again... anyway...look, look, I know that some girl is going to be incredibly lucky to become Mrs. Barry Finkel, but it isn't me, it's not me.  And not that I have any idea who me is right now, but you just have to give me a chance too... (The maching cuts her off again and she redials.)\\n\",\n",
              " '\\n',\n",
              " \"[Scene: Ross's Apartment; Ross is pacing while Joey and Chandler are working on some more furniture.]\\n\",\n",
              " '\\n',\n",
              " \"Ross: I'm divorced!  I'm only 26 and I'm divorced!\\n\",\n",
              " '\\n',\n",
              " 'Joey: Shut up!\\n',\n",
              " '\\n',\n",
              " 'Chandler: You must stop! (Chandler hits what he is working on with a hammer and it collapses.)\\n',\n",
              " '\\n',\n",
              " 'Ross: That only took me an hour.\\n',\n",
              " '\\n',\n",
              " \"Chandler: Look, Ross, you gotta understand, between us we haven't had a relationship that has lasted longer than a Mento.   You, however have had the love of a woman for four years.   Four years of closeness and sharing at the end of which she ripped your heart out, and that is why we don't do it!  I don't think that was my point!\\n\",\n",
              " '\\n',\n",
              " \"Ross: You know what the scariest part is? What if there's only one woman for everybody, y'know? I mean what if you get one woman- and that's it? Unfortunately in my case, there was only one woman- for her...\\n\",\n",
              " '\\n',\n",
              " \"Joey: What are you talking about? 'One woman'? That's like saying there's only one flavor of ice cream for you. Lemme tell you something, Ross. There's lots of flavors out there. There's Rocky Road, and Cookie Dough, and Bing! Cherry Vanilla. You could get 'em with Jimmies, or nuts, or whipped cream! This is the best thing that ever happened to you! You got married, you were, like, what, eight? Welcome back to the world! Grab a spoon!\\n\",\n",
              " '\\n',\n",
              " \"Ross: I honestly don't know if I'm hungry or horny.\\n\",\n",
              " '\\n',\n",
              " 'Chandler: Stay out of my freezer! [Scene: A Restaurant, Monica and Paul are still eating.]\\n',\n",
              " '\\n',\n",
              " 'Paul: Ever since she walked out on me, I, uh...\\n',\n",
              " '\\n',\n",
              " 'Monica: What?..... What, you wanna spell it out with noodles?\\n',\n",
              " '\\n',\n",
              " \"Paul: No, it's, it's more of a fifth date kinda revelation.\\n\",\n",
              " '\\n',\n",
              " 'Monica: Oh, so there is gonna be a fifth date?\\n',\n",
              " '\\n',\n",
              " \"Paul: Isn't there?\\n\",\n",
              " '\\n',\n",
              " 'Monica: Yeah... yeah, I think there is. -What were you gonna say?\\n',\n",
              " '\\n',\n",
              " \"Paul: Well, ever-ev-... ever since she left me, um, I haven't been able to, uh, perform. (Monica takes a sip of her drink.) ...Sexually.\\n\",\n",
              " '\\n',\n",
              " 'Monica: (spitting out her drink in shock) Oh God, oh God, I am sorry... I am so sorry...\\n',\n",
              " '\\n',\n",
              " \"Paul: It's okay...\\n\",\n",
              " '\\n',\n",
              " 'Monica: I know being spit on is probably not what you need right now. Um... how long?\\n',\n",
              " '\\n',\n",
              " 'Paul: Two years.\\n',\n",
              " '\\n',\n",
              " \"Monica: Wow! I'm-I'm-I'm glad you smashed her watch!\\n\",\n",
              " '\\n',\n",
              " 'Paul: So you still think you, um... might want that fifth date?\\n',\n",
              " '\\n',\n",
              " 'Monica: (pause)...Yeah. Yeah, I do.\\n',\n",
              " '\\n',\n",
              " \"[Scene: Monica's Apartment, Rachel is watching Joanne Loves Chaci.]\\n\",\n",
              " '\\n',\n",
              " 'Priest on TV: We are gathered here today to join Joanne Louise Cunningham and Charles, Chachi-Chachi-Chachi, Arcola in the bound of holy matrimony.\\n',\n",
              " '\\n',\n",
              " \"Rachel: Oh...see... but Joanne loved Chachi! That's the difference!\\n\",\n",
              " '\\n',\n",
              " \"[Scene: Ross's Apartment, they're all sitting around and talking.]\\n\",\n",
              " '\\n',\n",
              " \"Ross: (scornful) Grab a spoon. Do you know how long it's been since I've grabbed a spoon? Do the words 'Billy, don't be a hero' mean anything to you?\\n\",\n",
              " '\\n',\n",
              " 'Joey: Great story!  But, I uh, I gotta go, I got a date with Andrea--Angela--Andrea...  Oh man, (looks to Chandler)\\n',\n",
              " '\\n',\n",
              " \"Chandler: Angela's the screamer, Andrea has cats.\\n\",\n",
              " '\\n',\n",
              " \"Joey: Right.  Thanks.  It's June.  I'm outta here. (Exits.)\\n\",\n",
              " '\\n',\n",
              " \"Ross: Y'know, here's the thing. Even if I could get it together enough to- to ask a woman out,... who am I gonna ask? (He gazes out of the window.)\\n\",\n",
              " '\\n',\n",
              " '[Cut to Rachel staring out of her window.]\\n',\n",
              " '\\n',\n",
              " 'Commercial Break\\n',\n",
              " '\\n',\n",
              " \"[Scene: Monica's Apartment, Rachel is making coffee for Joey and Chandler.]\\n\",\n",
              " '\\n',\n",
              " \"Rachel: Isn't this amazing? I mean, I have never made coffee before in my entire life.\\n\",\n",
              " '\\n',\n",
              " 'Chandler: That is amazing.\\n',\n",
              " '\\n',\n",
              " 'Joey: Congratulations.\\n',\n",
              " '\\n',\n",
              " \"Rachel: Y'know, I figure if I can make coffee, there isn't anything I can't do.\\n\",\n",
              " '\\n',\n",
              " \"Chandler: If can invade Poland, there isn't anything I can't do.\\n\",\n",
              " '\\n',\n",
              " \"Joey: Listen, while you're on a roll, if you feel like you gotta make like a Western omelet or something... (Joey and Chandler taste the coffee, grimace, and pour it into a plant pot.) Although actually I'm really not that hungry...\\n\",\n",
              " '\\n',\n",
              " 'Monica: (entering, to herself) Oh good, Lenny and Squigy are here.\\n',\n",
              " '\\n',\n",
              " 'All: Morning. Good morning.\\n',\n",
              " '\\n',\n",
              " \"Paul: (entering from Monica's room) Morning.\\n\",\n",
              " '\\n',\n",
              " 'Joey: Morning, Paul.\\n',\n",
              " '\\n',\n",
              " 'Rachel: Hello, Paul.\\n',\n",
              " '\\n',\n",
              " 'Chandler: Hi, Paul, is it?\\n',\n",
              " '\\n',\n",
              " \"(Monica and Paul walk to the door and talk in a low voice so the others can't hear.  The others move Monica's table closer to the door so that they can.)\\n\",\n",
              " '\\n',\n",
              " 'Paul: Thank you!  Thank you so much!\\n',\n",
              " '\\n',\n",
              " 'Monica: Stop!\\n',\n",
              " '\\n',\n",
              " \"Paul: No, I'm telling you last night was like umm, all my birthdays, both graduations, plus the barn raising scene in Witness.\\n\",\n",
              " '\\n',\n",
              " \"Monica: We'll talk later.\\n\",\n",
              " '\\n',\n",
              " 'Paul: Yeah. (They kiss) Thank you. (Exits)\\n',\n",
              " '\\n',\n",
              " \"Joey: That wasn't a real date?! What the hell do you do on a real date?\\n\",\n",
              " '\\n',\n",
              " 'Monica: Shut up, and put my table back.\\n',\n",
              " '\\n',\n",
              " 'All: Okayyy! (They do so.)\\n',\n",
              " '\\n',\n",
              " \"Chandler: All right, kids, I gotta get to work. If I don't input those numbers,... it doesn't make much of a difference...\\n\",\n",
              " '\\n',\n",
              " 'Rachel: So, like, you guys all have jobs?\\n',\n",
              " '\\n',\n",
              " \"Monica: Yeah, we all have jobs. See, that's how we buy stuff.\\n\",\n",
              " '\\n',\n",
              " \"Joey: Yeah, I'm an actor.\\n\",\n",
              " '\\n',\n",
              " 'Rachel: Wow! Would I have seen you in anything?\\n',\n",
              " '\\n',\n",
              " 'Joey: I doubt it. Mostly regional work.\\n',\n",
              " '\\n',\n",
              " \"Monica: Oh wait, wait, unless you happened to catch the Reruns' production of Pinocchio, at the little theater in the park.\\n\",\n",
              " '\\n',\n",
              " 'Joey: Look, it was a job all right?\\n',\n",
              " '\\n',\n",
              " \"Chandler: 'Look, Gippetto, I'm a real live boy.'\\n\",\n",
              " '\\n',\n",
              " 'Joey: I will not take this abuse. (Walks to the door and opens it to leave.)\\n',\n",
              " '\\n',\n",
              " 'Chandler: You\\'re right, I\\'m sorry. (Burst into song and dances out of the door.) \"Once I was a wooden boy, a little wooden boy...\"\\n',\n",
              " '\\n',\n",
              " \"Joey: You should both know, that he's a dead man.  Oh, Chandler? (Starts after Chandler.)\\n\",\n",
              " '\\n',\n",
              " \"Monica: So how you doing today? Did you sleep okay? Talk to Barry? I can't stop smiling.\\n\",\n",
              " '\\n',\n",
              " 'Rachel: I can see that. You look like you slept with a hanger in your mouth.\\n',\n",
              " '\\n',\n",
              " \"Monica: I know, he's just so, so... Do you remember you and Tony DeMarco?\\n\",\n",
              " '\\n',\n",
              " 'Rachel: Oh, yeah.\\n',\n",
              " '\\n',\n",
              " \"Monica: Well, it's like that. With feelings.\\n\",\n",
              " '\\n',\n",
              " 'Rachel: Oh wow. Are you in trouble.\\n',\n",
              " '\\n',\n",
              " 'Monica: Big time!\\n',\n",
              " '\\n',\n",
              " 'Rachel: Want a wedding dress?   Hardly used.\\n',\n",
              " '\\n',\n",
              " \"Monica: I think we are getting a little ahead of selves here. Okay. Okay. I am just going to get up, go to work and not think about him all day. Or else I'm just gonna get up and go to work.\\n\",\n",
              " '\\n',\n",
              " 'Rachel: Oh, look, wish me luck!\\n',\n",
              " '\\n',\n",
              " 'Monica: What for?\\n',\n",
              " '\\n',\n",
              " \"Rachel: I'm gonna go get one of those (Thinks) job things.\\n\",\n",
              " '\\n',\n",
              " '(Monica exits.)\\n',\n",
              " '\\n',\n",
              " '[Scene: Iridium, Monica is working as Frannie enters.]\\n',\n",
              " '\\n',\n",
              " 'Frannie: Hey, Monica!\\n',\n",
              " '\\n',\n",
              " 'Monica: Hey Frannie, welcome back! How was Florida?\\n',\n",
              " '\\n',\n",
              " \"Frannie: You had sex, didn't you?\\n\",\n",
              " '\\n',\n",
              " 'Monica: How do you do that?\\n',\n",
              " '\\n',\n",
              " \"Frannie: Oh, I hate you, I'm pushing my Aunt Roz through Parrot Jungle and you're having sex!  So? Who?\\n\",\n",
              " '\\n',\n",
              " 'Monica: You know Paul?\\n',\n",
              " '\\n',\n",
              " 'Frannie: Paul the Wine Guy? Oh yeah, I know Paul.\\n',\n",
              " '\\n',\n",
              " 'Monica: You mean you know Paul like I know Paul?\\n',\n",
              " '\\n',\n",
              " \"Frannie: Are you kidding? I take credit for Paul. Y'know before me, there was no snap in his turtle for two years.\\n\",\n",
              " '\\n',\n",
              " '[Scene: Central Perk, everyone but Rachel is there.]\\n',\n",
              " '\\n',\n",
              " 'Joey: (sitting on the arm of the couch)Of course it was a line!\\n',\n",
              " '\\n',\n",
              " 'Monica: Why?! Why? Why, why would anybody do something like that?\\n',\n",
              " '\\n',\n",
              " \"Ross: I assume we're looking for an answer more sophisticated than 'to get you into bed'.\\n\",\n",
              " '\\n',\n",
              " 'Monica: I hate men!  I hate men!\\n',\n",
              " '\\n',\n",
              " \"Phoebe: Oh no, don't hate, you don't want to put that out into the universe.\\n\",\n",
              " '\\n',\n",
              " 'Monica: Is it me? Is it like I have some sort of beacon that only dogs and men with severe emotional problems can hear?\\n',\n",
              " '\\n',\n",
              " \"Phoebe: All right, c'mere, gimme your feet. (She starts massaging them.)\\n\",\n",
              " '\\n',\n",
              " \"Monica: I just thought he was nice, y'know?\\n\",\n",
              " '\\n',\n",
              " \"Joey: (bursts out laughing again) I can't believe you didn't know it was a line!\\n\",\n",
              " '\\n',\n",
              " '(Monica pushes him off of the sofa as Rachel enters with a shopping bag.)\\n',\n",
              " '\\n',\n",
              " 'Rachel: Guess what?\\n',\n",
              " '\\n',\n",
              " 'Ross: You got a job?\\n',\n",
              " '\\n',\n",
              " \"Rachel: Are you kidding? I'm trained for nothing! I was laughed out of twelve interviews today.\\n\",\n",
              " '\\n',\n",
              " \"Chandler: And yet you're surprisingly upbeat.\\n\",\n",
              " '\\n',\n",
              " 'Rachel: You would be too if you found John and David boots on sale, fifty percent off!\\n',\n",
              " '\\n',\n",
              " 'Chandler: Oh, how well you know me...\\n',\n",
              " '\\n',\n",
              " \"Rachel: They're my new 'I don't need a job, I don't need my parents, I've got great boots' boots!\\n\",\n",
              " '\\n',\n",
              " \"Monica: How'd you pay for them?\\n\",\n",
              " '\\n',\n",
              " 'Rachel: Uh, credit card.\\n',\n",
              " '\\n',\n",
              " 'Monica: And who pays for that?\\n',\n",
              " '\\n',\n",
              " 'Rachel: Um... my... father.\\n',\n",
              " '\\n',\n",
              " \"[Scene: Monica and Rachel's, everyone is sitting around the kitchen table.   Rachel's credit cards are spread out on the table along with a pair of scissors.]\\n\",\n",
              " '\\n',\n",
              " 'Rachel: Oh God, come on you guys, is this really necessary?  I mean, I can stop charging anytime I want.\\n',\n",
              " '\\n',\n",
              " \"Monica: C'mon, you can't live off your parents your whole life.\\n\",\n",
              " '\\n',\n",
              " \"Rachel: I know that. That's why I was getting married.\\n\",\n",
              " '\\n',\n",
              " \"Phoebe: Give her a break, it's hard being on your own for the first time.\\n\",\n",
              " '\\n',\n",
              " 'Rachel: Thank you.\\n',\n",
              " '\\n',\n",
              " \"Phoebe: You're welcome. I remember when I first came to this city. I was fourteen. My mom had just killed herself and my step-dad was back in prison, and I got here, and I didn't know anybody. And I ended up living with this albino guy who was, like, cleaning windshields outside port authority, and then he killed himself, and then I found aromatherapy. So believe me, I know exactly how you feel.\\n\",\n",
              " '\\n',\n",
              " '(Pause)\\n',\n",
              " '\\n',\n",
              " \"Ross: The word you're looking for is 'Anyway'...\\n\",\n",
              " '\\n',\n",
              " 'Monica: All right, you ready?\\n',\n",
              " '\\n',\n",
              " 'Rachel: No.  No, no, I\\'m not ready!  How can I be ready?  \"Hey, Rach!  You ready to jump out the airplane without your parachute?\"  Come on, I can\\'t do this!\\n',\n",
              " '\\n',\n",
              " 'Monica: You can, I know you can!\\n',\n",
              " '\\n',\n",
              " \"Rachel: I don't think so.\\n\",\n",
              " '\\n',\n",
              " 'Ross: Come on, you made coffee!   You can do anything! (Chandler slowly tries to hide the now dead plant from that morning when he and Joey poured their coffee into it.)\\n',\n",
              " '\\n',\n",
              " \"Ross: C'mon, cut. Cut, cut, cut,...\\n\",\n",
              " '\\n',\n",
              " 'All: Cut, cut, cut, cut, cut, cut, cut... (She cuts one of them and they cheer.)\\n',\n",
              " '\\n',\n",
              " \"Rachel: Y'know what?  I think we can just leave it at that.  It's kinda like a symbolic gesture...\\n\",\n",
              " '\\n',\n",
              " 'Monica:  Rachel!  That was a library card!\\n',\n",
              " '\\n',\n",
              " 'All: Cut, cut, cut, cut, cut, cut, cut..\\n',\n",
              " '\\n',\n",
              " \"Chandler: (as Rachel is cutting up her cards) Y'know, if you listen closely, you can hear a thousand retailers scream.\\n\",\n",
              " '\\n',\n",
              " '(She finishes cutting them up and they all cheer.)\\n',\n",
              " '\\n',\n",
              " \"Monica: Welcome to the real world! It sucks. You're gonna love it!\\n\",\n",
              " '\\n',\n",
              " \"[Time Lapse, Rachel and Ross are watching a TV channel finishes it's broadcast day by playing the national anthem.]\\n\",\n",
              " '\\n',\n",
              " \"Monica: Well, that's it (To Ross) You gonna crash on the couch?\\n\",\n",
              " '\\n',\n",
              " 'Ross: No. No, I gotta go home sometime.\\n',\n",
              " '\\n',\n",
              " 'Monica: You be okay?\\n',\n",
              " '\\n',\n",
              " 'Ross: Yeah.\\n',\n",
              " '\\n',\n",
              " 'Rachel: Hey Mon, look what I just found on the floor. (Monica smiles.) What?\\n',\n",
              " '\\n',\n",
              " \"Monica: That's Paul's watch. You just put it back where you found it. Oh boy. Alright. Goodnight, everybody.\\n\",\n",
              " '\\n',\n",
              " 'Ross and Rachel: Goodnight.\\n',\n",
              " '\\n',\n",
              " \"(Monica stomps on Paul's watch and goes into her room.)\\n\",\n",
              " '\\n',\n",
              " 'Ross: Mmm. (They both reach for the last cookie) Oh, no-\\n',\n",
              " '\\n',\n",
              " 'Rachel: Sorry-\\n',\n",
              " '\\n',\n",
              " 'Ross: No no no, go-\\n',\n",
              " '\\n',\n",
              " \"Rachel: No, you have it, really, I don't want it-\\n\",\n",
              " '\\n',\n",
              " 'Ross: Split it?\\n',\n",
              " '\\n',\n",
              " 'Rachel: Okay.\\n',\n",
              " '\\n',\n",
              " \"Ross: Okay. (They split it.) You know you probably didn't know this, but back in high school, I had a, um, major crush on you.\\n\",\n",
              " '\\n',\n",
              " 'Rachel: I knew.\\n',\n",
              " '\\n',\n",
              " \"Ross: You did! Oh.... I always figured you just thought I was Monica's geeky older brother.\\n\",\n",
              " '\\n',\n",
              " 'Rachel: I did.\\n',\n",
              " '\\n',\n",
              " 'Ross: Oh. Listen, do you think- and try not to let my intense vulnerability become any kind of a factor here- but do you think it would be okay if I asked you out? Sometime? Maybe?\\n',\n",
              " '\\n',\n",
              " 'Rachel: Yeah, maybe...\\n',\n",
              " '\\n',\n",
              " 'Ross: Okay... okay, maybe I will...\\n',\n",
              " '\\n',\n",
              " 'Rachel: Goodnight.\\n',\n",
              " '\\n',\n",
              " 'Ross: Goodnight.\\n',\n",
              " '\\n',\n",
              " '(Rachel goes into her room and Monica enters the living room as Ross is leaving.)\\n',\n",
              " '\\n',\n",
              " \"Monica: See ya.... Waitwait, what's with you?\\n\",\n",
              " '\\n',\n",
              " 'Ross: I just grabbed a spoon. (Ross exits and Monica has no idea what that means.)\\n',\n",
              " '\\n',\n",
              " 'Closing Credits\\n',\n",
              " '\\n',\n",
              " '[Scene: Central Perk, everyone is there.]\\n',\n",
              " '\\n',\n",
              " \"Joey: I can't believe what I'm hearing here.\\n\",\n",
              " '\\n',\n",
              " \"Phoebe: (sings) I can't believe what I'm hearing here...\\n\",\n",
              " '\\n',\n",
              " 'Monica: What? I-I said you had a-\\n',\n",
              " '\\n',\n",
              " 'Phoebe: (sings) What I said you had...\\n',\n",
              " '\\n',\n",
              " 'Monica: (to Phoebe) Would you stop?\\n',\n",
              " '\\n',\n",
              " 'Phoebe: Oh, was I doing it again?\\n',\n",
              " '\\n',\n",
              " 'All: Yes!\\n',\n",
              " '\\n',\n",
              " \"Monica: I said that you had a nice butt, it's just not a great butt.\\n\",\n",
              " '\\n',\n",
              " \"Joey: Oh, you wouldn't know a great butt if it came up and bit ya.\\n\",\n",
              " '\\n',\n",
              " \"Ross: There's an image.\\n\",\n",
              " '\\n',\n",
              " 'Rachel: (walks up with a pot of coffee) Would anybody like more coffee?\\n',\n",
              " '\\n',\n",
              " 'Chandler: Did you make it, or are you just serving it?\\n',\n",
              " '\\n',\n",
              " \"Rachel: I'm just serving it.\\n\",\n",
              " '\\n',\n",
              " \"All: Yeah. Yeah, I'll have a cup of coffee.\\n\",\n",
              " '\\n',\n",
              " \"Chandler: Kids, new dream... I'm in Las Vegas. (Rachel sits down to hear Chandler's dream.)\\n\",\n",
              " '\\n',\n",
              " 'Customer: (To Rachel) Ahh, miss?   More coffee?\\n',\n",
              " '\\n',\n",
              " \"Rachel: Ugh. (To another customer that's leaving.) Excuse me, could you give this to that guy over there? (Hands him the coffee pot.) Go ahead. (He does so.) Thank you. (To the gang.) Sorry.  Okay, Las Vegas.\\n\",\n",
              " '\\n',\n",
              " \"Chandler: Okay, so, I'm in Las Vegas... I'm Liza Minelli-\\n\",\n",
              " '\\n',\n",
              " 'End\\n']"
            ]
          },
          "metadata": {},
          "execution_count": 102
        }
      ]
    },
    {
      "cell_type": "code",
      "source": [
        "lines = []\n",
        "for i in sentences:\n",
        "    if re.match(r'[A-Z][a-z]+:',i):\n",
        "        lines.append(i)"
      ],
      "metadata": {
        "id": "dkiSAkfLCx3N"
      },
      "execution_count": null,
      "outputs": []
    },
    {
      "cell_type": "code",
      "source": [
        "lines"
      ],
      "metadata": {
        "id": "heHl5qmnC939"
      },
      "execution_count": null,
      "outputs": []
    },
    {
      "cell_type": "code",
      "source": [
        "would_list = []\n",
        "for i in lines:\n",
        "    if re.search('would',i):\n",
        "        would_list.append(i)"
      ],
      "metadata": {
        "id": "FU3fJ9UGDYhU"
      },
      "execution_count": null,
      "outputs": []
    },
    {
      "cell_type": "code",
      "source": [
        "would_list"
      ],
      "metadata": {
        "colab": {
          "base_uri": "https://localhost:8080/"
        },
        "id": "WzPLr3HXD33n",
        "outputId": "c60d1175-569e-4f96-90ae-990a873535f8"
      },
      "execution_count": null,
      "outputs": [
        {
          "output_type": "execute_result",
          "data": {
            "text/plain": [
              "[\"Rachel: Ooh, I was kinda hoping that wouldn't be an issue... [Scene: Monica's Apartment, everyone is there and watching a Spanish Soap on TV and are trying to figure out what is going on.]\\n\",\n",
              " \"Chandler: I would have to say that is an 'L'-shaped bracket.\\n\",\n",
              " 'Monica: Why?! Why? Why, why would anybody do something like that?\\n',\n",
              " 'Rachel: You would be too if you found John and David boots on sale, fifty percent off!\\n',\n",
              " 'Ross: Oh. Listen, do you think- and try not to let my intense vulnerability become any kind of a factor here- but do you think it would be okay if I asked you out? Sometime? Maybe?\\n',\n",
              " \"Joey: Oh, you wouldn't know a great butt if it came up and bit ya.\\n\"]"
            ]
          },
          "metadata": {},
          "execution_count": 127
        }
      ]
    },
    {
      "cell_type": "code",
      "source": [
        "with open('would.txt','w',encoding = 'utf8') as f:\n",
        "    f.writelines(would_list)"
      ],
      "metadata": {
        "id": "SrCV-1l4ERou"
      },
      "execution_count": null,
      "outputs": []
    },
    {
      "cell_type": "code",
      "source": [
        "ls"
      ],
      "metadata": {
        "colab": {
          "base_uri": "https://localhost:8080/"
        },
        "id": "6Z2Rybj2EjW8",
        "outputId": "52630d7f-9ba9-4277-c975-2105037f4f38"
      },
      "execution_count": null,
      "outputs": [
        {
          "output_type": "stream",
          "name": "stdout",
          "text": [
            "friends101.txt  monica.txt  \u001b[0m\u001b[01;34msample_data\u001b[0m/  would.txt\n"
          ]
        }
      ]
    },
    {
      "cell_type": "code",
      "source": [
        "cat would.txt"
      ],
      "metadata": {
        "colab": {
          "base_uri": "https://localhost:8080/"
        },
        "id": "8UEPMLw8EoYr",
        "outputId": "cb7b370a-7121-4f8d-a51a-28752e085026"
      },
      "execution_count": null,
      "outputs": [
        {
          "output_type": "stream",
          "name": "stdout",
          "text": [
            "Rachel: Ooh, I was kinda hoping that wouldn't be an issue... [Scene: Monica's Apartment, everyone is there and watching a Spanish Soap on TV and are trying to figure out what is going on.]\n",
            "Chandler: I would have to say that is an 'L'-shaped bracket.\n",
            "Monica: Why?! Why? Why, why would anybody do something like that?\n",
            "Rachel: You would be too if you found John and David boots on sale, fifty percent off!\n",
            "Ross: Oh. Listen, do you think- and try not to let my intense vulnerability become any kind of a factor here- but do you think it would be okay if I asked you out? Sometime? Maybe?\n",
            "Joey: Oh, you wouldn't know a great butt if it came up and bit ya.\n"
          ]
        }
      ]
    },
    {
      "cell_type": "markdown",
      "source": [
        "re : 파이썬에서 제공하는 정규식은 re 모듈에서 제공\n",
        "\n",
        "메타 문자: 다른 문자의 정보를 운반하기 위해 프로그램 소스나 데이터에 끼워넣는 문자"
      ],
      "metadata": {
        "id": "QvIBfI3LGC8b"
      }
    },
    {
      "cell_type": "markdown",
      "source": [
        "![image.png](data:image/png;base64,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)"
      ],
      "metadata": {
        "id": "qSx_DC2XGvEN"
      }
    },
    {
      "cell_type": "markdown",
      "source": [
        " - 매칭 관련 메타 문자\n",
        "\n",
        " ![image.png](data:image/png;base64,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)"
      ],
      "metadata": {
        "id": "Mo1Oz5ZuGwdZ"
      }
    },
    {
      "cell_type": "markdown",
      "source": [
        "[a-c]는 [abc] 의미, abc 중 한문자와 매칭 되어야한다.\n",
        "\n",
        "[0-5] 는 [012345] 의미\n",
        "\n",
        "[a-zA-z]는 알파벳 모두\n",
        "\n",
        "[0-9], \\d: 숫자\n",
        "\n",
        "\\s: 문자\n",
        "\n",
        "메타 문자 [] 안에 사용된 ^는 반대 문자열을 의미한다.\n",
        "\n",
        "[^0-9], \\D: 숫자가 아닌 문자\n",
        "\n",
        "[a-zA-Z0-9_],\\w : 문자 + 숫자\n",
        "\n",
        "[^a-zA-Z0-9],\\W : 문자와 숫자가 아닌 문자열들을 매칭"
      ],
      "metadata": {
        "id": "FFpJf6Z1JVDS"
      }
    },
    {
      "cell_type": "markdown",
      "source": [
        " - 특수 문자\n",
        "![image.png](data:image/png;base64,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)"
      ],
      "metadata": {
        "id": "axPHhgBHKP6A"
      }
    },
    {
      "cell_type": "markdown",
      "source": [
        "re.match()"
      ],
      "metadata": {
        "id": "FP-fFOAGKeaH"
      }
    },
    {
      "cell_type": "code",
      "source": [
        "re.match('c[abc]t', 'cbt')"
      ],
      "metadata": {
        "colab": {
          "base_uri": "https://localhost:8080/"
        },
        "id": "M4t_61q0Ep1c",
        "outputId": "12f85d8c-2ca6-4dd5-dd05-f738cc3047ae"
      },
      "execution_count": null,
      "outputs": [
        {
          "output_type": "execute_result",
          "data": {
            "text/plain": [
              "<re.Match object; span=(0, 3), match='cbt'>"
            ]
          },
          "metadata": {},
          "execution_count": 128
        }
      ]
    },
    {
      "cell_type": "code",
      "source": [
        "print(re.match('c[abc]t', 'cat'))\n",
        "print(re.match('c[abc]t', 'cbt'))\n",
        "print(re.match('c[abc]t', 'cct'))\n",
        "print(re.match('c[abc]t', 'cdt'))"
      ],
      "metadata": {
        "colab": {
          "base_uri": "https://localhost:8080/"
        },
        "id": "IGAaiPHYKltq",
        "outputId": "7e016733-8cea-47d2-f84a-9705e91ba8c6"
      },
      "execution_count": null,
      "outputs": [
        {
          "output_type": "stream",
          "name": "stdout",
          "text": [
            "<re.Match object; span=(0, 3), match='cat'>\n",
            "<re.Match object; span=(0, 3), match='cbt'>\n",
            "<re.Match object; span=(0, 3), match='cct'>\n",
            "None\n"
          ]
        }
      ]
    },
    {
      "cell_type": "code",
      "source": [
        "re.match('[1-4]','84567')"
      ],
      "metadata": {
        "id": "js7Ir29kK1bt"
      },
      "execution_count": null,
      "outputs": []
    },
    {
      "cell_type": "code",
      "source": [
        "re.match('[1-4]','4567')"
      ],
      "metadata": {
        "colab": {
          "base_uri": "https://localhost:8080/"
        },
        "id": "G34vhjzwLF57",
        "outputId": "d0914a94-c139-4123-ba7a-0c647b68086f"
      },
      "execution_count": null,
      "outputs": [
        {
          "output_type": "execute_result",
          "data": {
            "text/plain": [
              "<re.Match object; span=(0, 1), match='4'>"
            ]
          },
          "metadata": {},
          "execution_count": 131
        }
      ]
    },
    {
      "cell_type": "code",
      "source": [
        "re.match('[1-4]','4567').group()"
      ],
      "metadata": {
        "colab": {
          "base_uri": "https://localhost:8080/",
          "height": 36
        },
        "id": "gGbjGpMsLHgN",
        "outputId": "f8b4d872-4482-4d71-92b8-47e80417d1c6"
      },
      "execution_count": null,
      "outputs": [
        {
          "output_type": "execute_result",
          "data": {
            "text/plain": [
              "'4'"
            ],
            "application/vnd.google.colaboratory.intrinsic+json": {
              "type": "string"
            }
          },
          "metadata": {},
          "execution_count": 132
        }
      ]
    },
    {
      "cell_type": "code",
      "source": [
        "print(re.match('[0-9]', '567').group())\n",
        "print(re.match('[1-4]', '45367').group())\n",
        "print(re.match('5[1-4]', '51267').group())\n",
        "print(re.match('[0-9]+', '512367').group())"
      ],
      "metadata": {
        "colab": {
          "base_uri": "https://localhost:8080/"
        },
        "id": "mnDdERecLKgr",
        "outputId": "76b06229-9f4c-40cb-a3d3-89505f8dc3cc"
      },
      "execution_count": null,
      "outputs": [
        {
          "output_type": "stream",
          "name": "stdout",
          "text": [
            "5\n",
            "4\n",
            "51\n",
            "512367\n"
          ]
        }
      ]
    },
    {
      "cell_type": "code",
      "source": [
        "print(re.match('\\d', '567').group())"
      ],
      "metadata": {
        "colab": {
          "base_uri": "https://localhost:8080/"
        },
        "id": "mKyz5bfMLjMz",
        "outputId": "c49bf05b-20fb-4003-c81e-5ce39ca8dbe9"
      },
      "execution_count": null,
      "outputs": [
        {
          "output_type": "stream",
          "name": "stdout",
          "text": [
            "5\n"
          ]
        }
      ]
    },
    {
      "cell_type": "code",
      "source": [
        "print(re.match('[0-9]+', '567').group())\n",
        "print(re.match('\\d+', '567').group())"
      ],
      "metadata": {
        "colab": {
          "base_uri": "https://localhost:8080/"
        },
        "id": "Tl0VbiUOMPdO",
        "outputId": "49c6e37b-62c9-497e-c092-76f5526211dc"
      },
      "execution_count": null,
      "outputs": [
        {
          "output_type": "stream",
          "name": "stdout",
          "text": [
            "567\n",
            "567\n"
          ]
        }
      ]
    },
    {
      "cell_type": "code",
      "source": [
        "print(re.match(r'https?', 'https'))\n",
        "print(re.match(r'https?', 'http'))"
      ],
      "metadata": {
        "colab": {
          "base_uri": "https://localhost:8080/"
        },
        "id": "O4yRy4PKMWEC",
        "outputId": "edda5f7f-fde3-4826-9b4c-e2331d0c9ef4"
      },
      "execution_count": null,
      "outputs": [
        {
          "output_type": "stream",
          "name": "stdout",
          "text": [
            "<re.Match object; span=(0, 5), match='https'>\n",
            "<re.Match object; span=(0, 4), match='http'>\n"
          ]
        }
      ]
    },
    {
      "cell_type": "code",
      "source": [
        "print(re.match(r'https?', 'https').group())\n",
        "print(re.match(r'https?', 'http').group())"
      ],
      "metadata": {
        "colab": {
          "base_uri": "https://localhost:8080/"
        },
        "id": "4CMg_F6OMhkR",
        "outputId": "6e059a2b-1c37-4e51-f7ba-614060de2018"
      },
      "execution_count": null,
      "outputs": [
        {
          "output_type": "stream",
          "name": "stdout",
          "text": [
            "https\n",
            "http\n"
          ]
        }
      ]
    },
    {
      "cell_type": "code",
      "source": [
        "re.match('python', '10 python')"
      ],
      "metadata": {
        "id": "QiaqRFeVMmlx"
      },
      "execution_count": null,
      "outputs": []
    },
    {
      "cell_type": "code",
      "source": [
        "re.search('python', '10 python')"
      ],
      "metadata": {
        "colab": {
          "base_uri": "https://localhost:8080/"
        },
        "id": "uxUz1cHpMwPo",
        "outputId": "46bf3cdd-c037-424a-86b5-354de6ea7050"
      },
      "execution_count": null,
      "outputs": [
        {
          "output_type": "execute_result",
          "data": {
            "text/plain": [
              "<re.Match object; span=(3, 9), match='python'>"
            ]
          },
          "metadata": {},
          "execution_count": 143
        }
      ]
    },
    {
      "cell_type": "code",
      "source": [
        "re.search('python', '10 python').span()"
      ],
      "metadata": {
        "colab": {
          "base_uri": "https://localhost:8080/"
        },
        "id": "44WBTlkOMzq6",
        "outputId": "cbfa0189-7060-47e3-de37-cf7062bea6fe"
      },
      "execution_count": null,
      "outputs": [
        {
          "output_type": "execute_result",
          "data": {
            "text/plain": [
              "(3, 9)"
            ]
          },
          "metadata": {},
          "execution_count": 144
        }
      ]
    },
    {
      "cell_type": "code",
      "source": [
        "re.search('python', '10 python').group()"
      ],
      "metadata": {
        "colab": {
          "base_uri": "https://localhost:8080/",
          "height": 36
        },
        "id": "srAaLbWHM8Dg",
        "outputId": "3f8e85f8-8c4a-4a9d-a77a-ea4c50f031b8"
      },
      "execution_count": null,
      "outputs": [
        {
          "output_type": "execute_result",
          "data": {
            "text/plain": [
              "'python'"
            ],
            "application/vnd.google.colaboratory.intrinsic+json": {
              "type": "string"
            }
          },
          "metadata": {},
          "execution_count": 145
        }
      ]
    },
    {
      "cell_type": "code",
      "source": [
        "re.findall(r'[a-z]+', 'python 3 version program')"
      ],
      "metadata": {
        "colab": {
          "base_uri": "https://localhost:8080/"
        },
        "id": "1XWVh97LM9RY",
        "outputId": "31e66808-dce8-4815-c780-09aa1bb3d44b"
      },
      "execution_count": null,
      "outputs": [
        {
          "output_type": "execute_result",
          "data": {
            "text/plain": [
              "['python', 'version', 'program']"
            ]
          },
          "metadata": {},
          "execution_count": 146
        }
      ]
    },
    {
      "cell_type": "code",
      "source": [
        "p = re.compile(r'([A-Za-z]\\w*)\\s* = \\s*(\\d+)')"
      ],
      "metadata": {
        "id": "qAu1uVseNKnY"
      },
      "execution_count": null,
      "outputs": []
    },
    {
      "cell_type": "code",
      "source": [
        "p"
      ],
      "metadata": {
        "colab": {
          "base_uri": "https://localhost:8080/"
        },
        "id": "NnMPKzGRNnCg",
        "outputId": "6863e9e6-8537-4439-a14a-f19cb5f6ef80"
      },
      "execution_count": null,
      "outputs": [
        {
          "output_type": "execute_result",
          "data": {
            "text/plain": [
              "re.compile(r'([A-Za-z]\\w*)\\s* = \\s*(\\d+)', re.UNICODE)"
            ]
          },
          "metadata": {},
          "execution_count": 148
        }
      ]
    },
    {
      "cell_type": "code",
      "source": [
        "p.search('a = 123')"
      ],
      "metadata": {
        "colab": {
          "base_uri": "https://localhost:8080/"
        },
        "id": "43pUxbvNNnhR",
        "outputId": "4551fad9-1e39-417a-d828-2470002d45c6"
      },
      "execution_count": null,
      "outputs": [
        {
          "output_type": "execute_result",
          "data": {
            "text/plain": [
              "<re.Match object; span=(0, 7), match='a = 123'>"
            ]
          },
          "metadata": {},
          "execution_count": 149
        }
      ]
    },
    {
      "cell_type": "code",
      "source": [
        "p.search('a = 123').groups()"
      ],
      "metadata": {
        "colab": {
          "base_uri": "https://localhost:8080/"
        },
        "id": "nyHN69nlNsDP",
        "outputId": "9b72ab75-c52a-4d24-8fe5-24e7740df3b4"
      },
      "execution_count": null,
      "outputs": [
        {
          "output_type": "execute_result",
          "data": {
            "text/plain": [
              "('a', '123')"
            ]
          },
          "metadata": {},
          "execution_count": 151
        }
      ]
    },
    {
      "cell_type": "code",
      "source": [
        "re.search(p, 'a = 123')"
      ],
      "metadata": {
        "colab": {
          "base_uri": "https://localhost:8080/"
        },
        "id": "7eoBr-tSNxze",
        "outputId": "903023a9-860f-4fd4-9038-7f930e606b49"
      },
      "execution_count": null,
      "outputs": [
        {
          "output_type": "execute_result",
          "data": {
            "text/plain": [
              "<re.Match object; span=(0, 7), match='a = 123'>"
            ]
          },
          "metadata": {},
          "execution_count": 152
        }
      ]
    },
    {
      "cell_type": "code",
      "source": [
        "re.search(p, 'a = 123').groups()"
      ],
      "metadata": {
        "colab": {
          "base_uri": "https://localhost:8080/"
        },
        "id": "lrA_1v_ZN4en",
        "outputId": "7c00c7d8-1ff3-4945-8561-fe7ab7d21980"
      },
      "execution_count": null,
      "outputs": [
        {
          "output_type": "execute_result",
          "data": {
            "text/plain": [
              "('a', '123')"
            ]
          },
          "metadata": {},
          "execution_count": 153
        }
      ]
    },
    {
      "cell_type": "markdown",
      "source": [
        "'a = 123'\n",
        "\n",
        "저 문자열에서 search 를 사용하여 ' = '"
      ],
      "metadata": {
        "id": "mh6_lD16OLQj"
      }
    },
    {
      "cell_type": "code",
      "source": [
        "re.search('=','a = 123').group()"
      ],
      "metadata": {
        "colab": {
          "base_uri": "https://localhost:8080/",
          "height": 36
        },
        "id": "zzMAsjTUN64S",
        "outputId": "874931fb-39d1-4bcf-d16d-dfd7c6a6b724"
      },
      "execution_count": null,
      "outputs": [
        {
          "output_type": "execute_result",
          "data": {
            "text/plain": [
              "'='"
            ],
            "application/vnd.google.colaboratory.intrinsic+json": {
              "type": "string"
            }
          },
          "metadata": {},
          "execution_count": 154
        }
      ]
    },
    {
      "cell_type": "code",
      "source": [
        "p = re.compile(r'\\=')"
      ],
      "metadata": {
        "id": "1GCoRSiuOU4W"
      },
      "execution_count": null,
      "outputs": []
    },
    {
      "cell_type": "code",
      "source": [
        "p = re.compile(r'\\=')\n",
        "p.search('a = 123').group()"
      ],
      "metadata": {
        "colab": {
          "base_uri": "https://localhost:8080/",
          "height": 36
        },
        "id": "whH9y7kQOvrH",
        "outputId": "5575040a-e6a2-45b6-9fc5-7a9179c0f7e2"
      },
      "execution_count": null,
      "outputs": [
        {
          "output_type": "execute_result",
          "data": {
            "text/plain": [
              "'='"
            ],
            "application/vnd.google.colaboratory.intrinsic+json": {
              "type": "string"
            }
          },
          "metadata": {},
          "execution_count": 163
        }
      ]
    },
    {
      "cell_type": "code",
      "source": [
        "re.search(r'[^A-Za-z0-9\\s]+','a = 123').group()"
      ],
      "metadata": {
        "colab": {
          "base_uri": "https://localhost:8080/",
          "height": 36
        },
        "id": "ZJHSOnfoOzEH",
        "outputId": "ffd83b6d-aeb5-492c-cc12-05221f454d3c"
      },
      "execution_count": null,
      "outputs": [
        {
          "output_type": "execute_result",
          "data": {
            "text/plain": [
              "'='"
            ],
            "application/vnd.google.colaboratory.intrinsic+json": {
              "type": "string"
            }
          },
          "metadata": {},
          "execution_count": 165
        }
      ]
    },
    {
      "cell_type": "code",
      "source": [
        "re.search(r'[^\\w]+','a=123').group()"
      ],
      "metadata": {
        "colab": {
          "base_uri": "https://localhost:8080/",
          "height": 36
        },
        "id": "xvx62_zAQAs0",
        "outputId": "23bf7d84-3a72-4a65-e1b0-c122d00b6216"
      },
      "execution_count": null,
      "outputs": [
        {
          "output_type": "execute_result",
          "data": {
            "text/plain": [
              "' = '"
            ],
            "application/vnd.google.colaboratory.intrinsic+json": {
              "type": "string"
            }
          },
          "metadata": {},
          "execution_count": 166
        }
      ]
    },
    {
      "cell_type": "code",
      "source": [
        "re.search(r'[\\W]+','a=123').group()"
      ],
      "metadata": {
        "colab": {
          "base_uri": "https://localhost:8080/",
          "height": 36
        },
        "id": "UFJJRehTQTst",
        "outputId": "c473fa00-3bb2-4e8c-e11a-74522b47ad4a"
      },
      "execution_count": null,
      "outputs": [
        {
          "output_type": "execute_result",
          "data": {
            "text/plain": [
              "'='"
            ],
            "application/vnd.google.colaboratory.intrinsic+json": {
              "type": "string"
            }
          },
          "metadata": {},
          "execution_count": 167
        }
      ]
    },
    {
      "cell_type": "code",
      "source": [
        "p = re.compile(r'\\W')\n",
        "sub_ = p.sub('::', 'a=123')"
      ],
      "metadata": {
        "id": "9jDZeokaQl4s"
      },
      "execution_count": null,
      "outputs": []
    },
    {
      "cell_type": "code",
      "source": [
        "sub_"
      ],
      "metadata": {
        "colab": {
          "base_uri": "https://localhost:8080/",
          "height": 36
        },
        "id": "dXH5ebaAQ2yK",
        "outputId": "3f77c3c6-e68c-4c4f-ea5c-a076db9e688e"
      },
      "execution_count": null,
      "outputs": [
        {
          "output_type": "execute_result",
          "data": {
            "text/plain": [
              "'a::123'"
            ],
            "application/vnd.google.colaboratory.intrinsic+json": {
              "type": "string"
            }
          },
          "metadata": {},
          "execution_count": 171
        }
      ]
    },
    {
      "cell_type": "code",
      "source": [
        "p = re.compile(r'[^A-Za-z0-9\\s]+')  #띄어쓰기는 사용안하\n",
        "sub_ = p.sub('::', 'a = 123')"
      ],
      "metadata": {
        "id": "MLOn9mc8Q3Vt"
      },
      "execution_count": null,
      "outputs": []
    },
    {
      "cell_type": "code",
      "source": [
        "sub_"
      ],
      "metadata": {
        "colab": {
          "base_uri": "https://localhost:8080/",
          "height": 36
        },
        "id": "8lT9iBcTRBVS",
        "outputId": "eeab64f1-e1ed-4d25-9073-b6a32df3b1be"
      },
      "execution_count": null,
      "outputs": [
        {
          "output_type": "execute_result",
          "data": {
            "text/plain": [
              "'a :: 123'"
            ],
            "application/vnd.google.colaboratory.intrinsic+json": {
              "type": "string"
            }
          },
          "metadata": {},
          "execution_count": 176
        }
      ]
    },
    {
      "cell_type": "markdown",
      "source": [
        "^^, :), -.-, - -;;\n",
        "\n",
        "이모티콘을 찾는 정규표현식\n"
      ],
      "metadata": {
        "id": "k3ENyZFCRdHE"
      }
    },
    {
      "cell_type": "code",
      "source": [
        "import re"
      ],
      "metadata": {
        "id": "LZ-Q_AQORchh"
      },
      "execution_count": 177,
      "outputs": []
    },
    {
      "cell_type": "code",
      "source": [
        "from urllib.request import urlopen, Request\n",
        "from bs4 import BeautifulSoup as bs"
      ],
      "metadata": {
        "id": "9BBUiat-UUH2"
      },
      "execution_count": 179,
      "outputs": []
    },
    {
      "cell_type": "code",
      "source": [
        "url = 'https://quotes.toscrape.com/tag/life/'"
      ],
      "metadata": {
        "id": "Jp0f1-MAUrul"
      },
      "execution_count": 192,
      "outputs": []
    },
    {
      "cell_type": "code",
      "source": [
        "html = urlopen(url)"
      ],
      "metadata": {
        "id": "q5FWDHhXXvd-"
      },
      "execution_count": 193,
      "outputs": []
    },
    {
      "cell_type": "code",
      "source": [
        "html"
      ],
      "metadata": {
        "colab": {
          "base_uri": "https://localhost:8080/"
        },
        "id": "gPbpx9jlXnz5",
        "outputId": "bfc09167-dcbf-4a6b-9209-e317112af4ae"
      },
      "execution_count": 194,
      "outputs": [
        {
          "output_type": "execute_result",
          "data": {
            "text/plain": [
              "<http.client.HTTPResponse at 0x7d799f0f8d30>"
            ]
          },
          "metadata": {},
          "execution_count": 194
        }
      ]
    },
    {
      "cell_type": "code",
      "source": [
        "html.read()[:100]"
      ],
      "metadata": {
        "colab": {
          "base_uri": "https://localhost:8080/"
        },
        "id": "oLrOYGuxX253",
        "outputId": "fcbe1562-66a9-42a6-f2a2-92d5fdcb8ef5"
      },
      "execution_count": 195,
      "outputs": [
        {
          "output_type": "execute_result",
          "data": {
            "text/plain": [
              "b'<!DOCTYPE html>\\n<html lang=\"en\">\\n<head>\\n\\t<meta charset=\"UTF-8\">\\n\\t<title>Quotes to Scrape</title>\\n   '"
            ]
          },
          "metadata": {},
          "execution_count": 195
        }
      ]
    },
    {
      "cell_type": "code",
      "source": [
        "html = urlopen(url)\n",
        "soup = bs(html.read(), 'html.parser')"
      ],
      "metadata": {
        "id": "3uMbZcmKX7fF"
      },
      "execution_count": 196,
      "outputs": []
    },
    {
      "cell_type": "code",
      "source": [
        "soup"
      ],
      "metadata": {
        "colab": {
          "base_uri": "https://localhost:8080/"
        },
        "id": "GEatpJdSYRsl",
        "outputId": "6bd878fa-d853-40a3-cd3a-2e48ae8cc6c6"
      },
      "execution_count": 197,
      "outputs": [
        {
          "output_type": "execute_result",
          "data": {
            "text/plain": [
              "<!DOCTYPE html>\n",
              "\n",
              "<html lang=\"en\">\n",
              "<head>\n",
              "<meta charset=\"utf-8\"/>\n",
              "<title>Quotes to Scrape</title>\n",
              "<link href=\"/static/bootstrap.min.css\" rel=\"stylesheet\"/>\n",
              "<link href=\"/static/main.css\" rel=\"stylesheet\"/>\n",
              "</head>\n",
              "<body>\n",
              "<div class=\"container\">\n",
              "<div class=\"row header-box\">\n",
              "<div class=\"col-md-8\">\n",
              "<h1>\n",
              "<a href=\"/\" style=\"text-decoration: none\">Quotes to Scrape</a>\n",
              "</h1>\n",
              "</div>\n",
              "<div class=\"col-md-4\">\n",
              "<p>\n",
              "<a href=\"/login\">Login</a>\n",
              "</p>\n",
              "</div>\n",
              "</div>\n",
              "<h3>Viewing tag: <a href=\"/tag/life/page/1/\">life</a></h3>\n",
              "<div class=\"row\">\n",
              "<div class=\"col-md-8\">\n",
              "<div class=\"quote\" itemscope=\"\" itemtype=\"http://schema.org/CreativeWork\">\n",
              "<span class=\"text\" itemprop=\"text\">“There are only two ways to live your life. One is as though nothing is a miracle. The other is as though everything is a miracle.”</span>\n",
              "<span>by <small class=\"author\" itemprop=\"author\">Albert Einstein</small>\n",
              "<a href=\"/author/Albert-Einstein\">(about)</a>\n",
              "</span>\n",
              "<div class=\"tags\">\n",
              "            Tags:\n",
              "            <meta class=\"keywords\" content=\"inspirational,life,live,miracle,miracles\" itemprop=\"keywords\"/>\n",
              "<a class=\"tag\" href=\"/tag/inspirational/page/1/\">inspirational</a>\n",
              "<a class=\"tag\" href=\"/tag/life/page/1/\">life</a>\n",
              "<a class=\"tag\" href=\"/tag/live/page/1/\">live</a>\n",
              "<a class=\"tag\" href=\"/tag/miracle/page/1/\">miracle</a>\n",
              "<a class=\"tag\" href=\"/tag/miracles/page/1/\">miracles</a>\n",
              "</div>\n",
              "</div>\n",
              "<div class=\"quote\" itemscope=\"\" itemtype=\"http://schema.org/CreativeWork\">\n",
              "<span class=\"text\" itemprop=\"text\">“It is better to be hated for what you are than to be loved for what you are not.”</span>\n",
              "<span>by <small class=\"author\" itemprop=\"author\">André Gide</small>\n",
              "<a href=\"/author/Andre-Gide\">(about)</a>\n",
              "</span>\n",
              "<div class=\"tags\">\n",
              "            Tags:\n",
              "            <meta class=\"keywords\" content=\"life,love\" itemprop=\"keywords\"/>\n",
              "<a class=\"tag\" href=\"/tag/life/page/1/\">life</a>\n",
              "<a class=\"tag\" href=\"/tag/love/page/1/\">love</a>\n",
              "</div>\n",
              "</div>\n",
              "<div class=\"quote\" itemscope=\"\" itemtype=\"http://schema.org/CreativeWork\">\n",
              "<span class=\"text\" itemprop=\"text\">“This life is what you make it. No matter what, you're going to mess up sometimes, it's a universal truth. But the good part is you get to decide how you're going to mess it up. Girls will be your friends - they'll act like it anyway. But just remember, some come, some go. The ones that stay with you through everything - they're your true best friends. Don't let go of them. Also remember, sisters make the best friends in the world. As for lovers, well, they'll come and go too. And baby, I hate to say it, most of them - actually pretty much all of them are going to break your heart, but you can't give up because if you give up, you'll never find your soulmate. You'll never find that half who makes you whole and that goes for everything. Just because you fail once, doesn't mean you're gonna fail at everything. Keep trying, hold on, and always, always, always believe in yourself, because if you don't, then who will, sweetie? So keep your head high, keep your chin up, and most importantly, keep smiling, because life's a beautiful thing and there's so much to smile about.”</span>\n",
              "<span>by <small class=\"author\" itemprop=\"author\">Marilyn Monroe</small>\n",
              "<a href=\"/author/Marilyn-Monroe\">(about)</a>\n",
              "</span>\n",
              "<div class=\"tags\">\n",
              "            Tags:\n",
              "            <meta class=\"keywords\" content=\"friends,heartbreak,inspirational,life,love,sisters\" itemprop=\"keywords\"/>\n",
              "<a class=\"tag\" href=\"/tag/friends/page/1/\">friends</a>\n",
              "<a class=\"tag\" href=\"/tag/heartbreak/page/1/\">heartbreak</a>\n",
              "<a class=\"tag\" href=\"/tag/inspirational/page/1/\">inspirational</a>\n",
              "<a class=\"tag\" href=\"/tag/life/page/1/\">life</a>\n",
              "<a class=\"tag\" href=\"/tag/love/page/1/\">love</a>\n",
              "<a class=\"tag\" href=\"/tag/sisters/page/1/\">sisters</a>\n",
              "</div>\n",
              "</div>\n",
              "<div class=\"quote\" itemscope=\"\" itemtype=\"http://schema.org/CreativeWork\">\n",
              "<span class=\"text\" itemprop=\"text\">“I may not have gone where I intended to go, but I think I have ended up where I needed to be.”</span>\n",
              "<span>by <small class=\"author\" itemprop=\"author\">Douglas Adams</small>\n",
              "<a href=\"/author/Douglas-Adams\">(about)</a>\n",
              "</span>\n",
              "<div class=\"tags\">\n",
              "            Tags:\n",
              "            <meta class=\"keywords\" content=\"life,navigation\" itemprop=\"keywords\"/>\n",
              "<a class=\"tag\" href=\"/tag/life/page/1/\">life</a>\n",
              "<a class=\"tag\" href=\"/tag/navigation/page/1/\">navigation</a>\n",
              "</div>\n",
              "</div>\n",
              "<div class=\"quote\" itemscope=\"\" itemtype=\"http://schema.org/CreativeWork\">\n",
              "<span class=\"text\" itemprop=\"text\">“Good friends, good books, and a sleepy conscience: this is the ideal life.”</span>\n",
              "<span>by <small class=\"author\" itemprop=\"author\">Mark Twain</small>\n",
              "<a href=\"/author/Mark-Twain\">(about)</a>\n",
              "</span>\n",
              "<div class=\"tags\">\n",
              "            Tags:\n",
              "            <meta class=\"keywords\" content=\"books,contentment,friends,friendship,life\" itemprop=\"keywords\"/>\n",
              "<a class=\"tag\" href=\"/tag/books/page/1/\">books</a>\n",
              "<a class=\"tag\" href=\"/tag/contentment/page/1/\">contentment</a>\n",
              "<a class=\"tag\" href=\"/tag/friends/page/1/\">friends</a>\n",
              "<a class=\"tag\" href=\"/tag/friendship/page/1/\">friendship</a>\n",
              "<a class=\"tag\" href=\"/tag/life/page/1/\">life</a>\n",
              "</div>\n",
              "</div>\n",
              "<div class=\"quote\" itemscope=\"\" itemtype=\"http://schema.org/CreativeWork\">\n",
              "<span class=\"text\" itemprop=\"text\">“Life is what happens to us while we are making other plans.”</span>\n",
              "<span>by <small class=\"author\" itemprop=\"author\">Allen Saunders</small>\n",
              "<a href=\"/author/Allen-Saunders\">(about)</a>\n",
              "</span>\n",
              "<div class=\"tags\">\n",
              "            Tags:\n",
              "            <meta class=\"keywords\" content=\"fate,life,misattributed-john-lennon,planning,plans\" itemprop=\"keywords\"/>\n",
              "<a class=\"tag\" href=\"/tag/fate/page/1/\">fate</a>\n",
              "<a class=\"tag\" href=\"/tag/life/page/1/\">life</a>\n",
              "<a class=\"tag\" href=\"/tag/misattributed-john-lennon/page/1/\">misattributed-john-lennon</a>\n",
              "<a class=\"tag\" href=\"/tag/planning/page/1/\">planning</a>\n",
              "<a class=\"tag\" href=\"/tag/plans/page/1/\">plans</a>\n",
              "</div>\n",
              "</div>\n",
              "<div class=\"quote\" itemscope=\"\" itemtype=\"http://schema.org/CreativeWork\">\n",
              "<span class=\"text\" itemprop=\"text\">“Today you are You, that is truer than true. There is no one alive who is Youer than You.”</span>\n",
              "<span>by <small class=\"author\" itemprop=\"author\">Dr. Seuss</small>\n",
              "<a href=\"/author/Dr-Seuss\">(about)</a>\n",
              "</span>\n",
              "<div class=\"tags\">\n",
              "            Tags:\n",
              "            <meta class=\"keywords\" content=\"comedy,life,yourself\" itemprop=\"keywords\"/>\n",
              "<a class=\"tag\" href=\"/tag/comedy/page/1/\">comedy</a>\n",
              "<a class=\"tag\" href=\"/tag/life/page/1/\">life</a>\n",
              "<a class=\"tag\" href=\"/tag/yourself/page/1/\">yourself</a>\n",
              "</div>\n",
              "</div>\n",
              "<div class=\"quote\" itemscope=\"\" itemtype=\"http://schema.org/CreativeWork\">\n",
              "<span class=\"text\" itemprop=\"text\">“Life is like riding a bicycle. To keep your balance, you must keep moving.”</span>\n",
              "<span>by <small class=\"author\" itemprop=\"author\">Albert Einstein</small>\n",
              "<a href=\"/author/Albert-Einstein\">(about)</a>\n",
              "</span>\n",
              "<div class=\"tags\">\n",
              "            Tags:\n",
              "            <meta class=\"keywords\" content=\"life,simile\" itemprop=\"keywords\"/>\n",
              "<a class=\"tag\" href=\"/tag/life/page/1/\">life</a>\n",
              "<a class=\"tag\" href=\"/tag/simile/page/1/\">simile</a>\n",
              "</div>\n",
              "</div>\n",
              "<div class=\"quote\" itemscope=\"\" itemtype=\"http://schema.org/CreativeWork\">\n",
              "<span class=\"text\" itemprop=\"text\">“Life isn't about finding yourself. Life is about creating yourself.”</span>\n",
              "<span>by <small class=\"author\" itemprop=\"author\">George Bernard Shaw</small>\n",
              "<a href=\"/author/George-Bernard-Shaw\">(about)</a>\n",
              "</span>\n",
              "<div class=\"tags\">\n",
              "            Tags:\n",
              "            <meta class=\"keywords\" content=\"inspirational,life,yourself\" itemprop=\"keywords\"/>\n",
              "<a class=\"tag\" href=\"/tag/inspirational/page/1/\">inspirational</a>\n",
              "<a class=\"tag\" href=\"/tag/life/page/1/\">life</a>\n",
              "<a class=\"tag\" href=\"/tag/yourself/page/1/\">yourself</a>\n",
              "</div>\n",
              "</div>\n",
              "<div class=\"quote\" itemscope=\"\" itemtype=\"http://schema.org/CreativeWork\">\n",
              "<span class=\"text\" itemprop=\"text\">“Finish each day and be done with it. You have done what you could. Some blunders and absurdities no doubt crept in; forget them as soon as you can. Tomorrow is a new day. You shall begin it serenely and with too high a spirit to be encumbered with your old nonsense.”</span>\n",
              "<span>by <small class=\"author\" itemprop=\"author\">Ralph Waldo Emerson</small>\n",
              "<a href=\"/author/Ralph-Waldo-Emerson\">(about)</a>\n",
              "</span>\n",
              "<div class=\"tags\">\n",
              "            Tags:\n",
              "            <meta class=\"keywords\" content=\"life,regrets\" itemprop=\"keywords\"/>\n",
              "<a class=\"tag\" href=\"/tag/life/page/1/\">life</a>\n",
              "<a class=\"tag\" href=\"/tag/regrets/page/1/\">regrets</a>\n",
              "</div>\n",
              "</div>\n",
              "<nav>\n",
              "<ul class=\"pager\">\n",
              "<li class=\"next\">\n",
              "<a href=\"/tag/life/page/2/\">Next <span aria-hidden=\"true\">→</span></a>\n",
              "</li>\n",
              "</ul>\n",
              "</nav>\n",
              "</div>\n",
              "<div class=\"col-md-4 tags-box\">\n",
              "<h2>Top Ten tags</h2>\n",
              "<span class=\"tag-item\">\n",
              "<a class=\"tag\" href=\"/tag/love/\" style=\"font-size: 28px\">love</a>\n",
              "</span>\n",
              "<span class=\"tag-item\">\n",
              "<a class=\"tag\" href=\"/tag/inspirational/\" style=\"font-size: 26px\">inspirational</a>\n",
              "</span>\n",
              "<span class=\"tag-item\">\n",
              "<a class=\"tag\" href=\"/tag/life/\" style=\"font-size: 26px\">life</a>\n",
              "</span>\n",
              "<span class=\"tag-item\">\n",
              "<a class=\"tag\" href=\"/tag/humor/\" style=\"font-size: 24px\">humor</a>\n",
              "</span>\n",
              "<span class=\"tag-item\">\n",
              "<a class=\"tag\" href=\"/tag/books/\" style=\"font-size: 22px\">books</a>\n",
              "</span>\n",
              "<span class=\"tag-item\">\n",
              "<a class=\"tag\" href=\"/tag/reading/\" style=\"font-size: 14px\">reading</a>\n",
              "</span>\n",
              "<span class=\"tag-item\">\n",
              "<a class=\"tag\" href=\"/tag/friendship/\" style=\"font-size: 10px\">friendship</a>\n",
              "</span>\n",
              "<span class=\"tag-item\">\n",
              "<a class=\"tag\" href=\"/tag/friends/\" style=\"font-size: 8px\">friends</a>\n",
              "</span>\n",
              "<span class=\"tag-item\">\n",
              "<a class=\"tag\" href=\"/tag/truth/\" style=\"font-size: 8px\">truth</a>\n",
              "</span>\n",
              "<span class=\"tag-item\">\n",
              "<a class=\"tag\" href=\"/tag/simile/\" style=\"font-size: 6px\">simile</a>\n",
              "</span>\n",
              "</div>\n",
              "</div>\n",
              "</div>\n",
              "<footer class=\"footer\">\n",
              "<div class=\"container\">\n",
              "<p class=\"text-muted\">\n",
              "                Quotes by: <a href=\"https://www.goodreads.com/quotes\">GoodReads.com</a>\n",
              "</p>\n",
              "<p class=\"copyright\">\n",
              "                Made with <span class=\"zyte\">❤</span> by <a class=\"zyte\" href=\"https://www.zyte.com\">Zyte</a>\n",
              "</p>\n",
              "</div>\n",
              "</footer>\n",
              "</body>\n",
              "</html>"
            ]
          },
          "metadata": {},
          "execution_count": 197
        }
      ]
    },
    {
      "cell_type": "code",
      "source": [
        "%%writefile test.html\n",
        "<!DOCTYPE html>\n",
        "<html>\n",
        " <head>\n",
        "  <title>\n",
        "   스크래핑 연습\n",
        "  </title>\n",
        "  <meta charset=\"utf-8\"/>\n",
        " </head>\n",
        " <body>\n",
        "  <p align=\"center\">\n",
        "   연습용 html 문서입니다.\n",
        "  </p>\n",
        "  <p align=\"left\">\n",
        "   <br/>\n",
        "   파이썬을 배우고 있습니다.\n",
        "   <br/>\n",
        "   응원 바랍니다.\n",
        "  </p>\n",
        "  <p align=\"center\">\n",
        "   DOCTYPE HTML\n",
        "  </p>\n",
        "  <a class=\"naver\" href=\"https://www.naver.com/\" id=\"meal\">\n",
        "   네이버\n",
        "  </a>\n",
        "  <a class=\"google\" href=\"http://www.google.com/\" id=\"link\">\n",
        "   구글\n",
        "  </a>\n",
        " </body>\n",
        "</html>"
      ],
      "metadata": {
        "colab": {
          "base_uri": "https://localhost:8080/"
        },
        "id": "75iDCBuxYSpt",
        "outputId": "0cb17bbb-f9db-4845-db4e-4e1d3f590e7b"
      },
      "execution_count": 198,
      "outputs": [
        {
          "output_type": "stream",
          "name": "stdout",
          "text": [
            "Overwriting test.html\n"
          ]
        }
      ]
    },
    {
      "cell_type": "code",
      "source": [
        "quote = soup.find_all('span')"
      ],
      "metadata": {
        "id": "9Oeh8eXLZmrt"
      },
      "execution_count": 199,
      "outputs": []
    },
    {
      "cell_type": "code",
      "source": [
        "quote"
      ],
      "metadata": {
        "id": "JGpH2OB7eD1E"
      },
      "execution_count": null,
      "outputs": []
    },
    {
      "cell_type": "code",
      "source": [
        "quote[0]"
      ],
      "metadata": {
        "colab": {
          "base_uri": "https://localhost:8080/"
        },
        "id": "ua7Q1CaEe8h1",
        "outputId": "e1c4aaf5-b6ed-48e4-eb36-766b4adc4701"
      },
      "execution_count": 201,
      "outputs": [
        {
          "output_type": "execute_result",
          "data": {
            "text/plain": [
              "<span class=\"text\" itemprop=\"text\">“There are only two ways to live your life. One is as though nothing is a miracle. The other is as though everything is a miracle.”</span>"
            ]
          },
          "metadata": {},
          "execution_count": 201
        }
      ]
    },
    {
      "cell_type": "code",
      "source": [
        "quote[:5]"
      ],
      "metadata": {
        "colab": {
          "base_uri": "https://localhost:8080/"
        },
        "id": "ZtMfigS_fG46",
        "outputId": "07bd5e12-0bab-4247-a070-460f08d61e56"
      },
      "execution_count": 204,
      "outputs": [
        {
          "output_type": "execute_result",
          "data": {
            "text/plain": [
              "[<span class=\"text\" itemprop=\"text\">“There are only two ways to live your life. One is as though nothing is a miracle. The other is as though everything is a miracle.”</span>,\n",
              " <span>by <small class=\"author\" itemprop=\"author\">Albert Einstein</small>\n",
              " <a href=\"/author/Albert-Einstein\">(about)</a>\n",
              " </span>,\n",
              " <span class=\"text\" itemprop=\"text\">“It is better to be hated for what you are than to be loved for what you are not.”</span>,\n",
              " <span>by <small class=\"author\" itemprop=\"author\">André Gide</small>\n",
              " <a href=\"/author/Andre-Gide\">(about)</a>\n",
              " </span>,\n",
              " <span class=\"text\" itemprop=\"text\">“This life is what you make it. No matter what, you're going to mess up sometimes, it's a universal truth. But the good part is you get to decide how you're going to mess it up. Girls will be your friends - they'll act like it anyway. But just remember, some come, some go. The ones that stay with you through everything - they're your true best friends. Don't let go of them. Also remember, sisters make the best friends in the world. As for lovers, well, they'll come and go too. And baby, I hate to say it, most of them - actually pretty much all of them are going to break your heart, but you can't give up because if you give up, you'll never find your soulmate. You'll never find that half who makes you whole and that goes for everything. Just because you fail once, doesn't mean you're gonna fail at everything. Keep trying, hold on, and always, always, always believe in yourself, because if you don't, then who will, sweetie? So keep your head high, keep your chin up, and most importantly, keep smiling, because life's a beautiful thing and there's so much to smile about.”</span>]"
            ]
          },
          "metadata": {},
          "execution_count": 204
        }
      ]
    },
    {
      "cell_type": "code",
      "source": [
        "type(quote)"
      ],
      "metadata": {
        "colab": {
          "base_uri": "https://localhost:8080/"
        },
        "id": "xqfv__LEfJGk",
        "outputId": "03f9679f-2cf1-4259-ac21-f70e2af4e323"
      },
      "execution_count": 205,
      "outputs": [
        {
          "output_type": "execute_result",
          "data": {
            "text/plain": [
              "bs4.element.ResultSet"
            ]
          },
          "metadata": {},
          "execution_count": 205
        }
      ]
    },
    {
      "cell_type": "code",
      "source": [
        "quote[0]"
      ],
      "metadata": {
        "colab": {
          "base_uri": "https://localhost:8080/"
        },
        "id": "IOULisH-fSF0",
        "outputId": "2ee38571-5c59-4650-f14b-3e0f2ef018e8"
      },
      "execution_count": 206,
      "outputs": [
        {
          "output_type": "execute_result",
          "data": {
            "text/plain": [
              "<span class=\"text\" itemprop=\"text\">“There are only two ways to live your life. One is as though nothing is a miracle. The other is as though everything is a miracle.”</span>"
            ]
          },
          "metadata": {},
          "execution_count": 206
        }
      ]
    },
    {
      "cell_type": "code",
      "source": [
        "quote[0].text"
      ],
      "metadata": {
        "colab": {
          "base_uri": "https://localhost:8080/",
          "height": 36
        },
        "id": "yJ9UoNUbfac7",
        "outputId": "b19dd9e1-a917-46e3-89f0-6001057c538e"
      },
      "execution_count": 207,
      "outputs": [
        {
          "output_type": "execute_result",
          "data": {
            "text/plain": [
              "'“There are only two ways to live your life. One is as though nothing is a miracle. The other is as though everything is a miracle.”'"
            ],
            "application/vnd.google.colaboratory.intrinsic+json": {
              "type": "string"
            }
          },
          "metadata": {},
          "execution_count": 207
        }
      ]
    },
    {
      "cell_type": "code",
      "source": [
        "quote_list = []\n",
        "for i in quote:\n",
        "    quote_list.append(i.text)"
      ],
      "metadata": {
        "id": "UAQtTp90fg1z"
      },
      "execution_count": 209,
      "outputs": []
    },
    {
      "cell_type": "code",
      "source": [
        "quote_list"
      ],
      "metadata": {
        "id": "iI8zaD-RfyMR"
      },
      "execution_count": null,
      "outputs": []
    },
    {
      "cell_type": "code",
      "source": [
        "for i in quote:\n",
        "    print(i.text)"
      ],
      "metadata": {
        "colab": {
          "base_uri": "https://localhost:8080/"
        },
        "id": "sBVF8LaWf7Yb",
        "outputId": "33b64fc1-53b8-4f62-88c7-df7d0d3e606b"
      },
      "execution_count": 211,
      "outputs": [
        {
          "output_type": "stream",
          "name": "stdout",
          "text": [
            "“There are only two ways to live your life. One is as though nothing is a miracle. The other is as though everything is a miracle.”\n",
            "by Albert Einstein\n",
            "(about)\n",
            "\n",
            "“It is better to be hated for what you are than to be loved for what you are not.”\n",
            "by André Gide\n",
            "(about)\n",
            "\n",
            "“This life is what you make it. No matter what, you're going to mess up sometimes, it's a universal truth. But the good part is you get to decide how you're going to mess it up. Girls will be your friends - they'll act like it anyway. But just remember, some come, some go. The ones that stay with you through everything - they're your true best friends. Don't let go of them. Also remember, sisters make the best friends in the world. As for lovers, well, they'll come and go too. And baby, I hate to say it, most of them - actually pretty much all of them are going to break your heart, but you can't give up because if you give up, you'll never find your soulmate. You'll never find that half who makes you whole and that goes for everything. Just because you fail once, doesn't mean you're gonna fail at everything. Keep trying, hold on, and always, always, always believe in yourself, because if you don't, then who will, sweetie? So keep your head high, keep your chin up, and most importantly, keep smiling, because life's a beautiful thing and there's so much to smile about.”\n",
            "by Marilyn Monroe\n",
            "(about)\n",
            "\n",
            "“I may not have gone where I intended to go, but I think I have ended up where I needed to be.”\n",
            "by Douglas Adams\n",
            "(about)\n",
            "\n",
            "“Good friends, good books, and a sleepy conscience: this is the ideal life.”\n",
            "by Mark Twain\n",
            "(about)\n",
            "\n",
            "“Life is what happens to us while we are making other plans.”\n",
            "by Allen Saunders\n",
            "(about)\n",
            "\n",
            "“Today you are You, that is truer than true. There is no one alive who is Youer than You.”\n",
            "by Dr. Seuss\n",
            "(about)\n",
            "\n",
            "“Life is like riding a bicycle. To keep your balance, you must keep moving.”\n",
            "by Albert Einstein\n",
            "(about)\n",
            "\n",
            "“Life isn't about finding yourself. Life is about creating yourself.”\n",
            "by George Bernard Shaw\n",
            "(about)\n",
            "\n",
            "“Finish each day and be done with it. You have done what you could. Some blunders and absurdities no doubt crept in; forget them as soon as you can. Tomorrow is a new day. You shall begin it serenely and with too high a spirit to be encumbered with your old nonsense.”\n",
            "by Ralph Waldo Emerson\n",
            "(about)\n",
            "\n",
            "→\n",
            "\n",
            "love\n",
            "\n",
            "\n",
            "inspirational\n",
            "\n",
            "\n",
            "life\n",
            "\n",
            "\n",
            "humor\n",
            "\n",
            "\n",
            "books\n",
            "\n",
            "\n",
            "reading\n",
            "\n",
            "\n",
            "friendship\n",
            "\n",
            "\n",
            "friends\n",
            "\n",
            "\n",
            "truth\n",
            "\n",
            "\n",
            "simile\n",
            "\n",
            "❤\n"
          ]
        }
      ]
    },
    {
      "cell_type": "code",
      "source": [
        "soup.find_all('div', {'class': 'quote'})"
      ],
      "metadata": {
        "id": "AgBEmcb-hIlm"
      },
      "execution_count": null,
      "outputs": []
    },
    {
      "cell_type": "code",
      "source": [
        "soup.find_all('div', {'class': 'quote'})[0]"
      ],
      "metadata": {
        "colab": {
          "base_uri": "https://localhost:8080/"
        },
        "id": "zYM9MKZ1hIY1",
        "outputId": "b54dae81-9e56-4b3b-c36b-cb04ab048f97"
      },
      "execution_count": 216,
      "outputs": [
        {
          "output_type": "execute_result",
          "data": {
            "text/plain": [
              "<div class=\"quote\" itemscope=\"\" itemtype=\"http://schema.org/CreativeWork\">\n",
              "<span class=\"text\" itemprop=\"text\">“There are only two ways to live your life. One is as though nothing is a miracle. The other is as though everything is a miracle.”</span>\n",
              "<span>by <small class=\"author\" itemprop=\"author\">Albert Einstein</small>\n",
              "<a href=\"/author/Albert-Einstein\">(about)</a>\n",
              "</span>\n",
              "<div class=\"tags\">\n",
              "            Tags:\n",
              "            <meta class=\"keywords\" content=\"inspirational,life,live,miracle,miracles\" itemprop=\"keywords\"/>\n",
              "<a class=\"tag\" href=\"/tag/inspirational/page/1/\">inspirational</a>\n",
              "<a class=\"tag\" href=\"/tag/life/page/1/\">life</a>\n",
              "<a class=\"tag\" href=\"/tag/live/page/1/\">live</a>\n",
              "<a class=\"tag\" href=\"/tag/miracle/page/1/\">miracle</a>\n",
              "<a class=\"tag\" href=\"/tag/miracles/page/1/\">miracles</a>\n",
              "</div>\n",
              "</div>"
            ]
          },
          "metadata": {},
          "execution_count": 216
        }
      ]
    },
    {
      "cell_type": "code",
      "source": [
        "soup.find_all('div', {'class': 'quote'})[0].text"
      ],
      "metadata": {
        "colab": {
          "base_uri": "https://localhost:8080/",
          "height": 55
        },
        "id": "CsDgkenTgedC",
        "outputId": "de2a12f9-8ed9-4d68-b94b-0f2e37771784"
      },
      "execution_count": 214,
      "outputs": [
        {
          "output_type": "execute_result",
          "data": {
            "text/plain": [
              "'\\n“There are only two ways to live your life. One is as though nothing is a miracle. The other is as though everything is a miracle.”\\nby Albert Einstein\\n(about)\\n\\n\\n            Tags:\\n            \\ninspirational\\nlife\\nlive\\nmiracle\\nmiracles\\n\\n'"
            ],
            "application/vnd.google.colaboratory.intrinsic+json": {
              "type": "string"
            }
          },
          "metadata": {},
          "execution_count": 214
        }
      ]
    },
    {
      "cell_type": "code",
      "source": [],
      "metadata": {
        "id": "GEBFTVqEgjtT"
      },
      "execution_count": null,
      "outputs": []
    }
  ]
}