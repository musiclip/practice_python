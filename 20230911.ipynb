{
  "nbformat": 4,
  "nbformat_minor": 0,
  "metadata": {
    "colab": {
      "provenance": [],
      "authorship_tag": "ABX9TyOpp4TCSrj9qEDMl36rhj9I",
      "include_colab_link": true
    },
    "kernelspec": {
      "name": "python3",
      "display_name": "Python 3"
    },
    "language_info": {
      "name": "python"
    }
  },
  "cells": [
    {
      "cell_type": "markdown",
      "metadata": {
        "id": "view-in-github",
        "colab_type": "text"
      },
      "source": [
        "<a href=\"https://colab.research.google.com/github/musiclip/practice_python/blob/main/20230911.ipynb\" target=\"_parent\"><img src=\"https://colab.research.google.com/assets/colab-badge.svg\" alt=\"Open In Colab\"/></a>"
      ]
    },
    {
      "cell_type": "markdown",
      "source": [
        "# 1. 데이터베이스 생성\n",
        "\n",
        "    CREATE SCHEMA `testdb` ;\n",
        "\n",
        "    create database DB이름;"
      ],
      "metadata": {
        "id": "teIqHDBhtxYg"
      }
    },
    {
      "cell_type": "markdown",
      "source": [
        "# 2. 테이블 생성\n",
        "\n",
        "    CREATE TABLE `testdb`.`users` (`id` INT NOT NULL,PRIMARY KEY (`id`));"
      ],
      "metadata": {
        "id": "ZE7Dp-28wJ8S"
      }
    },
    {
      "cell_type": "markdown",
      "source": [
        "    use DB이름;\n",
        "\n",
        "    create table users (id INT AUTO_INCREMENT PRIMARY KEY, name VARCHAR(255));"
      ],
      "metadata": {
        "id": "xIDTx7mBB9y2"
      }
    },
    {
      "cell_type": "markdown",
      "source": [
        "# 3. cmd에서 sql로 접근하기\n",
        "\n",
        "path설정 후\n",
        "\n",
        "    mysql -u root -p\n",
        "\n",
        "    mysql -u root -pzxc098\n",
        "\n",
        "    mysql -u root testdb -p"
      ],
      "metadata": {
        "id": "1k-D4XDn5GAp"
      }
    },
    {
      "cell_type": "markdown",
      "source": [
        "# 4. DB 보기\n",
        "\n",
        "    show databases;"
      ],
      "metadata": {
        "id": "F4e4uvan49rT"
      }
    },
    {
      "cell_type": "markdown",
      "source": [
        "# 5. DB 사용하기\n",
        "\n",
        "    use testdb; (testdb : DB 이름)"
      ],
      "metadata": {
        "id": "8aIMNGbd677f"
      }
    },
    {
      "cell_type": "markdown",
      "source": [
        "# 6. 테이블 보기\n",
        "\n",
        "    show tables;"
      ],
      "metadata": {
        "id": "bbLIwOiB7Y3G"
      }
    },
    {
      "cell_type": "markdown",
      "source": [
        "#7. 테이블 정보 확인하기\n",
        "\n",
        "    describe users;\n",
        "\n",
        "    desc users;"
      ],
      "metadata": {
        "id": "XzYow0cjCeo7"
      }
    },
    {
      "cell_type": "markdown",
      "source": [
        "# 8. 데이터 넣기\n",
        "\n",
        "    insert into users values('1','Evelyn');\n",
        "\n",
        "    insert into `keos`.`users` (`id`, `name`) values ('3', 'Tupaki');\n",
        "\n",
        "    (따옴표'와 ` 차이 있음)"
      ],
      "metadata": {
        "id": "Puh8JZw2D438"
      }
    },
    {
      "cell_type": "markdown",
      "source": [
        "# 9. 데이터 확인하기\n",
        "\n",
        "    select * from users;\n",
        "\n",
        "    select * from users where id=2;"
      ],
      "metadata": {
        "id": "Lpfk-ss2ENS8"
      }
    },
    {
      "cell_type": "markdown",
      "source": [
        "# 10. 삭제하기\n",
        "\n",
        "    drop table 테이블명; - 테이블 지우기\n",
        "\n",
        "    drop database DB명; - DB 지우기\n",
        "\n",
        "    truncate table users; - 데이터 지우기"
      ],
      "metadata": {
        "id": "6H33X3aZfECA"
      }
    },
    {
      "cell_type": "markdown",
      "source": [
        "# 11. 현재 사용자 확인하기\n",
        "\n",
        "    use mysql;\n",
        "\n",
        "    select host, user from user;"
      ],
      "metadata": {
        "id": "VtXes4XlIQq2"
      }
    },
    {
      "cell_type": "markdown",
      "source": [
        "# 12. 사용자 만들기\n",
        "\n",
        "    create user 'id'@'localhost'\n",
        "\n",
        "    localhost 대신 '%' : 외부 접속 가능하게 해주는 host"
      ],
      "metadata": {
        "id": "4QkNHAtRJDq_"
      }
    },
    {
      "cell_type": "markdown",
      "source": [
        "# 13. 권한 부여\n",
        "\n",
        "    grant all privileges on testdb.* to 'pmth'@'%';\n",
        "\n",
        "    flush privileges;"
      ],
      "metadata": {
        "id": "x4KaOtOtK9Pe"
      }
    },
    {
      "cell_type": "markdown",
      "source": [
        "1. 각자 계정 사용\n",
        "\n",
        "2. testdb.users 비우기\n",
        "\n",
        "3. testdb.users 삭제\n",
        "\n",
        "4. testdb 삭제"
      ],
      "metadata": {
        "id": "aXVUc6V8TfrI"
      }
    },
    {
      "cell_type": "code",
      "source": [],
      "metadata": {
        "id": "MCNJRJ7EB7um"
      },
      "execution_count": null,
      "outputs": []
    }
  ]
}