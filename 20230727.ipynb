{
  "nbformat": 4,
  "nbformat_minor": 0,
  "metadata": {
    "colab": {
      "provenance": [],
      "authorship_tag": "ABX9TyP4zupdjNArUIG9bbpbY8YF",
      "include_colab_link": true
    },
    "kernelspec": {
      "name": "python3",
      "display_name": "Python 3"
    },
    "language_info": {
      "name": "python"
    }
  },
  "cells": [
    {
      "cell_type": "markdown",
      "metadata": {
        "id": "view-in-github",
        "colab_type": "text"
      },
      "source": [
        "<a href=\"https://colab.research.google.com/github/musiclip/practice_python/blob/main/20230727.ipynb\" target=\"_parent\"><img src=\"https://colab.research.google.com/assets/colab-badge.svg\" alt=\"Open In Colab\"/></a>"
      ]
    },
    {
      "cell_type": "markdown",
      "source": [
        "# __init__.py\n",
        "\n",
        "- 모듈(패키지)을 import할때 자동으로 실행되는 초기화 스크립트\n",
        "- 디렉토리 패키지 폴더로 등록해준다.\n",
        "- 패키지를 초기화하는 파이썬 코드를 포함한다.\n",
        "\n",
        "        __all__ = ['Rec','Sign','Synt']\n",
        "\n",
        "        from. import Rec\n",
        "\n",
        "        from. import Sign\n",
        "\n",
        "        from. import Synt"
      ],
      "metadata": {
        "id": "oIUiCX1-pLrM"
      }
    },
    {
      "cell_type": "code",
      "source": [
        "import numpy"
      ],
      "metadata": {
        "id": "rcfoHMNezvMN"
      },
      "execution_count": 2,
      "outputs": []
    },
    {
      "cell_type": "code",
      "source": [
        "from numpy import *"
      ],
      "metadata": {
        "id": "awnloQN2zovv"
      },
      "execution_count": 1,
      "outputs": []
    },
    {
      "cell_type": "markdown",
      "source": [
        "#다른 디렉토리에 있는 모듈 import하기\n",
        "\n",
        "1. client 파일은 Module_Client_import/mains/ 폴더에 있다.\n",
        "\n",
        "2. module 파일은 Module_Client_import/subs/ 폴더에 있다.\n",
        "\n",
        "3. Module_Client_import/를 sys.path 에 등록을 해줘야 둘이 다른파일에 있어도 연결하여 사용할 수 있다.\n",
        "\n",
        "        sys.path.append(/Users/~~/Module_Client_import)\n",
        "\n",
        "4. from subs import module\n",
        "\n",
        "client.py 파일 예시\n",
        "\n",
        "    import sys_add_path\n",
        "    from subs import module\n",
        "\n",
        "sys_add_path.py 파일 예시\n",
        "\n",
        "    import sys\n",
        "    path =/'Users/~~/Module_Client_import)"
      ],
      "metadata": {
        "id": "6J0_-GiFwUGR"
      }
    },
    {
      "cell_type": "markdown",
      "source": [
        "주식 사고 팔기\n",
        "\n"
      ],
      "metadata": {
        "id": "2NGHaG8K4LhV"
      }
    },
    {
      "cell_type": "code",
      "execution_count": 3,
      "metadata": {
        "id": "VyEI1USVpISH"
      },
      "outputs": [],
      "source": [
        "prices = [7, 1, 5, 3, 6, 4]"
      ]
    },
    {
      "cell_type": "markdown",
      "source": [
        "최대 이익이 얼마인지 계산하시오"
      ],
      "metadata": {
        "id": "M80K0v7H4Zvw"
      }
    },
    {
      "cell_type": "code",
      "source": [
        "import matplotlib.pyplot as plt\n",
        "%matplotlib inline"
      ],
      "metadata": {
        "id": "vxGV-GpC4Usw"
      },
      "execution_count": 5,
      "outputs": []
    },
    {
      "cell_type": "code",
      "source": [
        "plt.plot(prices)"
      ],
      "metadata": {
        "colab": {
          "base_uri": "https://localhost:8080/",
          "height": 449
        },
        "id": "Qwmzi_hj4pWu",
        "outputId": "0f1f5123-ad0e-4195-c7ec-b98652a34adf"
      },
      "execution_count": 6,
      "outputs": [
        {
          "output_type": "execute_result",
          "data": {
            "text/plain": [
              "[<matplotlib.lines.Line2D at 0x7f3c5e89c070>]"
            ]
          },
          "metadata": {},
          "execution_count": 6
        },
        {
          "output_type": "display_data",
          "data": {
            "text/plain": [
              "<Figure size 640x480 with 1 Axes>"
            ],
            "image/png": "[encoded data removed]"
          },
          "metadata": {}
        }
      ]
    },
    {
      "cell_type": "code",
      "source": [
        "max_profit(prices)"
      ],
      "metadata": {
        "colab": {
          "base_uri": "https://localhost:8080/"
        },
        "id": "UtgXJebQ58I0",
        "outputId": "d8ad3013-f8d0-4b45-d1a3-e06797b80b4e"
      },
      "execution_count": 26,
      "outputs": [
        {
          "output_type": "execute_result",
          "data": {
            "text/plain": [
              "5"
            ]
          },
          "metadata": {},
          "execution_count": 26
        }
      ]
    },
    {
      "cell_type": "code",
      "source": [
        "max(1,3)"
      ],
      "metadata": {
        "colab": {
          "base_uri": "https://localhost:8080/"
        },
        "id": "MBvkVPHn5-Yd",
        "outputId": "c50b81a8-f098-4e97-db58-606dbe4d9b03"
      },
      "execution_count": 11,
      "outputs": [
        {
          "output_type": "execute_result",
          "data": {
            "text/plain": [
              "3"
            ]
          },
          "metadata": {},
          "execution_count": 11
        }
      ]
    },
    {
      "cell_type": "code",
      "source": [
        "def max_profit(prices):\n",
        "    if not prices or len(prices) < 2:\n",
        "        return 0\n",
        "\n",
        "    min_price = prices[0]  # 최소 가격 초기화\n",
        "    max_profit = 0  # 최대 이익 초기화\n",
        "\n",
        "    for price in prices:\n",
        "        # 현재 가격과 최소 가격을 비교하여 더 작은 값을 최소 가격으로 설정\n",
        "        min_price = min(min_price, price)\n",
        "\n",
        "        # 현재 가격에서 최소 가격을 뺀 값과 현재 최대 이익을 비교하여 더 큰 값을 최대 이익으로 설정\n",
        "        max_profit = max(max_profit, price - min_price)\n",
        "\n",
        "    return max_profit\n",
        "\n",
        "# 주식 가격 리스트\n",
        "prices = [7, 1, 5, 3, 6, 4]\n",
        "result = max_profit(prices)\n",
        "print(\"최대 이익:\", result)"
      ],
      "metadata": {
        "colab": {
          "base_uri": "https://localhost:8080/"
        },
        "id": "PuKkkfKc6M_e",
        "outputId": "0842b9da-14c8-470e-987f-9b20b235429b"
      },
      "execution_count": 22,
      "outputs": [
        {
          "output_type": "stream",
          "name": "stdout",
          "text": [
            "최대 이익: 5\n"
          ]
        }
      ]
    },
    {
      "cell_type": "code",
      "source": [
        "def max_profit(prices):\n",
        "    min_price = prices[0]\n",
        "    max_profit = 0\n",
        "\n",
        "    for price in prices:\n",
        "        if price < min_price:\n",
        "            min_price=price\n",
        "        elif price - min_price > max_profit:\n",
        "            max_profit = price - min_price\n",
        "\n",
        "    return max_profit"
      ],
      "metadata": {
        "id": "do8UtmOE7V47"
      },
      "execution_count": 27,
      "outputs": []
    },
    {
      "cell_type": "code",
      "source": [
        "prices = [7,1,5,3,6,4]"
      ],
      "metadata": {
        "id": "fYHkfQPP9iao"
      },
      "execution_count": 28,
      "outputs": []
    },
    {
      "cell_type": "code",
      "source": [
        "max_profit(prices)"
      ],
      "metadata": {
        "colab": {
          "base_uri": "https://localhost:8080/"
        },
        "id": "tRm-P4OQ9lkX",
        "outputId": "13a08f18-7fc1-46ba-fcbf-5a460197af15"
      },
      "execution_count": 29,
      "outputs": [
        {
          "output_type": "execute_result",
          "data": {
            "text/plain": [
              "5"
            ]
          },
          "metadata": {},
          "execution_count": 29
        }
      ]
    },
    {
      "cell_type": "code",
      "source": [
        "def max_profit(prices):\n",
        "    max_profit = 0\n",
        "    min_price = float('inf')  #양의 무한대로 초기화\n",
        "\n",
        "    for price in prices:\n",
        "        min_price = min(min_price, price)\n",
        "        max_profit = max(max_profit, price - min_price)\n",
        "\n",
        "    return max_profit"
      ],
      "metadata": {
        "id": "sGOgCo5H9nB3"
      },
      "execution_count": null,
      "outputs": []
    },
    {
      "cell_type": "code",
      "source": [
        "def stock_profit(price):\n",
        "    buy = min(price)\n",
        "    buy_index = price.index(buy)\n",
        "    sell = max(price[buy_index + 1:])\n",
        "    profit = sell - buy\n",
        "    return profit"
      ],
      "metadata": {
        "id": "xu9plvI2-cBV"
      },
      "execution_count": 30,
      "outputs": []
    },
    {
      "cell_type": "code",
      "source": [
        "def profit(prices) :\n",
        "    low = prices.index(min(prices))\n",
        "    updated = prices[low:]\n",
        "    print('최대이익은 ', max(updated) - min(prices))"
      ],
      "metadata": {
        "id": "d4nvNaKL-sKd"
      },
      "execution_count": 31,
      "outputs": []
    },
    {
      "cell_type": "code",
      "source": [
        "%%writefile data.txt\n",
        "1 2 3\n",
        "4 5 6\n",
        "7 8 9"
      ],
      "metadata": {
        "colab": {
          "base_uri": "https://localhost:8080/"
        },
        "id": "zZ_QGPUn_UQk",
        "outputId": "b1537b5c-12ea-40b5-c4ce-52d2b5f409c7"
      },
      "execution_count": 32,
      "outputs": [
        {
          "output_type": "stream",
          "name": "stdout",
          "text": [
            "Writing data.txt\n"
          ]
        }
      ]
    },
    {
      "cell_type": "code",
      "source": [
        "ls"
      ],
      "metadata": {
        "colab": {
          "base_uri": "https://localhost:8080/"
        },
        "id": "BMoEgveV_ozs",
        "outputId": "b1cd29ea-30a7-437e-dc11-353e56bbad1e"
      },
      "execution_count": 33,
      "outputs": [
        {
          "output_type": "stream",
          "name": "stdout",
          "text": [
            "data.txt  \u001b[0m\u001b[01;34msample_data\u001b[0m/\n"
          ]
        }
      ]
    },
    {
      "cell_type": "code",
      "source": [
        "cat data.txt"
      ],
      "metadata": {
        "colab": {
          "base_uri": "https://localhost:8080/"
        },
        "id": "A6drdmpl_p8k",
        "outputId": "868e5b4f-496a-4dbb-8f53-328040f80f54"
      },
      "execution_count": 34,
      "outputs": [
        {
          "output_type": "stream",
          "name": "stdout",
          "text": [
            "1 2 3\n",
            "4 5 6\n",
            "7 8 9\n"
          ]
        }
      ]
    },
    {
      "cell_type": "markdown",
      "source": [
        "map, zip"
      ],
      "metadata": {
        "id": "0-8Wjvzk__ht"
      }
    },
    {
      "cell_type": "code",
      "source": [
        "def make_list(file_name):\n",
        "    with open(file_name, 'r') as d:\n",
        "        data = d.readlines()\n",
        "        data_list = []\n",
        "\n",
        "    for line in data:\n",
        "        numbers = list(map(int, line.strip().split()))\n",
        "        data_list.append(numbers)\n",
        "    result = list(zip(data_list[0],data_list[1],data_list[2]))\n",
        "    return result"
      ],
      "metadata": {
        "id": "441IH3nB_rQW"
      },
      "execution_count": 130,
      "outputs": []
    },
    {
      "cell_type": "code",
      "source": [
        "result = make_list('data.txt')"
      ],
      "metadata": {
        "colab": {
          "base_uri": "https://localhost:8080/",
          "height": 295
        },
        "id": "EUCdZN53DnmC",
        "outputId": "2e79afd5-361f-4e04-f02a-636b886e5d12"
      },
      "execution_count": 131,
      "outputs": [
        {
          "output_type": "error",
          "ename": "TypeError",
          "evalue": "ignored",
          "traceback": [
            "\u001b[0;31m---------------------------------------------------------------------------\u001b[0m",
            "\u001b[0;31mTypeError\u001b[0m                                 Traceback (most recent call last)",
            "\u001b[0;32m<ipython-input-131-8ff6a2768a74>\u001b[0m in \u001b[0;36m<cell line: 1>\u001b[0;34m()\u001b[0m\n\u001b[0;32m----> 1\u001b[0;31m \u001b[0mresult\u001b[0m \u001b[0;34m=\u001b[0m \u001b[0mmake_list\u001b[0m\u001b[0;34m(\u001b[0m\u001b[0;34m'data.txt'\u001b[0m\u001b[0;34m)\u001b[0m\u001b[0;34m\u001b[0m\u001b[0;34m\u001b[0m\u001b[0m\n\u001b[0m",
            "\u001b[0;32m<ipython-input-130-7c737a2434fb>\u001b[0m in \u001b[0;36mmake_list\u001b[0;34m(file_name)\u001b[0m\n\u001b[1;32m      7\u001b[0m         \u001b[0mnumbers\u001b[0m \u001b[0;34m=\u001b[0m \u001b[0mlist\u001b[0m\u001b[0;34m(\u001b[0m\u001b[0mmap\u001b[0m\u001b[0;34m(\u001b[0m\u001b[0mint\u001b[0m\u001b[0;34m,\u001b[0m \u001b[0mline\u001b[0m\u001b[0;34m.\u001b[0m\u001b[0mstrip\u001b[0m\u001b[0;34m(\u001b[0m\u001b[0;34m)\u001b[0m\u001b[0;34m.\u001b[0m\u001b[0msplit\u001b[0m\u001b[0;34m(\u001b[0m\u001b[0;34m)\u001b[0m\u001b[0;34m)\u001b[0m\u001b[0;34m)\u001b[0m\u001b[0;34m\u001b[0m\u001b[0;34m\u001b[0m\u001b[0m\n\u001b[1;32m      8\u001b[0m         \u001b[0mdata_list\u001b[0m\u001b[0;34m.\u001b[0m\u001b[0mappend\u001b[0m\u001b[0;34m(\u001b[0m\u001b[0mnumbers\u001b[0m\u001b[0;34m)\u001b[0m\u001b[0;34m\u001b[0m\u001b[0;34m\u001b[0m\u001b[0m\n\u001b[0;32m----> 9\u001b[0;31m     \u001b[0mresult\u001b[0m \u001b[0;34m=\u001b[0m \u001b[0mlist\u001b[0m\u001b[0;34m(\u001b[0m\u001b[0mzip\u001b[0m\u001b[0;34m(\u001b[0m\u001b[0;34m*\u001b[0m\u001b[0mdata_list\u001b[0m\u001b[0;34m[\u001b[0m\u001b[0;36m0\u001b[0m\u001b[0;34m]\u001b[0m\u001b[0;34m,\u001b[0m\u001b[0;34m*\u001b[0m\u001b[0mdata_list\u001b[0m\u001b[0;34m[\u001b[0m\u001b[0;36m1\u001b[0m\u001b[0;34m]\u001b[0m\u001b[0;34m,\u001b[0m\u001b[0;34m*\u001b[0m\u001b[0mdata_list\u001b[0m\u001b[0;34m[\u001b[0m\u001b[0;36m2\u001b[0m\u001b[0;34m]\u001b[0m\u001b[0;34m)\u001b[0m\u001b[0;34m)\u001b[0m\u001b[0;34m\u001b[0m\u001b[0;34m\u001b[0m\u001b[0m\n\u001b[0m\u001b[1;32m     10\u001b[0m     \u001b[0;32mreturn\u001b[0m \u001b[0mresult\u001b[0m\u001b[0;34m\u001b[0m\u001b[0;34m\u001b[0m\u001b[0m\n",
            "\u001b[0;31mTypeError\u001b[0m: 'int' object is not iterable"
          ]
        }
      ]
    },
    {
      "cell_type": "code",
      "source": [
        "result"
      ],
      "metadata": {
        "colab": {
          "base_uri": "https://localhost:8080/"
        },
        "id": "rm_UOV20JamK",
        "outputId": "c0e7d91d-a607-4e5e-c24f-9f7aea7e4fec"
      },
      "execution_count": 126,
      "outputs": [
        {
          "output_type": "execute_result",
          "data": {
            "text/plain": [
              "[[(1, 4, 7), (2, 5, 8), (3, 6, 9)]]"
            ]
          },
          "metadata": {},
          "execution_count": 126
        }
      ]
    },
    {
      "cell_type": "code",
      "source": [
        "def make_list(file_name):\n",
        "    with open(file_name, 'r') as d:\n",
        "        data = d.readlines()\n",
        "        data_list = []\n",
        "\n",
        "    for line in data:\n",
        "        numbers = list(map(int, line.strip().split()))\n",
        "        data_list.append(numbers)\n",
        "    result = list(map(list, zip(*data_list)))  # 리스트의 원소들을 튜플 대신 리스트로 변환\n",
        "    return result\n",
        "\n",
        "# 함수 호출과 결과 출력\n",
        "result = make_list(\"data.txt\")\n",
        "print(result)"
      ],
      "metadata": {
        "colab": {
          "base_uri": "https://localhost:8080/"
        },
        "id": "BqJ7Y0_DNGNn",
        "outputId": "853a5cb6-381c-45b6-b09e-ad3885cfc7ef"
      },
      "execution_count": 127,
      "outputs": [
        {
          "output_type": "stream",
          "name": "stdout",
          "text": [
            "[[1, 4, 7], [2, 5, 8], [3, 6, 9]]\n"
          ]
        }
      ]
    },
    {
      "cell_type": "code",
      "source": [
        "with open(file_name, 'r') as d:\n",
        "        data = d.readlines()\n",
        "        data_list = []"
      ],
      "metadata": {
        "id": "lBR2gXaHIKKx"
      },
      "execution_count": null,
      "outputs": []
    },
    {
      "cell_type": "code",
      "source": [
        "result[8]"
      ],
      "metadata": {
        "colab": {
          "base_uri": "https://localhost:8080/"
        },
        "id": "LOaEsxygGhOl",
        "outputId": "ab515b6c-48f5-4d72-e77d-de874e84c635"
      },
      "execution_count": 74,
      "outputs": [
        {
          "output_type": "execute_result",
          "data": {
            "text/plain": [
              "9"
            ]
          },
          "metadata": {},
          "execution_count": 74
        }
      ]
    },
    {
      "cell_type": "code",
      "source": [
        "type(result)"
      ],
      "metadata": {
        "colab": {
          "base_uri": "https://localhost:8080/"
        },
        "id": "XNsceh_GGiR-",
        "outputId": "46f9a0d8-f491-4b2a-9476-d314bc036faa"
      },
      "execution_count": 65,
      "outputs": [
        {
          "output_type": "execute_result",
          "data": {
            "text/plain": [
              "list"
            ]
          },
          "metadata": {},
          "execution_count": 65
        }
      ]
    },
    {
      "cell_type": "code",
      "source": [
        "with open('data.txt', 'r') as d:\n",
        "        data = d.readlines()\n",
        "print(data)"
      ],
      "metadata": {
        "colab": {
          "base_uri": "https://localhost:8080/"
        },
        "id": "Fi3GvBqH_sxr",
        "outputId": "6ad38194-fc00-42f7-c6d3-c2da4bd6df80"
      },
      "execution_count": 81,
      "outputs": [
        {
          "output_type": "stream",
          "name": "stdout",
          "text": [
            "['1 2 3\\n', '4 5 6\\n', '7 8 9\\n']\n"
          ]
        }
      ]
    },
    {
      "cell_type": "code",
      "source": [
        "type(data)"
      ],
      "metadata": {
        "colab": {
          "base_uri": "https://localhost:8080/"
        },
        "id": "ox-9ODBTBnzD",
        "outputId": "78331beb-6f94-4571-c1a7-bbac4f9ff24f"
      },
      "execution_count": 82,
      "outputs": [
        {
          "output_type": "execute_result",
          "data": {
            "text/plain": [
              "list"
            ]
          },
          "metadata": {},
          "execution_count": 82
        }
      ]
    },
    {
      "cell_type": "code",
      "source": [
        "data[0][5]"
      ],
      "metadata": {
        "colab": {
          "base_uri": "https://localhost:8080/",
          "height": 36
        },
        "id": "Vq0o-u8LIZxH",
        "outputId": "5c791e7e-62b0-4d70-8f76-e832c0e4a52b"
      },
      "execution_count": 92,
      "outputs": [
        {
          "output_type": "execute_result",
          "data": {
            "text/plain": [
              "'\\n'"
            ],
            "application/vnd.google.colaboratory.intrinsic+json": {
              "type": "string"
            }
          },
          "metadata": {},
          "execution_count": 92
        }
      ]
    },
    {
      "cell_type": "code",
      "source": [
        "def trans_matrix(file_path):\n",
        "    with open(file_path,'r') as f:\n",
        "        matrix = [list(map(int, line.strip().split())) for line in f]\n",
        "        return [list(row) for row in zip(*matrix)]"
      ],
      "metadata": {
        "id": "s7-Q_HCoIdZZ"
      },
      "execution_count": 99,
      "outputs": []
    },
    {
      "cell_type": "code",
      "source": [
        "file_path = 'data.txt'\n",
        "trans_matrix(file_path)"
      ],
      "metadata": {
        "colab": {
          "base_uri": "https://localhost:8080/"
        },
        "id": "PMqmLi3qKJuu",
        "outputId": "a88e0eb9-27c4-4d1a-dd1d-fbaeab378af7"
      },
      "execution_count": 100,
      "outputs": [
        {
          "output_type": "execute_result",
          "data": {
            "text/plain": [
              "[[1, 4, 7], [2, 5, 8], [3, 6, 9]]"
            ]
          },
          "metadata": {},
          "execution_count": 100
        }
      ]
    },
    {
      "cell_type": "code",
      "source": [
        "x = [1,2,3]\n",
        "y = ['a','b','c']\n",
        "z = [10,20,30]"
      ],
      "metadata": {
        "id": "0rps_oJbKNpN"
      },
      "execution_count": 103,
      "outputs": []
    },
    {
      "cell_type": "code",
      "source": [
        "list(zip(x,y,z))"
      ],
      "metadata": {
        "colab": {
          "base_uri": "https://localhost:8080/"
        },
        "id": "WrxKD9m3KXW0",
        "outputId": "775268ae-5232-4d63-e8da-c6a03fa4395d"
      },
      "execution_count": 105,
      "outputs": [
        {
          "output_type": "execute_result",
          "data": {
            "text/plain": [
              "[(1, 'a', 10), (2, 'b', 20), (3, 'c', 30)]"
            ]
          },
          "metadata": {},
          "execution_count": 105
        }
      ]
    },
    {
      "cell_type": "code",
      "source": [
        "[[1,2,3],[4,5,6],[7,8,9]]"
      ],
      "metadata": {
        "colab": {
          "base_uri": "https://localhost:8080/"
        },
        "id": "skedtCr5KYmz",
        "outputId": "06f5fcc3-3913-4789-fdf4-cdbabeb948f3"
      },
      "execution_count": 115,
      "outputs": [
        {
          "output_type": "execute_result",
          "data": {
            "text/plain": [
              "[[1, 2, 3], [4, 5, 6], [7, 8, 9]]"
            ]
          },
          "metadata": {},
          "execution_count": 115
        }
      ]
    },
    {
      "cell_type": "code",
      "source": [
        "list(zip(*[[1,2,3],[4,5,6],[7,8,9]]))"
      ],
      "metadata": {
        "colab": {
          "base_uri": "https://localhost:8080/"
        },
        "id": "stO-q25TLDz9",
        "outputId": "126ad434-e9ab-44ec-d0e9-ccb168acc433"
      },
      "execution_count": 116,
      "outputs": [
        {
          "output_type": "execute_result",
          "data": {
            "text/plain": [
              "[(1, 4, 7), (2, 5, 8), (3, 6, 9)]"
            ]
          },
          "metadata": {},
          "execution_count": 116
        }
      ]
    },
    {
      "cell_type": "code",
      "source": [
        "matrix = [[1,2,3],[4,5,6],[7,8,9]]"
      ],
      "metadata": {
        "id": "Q-jYwc8gLKKb"
      },
      "execution_count": 117,
      "outputs": []
    },
    {
      "cell_type": "code",
      "source": [
        "list(zip([1,2,3],[4,5,6],[7,8,9]))"
      ],
      "metadata": {
        "colab": {
          "base_uri": "https://localhost:8080/"
        },
        "id": "aKZpODpeLPyz",
        "outputId": "6ae3b093-cab7-4c17-f8fd-d5d54c93df1c"
      },
      "execution_count": 118,
      "outputs": [
        {
          "output_type": "execute_result",
          "data": {
            "text/plain": [
              "[(1, 4, 7), (2, 5, 8), (3, 6, 9)]"
            ]
          },
          "metadata": {},
          "execution_count": 118
        }
      ]
    },
    {
      "cell_type": "code",
      "source": [
        "([1,2,3],)"
      ],
      "metadata": {
        "colab": {
          "base_uri": "https://localhost:8080/"
        },
        "id": "Mxg9Q3cZLUDz",
        "outputId": "6660e44c-d4dc-4d2c-82b7-983da8cdfdf4"
      },
      "execution_count": 119,
      "outputs": [
        {
          "output_type": "execute_result",
          "data": {
            "text/plain": [
              "([1, 2, 3],)"
            ]
          },
          "metadata": {},
          "execution_count": 119
        }
      ]
    },
    {
      "cell_type": "code",
      "source": [
        "list(zip(matrix))"
      ],
      "metadata": {
        "colab": {
          "base_uri": "https://localhost:8080/"
        },
        "id": "hziOqXUILpHT",
        "outputId": "976d73f3-7842-4639-cb06-b894539c9f1c"
      },
      "execution_count": 120,
      "outputs": [
        {
          "output_type": "execute_result",
          "data": {
            "text/plain": [
              "[([1, 2, 3],), ([4, 5, 6],), ([7, 8, 9],)]"
            ]
          },
          "metadata": {},
          "execution_count": 120
        }
      ]
    },
    {
      "cell_type": "code",
      "source": [
        "list(zip(*matrix)) #*matrix == [1,2,3],[4,5,6],[7,8,9]"
      ],
      "metadata": {
        "colab": {
          "base_uri": "https://localhost:8080/"
        },
        "id": "-Z2CTLWkLtZ0",
        "outputId": "5c2a0a03-9a8b-4724-af34-6e4ee4496cd1"
      },
      "execution_count": 123,
      "outputs": [
        {
          "output_type": "execute_result",
          "data": {
            "text/plain": [
              "[(1, 4, 7), (2, 5, 8), (3, 6, 9)]"
            ]
          },
          "metadata": {},
          "execution_count": 123
        }
      ]
    },
    {
      "cell_type": "code",
      "source": [
        "def read2d(file1):\n",
        "    with open(file1, 'r') as f:\n",
        "        m = [i.split(' ') for i in f]\n",
        "        list1 = []\n",
        "        for line in m:\n",
        "            for i,j in enumerate(line):\n",
        "                if i >= len(list1):\n",
        "                    list1.append([])\n",
        "                list1[i].append(j)\n",
        "\n",
        "        m = [list(map(int,num)) for num in list1]\n",
        "        return m\n",
        "\n",
        "read2d('data.txt')"
      ],
      "metadata": {
        "colab": {
          "base_uri": "https://localhost:8080/"
        },
        "id": "ZuZWWBW1LxES",
        "outputId": "0b81aa0e-9fb9-40c3-8192-34201ebe5b4b"
      },
      "execution_count": 133,
      "outputs": [
        {
          "output_type": "execute_result",
          "data": {
            "text/plain": [
              "[[1, 4, 7], [2, 5, 8], [3, 6, 9]]"
            ]
          },
          "metadata": {},
          "execution_count": 133
        }
      ]
    },
    {
      "cell_type": "code",
      "source": [
        "with open('data.txt', 'r') as f:\n",
        "        m = [i.split(' ') for i in f]\n",
        "        list1 = []\n",
        "        for line in m:\n",
        "            for i,j in enumerate(line):\n",
        "                if i >= len(list1):\n",
        "                    list1.append([])\n",
        "\n",
        "print(len(list1))"
      ],
      "metadata": {
        "colab": {
          "base_uri": "https://localhost:8080/"
        },
        "id": "0S-l-MsdOpDP",
        "outputId": "71831077-1505-4b2a-c0e1-f876a2e3d690"
      },
      "execution_count": 136,
      "outputs": [
        {
          "output_type": "stream",
          "name": "stdout",
          "text": [
            "3\n"
          ]
        }
      ]
    },
    {
      "cell_type": "code",
      "source": [
        "with open('data.txt', 'r') as f:\n",
        "        m = [i.split(' ') for i in f]\n",
        "        list1 = []\n",
        "        for line in m:\n",
        "            for i,j in enumerate(line):\n",
        "                print(i,j)"
      ],
      "metadata": {
        "colab": {
          "base_uri": "https://localhost:8080/"
        },
        "id": "2Gcs0RgbP4sU",
        "outputId": "a7b89842-5671-4032-f9e7-d1513c022732"
      },
      "execution_count": 137,
      "outputs": [
        {
          "output_type": "stream",
          "name": "stdout",
          "text": [
            "0 1\n",
            "1 2\n",
            "2 3\n",
            "\n",
            "0 4\n",
            "1 5\n",
            "2 6\n",
            "\n",
            "0 7\n",
            "1 8\n",
            "2 9\n",
            "\n"
          ]
        }
      ]
    },
    {
      "cell_type": "code",
      "source": [
        "list1 = []\n",
        "len(list1)"
      ],
      "metadata": {
        "colab": {
          "base_uri": "https://localhost:8080/"
        },
        "id": "B8hyZ6qorkBb",
        "outputId": "5a6a3c8b-543d-40d0-f84a-72512b35b027"
      },
      "execution_count": 138,
      "outputs": [
        {
          "output_type": "execute_result",
          "data": {
            "text/plain": [
              "0"
            ]
          },
          "metadata": {},
          "execution_count": 138
        }
      ]
    },
    {
      "cell_type": "code",
      "source": [
        "data = {\n",
        "'Eoleumgol' : [35.570678, 128.986135],\n",
        "'Bangujeong' : [37.867614, 126.752505], 'Abgujeong':[37.531713, 127.029154],\n",
        "'Guemgangsonamusup': [36.985459, 129.205468],\n",
        "'Heonanseolheonmyo': [37.425569, 127.296012],\n",
        "'Baegdamsa': [38.164890, 128.374023],\n",
        "'Moagsan mileugbul' : [35.723051, 127.053816],\n",
        "'Hailli' : [37.680120, 126.398192],\n",
        "'Ieodo': [32.116883, 125.166683],\n",
        "'Bughansan' : [37.659318, 126.9775415],\n",
        "'Ondalsanseong' : [37.057707, 128.484972],\n",
        "'Cheonglyeongpo' : [37.176118, 128.445583],\n",
        "'Hansanseom' : [34.816761, 128.423040],\n",
        "'Haeinsa' : [35.801479, 128.098052],\n",
        "'Sancheonjae' : [35.275175, 127.849891],\n",
        "'Seomjingang' : [34.963452, 127.760620],\n",
        "'Baegheungam' : [35.994240, 128.778653],\n",
        "'Guksaseonangdang': [37.696354, 128.753741],\n",
        "'Mudeungsan' : [35.134134, 126.988756],\n",
        "'Busanseong' : [36.268112, 126.914802],\n",
        "'Cheolsanri' : [37.808038, 126.450912], 'Odusan' : [37.773131, 126.677203]\n",
        "}"
      ],
      "metadata": {
        "id": "3Juno887rqso"
      },
      "execution_count": 139,
      "outputs": []
    },
    {
      "cell_type": "code",
      "source": [
        "data"
      ],
      "metadata": {
        "colab": {
          "base_uri": "https://localhost:8080/"
        },
        "id": "i8RCG_AZuU5o",
        "outputId": "bca6d605-b802-4c92-8753-3322fed7f1f1"
      },
      "execution_count": 140,
      "outputs": [
        {
          "output_type": "execute_result",
          "data": {
            "text/plain": [
              "{'Eoleumgol': [35.570678, 128.986135],\n",
              " 'Bangujeong': [37.867614, 126.752505],\n",
              " 'Abgujeong': [37.531713, 127.029154],\n",
              " 'Guemgangsonamusup': [36.985459, 129.205468],\n",
              " 'Heonanseolheonmyo': [37.425569, 127.296012],\n",
              " 'Baegdamsa': [38.16489, 128.374023],\n",
              " 'Moagsan mileugbul': [35.723051, 127.053816],\n",
              " 'Hailli': [37.68012, 126.398192],\n",
              " 'Ieodo': [32.116883, 125.166683],\n",
              " 'Bughansan': [37.659318, 126.9775415],\n",
              " 'Ondalsanseong': [37.057707, 128.484972],\n",
              " 'Cheonglyeongpo': [37.176118, 128.445583],\n",
              " 'Hansanseom': [34.816761, 128.42304],\n",
              " 'Haeinsa': [35.801479, 128.098052],\n",
              " 'Sancheonjae': [35.275175, 127.849891],\n",
              " 'Seomjingang': [34.963452, 127.76062],\n",
              " 'Baegheungam': [35.99424, 128.778653],\n",
              " 'Guksaseonangdang': [37.696354, 128.753741],\n",
              " 'Mudeungsan': [35.134134, 126.988756],\n",
              " 'Busanseong': [36.268112, 126.914802],\n",
              " 'Cheolsanri': [37.808038, 126.450912],\n",
              " 'Odusan': [37.773131, 126.677203]}"
            ]
          },
          "metadata": {},
          "execution_count": 140
        }
      ]
    },
    {
      "cell_type": "code",
      "source": [
        "import folium"
      ],
      "metadata": {
        "id": "MM7grMUjvuy7"
      },
      "execution_count": 151,
      "outputs": []
    },
    {
      "cell_type": "code",
      "source": [
        "maps = folium.Map(location = [37.5602, 126.982], zoom_start = 7, tiles = 'cartodbpositron')"
      ],
      "metadata": {
        "id": "NJDxMnxHxcnH"
      },
      "execution_count": 152,
      "outputs": []
    },
    {
      "cell_type": "code",
      "source": [
        "for i in data:\n",
        "    name = i\n",
        "    lat_ = data[i][0]\n",
        "    long_ = data[i][1]\n",
        "    folium.CircleMarker([lat_, long_], radius = 4, popup = name, color = 'red',fill_color = 'red').add_to(maps)"
      ],
      "metadata": {
        "id": "5ZzkGMA5uhsQ"
      },
      "execution_count": 153,
      "outputs": []
    },
    {
      "cell_type": "code",
      "source": [
        "maps.save('tour.html')"
      ],
      "metadata": {
        "id": "K2NoR23ayyzF"
      },
      "execution_count": 154,
      "outputs": []
    },
    {
      "cell_type": "code",
      "source": [
        "ls"
      ],
      "metadata": {
        "colab": {
          "base_uri": "https://localhost:8080/"
        },
        "id": "H_y_8cEey52K",
        "outputId": "1d974121-7817-4bab-954a-c7815e69e4e6"
      },
      "execution_count": 155,
      "outputs": [
        {
          "output_type": "stream",
          "name": "stdout",
          "text": [
            "data.txt  \u001b[0m\u001b[01;34msample_data\u001b[0m/  tour.html\n"
          ]
        }
      ]
    },
    {
      "cell_type": "code",
      "source": [
        "data[name]"
      ],
      "metadata": {
        "colab": {
          "base_uri": "https://localhost:8080/"
        },
        "id": "MkZ76ez0vbDH",
        "outputId": "57f99bfd-cfd3-4fb0-b1da-419d8af22adf"
      },
      "execution_count": 147,
      "outputs": [
        {
          "output_type": "execute_result",
          "data": {
            "text/plain": [
              "[37.773131, 126.677203]"
            ]
          },
          "metadata": {},
          "execution_count": 147
        }
      ]
    },
    {
      "cell_type": "code",
      "source": [
        "name"
      ],
      "metadata": {
        "colab": {
          "base_uri": "https://localhost:8080/",
          "height": 36
        },
        "id": "7yqM7byDwFsk",
        "outputId": "05d115e3-87fa-44da-b2a5-bdae37566ec5"
      },
      "execution_count": 148,
      "outputs": [
        {
          "output_type": "execute_result",
          "data": {
            "text/plain": [
              "'Odusan'"
            ],
            "application/vnd.google.colaboratory.intrinsic+json": {
              "type": "string"
            }
          },
          "metadata": {},
          "execution_count": 148
        }
      ]
    },
    {
      "cell_type": "code",
      "source": [
        "import folium\n",
        "maps = folium.Map(location = [37.5602, 126.982], zoom_start = 7, tiles = 'cartodbpositron')\n",
        "def make_map(data):\n",
        "    for i in data:\n",
        "        name = i\n",
        "        lat_ = data[i][0]\n",
        "        long_ = data[i][1]\n",
        "        folium.CircleMarker([lat_, long_], radius = 4, popup = name, color = 'red',fill_color = 'red').add_to(maps)\n",
        "data1 = {'favorite': [37.542, 127.0565], 'cafe': [37.376, 127.0038], 'beer' : [37.4489,126.9819]}\n",
        "make_map(data1)\n",
        "maps.save('location2.html')"
      ],
      "metadata": {
        "id": "6YJUSqVywMQY"
      },
      "execution_count": 17,
      "outputs": []
    },
    {
      "cell_type": "code",
      "source": [
        "data1 = {'favorite': [37.542, 127.0565], 'cafe': [37.376, 127.0038], 'beer' : [37.4489,126.9819]}"
      ],
      "metadata": {
        "id": "ZR9gFuQG0nYm"
      },
      "execution_count": 21,
      "outputs": []
    },
    {
      "cell_type": "code",
      "source": [
        "make_map(data1)"
      ],
      "metadata": {
        "id": "vcLNA9-r2F03"
      },
      "execution_count": 22,
      "outputs": []
    },
    {
      "cell_type": "code",
      "source": [
        "maps.save('location2.html')"
      ],
      "metadata": {
        "id": "4iE3kIfz2H7U"
      },
      "execution_count": 23,
      "outputs": []
    },
    {
      "cell_type": "code",
      "source": [
        "import folium\n",
        "def map_daa(maps,data):\n",
        "    for item in data:\n",
        "        name = item\n",
        "        latitude = data[item][0]\n",
        "        longitude = data[item][1]\n",
        "        folium.CircleMarker([lat_, long_], radius = 4, popup = name, color = 'red',fill_color = 'red').add_to(maps)\n",
        "        return maps\n",
        "def FoliumMap(data, save_file = 'result.html'):\n",
        "    maps = folium.Map(location = [37.5602, 126.982], zoom_start = 7, tiles = 'cartodbpositron')\n",
        "    map_add(maps, data).save(save_files)"
      ],
      "metadata": {
        "id": "V69YeTTK2UwR"
      },
      "execution_count": 27,
      "outputs": []
    },
    {
      "cell_type": "markdown",
      "source": [
        "#클래스\n",
        "\n",
        "<Introduction to Programing in Python, Robert Sedgewic, Kevin Wayne, Robert Dondero>\n",
        "\n",
        "0. 서두\n",
        " - 파이썬에서는 여러 데이터 타입을 정의하고 있다.\n",
        "\n",
        " - 그러나 이러한 데이터 타입도 우리가 사용하고자 하는 데이터 타입을 모두 제공할 순 없다.\n",
        "\n",
        " - 우리에게 필요한 데이터 타입을 직접 정의할 수 있어야한다.\n",
        "\n",
        "data type = data + functions\n",
        "\n",
        "객체 = 리스트 + 딕셔너리 + 사용자 기능 + 사용자 데이터\n",
        "\n",
        "사용자 정의 데이터 타입이 필요한 예\n",
        "\n",
        "<점프 투 파이썬>"
      ],
      "metadata": {
        "id": "7kGRBsT_8B3v"
      }
    },
    {
      "cell_type": "markdown",
      "source": [
        "계산기 한대를 만들어 보자."
      ],
      "metadata": {
        "id": "Zzu4ZWYK83YI"
      }
    },
    {
      "cell_type": "code",
      "source": [
        "def add(num):\n",
        "    global result\n",
        "    result += num\n",
        "    return result\n",
        "result = 0"
      ],
      "metadata": {
        "id": "qs6OYQui8glu"
      },
      "execution_count": 35,
      "outputs": []
    },
    {
      "cell_type": "code",
      "source": [
        "add(3)"
      ],
      "metadata": {
        "colab": {
          "base_uri": "https://localhost:8080/"
        },
        "id": "jbnLLo9c9L4T",
        "outputId": "3350f5a0-6c50-4c0a-f11e-7a73aa54eb09"
      },
      "execution_count": 36,
      "outputs": [
        {
          "output_type": "execute_result",
          "data": {
            "text/plain": [
              "3"
            ]
          },
          "metadata": {},
          "execution_count": 36
        }
      ]
    },
    {
      "cell_type": "code",
      "source": [
        "add(6)"
      ],
      "metadata": {
        "colab": {
          "base_uri": "https://localhost:8080/"
        },
        "id": "7c9sXvjx9Pyd",
        "outputId": "ea92c32b-3f2d-4a68-9ed6-eec9bf9d2344"
      },
      "execution_count": 37,
      "outputs": [
        {
          "output_type": "execute_result",
          "data": {
            "text/plain": [
              "9"
            ]
          },
          "metadata": {},
          "execution_count": 37
        }
      ]
    },
    {
      "cell_type": "markdown",
      "source": [
        "계산기 두대 만들기"
      ],
      "metadata": {
        "id": "eUPu4LxX9wEz"
      }
    },
    {
      "cell_type": "code",
      "source": [
        "def add1(num):\n",
        "    global result1\n",
        "    if type(num) == int:\n",
        "        global result1\n",
        "        result1 += num\n",
        "        return result1\n",
        "    if num == 'q':\n",
        "        result1 = 0\n",
        "        return result1\n",
        "result1 = 0\n",
        "\n",
        "def add2(num):\n",
        "    global result2\n",
        "    result2 += num\n",
        "    return result2\n",
        "result2 = 0"
      ],
      "metadata": {
        "id": "8spUiE-U9Qlk"
      },
      "execution_count": 73,
      "outputs": []
    },
    {
      "cell_type": "code",
      "source": [
        "print(add1(3))\n",
        "print(add2(10))"
      ],
      "metadata": {
        "colab": {
          "base_uri": "https://localhost:8080/"
        },
        "id": "RDatE9X196TU",
        "outputId": "8f18cac6-7eff-494c-a81e-42a7d45cd96a"
      },
      "execution_count": 44,
      "outputs": [
        {
          "output_type": "stream",
          "name": "stdout",
          "text": [
            "6\n",
            "10\n"
          ]
        }
      ]
    },
    {
      "cell_type": "code",
      "source": [
        "print(add1(4))\n",
        "print(add2(4))"
      ],
      "metadata": {
        "colab": {
          "base_uri": "https://localhost:8080/"
        },
        "id": "WfMf09bN-B44",
        "outputId": "c51ffda4-e69f-452e-e2b7-3fb3e59511f6"
      },
      "execution_count": 45,
      "outputs": [
        {
          "output_type": "stream",
          "name": "stdout",
          "text": [
            "10\n",
            "14\n"
          ]
        }
      ]
    },
    {
      "cell_type": "code",
      "source": [
        "print(add1(3))\n",
        "print(add2(3))"
      ],
      "metadata": {
        "colab": {
          "base_uri": "https://localhost:8080/"
        },
        "id": "Z4whiYBD-dI6",
        "outputId": "90d09353-a2ff-40da-f2e3-8863dab72342"
      },
      "execution_count": 46,
      "outputs": [
        {
          "output_type": "stream",
          "name": "stdout",
          "text": [
            "13\n",
            "17\n"
          ]
        }
      ]
    },
    {
      "cell_type": "code",
      "source": [
        "del result1"
      ],
      "metadata": {
        "id": "C5040MLQ-gA4"
      },
      "execution_count": 47,
      "outputs": []
    },
    {
      "cell_type": "code",
      "source": [
        "del result2"
      ],
      "metadata": {
        "id": "XovR4LKx-hwv"
      },
      "execution_count": 48,
      "outputs": []
    },
    {
      "cell_type": "code",
      "source": [
        "print(add1(3))"
      ],
      "metadata": {
        "colab": {
          "base_uri": "https://localhost:8080/"
        },
        "id": "_Qp0kElP-ixw",
        "outputId": "651b1525-3b26-40e3-843b-6aac511affad"
      },
      "execution_count": 74,
      "outputs": [
        {
          "output_type": "stream",
          "name": "stdout",
          "text": [
            "3\n"
          ]
        }
      ]
    },
    {
      "cell_type": "code",
      "source": [
        "print(add1('q'))"
      ],
      "metadata": {
        "colab": {
          "base_uri": "https://localhost:8080/"
        },
        "id": "JAXcOtdF-j_1",
        "outputId": "b140f4d3-3421-48aa-a10b-432e5caaa769"
      },
      "execution_count": 75,
      "outputs": [
        {
          "output_type": "stream",
          "name": "stdout",
          "text": [
            "0\n"
          ]
        }
      ]
    },
    {
      "cell_type": "code",
      "source": [
        "print(add1(3))"
      ],
      "metadata": {
        "colab": {
          "base_uri": "https://localhost:8080/"
        },
        "id": "6Fdxu2mq-67B",
        "outputId": "fc847aa6-0f07-40e1-8615-1cdebf252a62"
      },
      "execution_count": 76,
      "outputs": [
        {
          "output_type": "stream",
          "name": "stdout",
          "text": [
            "3\n"
          ]
        }
      ]
    },
    {
      "cell_type": "code",
      "source": [
        "print(add1(76))"
      ],
      "metadata": {
        "colab": {
          "base_uri": "https://localhost:8080/"
        },
        "id": "MMBfSBb0_bL4",
        "outputId": "e6b2c157-e0f1-4a62-afa8-3165d77ee2e0"
      },
      "execution_count": 77,
      "outputs": [
        {
          "output_type": "stream",
          "name": "stdout",
          "text": [
            "79\n"
          ]
        }
      ]
    },
    {
      "cell_type": "code",
      "source": [
        "print(add1('q'))"
      ],
      "metadata": {
        "colab": {
          "base_uri": "https://localhost:8080/"
        },
        "id": "65lkpYuE_cqe",
        "outputId": "7cb76376-3ccb-4a8f-cfea-ed87b0ffb9b5"
      },
      "execution_count": 78,
      "outputs": [
        {
          "output_type": "stream",
          "name": "stdout",
          "text": [
            "0\n"
          ]
        }
      ]
    },
    {
      "cell_type": "code",
      "source": [
        "class Calculator:\n",
        "    def __init__(self):\n",
        "        self.result = 0\n",
        "    def add(self, num):\n",
        "        self.result += num\n",
        "        return self.result\n",
        "\n",
        "cal1 = Calculator()           #가능한 이유 함수는 데이터를 통과하게 하는거지 데이터가 바뀌게 하지 않음\n",
        "cal2 = Calculator()           #클래스는 가능하게 함\n",
        "\n",
        "print(cal1.add(3))\n",
        "print(cal1.add(4))\n",
        "print(cal2.add(10))\n",
        "print(cal2.add(4))"
      ],
      "metadata": {
        "colab": {
          "base_uri": "https://localhost:8080/"
        },
        "id": "nM7xFOJv_ee5",
        "outputId": "1d13630c-8814-4e3c-daf2-538f570794a2"
      },
      "execution_count": 91,
      "outputs": [
        {
          "output_type": "stream",
          "name": "stdout",
          "text": [
            "3\n",
            "7\n",
            "10\n",
            "14\n"
          ]
        }
      ]
    },
    {
      "cell_type": "code",
      "source": [
        "cal1.add(3)"
      ],
      "metadata": {
        "colab": {
          "base_uri": "https://localhost:8080/"
        },
        "id": "QvHir5ad_9Nx",
        "outputId": "8bc2e56c-8347-4ae4-ffaf-daaf810da0fd"
      },
      "execution_count": 82,
      "outputs": [
        {
          "output_type": "execute_result",
          "data": {
            "text/plain": [
              "3"
            ]
          },
          "metadata": {},
          "execution_count": 82
        }
      ]
    },
    {
      "cell_type": "code",
      "source": [
        "cal1.add(4)"
      ],
      "metadata": {
        "colab": {
          "base_uri": "https://localhost:8080/"
        },
        "id": "MkKfdRXZ_-vU",
        "outputId": "60106046-78a0-4eeb-a365-c9718879a9d5"
      },
      "execution_count": 83,
      "outputs": [
        {
          "output_type": "execute_result",
          "data": {
            "text/plain": [
              "7"
            ]
          },
          "metadata": {},
          "execution_count": 83
        }
      ]
    },
    {
      "cell_type": "code",
      "source": [
        "cal2 = Calculator()\n",
        "cal2.add(10)"
      ],
      "metadata": {
        "colab": {
          "base_uri": "https://localhost:8080/"
        },
        "id": "081eFfkpAE2t",
        "outputId": "18ce264f-a158-4694-e1bc-c40484b957f4"
      },
      "execution_count": 84,
      "outputs": [
        {
          "output_type": "execute_result",
          "data": {
            "text/plain": [
              "10"
            ]
          },
          "metadata": {},
          "execution_count": 84
        }
      ]
    },
    {
      "cell_type": "code",
      "source": [
        "cal2.add(4)"
      ],
      "metadata": {
        "colab": {
          "base_uri": "https://localhost:8080/"
        },
        "id": "f9BIrChqAKO9",
        "outputId": "be0f0cf7-3526-4d22-a876-a6a90e001ceb"
      },
      "execution_count": 85,
      "outputs": [
        {
          "output_type": "execute_result",
          "data": {
            "text/plain": [
              "14"
            ]
          },
          "metadata": {},
          "execution_count": 85
        }
      ]
    },
    {
      "cell_type": "markdown",
      "source": [
        "#2. 데이터 타입\n",
        "\n",
        " - 데이터 타입은 일련의 데티거 값과 이 값에 정의된 일련의 연산이다.\n",
        "\n",
        " - 파이썬에서 데이터 타입은 클래스를 이용해 구현한다. == 클래스는 객체를 만든다.\n",
        "\n",
        " - 데이터 타입의 정의할 때는 먼저 API 를 정의해야한다.\n",
        "\n",
        " - 어떠한 데이터 타입을 구현하든 시작은 모두 API이다."
      ],
      "metadata": {
        "id": "fG-i0JV5BfWU"
      }
    },
    {
      "cell_type": "markdown",
      "source": [
        "#3.API\n",
        "\n",
        " - API는 모듈화 프로그래밍에서 구현(implementation)과 모든 클라이언트 간의 계약이다.\n",
        "\n",
        " - 구현: 재사용하기 위해 만들어진 일련의 함수 코드를 지칭, 모듈은 일종의 구현이다.\n",
        "\n",
        " - 클라이언트: 구현된 모듈을 이용하는 프로그램\n",
        "\n",
        " - 클라이언트를 작성할 수 있는 이유 : 모듈에서 사용할 함수 시그니처와 함께 함수가 어떤 일을 하는지 설명한 비공식적인 계약 사항이 명시되어 있었기 때문이다.\n",
        "\n",
        " - 이러한 정보를 통틀어 애플리케이션 프로그래밍 인터페이스(API)라 한다.\n",
        "\n",
        " - 클라이언트가 데이터 타입을 사용하는 방법을 정리한 일련의 연산 명세서\n",
        "\n",
        "#API 사용 예제\n",
        "\n",
        " 모듈과 클라이언트 관계에서 API는 두 관계 사이의 계약명세서"
      ],
      "metadata": {
        "id": "XDQm88LQB60s"
      }
    },
    {
      "cell_type": "code",
      "source": [
        "url = 'http://www.kobis.or.kr/kobisopenapi/webservice/rest/boxoffice/searchDailyBoxOfficeList.json?key=c3a0fa760324363ef7cde2afa0d73297&targetDt=20230722'"
      ],
      "metadata": {
        "id": "_nZ7Cbf3AY9X"
      },
      "execution_count": 92,
      "outputs": []
    },
    {
      "cell_type": "code",
      "source": [
        "import requests"
      ],
      "metadata": {
        "id": "tVegw0ZkDW4z"
      },
      "execution_count": 93,
      "outputs": []
    },
    {
      "cell_type": "code",
      "source": [
        "resp = requests.get(url)"
      ],
      "metadata": {
        "id": "0Kj7M3w_D5rB"
      },
      "execution_count": 94,
      "outputs": []
    },
    {
      "cell_type": "code",
      "source": [
        "resp"
      ],
      "metadata": {
        "colab": {
          "base_uri": "https://localhost:8080/"
        },
        "id": "goU9og3nEAKz",
        "outputId": "aa555de0-2316-49a0-9dd0-ae16a746fd3f"
      },
      "execution_count": 95,
      "outputs": [
        {
          "output_type": "execute_result",
          "data": {
            "text/plain": [
              "<Response [200]>"
            ]
          },
          "metadata": {},
          "execution_count": 95
        }
      ]
    },
    {
      "cell_type": "markdown",
      "source": [
        "![image.png](data:image/png;base64,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)"
      ],
      "metadata": {
        "id": "G0zdiJYUEPla"
      }
    },
    {
      "cell_type": "code",
      "source": [
        "type(resp)"
      ],
      "metadata": {
        "colab": {
          "base_uri": "https://localhost:8080/"
        },
        "id": "Nqsq-hMCEGL-",
        "outputId": "d8fbc611-8f88-423b-f517-d51a389502ba"
      },
      "execution_count": 96,
      "outputs": [
        {
          "output_type": "execute_result",
          "data": {
            "text/plain": [
              "requests.models.Response"
            ]
          },
          "metadata": {},
          "execution_count": 96
        }
      ]
    },
    {
      "cell_type": "code",
      "source": [
        "ls sample_data"
      ],
      "metadata": {
        "colab": {
          "base_uri": "https://localhost:8080/"
        },
        "id": "xypyJIvxGM7q",
        "outputId": "d437714f-ab94-4631-ce80-ec1f2043c1f4"
      },
      "execution_count": 97,
      "outputs": [
        {
          "output_type": "stream",
          "name": "stdout",
          "text": [
            "\u001b[0m\u001b[01;32manscombe.json\u001b[0m*                mnist_test.csv\n",
            "california_housing_test.csv   mnist_train_small.csv\n",
            "california_housing_train.csv  \u001b[01;32mREADME.md\u001b[0m*\n"
          ]
        }
      ]
    },
    {
      "cell_type": "code",
      "source": [
        "more ./sample_data/anscombe.json"
      ],
      "metadata": {
        "id": "HIEBBEgHGtdt"
      },
      "execution_count": 98,
      "outputs": []
    },
    {
      "cell_type": "code",
      "source": [
        "data = resp.json()"
      ],
      "metadata": {
        "id": "4aFmm3oUGzmF"
      },
      "execution_count": 99,
      "outputs": []
    },
    {
      "cell_type": "code",
      "source": [
        "data.keys()"
      ],
      "metadata": {
        "colab": {
          "base_uri": "https://localhost:8080/"
        },
        "id": "iXa-dxrKHIKD",
        "outputId": "e911f608-d6c9-4f2c-8fa2-ccb023555f71"
      },
      "execution_count": 101,
      "outputs": [
        {
          "output_type": "execute_result",
          "data": {
            "text/plain": [
              "dict_keys(['boxOfficeResult'])"
            ]
          },
          "metadata": {},
          "execution_count": 101
        }
      ]
    },
    {
      "cell_type": "code",
      "source": [
        "data['boxOfficeResult']"
      ],
      "metadata": {
        "colab": {
          "base_uri": "https://localhost:8080/"
        },
        "id": "ukKSfBWcKStg",
        "outputId": "1f82b7b3-3d6d-4f6b-9a8a-d0d0b99be8af"
      },
      "execution_count": 106,
      "outputs": [
        {
          "output_type": "execute_result",
          "data": {
            "text/plain": [
              "{'boxofficeType': '일별 박스오피스',\n",
              " 'showRange': '20230722~20230722',\n",
              " 'dailyBoxOfficeList': [{'rnum': '1',\n",
              "   'rank': '1',\n",
              "   'rankInten': '0',\n",
              "   'rankOldAndNew': 'OLD',\n",
              "   'movieCd': '20232631',\n",
              "   'movieNm': '미션 임파서블: 데드 레코닝 PART ONE',\n",
              "   'openDt': '2023-07-12',\n",
              "   'salesAmt': '3114675151',\n",
              "   'salesShare': '40.1',\n",
              "   'salesInten': '1704566518',\n",
              "   'salesChange': '120.9',\n",
              "   'salesAcc': '27134016987',\n",
              "   'audiCnt': '298529',\n",
              "   'audiInten': '157183',\n",
              "   'audiChange': '111.2',\n",
              "   'audiAcc': '2670878',\n",
              "   'scrnCnt': '1616',\n",
              "   'showCnt': '6003'},\n",
              "  {'rnum': '2',\n",
              "   'rank': '2',\n",
              "   'rankInten': '0',\n",
              "   'rankOldAndNew': 'OLD',\n",
              "   'movieCd': '20228930',\n",
              "   'movieNm': '엘리멘탈',\n",
              "   'openDt': '2023-06-14',\n",
              "   'salesAmt': '1961161558',\n",
              "   'salesShare': '25.2',\n",
              "   'salesInten': '1120354557',\n",
              "   'salesChange': '133.2',\n",
              "   'salesAcc': '47795365549',\n",
              "   'audiCnt': '196242',\n",
              "   'audiInten': '109218',\n",
              "   'audiChange': '125.5',\n",
              "   'audiAcc': '4838735',\n",
              "   'scrnCnt': '1163',\n",
              "   'showCnt': '4159'},\n",
              "  {'rnum': '3',\n",
              "   'rank': '3',\n",
              "   'rankInten': '0',\n",
              "   'rankOldAndNew': 'OLD',\n",
              "   'movieCd': '20232536',\n",
              "   'movieNm': '명탐정코난: 흑철의 어영',\n",
              "   'openDt': '2023-07-20',\n",
              "   'salesAmt': '861023166',\n",
              "   'salesShare': '11.1',\n",
              "   'salesInten': '162100905',\n",
              "   'salesChange': '23.2',\n",
              "   'salesAcc': '2670823446',\n",
              "   'audiCnt': '86316',\n",
              "   'audiInten': '8682',\n",
              "   'audiChange': '11.2',\n",
              "   'audiAcc': '286536',\n",
              "   'scrnCnt': '952',\n",
              "   'showCnt': '2843'},\n",
              "  {'rnum': '4',\n",
              "   'rank': '4',\n",
              "   'rankInten': '0',\n",
              "   'rankOldAndNew': 'OLD',\n",
              "   'movieCd': '20232740',\n",
              "   'movieNm': '바비',\n",
              "   'openDt': '2023-07-19',\n",
              "   'salesAmt': '602718082',\n",
              "   'salesShare': '7.8',\n",
              "   'salesInten': '198630331',\n",
              "   'salesChange': '49.2',\n",
              "   'salesAcc': '1927260837',\n",
              "   'audiCnt': '58479',\n",
              "   'audiInten': '13393',\n",
              "   'audiChange': '29.7',\n",
              "   'audiAcc': '206831',\n",
              "   'scrnCnt': '767',\n",
              "   'showCnt': '2111'},\n",
              "  {'rnum': '5',\n",
              "   'rank': '5',\n",
              "   'rankInten': '0',\n",
              "   'rankOldAndNew': 'OLD',\n",
              "   'movieCd': '20232778',\n",
              "   'movieNm': '인시디어스: 빨간 문',\n",
              "   'openDt': '2023-07-19',\n",
              "   'salesAmt': '584435883',\n",
              "   'salesShare': '7.5',\n",
              "   'salesInten': '190259819',\n",
              "   'salesChange': '48.3',\n",
              "   'salesAcc': '1918873210',\n",
              "   'audiCnt': '54968',\n",
              "   'audiInten': '14945',\n",
              "   'audiChange': '37.3',\n",
              "   'audiAcc': '193018',\n",
              "   'scrnCnt': '750',\n",
              "   'showCnt': '1751'},\n",
              "  {'rnum': '6',\n",
              "   'rank': '6',\n",
              "   'rankInten': '2',\n",
              "   'rankOldAndNew': 'OLD',\n",
              "   'movieCd': '20232639',\n",
              "   'movieNm': '극장판 슈퍼윙스: 맥시멈 스피드',\n",
              "   'openDt': '2023-07-20',\n",
              "   'salesAmt': '144330834',\n",
              "   'salesShare': '1.9',\n",
              "   'salesInten': '103808680',\n",
              "   'salesChange': '256.2',\n",
              "   'salesAcc': '271779392',\n",
              "   'audiCnt': '15626',\n",
              "   'audiInten': '10820',\n",
              "   'audiChange': '225.1',\n",
              "   'audiAcc': '30469',\n",
              "   'scrnCnt': '403',\n",
              "   'showCnt': '495'},\n",
              "  {'rnum': '7',\n",
              "   'rank': '7',\n",
              "   'rankInten': '-1',\n",
              "   'rankOldAndNew': 'OLD',\n",
              "   'movieCd': '20219331',\n",
              "   'movieNm': '여름날 우리',\n",
              "   'openDt': '2021-08-25',\n",
              "   'salesAmt': '121832214',\n",
              "   'salesShare': '1.6',\n",
              "   'salesInten': '40288936',\n",
              "   'salesChange': '49.4',\n",
              "   'salesAcc': '3060943427',\n",
              "   'audiCnt': '11749',\n",
              "   'audiInten': '3114',\n",
              "   'audiChange': '36.1',\n",
              "   'audiAcc': '312083',\n",
              "   'scrnCnt': '216',\n",
              "   'showCnt': '356'},\n",
              "  {'rnum': '8',\n",
              "   'rank': '8',\n",
              "   'rankInten': '1',\n",
              "   'rankOldAndNew': 'OLD',\n",
              "   'movieCd': '20232556',\n",
              "   'movieNm': '슈퍼 키드 헤일리',\n",
              "   'openDt': '2023-07-20',\n",
              "   'salesAmt': '57563156',\n",
              "   'salesShare': '0.7',\n",
              "   'salesInten': '20868986',\n",
              "   'salesChange': '56.9',\n",
              "   'salesAcc': '116594853',\n",
              "   'audiCnt': '6057',\n",
              "   'audiInten': '2170',\n",
              "   'audiChange': '55.8',\n",
              "   'audiAcc': '12641',\n",
              "   'scrnCnt': '176',\n",
              "   'showCnt': '194'},\n",
              "  {'rnum': '9',\n",
              "   'rank': '9',\n",
              "   'rankInten': '2',\n",
              "   'rankOldAndNew': 'OLD',\n",
              "   'movieCd': '20226411',\n",
              "   'movieNm': '범죄도시3',\n",
              "   'openDt': '2023-05-31',\n",
              "   'salesAmt': '38454011',\n",
              "   'salesShare': '0.5',\n",
              "   'salesInten': '14144525',\n",
              "   'salesChange': '58.2',\n",
              "   'salesAcc': '104579255059',\n",
              "   'audiCnt': '4464',\n",
              "   'audiInten': '1488',\n",
              "   'audiChange': '50',\n",
              "   'audiAcc': '10669812',\n",
              "   'scrnCnt': '177',\n",
              "   'showCnt': '220'},\n",
              "  {'rnum': '10',\n",
              "   'rank': '10',\n",
              "   'rankInten': '-3',\n",
              "   'rankOldAndNew': 'OLD',\n",
              "   'movieCd': '20218541',\n",
              "   'movieNm': '밀수',\n",
              "   'openDt': '2023-07-26',\n",
              "   'salesAmt': '49151500',\n",
              "   'salesShare': '0.6',\n",
              "   'salesInten': '-3051500',\n",
              "   'salesChange': '-5.8',\n",
              "   'salesAcc': '383758500',\n",
              "   'audiCnt': '4282',\n",
              "   'audiInten': '-1185',\n",
              "   'audiChange': '-21.7',\n",
              "   'audiAcc': '38615',\n",
              "   'scrnCnt': '13',\n",
              "   'showCnt': '14'}]}"
            ]
          },
          "metadata": {},
          "execution_count": 106
        }
      ]
    },
    {
      "cell_type": "code",
      "source": [
        "type(data['boxOfficeResult'])"
      ],
      "metadata": {
        "colab": {
          "base_uri": "https://localhost:8080/"
        },
        "id": "v1TuBx5BHKDD",
        "outputId": "b18ac337-a91b-47c4-f5da-dce2183203f6"
      },
      "execution_count": 105,
      "outputs": [
        {
          "output_type": "execute_result",
          "data": {
            "text/plain": [
              "dict"
            ]
          },
          "metadata": {},
          "execution_count": 105
        }
      ]
    },
    {
      "cell_type": "code",
      "source": [
        "data['boxOfficeResult'].keys()"
      ],
      "metadata": {
        "colab": {
          "base_uri": "https://localhost:8080/"
        },
        "id": "yQq-Yuy_Jxna",
        "outputId": "303132d9-4bb5-408c-c93c-1199e69c6622"
      },
      "execution_count": 108,
      "outputs": [
        {
          "output_type": "execute_result",
          "data": {
            "text/plain": [
              "dict_keys(['boxofficeType', 'showRange', 'dailyBoxOfficeList'])"
            ]
          },
          "metadata": {},
          "execution_count": 108
        }
      ]
    },
    {
      "cell_type": "code",
      "source": [
        "data['boxOfficeResult']['boxofficeType']"
      ],
      "metadata": {
        "colab": {
          "base_uri": "https://localhost:8080/",
          "height": 36
        },
        "id": "Yk-F6s_UKX1Y",
        "outputId": "0336a2b7-23a6-41f9-d036-215c72f8bea1"
      },
      "execution_count": 109,
      "outputs": [
        {
          "output_type": "execute_result",
          "data": {
            "text/plain": [
              "'일별 박스오피스'"
            ],
            "application/vnd.google.colaboratory.intrinsic+json": {
              "type": "string"
            }
          },
          "metadata": {},
          "execution_count": 109
        }
      ]
    },
    {
      "cell_type": "code",
      "source": [
        "data['boxOfficeResult']['showRange']"
      ],
      "metadata": {
        "colab": {
          "base_uri": "https://localhost:8080/",
          "height": 36
        },
        "id": "e58uEEt2KhmZ",
        "outputId": "81374956-4f6f-4ec2-f1e1-85e63ae807f9"
      },
      "execution_count": 110,
      "outputs": [
        {
          "output_type": "execute_result",
          "data": {
            "text/plain": [
              "'20230722~20230722'"
            ],
            "application/vnd.google.colaboratory.intrinsic+json": {
              "type": "string"
            }
          },
          "metadata": {},
          "execution_count": 110
        }
      ]
    },
    {
      "cell_type": "code",
      "source": [
        "data['boxOfficeResult']['dailyBoxOfficeList']"
      ],
      "metadata": {
        "colab": {
          "base_uri": "https://localhost:8080/"
        },
        "id": "V5rLRhfUKsQi",
        "outputId": "a7c45c32-6876-4b09-c4eb-2f16143e686f"
      },
      "execution_count": 111,
      "outputs": [
        {
          "output_type": "execute_result",
          "data": {
            "text/plain": [
              "[{'rnum': '1',\n",
              "  'rank': '1',\n",
              "  'rankInten': '0',\n",
              "  'rankOldAndNew': 'OLD',\n",
              "  'movieCd': '20232631',\n",
              "  'movieNm': '미션 임파서블: 데드 레코닝 PART ONE',\n",
              "  'openDt': '2023-07-12',\n",
              "  'salesAmt': '3114675151',\n",
              "  'salesShare': '40.1',\n",
              "  'salesInten': '1704566518',\n",
              "  'salesChange': '120.9',\n",
              "  'salesAcc': '27134016987',\n",
              "  'audiCnt': '298529',\n",
              "  'audiInten': '157183',\n",
              "  'audiChange': '111.2',\n",
              "  'audiAcc': '2670878',\n",
              "  'scrnCnt': '1616',\n",
              "  'showCnt': '6003'},\n",
              " {'rnum': '2',\n",
              "  'rank': '2',\n",
              "  'rankInten': '0',\n",
              "  'rankOldAndNew': 'OLD',\n",
              "  'movieCd': '20228930',\n",
              "  'movieNm': '엘리멘탈',\n",
              "  'openDt': '2023-06-14',\n",
              "  'salesAmt': '1961161558',\n",
              "  'salesShare': '25.2',\n",
              "  'salesInten': '1120354557',\n",
              "  'salesChange': '133.2',\n",
              "  'salesAcc': '47795365549',\n",
              "  'audiCnt': '196242',\n",
              "  'audiInten': '109218',\n",
              "  'audiChange': '125.5',\n",
              "  'audiAcc': '4838735',\n",
              "  'scrnCnt': '1163',\n",
              "  'showCnt': '4159'},\n",
              " {'rnum': '3',\n",
              "  'rank': '3',\n",
              "  'rankInten': '0',\n",
              "  'rankOldAndNew': 'OLD',\n",
              "  'movieCd': '20232536',\n",
              "  'movieNm': '명탐정코난: 흑철의 어영',\n",
              "  'openDt': '2023-07-20',\n",
              "  'salesAmt': '861023166',\n",
              "  'salesShare': '11.1',\n",
              "  'salesInten': '162100905',\n",
              "  'salesChange': '23.2',\n",
              "  'salesAcc': '2670823446',\n",
              "  'audiCnt': '86316',\n",
              "  'audiInten': '8682',\n",
              "  'audiChange': '11.2',\n",
              "  'audiAcc': '286536',\n",
              "  'scrnCnt': '952',\n",
              "  'showCnt': '2843'},\n",
              " {'rnum': '4',\n",
              "  'rank': '4',\n",
              "  'rankInten': '0',\n",
              "  'rankOldAndNew': 'OLD',\n",
              "  'movieCd': '20232740',\n",
              "  'movieNm': '바비',\n",
              "  'openDt': '2023-07-19',\n",
              "  'salesAmt': '602718082',\n",
              "  'salesShare': '7.8',\n",
              "  'salesInten': '198630331',\n",
              "  'salesChange': '49.2',\n",
              "  'salesAcc': '1927260837',\n",
              "  'audiCnt': '58479',\n",
              "  'audiInten': '13393',\n",
              "  'audiChange': '29.7',\n",
              "  'audiAcc': '206831',\n",
              "  'scrnCnt': '767',\n",
              "  'showCnt': '2111'},\n",
              " {'rnum': '5',\n",
              "  'rank': '5',\n",
              "  'rankInten': '0',\n",
              "  'rankOldAndNew': 'OLD',\n",
              "  'movieCd': '20232778',\n",
              "  'movieNm': '인시디어스: 빨간 문',\n",
              "  'openDt': '2023-07-19',\n",
              "  'salesAmt': '584435883',\n",
              "  'salesShare': '7.5',\n",
              "  'salesInten': '190259819',\n",
              "  'salesChange': '48.3',\n",
              "  'salesAcc': '1918873210',\n",
              "  'audiCnt': '54968',\n",
              "  'audiInten': '14945',\n",
              "  'audiChange': '37.3',\n",
              "  'audiAcc': '193018',\n",
              "  'scrnCnt': '750',\n",
              "  'showCnt': '1751'},\n",
              " {'rnum': '6',\n",
              "  'rank': '6',\n",
              "  'rankInten': '2',\n",
              "  'rankOldAndNew': 'OLD',\n",
              "  'movieCd': '20232639',\n",
              "  'movieNm': '극장판 슈퍼윙스: 맥시멈 스피드',\n",
              "  'openDt': '2023-07-20',\n",
              "  'salesAmt': '144330834',\n",
              "  'salesShare': '1.9',\n",
              "  'salesInten': '103808680',\n",
              "  'salesChange': '256.2',\n",
              "  'salesAcc': '271779392',\n",
              "  'audiCnt': '15626',\n",
              "  'audiInten': '10820',\n",
              "  'audiChange': '225.1',\n",
              "  'audiAcc': '30469',\n",
              "  'scrnCnt': '403',\n",
              "  'showCnt': '495'},\n",
              " {'rnum': '7',\n",
              "  'rank': '7',\n",
              "  'rankInten': '-1',\n",
              "  'rankOldAndNew': 'OLD',\n",
              "  'movieCd': '20219331',\n",
              "  'movieNm': '여름날 우리',\n",
              "  'openDt': '2021-08-25',\n",
              "  'salesAmt': '121832214',\n",
              "  'salesShare': '1.6',\n",
              "  'salesInten': '40288936',\n",
              "  'salesChange': '49.4',\n",
              "  'salesAcc': '3060943427',\n",
              "  'audiCnt': '11749',\n",
              "  'audiInten': '3114',\n",
              "  'audiChange': '36.1',\n",
              "  'audiAcc': '312083',\n",
              "  'scrnCnt': '216',\n",
              "  'showCnt': '356'},\n",
              " {'rnum': '8',\n",
              "  'rank': '8',\n",
              "  'rankInten': '1',\n",
              "  'rankOldAndNew': 'OLD',\n",
              "  'movieCd': '20232556',\n",
              "  'movieNm': '슈퍼 키드 헤일리',\n",
              "  'openDt': '2023-07-20',\n",
              "  'salesAmt': '57563156',\n",
              "  'salesShare': '0.7',\n",
              "  'salesInten': '20868986',\n",
              "  'salesChange': '56.9',\n",
              "  'salesAcc': '116594853',\n",
              "  'audiCnt': '6057',\n",
              "  'audiInten': '2170',\n",
              "  'audiChange': '55.8',\n",
              "  'audiAcc': '12641',\n",
              "  'scrnCnt': '176',\n",
              "  'showCnt': '194'},\n",
              " {'rnum': '9',\n",
              "  'rank': '9',\n",
              "  'rankInten': '2',\n",
              "  'rankOldAndNew': 'OLD',\n",
              "  'movieCd': '20226411',\n",
              "  'movieNm': '범죄도시3',\n",
              "  'openDt': '2023-05-31',\n",
              "  'salesAmt': '38454011',\n",
              "  'salesShare': '0.5',\n",
              "  'salesInten': '14144525',\n",
              "  'salesChange': '58.2',\n",
              "  'salesAcc': '104579255059',\n",
              "  'audiCnt': '4464',\n",
              "  'audiInten': '1488',\n",
              "  'audiChange': '50',\n",
              "  'audiAcc': '10669812',\n",
              "  'scrnCnt': '177',\n",
              "  'showCnt': '220'},\n",
              " {'rnum': '10',\n",
              "  'rank': '10',\n",
              "  'rankInten': '-3',\n",
              "  'rankOldAndNew': 'OLD',\n",
              "  'movieCd': '20218541',\n",
              "  'movieNm': '밀수',\n",
              "  'openDt': '2023-07-26',\n",
              "  'salesAmt': '49151500',\n",
              "  'salesShare': '0.6',\n",
              "  'salesInten': '-3051500',\n",
              "  'salesChange': '-5.8',\n",
              "  'salesAcc': '383758500',\n",
              "  'audiCnt': '4282',\n",
              "  'audiInten': '-1185',\n",
              "  'audiChange': '-21.7',\n",
              "  'audiAcc': '38615',\n",
              "  'scrnCnt': '13',\n",
              "  'showCnt': '14'}]"
            ]
          },
          "metadata": {},
          "execution_count": 111
        }
      ]
    },
    {
      "cell_type": "code",
      "source": [
        "type(data['boxOfficeResult']['dailyBoxOfficeList'])"
      ],
      "metadata": {
        "colab": {
          "base_uri": "https://localhost:8080/"
        },
        "id": "DyNeaYwFKztf",
        "outputId": "9b4946e8-4297-49de-b03f-d7e4bbf40fae"
      },
      "execution_count": 112,
      "outputs": [
        {
          "output_type": "execute_result",
          "data": {
            "text/plain": [
              "list"
            ]
          },
          "metadata": {},
          "execution_count": 112
        }
      ]
    },
    {
      "cell_type": "code",
      "source": [
        "len(data['boxOfficeResult']['dailyBoxOfficeList'])"
      ],
      "metadata": {
        "colab": {
          "base_uri": "https://localhost:8080/"
        },
        "id": "gamlwINPK6iA",
        "outputId": "578fedc7-e3ad-4015-98ba-0c4d580ed69b"
      },
      "execution_count": 113,
      "outputs": [
        {
          "output_type": "execute_result",
          "data": {
            "text/plain": [
              "10"
            ]
          },
          "metadata": {},
          "execution_count": 113
        }
      ]
    },
    {
      "cell_type": "code",
      "source": [
        "data['boxOfficeResult']['dailyBoxOfficeList'][1]"
      ],
      "metadata": {
        "colab": {
          "base_uri": "https://localhost:8080/"
        },
        "id": "Tz8EXU4IMBwV",
        "outputId": "e164b501-27e3-47cc-e3cd-15e321343d83"
      },
      "execution_count": 116,
      "outputs": [
        {
          "output_type": "execute_result",
          "data": {
            "text/plain": [
              "{'rnum': '2',\n",
              " 'rank': '2',\n",
              " 'rankInten': '0',\n",
              " 'rankOldAndNew': 'OLD',\n",
              " 'movieCd': '20228930',\n",
              " 'movieNm': '엘리멘탈',\n",
              " 'openDt': '2023-06-14',\n",
              " 'salesAmt': '1961161558',\n",
              " 'salesShare': '25.2',\n",
              " 'salesInten': '1120354557',\n",
              " 'salesChange': '133.2',\n",
              " 'salesAcc': '47795365549',\n",
              " 'audiCnt': '196242',\n",
              " 'audiInten': '109218',\n",
              " 'audiChange': '125.5',\n",
              " 'audiAcc': '4838735',\n",
              " 'scrnCnt': '1163',\n",
              " 'showCnt': '4159'}"
            ]
          },
          "metadata": {},
          "execution_count": 116
        }
      ]
    },
    {
      "cell_type": "code",
      "source": [
        "type(data['boxOfficeResult']['dailyBoxOfficeList'][0])"
      ],
      "metadata": {
        "colab": {
          "base_uri": "https://localhost:8080/"
        },
        "id": "HrNh6ffRMEoc",
        "outputId": "33c574bd-140e-4008-a095-3632218725e9"
      },
      "execution_count": 115,
      "outputs": [
        {
          "output_type": "execute_result",
          "data": {
            "text/plain": [
              "dict"
            ]
          },
          "metadata": {},
          "execution_count": 115
        }
      ]
    },
    {
      "cell_type": "code",
      "source": [
        "result = data['boxOfficeResult']['dailyBoxOfficeList'][0]"
      ],
      "metadata": {
        "id": "O6YhJm-EMIga"
      },
      "execution_count": 133,
      "outputs": []
    },
    {
      "cell_type": "code",
      "source": [
        "result['rank']"
      ],
      "metadata": {
        "colab": {
          "base_uri": "https://localhost:8080/",
          "height": 36
        },
        "id": "pOP2w7XROXg7",
        "outputId": "826bbaa0-2cbf-4b26-f675-0c909d7a237e"
      },
      "execution_count": 137,
      "outputs": [
        {
          "output_type": "execute_result",
          "data": {
            "text/plain": [
              "'1'"
            ],
            "application/vnd.google.colaboratory.intrinsic+json": {
              "type": "string"
            }
          },
          "metadata": {},
          "execution_count": 137
        }
      ]
    },
    {
      "cell_type": "code",
      "source": [
        "type(result.keys())"
      ],
      "metadata": {
        "colab": {
          "base_uri": "https://localhost:8080/"
        },
        "id": "IZl48_HOMwA-",
        "outputId": "67383165-7cca-4388-dfb9-09b243de0b72"
      },
      "execution_count": 120,
      "outputs": [
        {
          "output_type": "execute_result",
          "data": {
            "text/plain": [
              "dict_keys"
            ]
          },
          "metadata": {},
          "execution_count": 120
        }
      ]
    },
    {
      "cell_type": "code",
      "source": [
        "result = data['boxOfficeResult']['dailyBoxOfficeList'][0]\n",
        "result_list = []\n",
        "for i in result.keys():\n",
        "    result_list.append(i)\n",
        "rank_index = result_list.index('rank')\n",
        "movieNm_index = result_list.index('movieNm')\n",
        "openDt_index = result_list.index('openDt')\n",
        "salesAmt_index = result_list.index('salesAmt')"
      ],
      "metadata": {
        "id": "2hG1XUO4MyA5"
      },
      "execution_count": 140,
      "outputs": []
    },
    {
      "cell_type": "code",
      "source": [
        "rank_index"
      ],
      "metadata": {
        "colab": {
          "base_uri": "https://localhost:8080/"
        },
        "id": "BjIrwyv2OUBj",
        "outputId": "d7cdc9fc-e843-458e-e18f-5447d4e3f3ae"
      },
      "execution_count": 132,
      "outputs": [
        {
          "output_type": "execute_result",
          "data": {
            "text/plain": [
              "1"
            ]
          },
          "metadata": {},
          "execution_count": 132
        }
      ]
    },
    {
      "cell_type": "code",
      "source": [
        "def find_dict(dataset):\n",
        "    key = ['rank','movieNm','openDt','salesAmt']\n",
        "    result_data = {}\n",
        "    for i, j in data.items():\n",
        "        if i in key:\n",
        "            result_data[i] = j\n",
        "    return result_data\n",
        "\n",
        "for i in data['boxOfficeResult']['dailyBoxOfficeList']:\n",
        "    print(find_dict(i))"
      ],
      "metadata": {
        "colab": {
          "base_uri": "https://localhost:8080/"
        },
        "id": "su0WmBQwNUYo",
        "outputId": "3ce9487e-941f-43b9-c908-a5bac18a4df1"
      },
      "execution_count": 145,
      "outputs": [
        {
          "output_type": "stream",
          "name": "stdout",
          "text": [
            "{}\n",
            "{}\n",
            "{}\n",
            "{}\n",
            "{}\n",
            "{}\n",
            "{}\n",
            "{}\n",
            "{}\n",
            "{}\n"
          ]
        }
      ]
    },
    {
      "cell_type": "code",
      "source": [
        "def m_List(data, want_list):\n",
        "    result = []\n",
        "    for j in range(len(data)):\n",
        "        sub_data = data[j]\n",
        "        sub_result = {}\n",
        "        for i in want_list:\n",
        "            sub_result[i] = sub_data[i]\n",
        "        result.append(sub_result)\n",
        "    return result\n",
        "\n",
        "data1 = data['boxOfficeResult']['dailyBoxOfficeList']\n",
        "want_list = ['rank','movieNm','openDt','salesAmt']\n",
        "m_List(data1,want_list)"
      ],
      "metadata": {
        "colab": {
          "base_uri": "https://localhost:8080/"
        },
        "id": "5wzO5a70PqKZ",
        "outputId": "55746dda-ece8-402d-daee-5be1c889bb20"
      },
      "execution_count": 146,
      "outputs": [
        {
          "output_type": "execute_result",
          "data": {
            "text/plain": [
              "[{'rank': '1',\n",
              "  'movieNm': '미션 임파서블: 데드 레코닝 PART ONE',\n",
              "  'openDt': '2023-07-12',\n",
              "  'salesAmt': '3114675151'},\n",
              " {'rank': '2',\n",
              "  'movieNm': '엘리멘탈',\n",
              "  'openDt': '2023-06-14',\n",
              "  'salesAmt': '1961161558'},\n",
              " {'rank': '3',\n",
              "  'movieNm': '명탐정코난: 흑철의 어영',\n",
              "  'openDt': '2023-07-20',\n",
              "  'salesAmt': '861023166'},\n",
              " {'rank': '4',\n",
              "  'movieNm': '바비',\n",
              "  'openDt': '2023-07-19',\n",
              "  'salesAmt': '602718082'},\n",
              " {'rank': '5',\n",
              "  'movieNm': '인시디어스: 빨간 문',\n",
              "  'openDt': '2023-07-19',\n",
              "  'salesAmt': '584435883'},\n",
              " {'rank': '6',\n",
              "  'movieNm': '극장판 슈퍼윙스: 맥시멈 스피드',\n",
              "  'openDt': '2023-07-20',\n",
              "  'salesAmt': '144330834'},\n",
              " {'rank': '7',\n",
              "  'movieNm': '여름날 우리',\n",
              "  'openDt': '2021-08-25',\n",
              "  'salesAmt': '121832214'},\n",
              " {'rank': '8',\n",
              "  'movieNm': '슈퍼 키드 헤일리',\n",
              "  'openDt': '2023-07-20',\n",
              "  'salesAmt': '57563156'},\n",
              " {'rank': '9',\n",
              "  'movieNm': '범죄도시3',\n",
              "  'openDt': '2023-05-31',\n",
              "  'salesAmt': '38454011'},\n",
              " {'rank': '10',\n",
              "  'movieNm': '밀수',\n",
              "  'openDt': '2023-07-26',\n",
              "  'salesAmt': '49151500'}]"
            ]
          },
          "metadata": {},
          "execution_count": 146
        }
      ]
    },
    {
      "cell_type": "code",
      "source": [
        "import pandas as pd"
      ],
      "metadata": {
        "id": "NCmaZsQhQa3X"
      },
      "execution_count": 147,
      "outputs": []
    },
    {
      "cell_type": "code",
      "source": [
        "datas = pd.DataFrame(data['boxOfficeResult']['dailyBoxOfficeList'])"
      ],
      "metadata": {
        "id": "CPNs2ctrQwoQ"
      },
      "execution_count": 148,
      "outputs": []
    },
    {
      "cell_type": "code",
      "source": [
        "datas"
      ],
      "metadata": {
        "colab": {
          "base_uri": "https://localhost:8080/",
          "height": 791
        },
        "id": "X2qixZlrQ3yu",
        "outputId": "aa513f99-5f2f-4f8d-c57d-3b669738e1d8"
      },
      "execution_count": 150,
      "outputs": [
        {
          "output_type": "execute_result",
          "data": {
            "text/plain": [
              "  rnum rank rankInten rankOldAndNew   movieCd                   movieNm  \\\n",
              "0    1    1         0           OLD  20232631  미션 임파서블: 데드 레코닝 PART ONE   \n",
              "1    2    2         0           OLD  20228930                      엘리멘탈   \n",
              "2    3    3         0           OLD  20232536             명탐정코난: 흑철의 어영   \n",
              "3    4    4         0           OLD  20232740                        바비   \n",
              "4    5    5         0           OLD  20232778               인시디어스: 빨간 문   \n",
              "5    6    6         2           OLD  20232639         극장판 슈퍼윙스: 맥시멈 스피드   \n",
              "6    7    7        -1           OLD  20219331                    여름날 우리   \n",
              "7    8    8         1           OLD  20232556                 슈퍼 키드 헤일리   \n",
              "8    9    9         2           OLD  20226411                     범죄도시3   \n",
              "9   10   10        -3           OLD  20218541                        밀수   \n",
              "\n",
              "       openDt    salesAmt salesShare  salesInten salesChange      salesAcc  \\\n",
              "0  2023-07-12  3114675151       40.1  1704566518       120.9   27134016987   \n",
              "1  2023-06-14  1961161558       25.2  1120354557       133.2   47795365549   \n",
              "2  2023-07-20   861023166       11.1   162100905        23.2    2670823446   \n",
              "3  2023-07-19   602718082        7.8   198630331        49.2    1927260837   \n",
              "4  2023-07-19   584435883        7.5   190259819        48.3    1918873210   \n",
              "5  2023-07-20   144330834        1.9   103808680       256.2     271779392   \n",
              "6  2021-08-25   121832214        1.6    40288936        49.4    3060943427   \n",
              "7  2023-07-20    57563156        0.7    20868986        56.9     116594853   \n",
              "8  2023-05-31    38454011        0.5    14144525        58.2  104579255059   \n",
              "9  2023-07-26    49151500        0.6    -3051500        -5.8     383758500   \n",
              "\n",
              "  audiCnt audiInten audiChange   audiAcc scrnCnt showCnt  \n",
              "0  298529    157183      111.2   2670878    1616    6003  \n",
              "1  196242    109218      125.5   4838735    1163    4159  \n",
              "2   86316      8682       11.2    286536     952    2843  \n",
              "3   58479     13393       29.7    206831     767    2111  \n",
              "4   54968     14945       37.3    193018     750    1751  \n",
              "5   15626     10820      225.1     30469     403     495  \n",
              "6   11749      3114       36.1    312083     216     356  \n",
              "7    6057      2170       55.8     12641     176     194  \n",
              "8    4464      1488         50  10669812     177     220  \n",
              "9    4282     -1185      -21.7     38615      13      14  "
            ],
            "text/html": [
              "\n",
              "\n",
              "  <div id=\"df-354bcd15-d486-474d-899c-cb355c59c429\">\n",
              "    <div class=\"colab-df-container\">\n",
              "      <div>\n",
              "<style scoped>\n",
              "    .dataframe tbody tr th:only-of-type {\n",
              "        vertical-align: middle;\n",
              "    }\n",
              "\n",
              "    .dataframe tbody tr th {\n",
              "        vertical-align: top;\n",
              "    }\n",
              "\n",
              "    .dataframe thead th {\n",
              "        text-align: right;\n",
              "    }\n",
              "</style>\n",
              "<table border=\"1\" class=\"dataframe\">\n",
              "  <thead>\n",
              "    <tr style=\"text-align: right;\">\n",
              "      <th></th>\n",
              "      <th>rnum</th>\n",
              "      <th>rank</th>\n",
              "      <th>rankInten</th>\n",
              "      <th>rankOldAndNew</th>\n",
              "      <th>movieCd</th>\n",
              "      <th>movieNm</th>\n",
              "      <th>openDt</th>\n",
              "      <th>salesAmt</th>\n",
              "      <th>salesShare</th>\n",
              "      <th>salesInten</th>\n",
              "      <th>salesChange</th>\n",
              "      <th>salesAcc</th>\n",
              "      <th>audiCnt</th>\n",
              "      <th>audiInten</th>\n",
              "      <th>audiChange</th>\n",
              "      <th>audiAcc</th>\n",
              "      <th>scrnCnt</th>\n",
              "      <th>showCnt</th>\n",
              "    </tr>\n",
              "  </thead>\n",
              "  <tbody>\n",
              "    <tr>\n",
              "      <th>0</th>\n",
              "      <td>1</td>\n",
              "      <td>1</td>\n",
              "      <td>0</td>\n",
              "      <td>OLD</td>\n",
              "      <td>20232631</td>\n",
              "      <td>미션 임파서블: 데드 레코닝 PART ONE</td>\n",
              "      <td>2023-07-12</td>\n",
              "      <td>3114675151</td>\n",
              "      <td>40.1</td>\n",
              "      <td>1704566518</td>\n",
              "      <td>120.9</td>\n",
              "      <td>27134016987</td>\n",
              "      <td>298529</td>\n",
              "      <td>157183</td>\n",
              "      <td>111.2</td>\n",
              "      <td>2670878</td>\n",
              "      <td>1616</td>\n",
              "      <td>6003</td>\n",
              "    </tr>\n",
              "    <tr>\n",
              "      <th>1</th>\n",
              "      <td>2</td>\n",
              "      <td>2</td>\n",
              "      <td>0</td>\n",
              "      <td>OLD</td>\n",
              "      <td>20228930</td>\n",
              "      <td>엘리멘탈</td>\n",
              "      <td>2023-06-14</td>\n",
              "      <td>1961161558</td>\n",
              "      <td>25.2</td>\n",
              "      <td>1120354557</td>\n",
              "      <td>133.2</td>\n",
              "      <td>47795365549</td>\n",
              "      <td>196242</td>\n",
              "      <td>109218</td>\n",
              "      <td>125.5</td>\n",
              "      <td>4838735</td>\n",
              "      <td>1163</td>\n",
              "      <td>4159</td>\n",
              "    </tr>\n",
              "    <tr>\n",
              "      <th>2</th>\n",
              "      <td>3</td>\n",
              "      <td>3</td>\n",
              "      <td>0</td>\n",
              "      <td>OLD</td>\n",
              "      <td>20232536</td>\n",
              "      <td>명탐정코난: 흑철의 어영</td>\n",
              "      <td>2023-07-20</td>\n",
              "      <td>861023166</td>\n",
              "      <td>11.1</td>\n",
              "      <td>162100905</td>\n",
              "      <td>23.2</td>\n",
              "      <td>2670823446</td>\n",
              "      <td>86316</td>\n",
              "      <td>8682</td>\n",
              "      <td>11.2</td>\n",
              "      <td>286536</td>\n",
              "      <td>952</td>\n",
              "      <td>2843</td>\n",
              "    </tr>\n",
              "    <tr>\n",
              "      <th>3</th>\n",
              "      <td>4</td>\n",
              "      <td>4</td>\n",
              "      <td>0</td>\n",
              "      <td>OLD</td>\n",
              "      <td>20232740</td>\n",
              "      <td>바비</td>\n",
              "      <td>2023-07-19</td>\n",
              "      <td>602718082</td>\n",
              "      <td>7.8</td>\n",
              "      <td>198630331</td>\n",
              "      <td>49.2</td>\n",
              "      <td>1927260837</td>\n",
              "      <td>58479</td>\n",
              "      <td>13393</td>\n",
              "      <td>29.7</td>\n",
              "      <td>206831</td>\n",
              "      <td>767</td>\n",
              "      <td>2111</td>\n",
              "    </tr>\n",
              "    <tr>\n",
              "      <th>4</th>\n",
              "      <td>5</td>\n",
              "      <td>5</td>\n",
              "      <td>0</td>\n",
              "      <td>OLD</td>\n",
              "      <td>20232778</td>\n",
              "      <td>인시디어스: 빨간 문</td>\n",
              "      <td>2023-07-19</td>\n",
              "      <td>584435883</td>\n",
              "      <td>7.5</td>\n",
              "      <td>190259819</td>\n",
              "      <td>48.3</td>\n",
              "      <td>1918873210</td>\n",
              "      <td>54968</td>\n",
              "      <td>14945</td>\n",
              "      <td>37.3</td>\n",
              "      <td>193018</td>\n",
              "      <td>750</td>\n",
              "      <td>1751</td>\n",
              "    </tr>\n",
              "    <tr>\n",
              "      <th>5</th>\n",
              "      <td>6</td>\n",
              "      <td>6</td>\n",
              "      <td>2</td>\n",
              "      <td>OLD</td>\n",
              "      <td>20232639</td>\n",
              "      <td>극장판 슈퍼윙스: 맥시멈 스피드</td>\n",
              "      <td>2023-07-20</td>\n",
              "      <td>144330834</td>\n",
              "      <td>1.9</td>\n",
              "      <td>103808680</td>\n",
              "      <td>256.2</td>\n",
              "      <td>271779392</td>\n",
              "      <td>15626</td>\n",
              "      <td>10820</td>\n",
              "      <td>225.1</td>\n",
              "      <td>30469</td>\n",
              "      <td>403</td>\n",
              "      <td>495</td>\n",
              "    </tr>\n",
              "    <tr>\n",
              "      <th>6</th>\n",
              "      <td>7</td>\n",
              "      <td>7</td>\n",
              "      <td>-1</td>\n",
              "      <td>OLD</td>\n",
              "      <td>20219331</td>\n",
              "      <td>여름날 우리</td>\n",
              "      <td>2021-08-25</td>\n",
              "      <td>121832214</td>\n",
              "      <td>1.6</td>\n",
              "      <td>40288936</td>\n",
              "      <td>49.4</td>\n",
              "      <td>3060943427</td>\n",
              "      <td>11749</td>\n",
              "      <td>3114</td>\n",
              "      <td>36.1</td>\n",
              "      <td>312083</td>\n",
              "      <td>216</td>\n",
              "      <td>356</td>\n",
              "    </tr>\n",
              "    <tr>\n",
              "      <th>7</th>\n",
              "      <td>8</td>\n",
              "      <td>8</td>\n",
              "      <td>1</td>\n",
              "      <td>OLD</td>\n",
              "      <td>20232556</td>\n",
              "      <td>슈퍼 키드 헤일리</td>\n",
              "      <td>2023-07-20</td>\n",
              "      <td>57563156</td>\n",
              "      <td>0.7</td>\n",
              "      <td>20868986</td>\n",
              "      <td>56.9</td>\n",
              "      <td>116594853</td>\n",
              "      <td>6057</td>\n",
              "      <td>2170</td>\n",
              "      <td>55.8</td>\n",
              "      <td>12641</td>\n",
              "      <td>176</td>\n",
              "      <td>194</td>\n",
              "    </tr>\n",
              "    <tr>\n",
              "      <th>8</th>\n",
              "      <td>9</td>\n",
              "      <td>9</td>\n",
              "      <td>2</td>\n",
              "      <td>OLD</td>\n",
              "      <td>20226411</td>\n",
              "      <td>범죄도시3</td>\n",
              "      <td>2023-05-31</td>\n",
              "      <td>38454011</td>\n",
              "      <td>0.5</td>\n",
              "      <td>14144525</td>\n",
              "      <td>58.2</td>\n",
              "      <td>104579255059</td>\n",
              "      <td>4464</td>\n",
              "      <td>1488</td>\n",
              "      <td>50</td>\n",
              "      <td>10669812</td>\n",
              "      <td>177</td>\n",
              "      <td>220</td>\n",
              "    </tr>\n",
              "    <tr>\n",
              "      <th>9</th>\n",
              "      <td>10</td>\n",
              "      <td>10</td>\n",
              "      <td>-3</td>\n",
              "      <td>OLD</td>\n",
              "      <td>20218541</td>\n",
              "      <td>밀수</td>\n",
              "      <td>2023-07-26</td>\n",
              "      <td>49151500</td>\n",
              "      <td>0.6</td>\n",
              "      <td>-3051500</td>\n",
              "      <td>-5.8</td>\n",
              "      <td>383758500</td>\n",
              "      <td>4282</td>\n",
              "      <td>-1185</td>\n",
              "      <td>-21.7</td>\n",
              "      <td>38615</td>\n",
              "      <td>13</td>\n",
              "      <td>14</td>\n",
              "    </tr>\n",
              "  </tbody>\n",
              "</table>\n",
              "</div>\n",
              "      <button class=\"colab-df-convert\" onclick=\"convertToInteractive('df-354bcd15-d486-474d-899c-cb355c59c429')\"\n",
              "              title=\"Convert this dataframe to an interactive table.\"\n",
              "              style=\"display:none;\">\n",
              "\n",
              "  <svg xmlns=\"http://www.w3.org/2000/svg\" height=\"24px\"viewBox=\"0 0 24 24\"\n",
              "       width=\"24px\">\n",
              "    <path d=\"M0 0h24v24H0V0z\" fill=\"none\"/>\n",
              "    <path d=\"M18.56 5.44l.94 2.06.94-2.06 2.06-.94-2.06-.94-.94-2.06-.94 2.06-2.06.94zm-11 1L8.5 8.5l.94-2.06 2.06-.94-2.06-.94L8.5 2.5l-.94 2.06-2.06.94zm10 10l.94 2.06.94-2.06 2.06-.94-2.06-.94-.94-2.06-.94 2.06-2.06.94z\"/><path d=\"M17.41 7.96l-1.37-1.37c-.4-.4-.92-.59-1.43-.59-.52 0-1.04.2-1.43.59L10.3 9.45l-7.72 7.72c-.78.78-.78 2.05 0 2.83L4 21.41c.39.39.9.59 1.41.59.51 0 1.02-.2 1.41-.59l7.78-7.78 2.81-2.81c.8-.78.8-2.07 0-2.86zM5.41 20L4 18.59l7.72-7.72 1.47 1.35L5.41 20z\"/>\n",
              "  </svg>\n",
              "      </button>\n",
              "\n",
              "\n",
              "\n",
              "    <div id=\"df-ba913ada-c4c3-4aec-bb35-8e7386b06ddb\">\n",
              "      <button class=\"colab-df-quickchart\" onclick=\"quickchart('df-ba913ada-c4c3-4aec-bb35-8e7386b06ddb')\"\n",
              "              title=\"Suggest charts.\"\n",
              "              style=\"display:none;\">\n",
              "\n",
              "<svg xmlns=\"http://www.w3.org/2000/svg\" height=\"24px\"viewBox=\"0 0 24 24\"\n",
              "     width=\"24px\">\n",
              "    <g>\n",
              "        <path d=\"M19 3H5c-1.1 0-2 .9-2 2v14c0 1.1.9 2 2 2h14c1.1 0 2-.9 2-2V5c0-1.1-.9-2-2-2zM9 17H7v-7h2v7zm4 0h-2V7h2v10zm4 0h-2v-4h2v4z\"/>\n",
              "    </g>\n",
              "</svg>\n",
              "      </button>\n",
              "    </div>\n",
              "\n",
              "<style>\n",
              "  .colab-df-quickchart {\n",
              "    background-color: #E8F0FE;\n",
              "    border: none;\n",
              "    border-radius: 50%;\n",
              "    cursor: pointer;\n",
              "    display: none;\n",
              "    fill: #1967D2;\n",
              "    height: 32px;\n",
              "    padding: 0 0 0 0;\n",
              "    width: 32px;\n",
              "  }\n",
              "\n",
              "  .colab-df-quickchart:hover {\n",
              "    background-color: #E2EBFA;\n",
              "    box-shadow: 0px 1px 2px rgba(60, 64, 67, 0.3), 0px 1px 3px 1px rgba(60, 64, 67, 0.15);\n",
              "    fill: #174EA6;\n",
              "  }\n",
              "\n",
              "  [theme=dark] .colab-df-quickchart {\n",
              "    background-color: #3B4455;\n",
              "    fill: #D2E3FC;\n",
              "  }\n",
              "\n",
              "  [theme=dark] .colab-df-quickchart:hover {\n",
              "    background-color: #434B5C;\n",
              "    box-shadow: 0px 1px 3px 1px rgba(0, 0, 0, 0.15);\n",
              "    filter: drop-shadow(0px 1px 2px rgba(0, 0, 0, 0.3));\n",
              "    fill: #FFFFFF;\n",
              "  }\n",
              "</style>\n",
              "\n",
              "    <script>\n",
              "      async function quickchart(key) {\n",
              "        const containerElement = document.querySelector('#' + key);\n",
              "        const charts = await google.colab.kernel.invokeFunction(\n",
              "            'suggestCharts', [key], {});\n",
              "      }\n",
              "    </script>\n",
              "\n",
              "      <script>\n",
              "\n",
              "function displayQuickchartButton(domScope) {\n",
              "  let quickchartButtonEl =\n",
              "    domScope.querySelector('#df-ba913ada-c4c3-4aec-bb35-8e7386b06ddb button.colab-df-quickchart');\n",
              "  quickchartButtonEl.style.display =\n",
              "    google.colab.kernel.accessAllowed ? 'block' : 'none';\n",
              "}\n",
              "\n",
              "        displayQuickchartButton(document);\n",
              "      </script>\n",
              "      <style>\n",
              "    .colab-df-container {\n",
              "      display:flex;\n",
              "      flex-wrap:wrap;\n",
              "      gap: 12px;\n",
              "    }\n",
              "\n",
              "    .colab-df-convert {\n",
              "      background-color: #E8F0FE;\n",
              "      border: none;\n",
              "      border-radius: 50%;\n",
              "      cursor: pointer;\n",
              "      display: none;\n",
              "      fill: #1967D2;\n",
              "      height: 32px;\n",
              "      padding: 0 0 0 0;\n",
              "      width: 32px;\n",
              "    }\n",
              "\n",
              "    .colab-df-convert:hover {\n",
              "      background-color: #E2EBFA;\n",
              "      box-shadow: 0px 1px 2px rgba(60, 64, 67, 0.3), 0px 1px 3px 1px rgba(60, 64, 67, 0.15);\n",
              "      fill: #174EA6;\n",
              "    }\n",
              "\n",
              "    [theme=dark] .colab-df-convert {\n",
              "      background-color: #3B4455;\n",
              "      fill: #D2E3FC;\n",
              "    }\n",
              "\n",
              "    [theme=dark] .colab-df-convert:hover {\n",
              "      background-color: #434B5C;\n",
              "      box-shadow: 0px 1px 3px 1px rgba(0, 0, 0, 0.15);\n",
              "      filter: drop-shadow(0px 1px 2px rgba(0, 0, 0, 0.3));\n",
              "      fill: #FFFFFF;\n",
              "    }\n",
              "  </style>\n",
              "\n",
              "      <script>\n",
              "        const buttonEl =\n",
              "          document.querySelector('#df-354bcd15-d486-474d-899c-cb355c59c429 button.colab-df-convert');\n",
              "        buttonEl.style.display =\n",
              "          google.colab.kernel.accessAllowed ? 'block' : 'none';\n",
              "\n",
              "        async function convertToInteractive(key) {\n",
              "          const element = document.querySelector('#df-354bcd15-d486-474d-899c-cb355c59c429');\n",
              "          const dataTable =\n",
              "            await google.colab.kernel.invokeFunction('convertToInteractive',\n",
              "                                                     [key], {});\n",
              "          if (!dataTable) return;\n",
              "\n",
              "          const docLinkHtml = 'Like what you see? Visit the ' +\n",
              "            '<a target=\"_blank\" href=https://colab.research.google.com/notebooks/data_table.ipynb>data table notebook</a>'\n",
              "            + ' to learn more about interactive tables.';\n",
              "          element.innerHTML = '';\n",
              "          dataTable['output_type'] = 'display_data';\n",
              "          await google.colab.output.renderOutput(dataTable, element);\n",
              "          const docLink = document.createElement('div');\n",
              "          docLink.innerHTML = docLinkHtml;\n",
              "          element.appendChild(docLink);\n",
              "        }\n",
              "      </script>\n",
              "    </div>\n",
              "  </div>\n"
            ]
          },
          "metadata": {},
          "execution_count": 150
        }
      ]
    },
    {
      "cell_type": "markdown",
      "source": [
        "#5.클래스\n",
        "\n",
        "- 클래스는 새로운 이름 공간을 지원하는 단위이다.\n",
        "\n",
        "- 이 이름 공간에는 함수와 변수가 포함될 수 있다.\n",
        "\n",
        "- 클래스를 정의하는 것은 새로운 자료형을 하나 만드는 것이다.\n",
        "\n",
        "- 인스턴스는 이 자료형의 객체를 생성하는 것이다.\n",
        "\n",
        "- 클래스 인스턴스 : 클래스를 호출하여 생성된 객체이다.\n",
        "\n",
        "- 클래스 인스턴스는 클래스의 실제 객체이다.\n",
        "\n",
        "- 클래스 인스턴스 객체 : 클래스 인스턴스와 같은 의미이다. 인스턴스 객체라고 부르기도 한다.\n",
        "\n",
        "- 멤버 : 클래스 혹은 클래스 인스턴스 공간에 정의된 변수이다.\n",
        "\n",
        "- 메서드 : 클래스 공간에 정의된 함수이다.\n",
        "\n",
        "- 속성(Attribute): 멤버와 메서드 전체를 가리킨다."
      ],
      "metadata": {
        "id": "ut3iGXeyR3jP"
      }
    },
    {
      "cell_type": "markdown",
      "source": [
        "![image.png](data:image/png;base64,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)"
      ],
      "metadata": {
        "id": "yiB9TqCnZs_k"
      }
    },
    {
      "cell_type": "code",
      "source": [
        "cal1 = Calculator() # 인스턴스 객체 == cal1, 클래스 호출 == Calculator()"
      ],
      "metadata": {
        "id": "ZtZWg0rFQ5Zo"
      },
      "execution_count": 152,
      "outputs": []
    },
    {
      "cell_type": "code",
      "source": [
        "cal1.add(20)"
      ],
      "metadata": {
        "colab": {
          "base_uri": "https://localhost:8080/"
        },
        "id": "tuQNZQx3Z5pP",
        "outputId": "815e12a9-78a7-4833-aa96-35803063a92d"
      },
      "execution_count": 153,
      "outputs": [
        {
          "output_type": "execute_result",
          "data": {
            "text/plain": [
              "20"
            ]
          },
          "metadata": {},
          "execution_count": 153
        }
      ]
    },
    {
      "cell_type": "markdown",
      "source": [
        "![image.png](data:image/png;base64,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)"
      ],
      "metadata": {
        "id": "P-QdmNMGW4PL"
      }
    },
    {
      "cell_type": "code",
      "source": [
        "class Charge:\n",
        "    def __init__(self, x0, y0, q0):\n",
        "        self._rx = x0\n",
        "        self._ry = y0\n",
        "        self._q = q0\n",
        "    def potentialAt(self,x,y):\n",
        "        COULOMB = 8.99e09\n",
        "        dx = x - self._rx\n",
        "        dy = y - self._ry\n",
        "        r = math.sqrt(dx*dx + dy*dy)\n",
        "        if r == 0.0: return float('inf')\n",
        "        return COULOMB*self._q/r\n",
        "    def __str__(self):\n",
        "        result = str(self._q) + 'at('\n",
        "        result += str(self._rx) + '.' + str(self._ry)+ ')'\n",
        "        return result"
      ],
      "metadata": {
        "id": "dHe09v5lUTS2"
      },
      "execution_count": 154,
      "outputs": []
    },
    {
      "cell_type": "code",
      "source": [],
      "metadata": {
        "id": "DNjrke2udHfc"
      },
      "execution_count": null,
      "outputs": []
    }
  ]
}