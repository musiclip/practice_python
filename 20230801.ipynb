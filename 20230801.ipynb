{
  "nbformat": 4,
  "nbformat_minor": 0,
  "metadata": {
    "colab": {
      "provenance": [],
      "authorship_tag": "ABX9TyPMcxS3SMfoKrmiTQKkyHOf",
      "include_colab_link": true
    },
    "kernelspec": {
      "name": "python3",
      "display_name": "Python 3"
    },
    "language_info": {
      "name": "python"
    }
  },
  "cells": [
    {
      "cell_type": "markdown",
      "metadata": {
        "id": "view-in-github",
        "colab_type": "text"
      },
      "source": [
        "<a href=\"https://colab.research.google.com/github/musiclip/practice_python/blob/main/20230801.ipynb\" target=\"_parent\"><img src=\"https://colab.research.google.com/assets/colab-badge.svg\" alt=\"Open In Colab\"/></a>"
      ]
    },
    {
      "cell_type": "code",
      "execution_count": 1,
      "metadata": {
        "id": "VstxQwUcZfK7"
      },
      "outputs": [],
      "source": [
        "class A:\n",
        "    def __init__(self, x):\n",
        "        self.x = x"
      ]
    },
    {
      "cell_type": "code",
      "source": [
        "class B(A):\n",
        "    def setdata(self,y):\n",
        "        self.y = y\n",
        "    def print_x(self):\n",
        "        print(self.x)"
      ],
      "metadata": {
        "id": "DDI61acCZ3bT"
      },
      "execution_count": 7,
      "outputs": []
    },
    {
      "cell_type": "code",
      "source": [
        "b = B(3)"
      ],
      "metadata": {
        "id": "dUsv6qzvZ7jY"
      },
      "execution_count": 8,
      "outputs": []
    },
    {
      "cell_type": "code",
      "source": [
        "b.print_x()"
      ],
      "metadata": {
        "colab": {
          "base_uri": "https://localhost:8080/"
        },
        "id": "GnDKJUJnZ9yf",
        "outputId": "d9ff0145-efc3-4818-e062-475538a45c29"
      },
      "execution_count": 9,
      "outputs": [
        {
          "output_type": "stream",
          "name": "stdout",
          "text": [
            "3\n"
          ]
        }
      ]
    },
    {
      "cell_type": "code",
      "source": [
        "[x for x in dir(b) if not x.startswith('__')]"
      ],
      "metadata": {
        "colab": {
          "base_uri": "https://localhost:8080/"
        },
        "id": "4cBu-ts7aCvI",
        "outputId": "268eb8ab-79fb-4d41-e30e-03391aa2fba3"
      },
      "execution_count": 10,
      "outputs": [
        {
          "output_type": "execute_result",
          "data": {
            "text/plain": [
              "['print_x', 'setdata', 'x']"
            ]
          },
          "metadata": {},
          "execution_count": 10
        }
      ]
    },
    {
      "cell_type": "code",
      "source": [
        "dir(b)"
      ],
      "metadata": {
        "colab": {
          "base_uri": "https://localhost:8080/"
        },
        "id": "oqcwkBS1aD5J",
        "outputId": "47d3d60a-e9fa-414e-a18a-b775e32ed72b"
      },
      "execution_count": 11,
      "outputs": [
        {
          "output_type": "execute_result",
          "data": {
            "text/plain": [
              "['__class__',\n",
              " '__delattr__',\n",
              " '__dict__',\n",
              " '__dir__',\n",
              " '__doc__',\n",
              " '__eq__',\n",
              " '__format__',\n",
              " '__ge__',\n",
              " '__getattribute__',\n",
              " '__gt__',\n",
              " '__hash__',\n",
              " '__init__',\n",
              " '__init_subclass__',\n",
              " '__le__',\n",
              " '__lt__',\n",
              " '__module__',\n",
              " '__ne__',\n",
              " '__new__',\n",
              " '__reduce__',\n",
              " '__reduce_ex__',\n",
              " '__repr__',\n",
              " '__setattr__',\n",
              " '__sizeof__',\n",
              " '__str__',\n",
              " '__subclasshook__',\n",
              " '__weakref__',\n",
              " 'print_x',\n",
              " 'setdata',\n",
              " 'x']"
            ]
          },
          "metadata": {},
          "execution_count": 11
        }
      ]
    },
    {
      "cell_type": "code",
      "source": [
        "b.setdata(100)"
      ],
      "metadata": {
        "id": "mh7a0f8ma79N"
      },
      "execution_count": 12,
      "outputs": []
    },
    {
      "cell_type": "code",
      "source": [
        "[x for x in dir(b) if not x.startswith('__')]"
      ],
      "metadata": {
        "colab": {
          "base_uri": "https://localhost:8080/"
        },
        "id": "SxkukmCMbQNX",
        "outputId": "93ae3834-0ba3-4eec-c9e4-af6c568c1e5b"
      },
      "execution_count": 13,
      "outputs": [
        {
          "output_type": "execute_result",
          "data": {
            "text/plain": [
              "['print_x', 'setdata', 'x', 'y']"
            ]
          },
          "metadata": {},
          "execution_count": 13
        }
      ]
    },
    {
      "cell_type": "code",
      "source": [
        "class A:\n",
        "    def __init__(self, x):\n",
        "        self.x = x\n",
        "    def print_x(self):\n",
        "        print(self.x)"
      ],
      "metadata": {
        "id": "YzRXNaU9bSBW"
      },
      "execution_count": 14,
      "outputs": []
    },
    {
      "cell_type": "code",
      "source": [
        "class B(A):\n",
        "    def setdata(self,y):\n",
        "        self.y = y\n",
        "    def print_y(self):\n",
        "        print(self.y)"
      ],
      "metadata": {
        "id": "ePA0CrawbfBE"
      },
      "execution_count": 15,
      "outputs": []
    },
    {
      "cell_type": "code",
      "source": [
        "b2 = B(10)"
      ],
      "metadata": {
        "id": "9NneVDY-bkzm"
      },
      "execution_count": 16,
      "outputs": []
    },
    {
      "cell_type": "code",
      "source": [
        "[x for x in dir(b2) if not x.startswith('__')]"
      ],
      "metadata": {
        "colab": {
          "base_uri": "https://localhost:8080/"
        },
        "id": "eQRhsoZObmJv",
        "outputId": "bbbebe23-fa97-42cf-e73a-686ebd66adc1"
      },
      "execution_count": 17,
      "outputs": [
        {
          "output_type": "execute_result",
          "data": {
            "text/plain": [
              "['print_x', 'print_y', 'setdata', 'x']"
            ]
          },
          "metadata": {},
          "execution_count": 17
        }
      ]
    },
    {
      "cell_type": "code",
      "source": [
        "b2.print_x()"
      ],
      "metadata": {
        "colab": {
          "base_uri": "https://localhost:8080/"
        },
        "id": "t-V1_7XCbqHG",
        "outputId": "03e450d4-61cf-41be-8bde-e764cc139ad3"
      },
      "execution_count": 19,
      "outputs": [
        {
          "output_type": "stream",
          "name": "stdout",
          "text": [
            "10\n"
          ]
        }
      ]
    },
    {
      "cell_type": "code",
      "source": [
        "b2.print_y()"
      ],
      "metadata": {
        "colab": {
          "base_uri": "https://localhost:8080/",
          "height": 274
        },
        "id": "z0oLx1lKb65s",
        "outputId": "0a0d0607-7aa1-4252-b509-dc00b16e2f0b"
      },
      "execution_count": 20,
      "outputs": [
        {
          "output_type": "error",
          "ename": "AttributeError",
          "evalue": "ignored",
          "traceback": [
            "\u001b[0;31m---------------------------------------------------------------------------\u001b[0m",
            "\u001b[0;31mAttributeError\u001b[0m                            Traceback (most recent call last)",
            "\u001b[0;32m<ipython-input-20-d171e7b58e53>\u001b[0m in \u001b[0;36m<cell line: 1>\u001b[0;34m()\u001b[0m\n\u001b[0;32m----> 1\u001b[0;31m \u001b[0mb2\u001b[0m\u001b[0;34m.\u001b[0m\u001b[0mprint_y\u001b[0m\u001b[0;34m(\u001b[0m\u001b[0;34m)\u001b[0m\u001b[0;34m\u001b[0m\u001b[0;34m\u001b[0m\u001b[0m\n\u001b[0m",
            "\u001b[0;32m<ipython-input-15-c53773ed0264>\u001b[0m in \u001b[0;36mprint_y\u001b[0;34m(self)\u001b[0m\n\u001b[1;32m      3\u001b[0m         \u001b[0mself\u001b[0m\u001b[0;34m.\u001b[0m\u001b[0my\u001b[0m \u001b[0;34m=\u001b[0m \u001b[0my\u001b[0m\u001b[0;34m\u001b[0m\u001b[0;34m\u001b[0m\u001b[0m\n\u001b[1;32m      4\u001b[0m     \u001b[0;32mdef\u001b[0m \u001b[0mprint_y\u001b[0m\u001b[0;34m(\u001b[0m\u001b[0mself\u001b[0m\u001b[0;34m)\u001b[0m\u001b[0;34m:\u001b[0m\u001b[0;34m\u001b[0m\u001b[0;34m\u001b[0m\u001b[0m\n\u001b[0;32m----> 5\u001b[0;31m         \u001b[0mprint\u001b[0m\u001b[0;34m(\u001b[0m\u001b[0mself\u001b[0m\u001b[0;34m.\u001b[0m\u001b[0my\u001b[0m\u001b[0;34m)\u001b[0m\u001b[0;34m\u001b[0m\u001b[0;34m\u001b[0m\u001b[0m\n\u001b[0m",
            "\u001b[0;31mAttributeError\u001b[0m: 'B' object has no attribute 'y'"
          ]
        }
      ]
    },
    {
      "cell_type": "code",
      "source": [
        "b2.setdata(77)"
      ],
      "metadata": {
        "id": "_NwxQXIFb9al"
      },
      "execution_count": 21,
      "outputs": []
    },
    {
      "cell_type": "code",
      "source": [
        "b2.print_y()"
      ],
      "metadata": {
        "colab": {
          "base_uri": "https://localhost:8080/"
        },
        "id": "ttDxoq8TcGWU",
        "outputId": "67c1014e-ca13-4e78-ba6f-3d16a32f8357"
      },
      "execution_count": 22,
      "outputs": [
        {
          "output_type": "stream",
          "name": "stdout",
          "text": [
            "77\n"
          ]
        }
      ]
    },
    {
      "cell_type": "code",
      "source": [
        "[x for x in dir(b2) if not x.startswith('__')]"
      ],
      "metadata": {
        "colab": {
          "base_uri": "https://localhost:8080/"
        },
        "id": "hLDwj8WPcHy9",
        "outputId": "8aa46f27-c72d-47ad-dc20-4b78403046ab"
      },
      "execution_count": 23,
      "outputs": [
        {
          "output_type": "execute_result",
          "data": {
            "text/plain": [
              "['print_x', 'print_y', 'setdata', 'x', 'y']"
            ]
          },
          "metadata": {},
          "execution_count": 23
        }
      ]
    },
    {
      "cell_type": "code",
      "source": [
        "class Person:\n",
        "    def __init__(self, name, phone = None):\n",
        "        self.name = name\n",
        "        self.phone = phone\n",
        "    def __repr__(self):\n",
        "        return f'<Person {self.name} {self.phone}>'"
      ],
      "metadata": {
        "id": "7xzHJZCpcM3u"
      },
      "execution_count": 24,
      "outputs": []
    },
    {
      "cell_type": "code",
      "source": [
        "class Employee(Person):\n",
        "    def setdata(self, position, salary):\n",
        "        self.position = position\n",
        "        self.salary = salary\n",
        "    def print_info(self):\n",
        "        print(self.name, self.phone)"
      ],
      "metadata": {
        "id": "VKTCSY88clTs"
      },
      "execution_count": 25,
      "outputs": []
    },
    {
      "cell_type": "code",
      "source": [
        "em = Employee('이승우',8801)"
      ],
      "metadata": {
        "id": "7nzQHscGczcE"
      },
      "execution_count": 26,
      "outputs": []
    },
    {
      "cell_type": "code",
      "source": [
        "em"
      ],
      "metadata": {
        "colab": {
          "base_uri": "https://localhost:8080/"
        },
        "id": "pcv8Ufjoc76r",
        "outputId": "c1a915d9-7b39-48ee-d361-c595aff657b6"
      },
      "execution_count": 27,
      "outputs": [
        {
          "output_type": "execute_result",
          "data": {
            "text/plain": [
              "<Person 이승우 8801>"
            ]
          },
          "metadata": {},
          "execution_count": 27
        }
      ]
    },
    {
      "cell_type": "code",
      "source": [
        "em.print_info()"
      ],
      "metadata": {
        "colab": {
          "base_uri": "https://localhost:8080/"
        },
        "id": "Dgt0GYMGc-x1",
        "outputId": "95c04ddc-599e-4549-b7ba-f06da169f3ac"
      },
      "execution_count": 29,
      "outputs": [
        {
          "output_type": "stream",
          "name": "stdout",
          "text": [
            "이승우 8801\n"
          ]
        }
      ]
    },
    {
      "cell_type": "code",
      "source": [
        "[x for x in dir(em) if not x.startswith('__')]"
      ],
      "metadata": {
        "colab": {
          "base_uri": "https://localhost:8080/"
        },
        "id": "f1yoPHt6dJHD",
        "outputId": "62868362-7da7-417e-d09e-210b3835e4fc"
      },
      "execution_count": 30,
      "outputs": [
        {
          "output_type": "execute_result",
          "data": {
            "text/plain": [
              "['name', 'phone', 'print_info', 'setdata']"
            ]
          },
          "metadata": {},
          "execution_count": 30
        }
      ]
    },
    {
      "cell_type": "code",
      "source": [
        "em.setdata('대리', 200)"
      ],
      "metadata": {
        "id": "CvOSBW93dO68"
      },
      "execution_count": 31,
      "outputs": []
    },
    {
      "cell_type": "code",
      "source": [
        "[x for x in dir(em) if not x.startswith('__')]"
      ],
      "metadata": {
        "colab": {
          "base_uri": "https://localhost:8080/"
        },
        "id": "5PzK71XIdRT8",
        "outputId": "bb36faba-8c61-488e-cdbb-7ba5622976cf"
      },
      "execution_count": 32,
      "outputs": [
        {
          "output_type": "execute_result",
          "data": {
            "text/plain": [
              "['name', 'phone', 'position', 'print_info', 'salary', 'setdata']"
            ]
          },
          "metadata": {},
          "execution_count": 32
        }
      ]
    },
    {
      "cell_type": "code",
      "source": [
        "class Employee(Person):\n",
        "    def __init__(self):\n",
        "        pass\n",
        "    def setdata(self, position, salary):\n",
        "        self.position = position\n",
        "        self.salary = salary\n",
        "    def print_info(self):\n",
        "        print(self.name, self.phone)"
      ],
      "metadata": {
        "id": "PivkKiyzdSzD"
      },
      "execution_count": 33,
      "outputs": []
    },
    {
      "cell_type": "code",
      "source": [
        "e1 = Employee()"
      ],
      "metadata": {
        "id": "l3GjGpGmd2Hy"
      },
      "execution_count": 34,
      "outputs": []
    },
    {
      "cell_type": "code",
      "source": [
        "[x for x in dir(e1) if not x.startswith('__')]"
      ],
      "metadata": {
        "colab": {
          "base_uri": "https://localhost:8080/"
        },
        "id": "gFPZq3lSd3wU",
        "outputId": "25d610f2-6c30-47d0-ced6-0eb56a2e1c5d"
      },
      "execution_count": 35,
      "outputs": [
        {
          "output_type": "execute_result",
          "data": {
            "text/plain": [
              "['print_info', 'setdata']"
            ]
          },
          "metadata": {},
          "execution_count": 35
        }
      ]
    },
    {
      "cell_type": "markdown",
      "source": [
        "리스트와 딕트를 상속받는 예시"
      ],
      "metadata": {
        "id": "8MUNq7sqew5D"
      }
    },
    {
      "cell_type": "code",
      "source": [
        "class Stack(list):\n",
        "    push = list.append"
      ],
      "metadata": {
        "id": "iPvgNqeWeSbx"
      },
      "execution_count": 38,
      "outputs": []
    },
    {
      "cell_type": "code",
      "source": [
        "s = Stack()"
      ],
      "metadata": {
        "id": "2W_4CNOoe2_x"
      },
      "execution_count": 39,
      "outputs": []
    },
    {
      "cell_type": "code",
      "source": [
        "s.push(4)"
      ],
      "metadata": {
        "id": "SaMGhMJ-fJM6"
      },
      "execution_count": 40,
      "outputs": []
    },
    {
      "cell_type": "code",
      "source": [
        "s"
      ],
      "metadata": {
        "colab": {
          "base_uri": "https://localhost:8080/"
        },
        "id": "bLbpcPskfKx_",
        "outputId": "4ec17f64-ff92-445b-ee0d-7a36083403ad"
      },
      "execution_count": 41,
      "outputs": [
        {
          "output_type": "execute_result",
          "data": {
            "text/plain": [
              "[4]"
            ]
          },
          "metadata": {},
          "execution_count": 41
        }
      ]
    },
    {
      "cell_type": "code",
      "source": [
        "s.push(5)"
      ],
      "metadata": {
        "id": "RNGjG8z3fLGw"
      },
      "execution_count": 44,
      "outputs": []
    },
    {
      "cell_type": "code",
      "source": [
        "s"
      ],
      "metadata": {
        "colab": {
          "base_uri": "https://localhost:8080/"
        },
        "id": "h3ANaeSdfZVR",
        "outputId": "6a166189-3c8e-486c-e7a8-c1879ced6879"
      },
      "execution_count": 45,
      "outputs": [
        {
          "output_type": "execute_result",
          "data": {
            "text/plain": [
              "[4, 5]"
            ]
          },
          "metadata": {},
          "execution_count": 45
        }
      ]
    },
    {
      "cell_type": "code",
      "source": [
        "s = Stack([1,2,3])"
      ],
      "metadata": {
        "id": "nO4IlfmafZjw"
      },
      "execution_count": 46,
      "outputs": []
    },
    {
      "cell_type": "code",
      "source": [
        "class Queue(list):\n",
        "    enqueue = list.append\n",
        "    def dequeue(self):\n",
        "        return self.pop(0)"
      ],
      "metadata": {
        "id": "VsO5ijO6fcfB"
      },
      "execution_count": 47,
      "outputs": []
    },
    {
      "cell_type": "code",
      "source": [
        "q = Queue()"
      ],
      "metadata": {
        "id": "5-PrI2t9ft83"
      },
      "execution_count": 48,
      "outputs": []
    },
    {
      "cell_type": "code",
      "source": [
        "q.enqueue(1)"
      ],
      "metadata": {
        "id": "-SBct5k_fwx3"
      },
      "execution_count": 49,
      "outputs": []
    },
    {
      "cell_type": "code",
      "source": [
        "q.enqueue(2)"
      ],
      "metadata": {
        "id": "BDy-BjaHfzC_"
      },
      "execution_count": 50,
      "outputs": []
    },
    {
      "cell_type": "code",
      "source": [
        "q"
      ],
      "metadata": {
        "colab": {
          "base_uri": "https://localhost:8080/"
        },
        "id": "StmaedtQf0bY",
        "outputId": "cd86124b-e021-422a-d0bd-036ff457a8a2"
      },
      "execution_count": 51,
      "outputs": [
        {
          "output_type": "execute_result",
          "data": {
            "text/plain": [
              "[1, 2]"
            ]
          },
          "metadata": {},
          "execution_count": 51
        }
      ]
    },
    {
      "cell_type": "code",
      "source": [
        "q.dequeue()"
      ],
      "metadata": {
        "colab": {
          "base_uri": "https://localhost:8080/"
        },
        "id": "LojxO_VYf09W",
        "outputId": "889d1aa5-740c-4278-cc45-fe10f5ee168a"
      },
      "execution_count": 53,
      "outputs": [
        {
          "output_type": "execute_result",
          "data": {
            "text/plain": [
              "1"
            ]
          },
          "metadata": {},
          "execution_count": 53
        }
      ]
    },
    {
      "cell_type": "code",
      "source": [
        "q"
      ],
      "metadata": {
        "colab": {
          "base_uri": "https://localhost:8080/"
        },
        "id": "lzNJTC01gG9Y",
        "outputId": "4bde45cf-1bbd-4bf1-abc8-e95fc55867e3"
      },
      "execution_count": 54,
      "outputs": [
        {
          "output_type": "execute_result",
          "data": {
            "text/plain": [
              "[2]"
            ]
          },
          "metadata": {},
          "execution_count": 54
        }
      ]
    },
    {
      "cell_type": "code",
      "source": [
        "s.pop()"
      ],
      "metadata": {
        "colab": {
          "base_uri": "https://localhost:8080/"
        },
        "id": "QUapjkpkgIqf",
        "outputId": "8adf0843-77b8-45d8-92ba-a61893a5df6a"
      },
      "execution_count": 55,
      "outputs": [
        {
          "output_type": "execute_result",
          "data": {
            "text/plain": [
              "3"
            ]
          },
          "metadata": {},
          "execution_count": 55
        }
      ]
    },
    {
      "cell_type": "code",
      "source": [
        "class MyDict(dict):\n",
        "    def keys(self):\n",
        "        L = super().keys()\n",
        "        return sorted(L)"
      ],
      "metadata": {
        "id": "_IcROSjHgiTA"
      },
      "execution_count": 56,
      "outputs": []
    },
    {
      "cell_type": "code",
      "source": [
        "d = MyDict()"
      ],
      "metadata": {
        "id": "vph4mDjkhSkt"
      },
      "execution_count": 57,
      "outputs": []
    },
    {
      "cell_type": "code",
      "source": [
        "d.keys()"
      ],
      "metadata": {
        "colab": {
          "base_uri": "https://localhost:8080/"
        },
        "id": "3j4UsOuShYj-",
        "outputId": "4d38802d-0b55-4e17-fefc-e1b45908cf5d"
      },
      "execution_count": 58,
      "outputs": [
        {
          "output_type": "execute_result",
          "data": {
            "text/plain": [
              "[]"
            ]
          },
          "metadata": {},
          "execution_count": 58
        }
      ]
    },
    {
      "cell_type": "code",
      "source": [
        "d = MyDict({10:100, 21:200, 3:300})"
      ],
      "metadata": {
        "id": "ZtV_XfH5hhos"
      },
      "execution_count": 61,
      "outputs": []
    },
    {
      "cell_type": "code",
      "source": [
        "d.keys()   #sorted로 정렬됨"
      ],
      "metadata": {
        "colab": {
          "base_uri": "https://localhost:8080/"
        },
        "id": "dneofdWJhnPU",
        "outputId": "96f2c6ff-a730-49f2-a7a6-2fbc5896b3d9"
      },
      "execution_count": 63,
      "outputs": [
        {
          "output_type": "execute_result",
          "data": {
            "text/plain": [
              "[3, 10, 21]"
            ]
          },
          "metadata": {},
          "execution_count": 63
        }
      ]
    },
    {
      "cell_type": "markdown",
      "source": [
        "#다형성\n",
        " 상소관계에서 다른 클래스의 인스턴스 객체들이 같은 멤버 함수의 호출에 대해 각각 다르게 반응하도록 하는 기능"
      ],
      "metadata": {
        "id": "m3JfKgYriKZV"
      }
    },
    {
      "cell_type": "code",
      "source": [
        "class Animal:\n",
        "    def cry(self):\n",
        "        print('...')\n",
        "class Dog(Animal):\n",
        "    def cry(self):\n",
        "        print('멍멍')\n",
        "class Duck(Animal):\n",
        "    def cry(self):\n",
        "        print('꽥꽥')\n",
        "class Fish(Animal):\n",
        "    pass"
      ],
      "metadata": {
        "id": "ZQIS47OehpU1"
      },
      "execution_count": 67,
      "outputs": []
    },
    {
      "cell_type": "code",
      "source": [
        "for each in (Dog(), Duck(), Fish()):\n",
        "    each.cry()"
      ],
      "metadata": {
        "colab": {
          "base_uri": "https://localhost:8080/"
        },
        "id": "Pow1XNwOijZu",
        "outputId": "36c51f79-3cac-4efa-eced-56b5bf78f23c"
      },
      "execution_count": 69,
      "outputs": [
        {
          "output_type": "stream",
          "name": "stdout",
          "text": [
            "멍멍\n",
            "꽥꽥\n",
            "...\n"
          ]
        }
      ]
    },
    {
      "cell_type": "markdown",
      "source": [
        "클래스 작성\n",
        "\n",
        "리스트를 상속\n",
        "\n",
        "extend 와 append 로 데이터를 받도록 한다.\n",
        "\n",
        "이 때, 데이터를 추가할때마다 sort로 정렬하는 클래스"
      ],
      "metadata": {
        "id": "9j2ggpAkjtRd"
      }
    },
    {
      "cell_type": "code",
      "source": [
        "class OrderedList:\n",
        "    def __init__(self, o_list = 'None'):\n",
        "        if o_list is not None:\n",
        "            self.items = sorted(o_list)\n",
        "    def __repr__(self):\n",
        "        return str(self.items)\n",
        "    def append(self,n):\n",
        "        self.items.append(n)\n",
        "        return OrderedList(self.items)\n",
        "    def extend(self,e_list):\n",
        "        if isinstance(e_list, (list,tuple)):\n",
        "            self.items.extend(e_list)\n",
        "            return OrderedList(self.items)"
      ],
      "metadata": {
        "id": "y2NxrSo4i7Yq"
      },
      "execution_count": 1,
      "outputs": []
    },
    {
      "cell_type": "code",
      "source": [
        "L = OrderedList([3,10,2])"
      ],
      "metadata": {
        "id": "0ndiI_dFkq7C"
      },
      "execution_count": 2,
      "outputs": []
    },
    {
      "cell_type": "code",
      "source": [
        "print(L)"
      ],
      "metadata": {
        "colab": {
          "base_uri": "https://localhost:8080/"
        },
        "id": "eYjEpA9Unq10",
        "outputId": "c45ad94a-1818-47bb-942d-6c5a56936b73"
      },
      "execution_count": 3,
      "outputs": [
        {
          "output_type": "stream",
          "name": "stdout",
          "text": [
            "[2, 3, 10]\n"
          ]
        }
      ]
    },
    {
      "cell_type": "code",
      "source": [
        "L.append(5)"
      ],
      "metadata": {
        "colab": {
          "base_uri": "https://localhost:8080/"
        },
        "id": "7D_oH43rnr-C",
        "outputId": "e2ef24e0-2869-4195-fe36-5fafb994cdb4"
      },
      "execution_count": 4,
      "outputs": [
        {
          "output_type": "execute_result",
          "data": {
            "text/plain": [
              "[2, 3, 5, 10]"
            ]
          },
          "metadata": {},
          "execution_count": 4
        }
      ]
    },
    {
      "cell_type": "code",
      "source": [
        "L.extend((4,8,20))"
      ],
      "metadata": {
        "colab": {
          "base_uri": "https://localhost:8080/"
        },
        "id": "SXZvez3An_pD",
        "outputId": "5cb685d6-5629-4e7b-88aa-26913365c426"
      },
      "execution_count": 5,
      "outputs": [
        {
          "output_type": "execute_result",
          "data": {
            "text/plain": [
              "[2, 3, 4, 5, 8, 10, 20]"
            ]
          },
          "metadata": {},
          "execution_count": 5
        }
      ]
    },
    {
      "cell_type": "code",
      "source": [
        "class OrderedList(list):\n",
        "    def __init__(self, o_list = 'None'):\n",
        "        if o_list is not None:\n",
        "            super().__init__(sorted(o_list))\n",
        "    def __repr__(self):\n",
        "        return super().__repr__()\n",
        "    def append(self,n):\n",
        "        super().append(n)\n",
        "        self.sort()\n",
        "    def extend(self,e_list):\n",
        "        if isinstance(e_list, (list,tuple)):\n",
        "            super().extend(e_list)\n",
        "            self.sort()"
      ],
      "metadata": {
        "id": "15YHz_ViqKCp"
      },
      "execution_count": 35,
      "outputs": []
    },
    {
      "cell_type": "code",
      "source": [
        "L = OrderedList()"
      ],
      "metadata": {
        "id": "unSFGs0rufVn"
      },
      "execution_count": 36,
      "outputs": []
    },
    {
      "cell_type": "code",
      "source": [
        "print(L)"
      ],
      "metadata": {
        "colab": {
          "base_uri": "https://localhost:8080/"
        },
        "id": "K_kpYDjCuj2c",
        "outputId": "7a1a051f-6be8-4d3b-b858-6abcec3e836f"
      },
      "execution_count": 37,
      "outputs": [
        {
          "output_type": "stream",
          "name": "stdout",
          "text": [
            "['N', 'e', 'n', 'o']\n"
          ]
        }
      ]
    },
    {
      "cell_type": "code",
      "source": [
        "L = OrderedList([3,10,2])"
      ],
      "metadata": {
        "id": "SDM6Wo_1spoE"
      },
      "execution_count": 22,
      "outputs": []
    },
    {
      "cell_type": "code",
      "source": [
        "print(L)"
      ],
      "metadata": {
        "colab": {
          "base_uri": "https://localhost:8080/"
        },
        "id": "Jm0HDKDtsq_3",
        "outputId": "47139da9-f081-4ab9-c050-39155f5c6869"
      },
      "execution_count": 23,
      "outputs": [
        {
          "output_type": "stream",
          "name": "stdout",
          "text": [
            "[2, 3, 10]\n"
          ]
        }
      ]
    },
    {
      "cell_type": "code",
      "source": [
        "L.append(5)"
      ],
      "metadata": {
        "id": "B5XzS46LssIR"
      },
      "execution_count": 24,
      "outputs": []
    },
    {
      "cell_type": "code",
      "source": [
        "print(L)"
      ],
      "metadata": {
        "colab": {
          "base_uri": "https://localhost:8080/"
        },
        "id": "-X6HUxp7szuN",
        "outputId": "727cf80c-5b51-4eea-b19b-2342ec0c0582"
      },
      "execution_count": 25,
      "outputs": [
        {
          "output_type": "stream",
          "name": "stdout",
          "text": [
            "[2, 3, 10, 5]\n"
          ]
        }
      ]
    },
    {
      "cell_type": "code",
      "source": [
        "L.extend((4,8,20))"
      ],
      "metadata": {
        "id": "3jazGCEls_RF"
      },
      "execution_count": 19,
      "outputs": []
    },
    {
      "cell_type": "code",
      "source": [
        "print(L)"
      ],
      "metadata": {
        "colab": {
          "base_uri": "https://localhost:8080/"
        },
        "id": "7suWMw2ktCWt",
        "outputId": "5de3e76c-6cd9-43d5-ff2a-aac762d93321"
      },
      "execution_count": 20,
      "outputs": [
        {
          "output_type": "stream",
          "name": "stdout",
          "text": [
            "[2, 3, 4, 5, 8, 10, 20]\n"
          ]
        }
      ]
    },
    {
      "cell_type": "code",
      "source": [
        "class OrderedList(list):\n",
        "    def __init__(self,o_list):\n",
        "        super().__init__(sorted(o_list))\n",
        "    def __repr__(self):\n",
        "        return super().__repr__()\n",
        "    def append(self,n):\n",
        "        super().append(n)\n",
        "        self.sort()\n",
        "    def extend(self,e_list):\n",
        "        if isinstance(e_list, (list,tuple)):\n",
        "            super().extend(e_list)\n",
        "            self.sort()"
      ],
      "metadata": {
        "id": "T101nO-ktDcU"
      },
      "execution_count": 29,
      "outputs": []
    },
    {
      "cell_type": "code",
      "source": [
        "L = OrderedList([3,10,2])"
      ],
      "metadata": {
        "id": "MCNa39Sot4yc"
      },
      "execution_count": 30,
      "outputs": []
    },
    {
      "cell_type": "code",
      "source": [
        "print(L)"
      ],
      "metadata": {
        "colab": {
          "base_uri": "https://localhost:8080/"
        },
        "id": "P2mFOOg7t6Wb",
        "outputId": "d4af8810-3b8e-4529-e33f-b13221920db7"
      },
      "execution_count": 31,
      "outputs": [
        {
          "output_type": "stream",
          "name": "stdout",
          "text": [
            "[2, 3, 10]\n"
          ]
        }
      ]
    },
    {
      "cell_type": "code",
      "source": [
        "L.append(5)"
      ],
      "metadata": {
        "id": "WiE5t4Jat_zc"
      },
      "execution_count": 32,
      "outputs": []
    },
    {
      "cell_type": "code",
      "source": [
        "print(L)"
      ],
      "metadata": {
        "colab": {
          "base_uri": "https://localhost:8080/"
        },
        "id": "LkStGkGjuUQ0",
        "outputId": "a5c6b797-59e3-4e5b-8777-3f757969a9ab"
      },
      "execution_count": 33,
      "outputs": [
        {
          "output_type": "stream",
          "name": "stdout",
          "text": [
            "[2, 3, 5, 10]\n"
          ]
        }
      ]
    },
    {
      "cell_type": "code",
      "source": [
        "L.extend((4,8,20))\n",
        "print(L)"
      ],
      "metadata": {
        "colab": {
          "base_uri": "https://localhost:8080/"
        },
        "id": "LdfEyoxNuVg7",
        "outputId": "a2569ffd-e2f8-4a4c-a613-9bcb91ca5bd7"
      },
      "execution_count": 34,
      "outputs": [
        {
          "output_type": "stream",
          "name": "stdout",
          "text": [
            "[2, 3, 4, 5, 8, 10, 20]\n"
          ]
        }
      ]
    },
    {
      "cell_type": "code",
      "source": [
        "class OrderedList2(list):\n",
        "    def __init__(self, item):\n",
        "        super().__init__(item)\n",
        "        self.sort()\n",
        "    def append(self, item):\n",
        "        super().append(item)       #super를 쓰는 이유는 무한루프를 방지하기 위해\n",
        "        self.sort()\n",
        "    def extend(self, item):\n",
        "        super().extend(item)\n",
        "        self.sort()"
      ],
      "metadata": {
        "id": "8HZi5uTluX_a"
      },
      "execution_count": 50,
      "outputs": []
    },
    {
      "cell_type": "code",
      "source": [
        "L = OrderedList2([3,10,2])\n",
        "print(L)"
      ],
      "metadata": {
        "colab": {
          "base_uri": "https://localhost:8080/"
        },
        "id": "tBS01m3tvKu7",
        "outputId": "0da316cf-e9c2-4a5d-9468-4cb892486b15"
      },
      "execution_count": 51,
      "outputs": [
        {
          "output_type": "stream",
          "name": "stdout",
          "text": [
            "[2, 3, 10]\n"
          ]
        }
      ]
    },
    {
      "cell_type": "code",
      "source": [
        "L.append(5)\n",
        "print(L)"
      ],
      "metadata": {
        "colab": {
          "base_uri": "https://localhost:8080/"
        },
        "id": "4lXRqzikvM1r",
        "outputId": "5a38b204-539c-4e7b-c8fe-bdf3ad2fe580"
      },
      "execution_count": 52,
      "outputs": [
        {
          "output_type": "stream",
          "name": "stdout",
          "text": [
            "[2, 3, 5, 10]\n"
          ]
        }
      ]
    },
    {
      "cell_type": "code",
      "source": [
        "L.extend((4,8,20))\n",
        "print(L)"
      ],
      "metadata": {
        "colab": {
          "base_uri": "https://localhost:8080/"
        },
        "id": "T05dYu1lvOIq",
        "outputId": "2fcd99fe-f9ca-42d5-d445-646be407fb47"
      },
      "execution_count": 53,
      "outputs": [
        {
          "output_type": "stream",
          "name": "stdout",
          "text": [
            "[2, 3, 4, 5, 8, 10, 20]\n"
          ]
        }
      ]
    },
    {
      "cell_type": "markdown",
      "source": [
        "다음과 같이 동작하는 클래스 Counter를 만들어보시오.\n",
        "\n",
        "1. 이 클래스의 생성자는 정수의 초깃값을 받는다. 만일 인수가 주어지지 않으면 초깃값 0을 가진다.\n",
        "\n",
        "2. 인스턴스 변수 step은 카운터 값을 증가시키는 증분이다. 초깃값은 1이다.\n",
        "\n",
        "3. 메서드 incr을 호출하면 현재의 카운터에서 step만큼 증가한다.\n",
        "\n",
        "4. 카운터 값을 문자열로 변환하는 __ str __()와 __ repr __() 메서드를 추가해보자"
      ],
      "metadata": {
        "id": "c_2BSll5xPFv"
      }
    },
    {
      "cell_type": "code",
      "source": [
        "c = Counter()\n",
        "c.incr()\n",
        "c             #1"
      ],
      "metadata": {
        "colab": {
          "base_uri": "https://localhost:8080/",
          "height": 216
        },
        "id": "BlQOdRUowfcg",
        "outputId": "f678a4cf-69db-487e-edcf-9fdb95a735d8"
      },
      "execution_count": 54,
      "outputs": [
        {
          "output_type": "error",
          "ename": "NameError",
          "evalue": "ignored",
          "traceback": [
            "\u001b[0;31m---------------------------------------------------------------------------\u001b[0m",
            "\u001b[0;31mNameError\u001b[0m                                 Traceback (most recent call last)",
            "\u001b[0;32m<ipython-input-54-226b24db7885>\u001b[0m in \u001b[0;36m<cell line: 1>\u001b[0;34m()\u001b[0m\n\u001b[0;32m----> 1\u001b[0;31m \u001b[0mc\u001b[0m \u001b[0;34m=\u001b[0m \u001b[0mCounter\u001b[0m\u001b[0;34m(\u001b[0m\u001b[0;34m)\u001b[0m\u001b[0;34m\u001b[0m\u001b[0;34m\u001b[0m\u001b[0m\n\u001b[0m\u001b[1;32m      2\u001b[0m \u001b[0mc\u001b[0m\u001b[0;34m.\u001b[0m\u001b[0mincr\u001b[0m\u001b[0;34m(\u001b[0m\u001b[0;34m)\u001b[0m\u001b[0;34m\u001b[0m\u001b[0;34m\u001b[0m\u001b[0m\n\u001b[1;32m      3\u001b[0m \u001b[0mc\u001b[0m\u001b[0;34m\u001b[0m\u001b[0;34m\u001b[0m\u001b[0m\n",
            "\u001b[0;31mNameError\u001b[0m: name 'Counter' is not defined"
          ]
        }
      ]
    },
    {
      "cell_type": "code",
      "source": [
        "class Counter:\n",
        "    def __init__(self, n = None):\n",
        "        if n is None:\n",
        "            self.n = 0\n",
        "        else:\n",
        "            self.n = n\n",
        "    def incr(self, step = 1):\n",
        "        self.n = self.n + step\n",
        "        return self.n\n",
        "        step += 1\n",
        "    def __repr__(self):\n",
        "        return str(self.n)\n",
        "    def __str__(self):\n",
        "        return str(self.n)"
      ],
      "metadata": {
        "id": "giu2QPBRxmH9"
      },
      "execution_count": 94,
      "outputs": []
    },
    {
      "cell_type": "code",
      "source": [
        "c = Counter()"
      ],
      "metadata": {
        "id": "wv-IrICcyBKW"
      },
      "execution_count": 95,
      "outputs": []
    },
    {
      "cell_type": "code",
      "source": [
        "c.incr()"
      ],
      "metadata": {
        "colab": {
          "base_uri": "https://localhost:8080/"
        },
        "id": "5sth9ikSyEDm",
        "outputId": "988a400e-33f7-413d-e137-4b212535b31f"
      },
      "execution_count": 96,
      "outputs": [
        {
          "output_type": "execute_result",
          "data": {
            "text/plain": [
              "1"
            ]
          },
          "metadata": {},
          "execution_count": 96
        }
      ]
    },
    {
      "cell_type": "code",
      "source": [
        "c"
      ],
      "metadata": {
        "colab": {
          "base_uri": "https://localhost:8080/"
        },
        "id": "MbxjJG4CyEpf",
        "outputId": "20f604d7-b284-4ec2-d7f0-14eef43e9c90"
      },
      "execution_count": 97,
      "outputs": [
        {
          "output_type": "execute_result",
          "data": {
            "text/plain": [
              "1"
            ]
          },
          "metadata": {},
          "execution_count": 97
        }
      ]
    },
    {
      "cell_type": "code",
      "source": [
        "c = Counter(2)"
      ],
      "metadata": {
        "id": "Uoicx0JgzLKs"
      },
      "execution_count": 98,
      "outputs": []
    },
    {
      "cell_type": "code",
      "source": [
        "c.incr()"
      ],
      "metadata": {
        "colab": {
          "base_uri": "https://localhost:8080/"
        },
        "id": "CR-RpVhk07_Q",
        "outputId": "cb39242c-8365-4177-e91e-b5ad93082795"
      },
      "execution_count": 99,
      "outputs": [
        {
          "output_type": "execute_result",
          "data": {
            "text/plain": [
              "3"
            ]
          },
          "metadata": {},
          "execution_count": 99
        }
      ]
    },
    {
      "cell_type": "code",
      "source": [
        "c"
      ],
      "metadata": {
        "colab": {
          "base_uri": "https://localhost:8080/"
        },
        "id": "0eDKAzct09Sh",
        "outputId": "8fa307bd-9226-46be-a73a-64062e6daa4d"
      },
      "execution_count": 100,
      "outputs": [
        {
          "output_type": "execute_result",
          "data": {
            "text/plain": [
              "3"
            ]
          },
          "metadata": {},
          "execution_count": 100
        }
      ]
    },
    {
      "cell_type": "code",
      "source": [
        "class Counter:\n",
        "    def __init__(self, initial = 0, step = 1):\n",
        "        self.initial= initial\n",
        "        self.step = step\n",
        "    def incr(self):\n",
        "        self.initial += self.step\n",
        "    def __str(self):\n",
        "        return str(self.initial)\n",
        "    def __repr__(self):\n",
        "        return(f'{self.initial}')\n",
        "    def __call__(self):\n",
        "         self.incr()\n",
        "         return self.initial"
      ],
      "metadata": {
        "id": "FYxgXy7R0-kR"
      },
      "execution_count": 155,
      "outputs": []
    },
    {
      "cell_type": "markdown",
      "source": [
        "__ call __ 메서드 추가해서, 인스턴스 오브젝트가 호출가능하게 만들어라."
      ],
      "metadata": {
        "id": "gEtEKYow418k"
      }
    },
    {
      "cell_type": "code",
      "source": [
        "c = Counter()"
      ],
      "metadata": {
        "id": "xlnZpMKF4xiM"
      },
      "execution_count": 156,
      "outputs": []
    },
    {
      "cell_type": "code",
      "source": [
        "c()"
      ],
      "metadata": {
        "colab": {
          "base_uri": "https://localhost:8080/"
        },
        "id": "iobUnZDC5JRr",
        "outputId": "4b65cf07-6837-4aa7-86a0-ff8b3e78711e"
      },
      "execution_count": 157,
      "outputs": [
        {
          "output_type": "execute_result",
          "data": {
            "text/plain": [
              "1"
            ]
          },
          "metadata": {},
          "execution_count": 157
        }
      ]
    },
    {
      "cell_type": "code",
      "source": [
        "c()"
      ],
      "metadata": {
        "colab": {
          "base_uri": "https://localhost:8080/"
        },
        "id": "ftKXqfDV5NXD",
        "outputId": "849672e8-3538-4eba-b444-64bbf70b2c11"
      },
      "execution_count": 158,
      "outputs": [
        {
          "output_type": "execute_result",
          "data": {
            "text/plain": [
              "2"
            ]
          },
          "metadata": {},
          "execution_count": 158
        }
      ]
    },
    {
      "cell_type": "code",
      "source": [
        "book1 = Book()\n",
        "book1.set_info('하얼빈','김훈')\n",
        "book1.print_info()"
      ],
      "metadata": {
        "id": "hrJvoKKh5N66"
      },
      "execution_count": null,
      "outputs": []
    },
    {
      "cell_type": "code",
      "source": [
        "class Book:\n",
        "    def set_info(self,book_name,name):\n",
        "        self.book_name = book_name\n",
        "        self.name = name\n",
        "    def print_info(self):\n",
        "        print(f'책 제목:{self.book_name}\\n책 저자:{self.name}')\n",
        "        return\n",
        "\n",
        "book1 = Book()\n",
        "book1.set_info('하얼빈','김훈')\n",
        "book1.print_info()\n",
        "book2 = Book()\n",
        "book2.set_info('채식주의자','한강')\n",
        "book2.print_info()"
      ],
      "metadata": {
        "id": "ePZVK4NY8ojs"
      },
      "execution_count": 185,
      "outputs": []
    },
    {
      "cell_type": "code",
      "source": [
        "book1 = Book()\n",
        "book1.set_info('하얼빈','김훈')\n",
        "book1.print_info()\n",
        "book2 = Book()\n",
        "book2.set_info('채식주의자','한강')\n",
        "book2.print_info()"
      ],
      "metadata": {
        "colab": {
          "base_uri": "https://localhost:8080/"
        },
        "id": "WKS9SV7I_ht6",
        "outputId": "4bc52bb6-b8ec-4dab-e5b4-c1da828ff7eb"
      },
      "execution_count": 188,
      "outputs": [
        {
          "output_type": "stream",
          "name": "stdout",
          "text": [
            "책 제목:하얼빈\n",
            "책 저자:김훈\n",
            "책 제목:채식주의자\n",
            "책 저자:한강\n"
          ]
        }
      ]
    },
    {
      "cell_type": "code",
      "source": [
        "book2 = Book()\n",
        "book2.set_info('채식주의자','한강')\n",
        "book2.print_info()"
      ],
      "metadata": {
        "colab": {
          "base_uri": "https://localhost:8080/"
        },
        "id": "6d1LKf5y9mak",
        "outputId": "00e6b535-9450-446c-fda5-a6a1cceff2ac"
      },
      "execution_count": 187,
      "outputs": [
        {
          "output_type": "stream",
          "name": "stdout",
          "text": [
            "책 제목:채식주의자\n",
            "책 저자:한강\n"
          ]
        }
      ]
    },
    {
      "cell_type": "code",
      "source": [
        "class Book:\n",
        "    def set_info(self, title, author):\n",
        "        self.title = title\n",
        "        self.author = author\n",
        "    def print_info(self):\n",
        "        print(f'책 제목 : {self.title}')\n",
        "        print(f'책 저자 : {self.author}')\n",
        "\n",
        "data_list = [('하얼빈','김훈'),('채식주의자','한강'),('어린왕자','생텍쥐페리')]\n",
        "for each in data_list:\n",
        "    book1 = Book()\n",
        "    book1.set_info(each[0],each[1])\n",
        "    book1.print_info()"
      ],
      "metadata": {
        "colab": {
          "base_uri": "https://localhost:8080/"
        },
        "id": "1ao-Iemp9ozF",
        "outputId": "f25a2e15-a5fc-408e-d92c-769f93be9a67"
      },
      "execution_count": 191,
      "outputs": [
        {
          "output_type": "stream",
          "name": "stdout",
          "text": [
            "책 제목 : 하얼빈\n",
            "책 저자 : 김훈\n",
            "책 제목 : 채식주의자\n",
            "책 저자 : 한강\n",
            "책 제목 : 어린왕자\n",
            "책 저자 : 생텍쥐페리\n"
          ]
        }
      ]
    },
    {
      "cell_type": "code",
      "source": [
        "obj_song = Song()\n",
        "obj_song.set_song('취중진담','발라드')\n",
        "obj_song.print_song()   #\"노래제목: 취중진담(발라드)\"\n",
        "obj_singer = Singer()\n",
        "obj_singer.set_singer('김동률')\n",
        "obj_singer.hit_song(obj_song)   #obj_singer의 인스턴스 변수에 노래 제목에 접근이 가능하도록\n",
        "obj_singer.print_singer()    #가수이름: 김동률. 노래제목: 취중진담(발라드)"
      ],
      "metadata": {
        "id": "44VTaXK7Ahah"
      },
      "execution_count": null,
      "outputs": []
    },
    {
      "cell_type": "code",
      "source": [
        "class Song:\n",
        "    def set_song(self, title, genre):\n",
        "        self.title = title\n",
        "        self.genre = genre\n",
        "    def print_song(self):\n",
        "        print(f'노래제목: {self.title}({self.genre})')\n",
        "class Singer:\n",
        "    def set_singer(self, singer):\n",
        "        self.singer = singer\n",
        "    def hit_song(self,song):\n",
        "        self.song = song    #self.song = obj_song이기때문에 self.song.title, self.song.genre가 가능\n",
        "    def print_singer(self):\n",
        "        #print가수이름\n",
        "        #self.song.print_song()\n",
        "        print(f'가수이름: {self.singer}\\n노래제목: {self.song.title}({self.song.genre})')\n",
        "\n",
        "obj_song = Song()\n",
        "obj_song.set_song('취중진담','발라드')\n",
        "obj_song.print_song()\n",
        "obj_singer = Singer()\n",
        "obj_singer.set_singer('김동률')\n",
        "obj_singer.hit_song(obj_song)\n",
        "obj_singer.print_singer()"
      ],
      "metadata": {
        "colab": {
          "base_uri": "https://localhost:8080/"
        },
        "id": "S-0BdXZ0fXOF",
        "outputId": "c7008548-b7d5-445c-87bb-9bf124e0328e"
      },
      "execution_count": 4,
      "outputs": [
        {
          "output_type": "stream",
          "name": "stdout",
          "text": [
            "노래제목: 취중진담(발라드)\n",
            "가수이름: 김동률\n",
            "노래제목: 취중진담(발라드)\n"
          ]
        }
      ]
    },
    {
      "cell_type": "code",
      "source": [
        "class Personal(list):\n",
        "    def __init__(self, name, dob, descs):\n",
        "        self.name = name\n",
        "        self.dob = dob\n",
        "        self.append(descs)\n",
        "    def present(self):\n",
        "        print(self.name, ':', self.dob)\n",
        "        print(self)"
      ],
      "metadata": {
        "id": "DjnebjUklkFU"
      },
      "execution_count": 5,
      "outputs": []
    },
    {
      "cell_type": "markdown",
      "source": [
        "Personal 클래스에 맞게 인스턴스 객체를 생성\n",
        "\n",
        "인스턴스 객체에 append를 사용하여 임의의 문구를 추가.\n",
        "\n",
        "name을 key로 하고, 인스턴스 객체를 value로 하는 dictionary 생성"
      ],
      "metadata": {
        "id": "rO3BhSqgm1qO"
      }
    },
    {
      "cell_type": "code",
      "source": [
        "p = Personal('김동률', 19740315 ,'가수')\n",
        "p.append('전화하지 마세요')\n",
        "p.present()\n",
        "dic = {}\n",
        "dic[p.name] = p\n",
        "print(dic)"
      ],
      "metadata": {
        "colab": {
          "base_uri": "https://localhost:8080/"
        },
        "id": "JSbdrFsKm0lU",
        "outputId": "ec3f3113-ac77-4a84-b763-4c5db73346c8"
      },
      "execution_count": 17,
      "outputs": [
        {
          "output_type": "stream",
          "name": "stdout",
          "text": [
            "김동률 : 19740315\n",
            "['가수', '전화하지 마세요']\n",
            "{'김동률': ['가수', '전화하지 마세요']}\n"
          ]
        }
      ]
    },
    {
      "cell_type": "code",
      "source": [
        "p.append('전화하지 마세요')"
      ],
      "metadata": {
        "id": "wTAiTY9UnCcn"
      },
      "execution_count": 8,
      "outputs": []
    },
    {
      "cell_type": "code",
      "source": [
        "p.present()"
      ],
      "metadata": {
        "colab": {
          "base_uri": "https://localhost:8080/"
        },
        "id": "R978rTn4nZXT",
        "outputId": "add65db6-f28a-4da9-c940-2cd3f3056e63"
      },
      "execution_count": 10,
      "outputs": [
        {
          "output_type": "stream",
          "name": "stdout",
          "text": [
            "김동률 : 취중진담\n",
            "['노래 중', '전화하지 마세요']\n"
          ]
        }
      ]
    },
    {
      "cell_type": "code",
      "source": [
        "dic = {}\n",
        "dic[p.name] = [p]"
      ],
      "metadata": {
        "id": "GfZ8UE3EncCj"
      },
      "execution_count": 13,
      "outputs": []
    },
    {
      "cell_type": "code",
      "source": [
        "dic"
      ],
      "metadata": {
        "colab": {
          "base_uri": "https://localhost:8080/"
        },
        "id": "b3-a_nBunmQ2",
        "outputId": "00e95d80-5066-4b4d-9f48-61f8b84474e9"
      },
      "execution_count": 14,
      "outputs": [
        {
          "output_type": "execute_result",
          "data": {
            "text/plain": [
              "{'김동률': [['노래 중', '전화하지 마세요']]}"
            ]
          },
          "metadata": {},
          "execution_count": 14
        }
      ]
    },
    {
      "cell_type": "code",
      "source": [
        "p1 = Personal('홍길동','1990-08-01','휴가 중')\n",
        "print(p1)\n",
        "p1.append('전화하지 마세요')\n",
        "print(p1)\n",
        "person_dict = {p1.name : p1}\n",
        "print(person_dict)\n",
        "person_dict['홍길동'].present()\n",
        "person_dict['홍길동'].append('소설 속 인물')\n",
        "print(person_dict)"
      ],
      "metadata": {
        "colab": {
          "base_uri": "https://localhost:8080/"
        },
        "id": "VCeOXo3En0P5",
        "outputId": "12d889a3-1692-4cd1-a196-1ded1ed19c85"
      },
      "execution_count": 22,
      "outputs": [
        {
          "output_type": "stream",
          "name": "stdout",
          "text": [
            "['휴가 중']\n",
            "['휴가 중', '전화하지 마세요']\n",
            "{'홍길동': ['휴가 중', '전화하지 마세요']}\n",
            "홍길동 : 1990-08-01\n",
            "['휴가 중', '전화하지 마세요']\n",
            "{'홍길동': ['휴가 중', '전화하지 마세요', '소설 속 인물']}\n"
          ]
        }
      ]
    },
    {
      "cell_type": "code",
      "source": [
        "리스트+딕셔너리+사용자데이터+사용자기능"
      ],
      "metadata": {
        "id": "XIIP-5ZOuAlL"
      },
      "execution_count": null,
      "outputs": []
    },
    {
      "cell_type": "markdown",
      "source": [
        "#Decorators\n",
        "\n",
        "장식자 : 함수를 인수로 받는 함수 클로저\n",
        "\n",
        "함수 클로저 : 함수 코드와 그 함수의 변수 참조 영역을 묶은 객체\n",
        "\n",
        "함수 클로저에서는 내부 함수에서 심볼 테이블을 인수로 받았다.\n",
        "\n",
        "장식자는 내부 함수에서 함수를 인수로 받는다"
      ],
      "metadata": {
        "id": "jFNONTfww7xw"
      }
    },
    {
      "cell_type": "code",
      "source": [
        "def quadratic(a,b,c):\n",
        "    cache = {}\n",
        "    def f(x):\n",
        "        if x in cache:\n",
        "            return cache[x]\n",
        "        y = a*x*x + b*x + c\n",
        "        cache[x] = y\n",
        "        return y\n",
        "    return f\n",
        "\n",
        "f1 = quadratic(1,2,1)\n",
        "print(f1(1))\n",
        "f2 = quadratic(1,6,9)\n",
        "f2(1)"
      ],
      "metadata": {
        "colab": {
          "base_uri": "https://localhost:8080/"
        },
        "id": "Kkh40vyNvYlT",
        "outputId": "4e364f39-59f1-4243-a967-e20d4ab76b03"
      },
      "execution_count": 23,
      "outputs": [
        {
          "output_type": "stream",
          "name": "stdout",
          "text": [
            "4\n"
          ]
        },
        {
          "output_type": "execute_result",
          "data": {
            "text/plain": [
              "16"
            ]
          },
          "metadata": {},
          "execution_count": 23
        }
      ]
    },
    {
      "cell_type": "code",
      "source": [
        "def wrapper(func):\n",
        "    def wrapped_func():\n",
        "        print('====before====')\n",
        "        func()\n",
        "        print('====after====')\n",
        "    return wrapped_func"
      ],
      "metadata": {
        "id": "55h4zaq7x_NJ"
      },
      "execution_count": 25,
      "outputs": []
    },
    {
      "cell_type": "code",
      "source": [
        "def myfunc():\n",
        "    print('      I am here')"
      ],
      "metadata": {
        "id": "Tz9_kM83zCnE"
      },
      "execution_count": 26,
      "outputs": []
    },
    {
      "cell_type": "code",
      "source": [
        "result = wrapper(myfunc)"
      ],
      "metadata": {
        "id": "oB4XRBaZzU9e"
      },
      "execution_count": 27,
      "outputs": []
    },
    {
      "cell_type": "code",
      "source": [
        "result()         #wrapped_func라는 함수가 result가 되었음"
      ],
      "metadata": {
        "colab": {
          "base_uri": "https://localhost:8080/"
        },
        "id": "VCJzx0Ktzg5W",
        "outputId": "f17476b4-7a10-4523-f699-3f4a9bd5cb89"
      },
      "execution_count": 31,
      "outputs": [
        {
          "output_type": "stream",
          "name": "stdout",
          "text": [
            "====before====\n",
            "      I am here\n",
            "====after====\n"
          ]
        }
      ]
    },
    {
      "cell_type": "code",
      "source": [
        "@wrapper\n",
        "def myfunc2():\n",
        "    print('   me too')"
      ],
      "metadata": {
        "id": "3-WjPBQlzykk"
      },
      "execution_count": 37,
      "outputs": []
    },
    {
      "cell_type": "code",
      "source": [
        "myfunc2()"
      ],
      "metadata": {
        "colab": {
          "base_uri": "https://localhost:8080/"
        },
        "id": "PGrwVnBT1RP7",
        "outputId": "1cbccc19-5ed7-4cc1-db1b-73c5011fd0ba"
      },
      "execution_count": 38,
      "outputs": [
        {
          "output_type": "stream",
          "name": "stdout",
          "text": [
            "====before====\n",
            "   me too\n",
            "====after====\n"
          ]
        }
      ]
    },
    {
      "cell_type": "code",
      "source": [
        "def makebold(fn):\n",
        "    def wrapped():\n",
        "        return '<b>' +fn() + '</b>'\n",
        "    return wrapped\n",
        "def makeitalic(fn):\n",
        "    def wrapped():\n",
        "        return '<i>' + fn() + '</i>'\n",
        "    return wrapped"
      ],
      "metadata": {
        "id": "3hTUjKJI1SJS"
      },
      "execution_count": 40,
      "outputs": []
    },
    {
      "cell_type": "code",
      "source": [
        "@makeitalic\n",
        "@makebold\n",
        "def say():\n",
        "    return 'Hello'"
      ],
      "metadata": {
        "id": "F2NVzQ1m6R38"
      },
      "execution_count": 41,
      "outputs": []
    },
    {
      "cell_type": "code",
      "source": [
        "say()"
      ],
      "metadata": {
        "colab": {
          "base_uri": "https://localhost:8080/",
          "height": 36
        },
        "id": "9x-InJn46rlA",
        "outputId": "7447bad6-7545-4c10-afd8-328f69bbc639"
      },
      "execution_count": 42,
      "outputs": [
        {
          "output_type": "execute_result",
          "data": {
            "text/plain": [
              "'<i><b>Hello</b></i>'"
            ],
            "application/vnd.google.colaboratory.intrinsic+json": {
              "type": "string"
            }
          },
          "metadata": {},
          "execution_count": 42
        }
      ]
    },
    {
      "cell_type": "markdown",
      "source": [
        "f = makeitalic(makebold(say()))의 형태"
      ],
      "metadata": {
        "id": "P7TAj_7A7IKu"
      }
    },
    {
      "cell_type": "code",
      "source": [
        "def debug(fn):\n",
        "    def wrapped(a,b):   #fn과 동일한 인수를 적어준다.\n",
        "        print('debug', a, b)\n",
        "        return fn(a,b)  # 함수 fn을 호출한다.\n",
        "    return wrapped"
      ],
      "metadata": {
        "id": "-nkU560d6saV"
      },
      "execution_count": 44,
      "outputs": []
    },
    {
      "cell_type": "code",
      "source": [
        "@debug\n",
        "def add(a,b):\n",
        "    return a+b"
      ],
      "metadata": {
        "id": "4Ivus6au7qM7"
      },
      "execution_count": 45,
      "outputs": []
    },
    {
      "cell_type": "code",
      "source": [
        "add(1,2)"
      ],
      "metadata": {
        "colab": {
          "base_uri": "https://localhost:8080/"
        },
        "id": "_2uf00ph8LDg",
        "outputId": "37cb250c-8db6-4103-f7d3-91aaa850602e"
      },
      "execution_count": 46,
      "outputs": [
        {
          "output_type": "stream",
          "name": "stdout",
          "text": [
            "debug 1 2\n"
          ]
        },
        {
          "output_type": "execute_result",
          "data": {
            "text/plain": [
              "3"
            ]
          },
          "metadata": {},
          "execution_count": 46
        }
      ]
    },
    {
      "cell_type": "markdown",
      "source": [
        "인수 전달을 일반화 하는 경우"
      ],
      "metadata": {
        "id": "Aqb-Q7TD8mNg"
      }
    },
    {
      "cell_type": "code",
      "source": [
        "def debug(fn):\n",
        "    def wrapped(*args, **kwargs):\n",
        "        print('calling', fn.__name__, 'args= ', args, 'kwargs= ', kw)\n",
        "        result = fn(*args, **kwargs)\n",
        "        print('   result = ', result)\n",
        "        return result\n",
        "    return wrapped"
      ],
      "metadata": {
        "id": "cEvOMoxZ8L9Q"
      },
      "execution_count": 48,
      "outputs": []
    },
    {
      "cell_type": "code",
      "source": [
        "@debug\n",
        "def add(a,b):\n",
        "    return a+b"
      ],
      "metadata": {
        "id": "kbPefNYv9AKZ"
      },
      "execution_count": 55,
      "outputs": []
    },
    {
      "cell_type": "code",
      "source": [
        "add(10, 20)"
      ],
      "metadata": {
        "colab": {
          "base_uri": "https://localhost:8080/"
        },
        "id": "aPK2p96L9UJZ",
        "outputId": "fe54eb6a-2974-4631-f48d-ae0eec74b92f"
      },
      "execution_count": 56,
      "outputs": [
        {
          "output_type": "stream",
          "name": "stdout",
          "text": [
            "calling add args=  (10, 20) kw=  {}\n",
            "   result =  30\n"
          ]
        },
        {
          "output_type": "execute_result",
          "data": {
            "text/plain": [
              "30"
            ]
          },
          "metadata": {},
          "execution_count": 56
        }
      ]
    },
    {
      "cell_type": "code",
      "source": [
        "def wrapper(func):\n",
        "    def wrapped_func(*args,**kwargs):\n",
        "        print('====before====')\n",
        "        func(*args)\n",
        "        print('====after====')\n",
        "        return result\n",
        "    return wrapped_func\n",
        "\n",
        "@wrapper\n",
        "def myfunc4(a,b):\n",
        "        print('I am here')\n",
        "        return a + b\n",
        "\n",
        "myfunc4(10,20)"
      ],
      "metadata": {
        "colab": {
          "base_uri": "https://localhost:8080/"
        },
        "id": "RX2vfGNVEo_t",
        "outputId": "57704fd9-d55e-428e-f346-73356ef4a913"
      },
      "execution_count": 137,
      "outputs": [
        {
          "output_type": "stream",
          "name": "stdout",
          "text": [
            "====before====\n",
            "I am here\n",
            "====after====\n"
          ]
        },
        {
          "output_type": "execute_result",
          "data": {
            "text/plain": [
              "30"
            ]
          },
          "metadata": {},
          "execution_count": 137
        }
      ]
    },
    {
      "cell_type": "code",
      "source": [
        "@wrapper\n",
        "def myfunc4(a,b):\n",
        "    print(a+b)"
      ],
      "metadata": {
        "id": "EeWUD4nb-MYl"
      },
      "execution_count": 89,
      "outputs": []
    },
    {
      "cell_type": "code",
      "source": [
        "myfunc4(10,20)"
      ],
      "metadata": {
        "colab": {
          "base_uri": "https://localhost:8080/"
        },
        "id": "Sl1WcxQf-eE9",
        "outputId": "d8e99f86-ad89-4a52-f1fa-63044c5dac83"
      },
      "execution_count": 88,
      "outputs": [
        {
          "output_type": "stream",
          "name": "stdout",
          "text": [
            "====before====\n",
            "I am here\n",
            "====after====\n",
            "30\n"
          ]
        }
      ]
    },
    {
      "cell_type": "code",
      "source": [
        "def wrapper(func):\n",
        "    def wrapped_func(*args):\n",
        "        print('====before====')\n",
        "        result = func(*args)\n",
        "        print('====after====')\n",
        "        return result\n",
        "    return wrapped_func\n",
        "\n",
        "@wrapper\n",
        "def myfunc4(a,b):\n",
        "    print('I am here')\n",
        "    return a+b\n",
        "\n",
        "result = myfunc4(10, 20)\n",
        "print(result)"
      ],
      "metadata": {
        "colab": {
          "base_uri": "https://localhost:8080/"
        },
        "id": "DJRDwDAd-hI1",
        "outputId": "992ef2aa-84a0-4908-c088-98ee5b5bfd27"
      },
      "execution_count": 123,
      "outputs": [
        {
          "output_type": "stream",
          "name": "stdout",
          "text": [
            "====before====\n",
            "I am here\n",
            "====after====\n",
            "30\n"
          ]
        }
      ]
    },
    {
      "cell_type": "code",
      "source": [
        "def printer(a,b):\n",
        "    print('I am here')\n",
        "    return a+b"
      ],
      "metadata": {
        "id": "yz7hyBJlEWEU"
      },
      "execution_count": 1,
      "outputs": []
    },
    {
      "cell_type": "code",
      "source": [
        "printer(2,3)"
      ],
      "metadata": {
        "colab": {
          "base_uri": "https://localhost:8080/"
        },
        "id": "aVbSI34LHw2Q",
        "outputId": "55bf74e2-aa44-4dff-cd63-fc8c6e7fd5b9"
      },
      "execution_count": 2,
      "outputs": [
        {
          "output_type": "stream",
          "name": "stdout",
          "text": [
            "I am here\n"
          ]
        },
        {
          "output_type": "execute_result",
          "data": {
            "text/plain": [
              "5"
            ]
          },
          "metadata": {},
          "execution_count": 2
        }
      ]
    },
    {
      "cell_type": "code",
      "source": [
        "result = printer(3,6)"
      ],
      "metadata": {
        "colab": {
          "base_uri": "https://localhost:8080/"
        },
        "id": "lU63XlkSHzcm",
        "outputId": "3b8460f8-3221-480b-930b-4b0d2ff0a438"
      },
      "execution_count": 3,
      "outputs": [
        {
          "output_type": "stream",
          "name": "stdout",
          "text": [
            "I am here\n"
          ]
        }
      ]
    },
    {
      "cell_type": "code",
      "source": [],
      "metadata": {
        "id": "ca2HT--2Jx99"
      },
      "execution_count": null,
      "outputs": []
    }
  ]
}